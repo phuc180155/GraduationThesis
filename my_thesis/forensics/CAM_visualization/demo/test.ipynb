{
 "cells": [
  {
   "cell_type": "code",
   "execution_count": 2,
   "metadata": {},
   "outputs": [
    {
     "name": "stdout",
     "output_type": "stream",
     "text": [
      "Downloading: \"https://download.pytorch.org/models/resnet18-5c106cde.pth\" to /mnt/disk1/doan/.cache/torch/hub/checkpoints/resnet18-5c106cde.pth\n",
      "100%|███████████████████████████████████████| 44.7M/44.7M [00:48<00:00, 960kB/s]\n",
      "/mnt/disk1/doan/phucnp/Graduation_Thesis/my_thesis/forensics/CAM_visualization/demo/cam.py:91: UserWarning: Implicit dimension choice for softmax has been deprecated. Change the call to include dim=X as an argument.\n",
      "  probs = F.softmax(outputs).data.squeeze()\n",
      "Traceback (most recent call last):\n",
      "  File \"/mnt/disk1/doan/phucnp/Graduation_Thesis/my_thesis/forensics/CAM_visualization/demo/cam.py\", line 100, in <module>\n",
      "    show_cam(CAMs, width, height, orig_image, class_idx, all_classes, save_name)\n",
      "  File \"/mnt/disk1/doan/phucnp/Graduation_Thesis/my_thesis/forensics/CAM_visualization/demo/cam.py\", line 37, in show_cam\n",
      "    cv2.imshow('CAM', result/255.)\n",
      "cv2.error: OpenCV(4.5.5) /io/opencv/modules/highgui/src/window.cpp:1268: error: (-2:Unspecified error) The function is not implemented. Rebuild the library with Windows, GTK+ 2.x or Cocoa support. If you are on Ubuntu or Debian, install libgtk2.0-dev and pkg-config, then re-run cmake or configure script in function 'cvShowImage'\n",
      "\n"
     ]
    }
   ],
   "source": [
    "!python /mnt/disk1/doan/phucnp/Graduation_Thesis/my_thesis/forensics/CAM_visualization/demo/cam.py --i /mnt/disk1/doan/phucnp/Graduation_Thesis/my_thesis/forensics/CAM_visualization/demo/input/image_1.jpg"
   ]
  }
 ],
 "metadata": {
  "interpreter": {
   "hash": "73e4523d5c5fcabc881bfbabdc03d28b885253c65d62f8f3eb31939c7679911f"
  },
  "kernelspec": {
   "display_name": "Python 3.8.13 64-bit ('phucnp')",
   "language": "python",
   "name": "python3"
  },
  "language_info": {
   "codemirror_mode": {
    "name": "ipython",
    "version": 3
   },
   "file_extension": ".py",
   "mimetype": "text/x-python",
   "name": "python",
   "nbconvert_exporter": "python",
   "pygments_lexer": "ipython3",
   "version": "3.8.13"
  },
  "orig_nbformat": 4
 },
 "nbformat": 4,
 "nbformat_minor": 2
}
