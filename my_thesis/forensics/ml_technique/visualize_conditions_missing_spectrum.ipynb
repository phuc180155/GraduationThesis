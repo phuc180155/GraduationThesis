{
 "cells": [
  {
   "cell_type": "code",
   "execution_count": 2,
   "metadata": {},
   "outputs": [
    {
     "name": "stdout",
     "output_type": "stream",
     "text": [
      "\n",
      "*********************************************************\n",
      "             missing_value:  0.0\n",
      "\n",
      "\n",
      " ==================================== deepfake CHECKPOINT =========================\n"
     ]
    },
    {
     "name": "stderr",
     "output_type": "stream",
     "text": [
      "100%|██████████| 5000/5000 [01:17<00:00, 64.33it/s] \n",
      "100%|██████████| 5000/5000 [01:25<00:00, 58.79it/s] \n"
     ]
    },
    {
     "name": "stdout",
     "output_type": "stream",
     "text": [
      "            pt file:  0.9876_fold_0/model.pkl\n",
      "    FOLD: 0    -   \n",
      "            accuracy =   0.987600       |  0.987600\n",
      "            precision =  0.987711  |   recall =    0.987590   |  f1 =    0.987599\n",
      "            pt file:  0.9854_fold_1/model.pkl\n",
      "    FOLD: 1    -   \n",
      "            accuracy =   0.985400       |  0.985400\n",
      "            precision =  0.985555  |   recall =    0.985388   |  f1 =    0.985399\n",
      "            pt file:  0.9858_fold_2/model.pkl\n",
      "    FOLD: 2    -   \n",
      "            accuracy =   0.985800       |  0.985800\n",
      "            precision =  0.985942  |   recall =    0.985788   |  f1 =    0.985799\n",
      "            pt file:  0.988_fold_3/model.pkl\n",
      "    FOLD: 3    -   \n",
      "            accuracy =   0.988000       |  0.988000\n",
      "            precision =  0.988111  |   recall =    0.987990   |  f1 =    0.987999\n",
      "            pt file:  0.987_fold_4/model.pkl\n",
      "    FOLD: 4    -   \n",
      "            accuracy =   0.987000       |  0.987000\n",
      "            precision =  0.987105  |   recall =    0.986990   |  f1 =    0.986999\n",
      "\n",
      "\n",
      " ==================================== 3dmm CHECKPOINT =========================\n"
     ]
    },
    {
     "name": "stderr",
     "output_type": "stream",
     "text": [
      "100%|██████████| 5000/5000 [00:48<00:00, 102.96it/s]\n",
      "100%|██████████| 5000/5000 [00:28<00:00, 174.85it/s]\n"
     ]
    },
    {
     "name": "stdout",
     "output_type": "stream",
     "text": [
      "            pt file:  0.8929_fold_0/model.pkl\n",
      "    FOLD: 0    -   \n",
      "            accuracy =   0.892900       |  0.892900\n",
      "            precision =  0.892951  |   recall =    0.892900   |  f1 =    0.892897\n",
      "            pt file:  0.8934_fold_1/model.pkl\n",
      "    FOLD: 1    -   \n",
      "            accuracy =   0.893400       |  0.893400\n",
      "            precision =  0.893428  |   recall =    0.893400   |  f1 =    0.893398\n",
      "            pt file:  0.892_fold_2/model.pkl\n",
      "    FOLD: 2    -   \n",
      "            accuracy =   0.892000       |  0.892000\n",
      "            precision =  0.892020  |   recall =    0.892000   |  f1 =    0.891999\n",
      "            pt file:  0.8928_fold_3/model.pkl\n",
      "    FOLD: 3    -   \n",
      "            accuracy =   0.892800       |  0.892800\n",
      "            precision =  0.892809  |   recall =    0.892800   |  f1 =    0.892799\n",
      "            pt file:  0.8935_fold_4/model.pkl\n",
      "    FOLD: 4    -   \n",
      "            accuracy =   0.893500       |  0.893500\n",
      "            precision =  0.893544  |   recall =    0.893500   |  f1 =    0.893497\n",
      "\n",
      "\n",
      " ==================================== faceswap_2d CHECKPOINT =========================\n"
     ]
    },
    {
     "name": "stderr",
     "output_type": "stream",
     "text": [
      "100%|██████████| 5000/5000 [00:23<00:00, 211.50it/s]\n",
      "100%|██████████| 5000/5000 [04:24<00:00, 18.94it/s]\n"
     ]
    },
    {
     "name": "stdout",
     "output_type": "stream",
     "text": [
      "            pt file:  0.9949_fold_0/model.pkl\n",
      "    FOLD: 0    -   \n",
      "            accuracy =   0.994900       |  0.994900\n",
      "            precision =  0.994906  |   recall =    0.994900   |  f1 =    0.994900\n",
      "            pt file:  0.9947_fold_1/model.pkl\n",
      "    FOLD: 1    -   \n",
      "            accuracy =   0.994700       |  0.994700\n",
      "            precision =  0.994707  |   recall =    0.994700   |  f1 =    0.994700\n",
      "            pt file:  0.9949_fold_2/model.pkl\n",
      "    FOLD: 2    -   \n",
      "            accuracy =   0.994900       |  0.994900\n",
      "            precision =  0.994907  |   recall =    0.994900   |  f1 =    0.994900\n",
      "            pt file:  0.995_fold_3/model.pkl\n",
      "    FOLD: 3    -   \n",
      "            accuracy =   0.995000       |  0.995000\n",
      "            precision =  0.995004  |   recall =    0.995000   |  f1 =    0.995000\n",
      "            pt file:  0.9947_fold_4/model.pkl\n",
      "    FOLD: 4    -   \n",
      "            accuracy =   0.994700       |  0.994700\n",
      "            precision =  0.994709  |   recall =    0.994700   |  f1 =    0.994700\n",
      "\n",
      "\n",
      " ==================================== faceswap_3d CHECKPOINT =========================\n"
     ]
    },
    {
     "name": "stderr",
     "output_type": "stream",
     "text": [
      "100%|██████████| 5000/5000 [00:25<00:00, 192.39it/s]\n",
      "100%|██████████| 5000/5000 [04:34<00:00, 18.18it/s]\n"
     ]
    },
    {
     "name": "stdout",
     "output_type": "stream",
     "text": [
      "            pt file:  0.9988_fold_0/model.pkl\n",
      "    FOLD: 0    -   \n",
      "            accuracy =   0.998800       |  0.998800\n",
      "            precision =  0.998801  |   recall =    0.998800   |  f1 =    0.998800\n",
      "            pt file:  0.9988_fold_1/model.pkl\n",
      "    FOLD: 1    -   \n",
      "            accuracy =   0.998800       |  0.998800\n",
      "            precision =  0.998801  |   recall =    0.998800   |  f1 =    0.998800\n",
      "            pt file:  0.9987_fold_2/model.pkl\n",
      "    FOLD: 2    -   \n",
      "            accuracy =   0.998700       |  0.998700\n",
      "            precision =  0.998701  |   recall =    0.998700   |  f1 =    0.998700\n",
      "            pt file:  0.9986_fold_3/model.pkl\n",
      "    FOLD: 3    -   \n",
      "            accuracy =   0.998600       |  0.998600\n",
      "            precision =  0.998601  |   recall =    0.998600   |  f1 =    0.998600\n",
      "            pt file:  0.9987_fold_4/model.pkl\n",
      "    FOLD: 4    -   \n",
      "            accuracy =   0.998700       |  0.998700\n",
      "            precision =  0.998702  |   recall =    0.998700   |  f1 =    0.998700\n",
      "\n",
      "\n",
      " ==================================== monkey CHECKPOINT =========================\n"
     ]
    },
    {
     "name": "stderr",
     "output_type": "stream",
     "text": [
      "100%|██████████| 5000/5000 [00:26<00:00, 192.14it/s]\n",
      "100%|██████████| 5000/5000 [00:23<00:00, 216.56it/s]\n"
     ]
    },
    {
     "name": "stdout",
     "output_type": "stream",
     "text": [
      "            pt file:  0.9714_fold_0/model.pkl\n",
      "    FOLD: 0    -   \n",
      "            accuracy =   0.971400       |  0.971400\n",
      "            precision =  0.971729  |   recall =    0.971400   |  f1 =    0.971395\n",
      "            pt file:  0.9717_fold_1/model.pkl\n",
      "    FOLD: 1    -   \n",
      "            accuracy =   0.971700       |  0.971700\n",
      "            precision =  0.972054  |   recall =    0.971700   |  f1 =    0.971695\n",
      "            pt file:  0.9716_fold_2/model.pkl\n",
      "    FOLD: 2    -   \n",
      "            accuracy =   0.971600       |  0.971600\n",
      "            precision =  0.971970  |   recall =    0.971600   |  f1 =    0.971594\n",
      "            pt file:  0.972_fold_3/model.pkl\n",
      "    FOLD: 3    -   \n",
      "            accuracy =   0.972000       |  0.972000\n",
      "            precision =  0.972310  |   recall =    0.972000   |  f1 =    0.971995\n",
      "            pt file:  0.9723_fold_4/model.pkl\n",
      "    FOLD: 4    -   \n",
      "            accuracy =   0.972300       |  0.972300\n",
      "            precision =  0.972645  |   recall =    0.972300   |  f1 =    0.972295\n",
      "\n",
      "\n",
      " ==================================== reenact CHECKPOINT =========================\n"
     ]
    },
    {
     "name": "stderr",
     "output_type": "stream",
     "text": [
      "100%|██████████| 5000/5000 [00:24<00:00, 205.89it/s]\n",
      "100%|██████████| 4566/4566 [00:19<00:00, 235.42it/s]\n"
     ]
    },
    {
     "name": "stdout",
     "output_type": "stream",
     "text": [
      "            pt file:  0.9513_fold_0/model.pkl\n",
      "    FOLD: 0    -   \n",
      "            accuracy =   0.951300       |  0.951300\n",
      "            precision =  0.951744  |   recall =    0.950117   |  f1 =    0.950846\n",
      "            pt file:  0.9511_fold_1/model.pkl\n",
      "    FOLD: 1    -   \n",
      "            accuracy =   0.951100       |  0.951100\n",
      "            precision =  0.951605  |   recall =    0.949863   |  f1 =    0.950638\n",
      "            pt file:  0.9504_fold_2/model.pkl\n",
      "    FOLD: 2    -   \n",
      "            accuracy =   0.950400       |  0.950400\n",
      "            precision =  0.950951  |   recall =    0.949114   |  f1 =    0.949927\n",
      "            pt file:  0.9516_fold_3/model.pkl\n",
      "    FOLD: 3    -   \n",
      "            accuracy =   0.951600       |  0.951600\n",
      "            precision =  0.951914  |   recall =    0.950533   |  f1 =    0.951161\n",
      "            pt file:  0.9517_fold_4/model.pkl\n",
      "    FOLD: 4    -   \n",
      "            accuracy =   0.951700       |  0.951700\n",
      "            precision =  0.952170  |   recall =    0.950502   |  f1 =    0.951248\n",
      "\n",
      "\n",
      " ==================================== stargan CHECKPOINT =========================\n"
     ]
    },
    {
     "name": "stderr",
     "output_type": "stream",
     "text": [
      "100%|██████████| 5000/5000 [00:23<00:00, 213.62it/s]\n",
      "100%|██████████| 5000/5000 [00:29<00:00, 171.67it/s]\n"
     ]
    },
    {
     "name": "stdout",
     "output_type": "stream",
     "text": [
      "            pt file:  0.9092_fold_0/model.pkl\n",
      "    FOLD: 0    -   \n",
      "            accuracy =   0.909200       |  0.909200\n",
      "            precision =  0.912572  |   recall =    0.909200   |  f1 =    0.909014\n",
      "            pt file:  0.9106_fold_1/model.pkl\n",
      "    FOLD: 1    -   \n",
      "            accuracy =   0.910600       |  0.910600\n",
      "            precision =  0.914044  |   recall =    0.910600   |  f1 =    0.910414\n",
      "            pt file:  0.9088_fold_2/model.pkl\n",
      "    FOLD: 2    -   \n",
      "            accuracy =   0.908800       |  0.908800\n",
      "            precision =  0.912259  |   recall =    0.908800   |  f1 =    0.908608\n",
      "            pt file:  0.9118_fold_3/model.pkl\n",
      "    FOLD: 3    -   \n",
      "            accuracy =   0.911800       |  0.911800\n",
      "            precision =  0.915043  |   recall =    0.911800   |  f1 =    0.911627\n",
      "            pt file:  0.9097_fold_4/model.pkl\n",
      "    FOLD: 4    -   \n",
      "            accuracy =   0.909700       |  0.909700\n",
      "            precision =  0.913368  |   recall =    0.909700   |  f1 =    0.909499\n",
      "\n",
      "\n",
      " ==================================== x2face CHECKPOINT =========================\n"
     ]
    },
    {
     "name": "stderr",
     "output_type": "stream",
     "text": [
      "100%|██████████| 5000/5000 [00:46<00:00, 107.80it/s]\n",
      "100%|██████████| 5000/5000 [00:23<00:00, 208.84it/s]\n"
     ]
    },
    {
     "name": "stdout",
     "output_type": "stream",
     "text": [
      "            pt file:  0.923_fold_0/model.pkl\n",
      "    FOLD: 0    -   \n",
      "            accuracy =   0.923000       |  0.923000\n",
      "            precision =  0.923108  |   recall =    0.923000   |  f1 =    0.922995\n",
      "            pt file:  0.9229_fold_1/model.pkl\n",
      "    FOLD: 1    -   \n",
      "            accuracy =   0.922900       |  0.922900\n",
      "            precision =  0.923059  |   recall =    0.922900   |  f1 =    0.922893\n",
      "            pt file:  0.9232_fold_2/model.pkl\n",
      "    FOLD: 2    -   \n",
      "            accuracy =   0.923200       |  0.923200\n",
      "            precision =  0.923331  |   recall =    0.923200   |  f1 =    0.923194\n",
      "            pt file:  0.9231_fold_3/model.pkl\n",
      "    FOLD: 3    -   \n",
      "            accuracy =   0.923100       |  0.923100\n",
      "            precision =  0.923200  |   recall =    0.923100   |  f1 =    0.923095\n",
      "            pt file:  0.9226_fold_4/model.pkl\n",
      "    FOLD: 4    -   \n",
      "            accuracy =   0.922600       |  0.922600\n",
      "            precision =  0.922714  |   recall =    0.922600   |  f1 =    0.922595\n",
      "\n",
      "*********************************************************\n",
      "             missing_value:  0.1\n",
      "\n",
      "\n",
      " ==================================== deepfake CHECKPOINT =========================\n"
     ]
    },
    {
     "name": "stderr",
     "output_type": "stream",
     "text": [
      "100%|██████████| 5000/5000 [00:23<00:00, 214.74it/s]\n",
      "100%|██████████| 5000/5000 [00:18<00:00, 270.47it/s]\n"
     ]
    },
    {
     "name": "stdout",
     "output_type": "stream",
     "text": [
      "            pt file:  0.9876_fold_0/model.pkl\n",
      "    FOLD: 0    -   \n",
      "            accuracy =   0.977900       |  0.977900\n",
      "            precision =  0.978699  |   recall =    0.977872   |  f1 =    0.977890\n",
      "            pt file:  0.9854_fold_1/model.pkl\n",
      "    FOLD: 1    -   \n",
      "            accuracy =   0.977000       |  0.977000\n",
      "            precision =  0.977886  |   recall =    0.976970   |  f1 =    0.976988\n",
      "            pt file:  0.9858_fold_2/model.pkl\n",
      "    FOLD: 2    -   \n",
      "            accuracy =   0.977400       |  0.977400\n",
      "            precision =  0.978254  |   recall =    0.977371   |  f1 =    0.977389\n",
      "            pt file:  0.988_fold_3/model.pkl\n",
      "    FOLD: 3    -   \n",
      "            accuracy =   0.980900       |  0.980900\n",
      "            precision =  0.981485  |   recall =    0.980876   |  f1 =    0.980893\n",
      "            pt file:  0.987_fold_4/model.pkl\n",
      "    FOLD: 4    -   \n",
      "            accuracy =   0.980700       |  0.980700\n",
      "            precision =  0.981299  |   recall =    0.980676   |  f1 =    0.980693\n",
      "\n",
      "\n",
      " ==================================== 3dmm CHECKPOINT =========================\n"
     ]
    },
    {
     "name": "stderr",
     "output_type": "stream",
     "text": [
      "100%|██████████| 5000/5000 [00:48<00:00, 102.75it/s]\n",
      "100%|██████████| 5000/5000 [00:18<00:00, 271.71it/s]\n"
     ]
    },
    {
     "name": "stdout",
     "output_type": "stream",
     "text": [
      "            pt file:  0.8929_fold_0/model.pkl\n",
      "    FOLD: 0    -   \n",
      "            accuracy =   0.901500       |  0.901500\n",
      "            precision =  0.902163  |   recall =    0.901500   |  f1 =    0.901459\n",
      "            pt file:  0.8934_fold_1/model.pkl\n",
      "    FOLD: 1    -   \n",
      "            accuracy =   0.902000       |  0.902000\n",
      "            precision =  0.902569  |   recall =    0.902000   |  f1 =    0.901965\n",
      "            pt file:  0.892_fold_2/model.pkl\n",
      "    FOLD: 2    -   \n",
      "            accuracy =   0.899600       |  0.899600\n",
      "            precision =  0.900073  |   recall =    0.899600   |  f1 =    0.899570\n",
      "            pt file:  0.8928_fold_3/model.pkl\n",
      "    FOLD: 3    -   \n",
      "            accuracy =   0.900300       |  0.900300\n",
      "            precision =  0.901028  |   recall =    0.900300   |  f1 =    0.900255\n",
      "            pt file:  0.8935_fold_4/model.pkl\n",
      "    FOLD: 4    -   \n",
      "            accuracy =   0.903300       |  0.903300\n",
      "            precision =  0.903927  |   recall =    0.903300   |  f1 =    0.903262\n",
      "\n",
      "\n",
      " ==================================== faceswap_2d CHECKPOINT =========================\n"
     ]
    },
    {
     "name": "stderr",
     "output_type": "stream",
     "text": [
      "100%|██████████| 5000/5000 [00:23<00:00, 216.44it/s]\n",
      "100%|██████████| 5000/5000 [03:02<00:00, 27.40it/s]\n"
     ]
    },
    {
     "name": "stdout",
     "output_type": "stream",
     "text": [
      "            pt file:  0.9949_fold_0/model.pkl\n",
      "    FOLD: 0    -   \n",
      "            accuracy =   0.993200       |  0.993200\n",
      "            precision =  0.993223  |   recall =    0.993200   |  f1 =    0.993200\n",
      "            pt file:  0.9947_fold_1/model.pkl\n",
      "    FOLD: 1    -   \n",
      "            accuracy =   0.993200       |  0.993200\n",
      "            precision =  0.993228  |   recall =    0.993200   |  f1 =    0.993200\n",
      "            pt file:  0.9949_fold_2/model.pkl\n",
      "    FOLD: 2    -   \n",
      "            accuracy =   0.992500       |  0.992500\n",
      "            precision =  0.992540  |   recall =    0.992500   |  f1 =    0.992500\n",
      "            pt file:  0.995_fold_3/model.pkl\n",
      "    FOLD: 3    -   \n",
      "            accuracy =   0.992600       |  0.992600\n",
      "            precision =  0.992632  |   recall =    0.992600   |  f1 =    0.992600\n",
      "            pt file:  0.9947_fold_4/model.pkl\n",
      "    FOLD: 4    -   \n",
      "            accuracy =   0.993300       |  0.993300\n",
      "            precision =  0.993327  |   recall =    0.993300   |  f1 =    0.993300\n",
      "\n",
      "\n",
      " ==================================== faceswap_3d CHECKPOINT =========================\n"
     ]
    },
    {
     "name": "stderr",
     "output_type": "stream",
     "text": [
      "100%|██████████| 5000/5000 [00:24<00:00, 203.95it/s]\n",
      "100%|██████████| 5000/5000 [03:36<00:00, 23.10it/s]\n"
     ]
    },
    {
     "name": "stdout",
     "output_type": "stream",
     "text": [
      "            pt file:  0.9988_fold_0/model.pkl\n",
      "    FOLD: 0    -   \n",
      "            accuracy =   0.998100       |  0.998100\n",
      "            precision =  0.998101  |   recall =    0.998100   |  f1 =    0.998100\n",
      "            pt file:  0.9988_fold_1/model.pkl\n",
      "    FOLD: 1    -   \n",
      "            accuracy =   0.998200       |  0.998200\n",
      "            precision =  0.998201  |   recall =    0.998200   |  f1 =    0.998200\n",
      "            pt file:  0.9987_fold_2/model.pkl\n",
      "    FOLD: 2    -   \n",
      "            accuracy =   0.998200       |  0.998200\n",
      "            precision =  0.998201  |   recall =    0.998200   |  f1 =    0.998200\n",
      "            pt file:  0.9986_fold_3/model.pkl\n",
      "    FOLD: 3    -   \n",
      "            accuracy =   0.998100       |  0.998100\n",
      "            precision =  0.998102  |   recall =    0.998100   |  f1 =    0.998100\n",
      "            pt file:  0.9987_fold_4/model.pkl\n",
      "    FOLD: 4    -   \n",
      "            accuracy =   0.998000       |  0.998000\n",
      "            precision =  0.998001  |   recall =    0.998000   |  f1 =    0.998000\n",
      "\n",
      "\n",
      " ==================================== monkey CHECKPOINT =========================\n"
     ]
    },
    {
     "name": "stderr",
     "output_type": "stream",
     "text": [
      "100%|██████████| 5000/5000 [00:23<00:00, 213.92it/s]\n",
      "100%|██████████| 5000/5000 [00:21<00:00, 236.16it/s]\n"
     ]
    },
    {
     "name": "stdout",
     "output_type": "stream",
     "text": [
      "            pt file:  0.9714_fold_0/model.pkl\n",
      "    FOLD: 0    -   \n",
      "            accuracy =   0.856400       |  0.856400\n",
      "            precision =  0.877953  |   recall =    0.856400   |  f1 =    0.854323\n",
      "            pt file:  0.9717_fold_1/model.pkl\n",
      "    FOLD: 1    -   \n",
      "            accuracy =   0.856500       |  0.856500\n",
      "            precision =  0.878021  |   recall =    0.856500   |  f1 =    0.854428\n",
      "            pt file:  0.9716_fold_2/model.pkl\n",
      "    FOLD: 2    -   \n",
      "            accuracy =   0.859300       |  0.859300\n",
      "            precision =  0.879553  |   recall =    0.859300   |  f1 =    0.857398\n",
      "            pt file:  0.972_fold_3/model.pkl\n",
      "    FOLD: 3    -   \n",
      "            accuracy =   0.861500       |  0.861500\n",
      "            precision =  0.881359  |   recall =    0.861500   |  f1 =    0.859673\n",
      "            pt file:  0.9723_fold_4/model.pkl\n",
      "    FOLD: 4    -   \n",
      "            accuracy =   0.865900       |  0.865900\n",
      "            precision =  0.883911  |   recall =    0.865900   |  f1 =    0.864308\n",
      "\n",
      "\n",
      " ==================================== reenact CHECKPOINT =========================\n"
     ]
    },
    {
     "name": "stderr",
     "output_type": "stream",
     "text": [
      "100%|██████████| 5000/5000 [00:29<00:00, 169.62it/s]\n",
      "100%|██████████| 4566/4566 [00:21<00:00, 215.25it/s]\n"
     ]
    },
    {
     "name": "stdout",
     "output_type": "stream",
     "text": [
      "            pt file:  0.9513_fold_0/model.pkl\n",
      "    FOLD: 0    -   \n",
      "            accuracy =   0.827000       |  0.827000\n",
      "            precision =  0.835984  |   recall =    0.818970   |  f1 =    0.822242\n",
      "            pt file:  0.9511_fold_1/model.pkl\n",
      "    FOLD: 1    -   \n",
      "            accuracy =   0.825600       |  0.825600\n",
      "            precision =  0.836767  |   recall =    0.816807   |  f1 =    0.820271\n",
      "            pt file:  0.9504_fold_2/model.pkl\n",
      "    FOLD: 2    -   \n",
      "            accuracy =   0.824400       |  0.824400\n",
      "            precision =  0.835987  |   recall =    0.815441   |  f1 =    0.818918\n",
      "            pt file:  0.9516_fold_3/model.pkl\n",
      "    FOLD: 3    -   \n",
      "            accuracy =   0.829800       |  0.829800\n",
      "            precision =  0.838704  |   recall =    0.821879   |  f1 =    0.825178\n",
      "            pt file:  0.9517_fold_4/model.pkl\n",
      "    FOLD: 4    -   \n",
      "            accuracy =   0.830000       |  0.830000\n",
      "            precision =  0.839270  |   recall =    0.821958   |  f1 =    0.825301\n",
      "\n",
      "\n",
      " ==================================== stargan CHECKPOINT =========================\n"
     ]
    },
    {
     "name": "stderr",
     "output_type": "stream",
     "text": [
      "100%|██████████| 5000/5000 [00:23<00:00, 214.01it/s]\n",
      "100%|██████████| 5000/5000 [00:35<00:00, 141.66it/s]\n"
     ]
    },
    {
     "name": "stdout",
     "output_type": "stream",
     "text": [
      "            pt file:  0.9092_fold_0/model.pkl\n",
      "    FOLD: 0    -   \n",
      "            accuracy =   0.719200       |  0.719200\n",
      "            precision =  0.767465  |   recall =    0.719200   |  f1 =    0.705934\n",
      "            pt file:  0.9106_fold_1/model.pkl\n",
      "    FOLD: 1    -   \n",
      "            accuracy =   0.714200       |  0.714200\n",
      "            precision =  0.766207  |   recall =    0.714200   |  f1 =    0.699524\n",
      "            pt file:  0.9088_fold_2/model.pkl\n",
      "    FOLD: 2    -   \n",
      "            accuracy =   0.716200       |  0.716200\n",
      "            precision =  0.766487  |   recall =    0.716200   |  f1 =    0.702149\n",
      "            pt file:  0.9118_fold_3/model.pkl\n",
      "    FOLD: 3    -   \n",
      "            accuracy =   0.712000       |  0.712000\n",
      "            precision =  0.765831  |   recall =    0.712000   |  f1 =    0.696643\n",
      "            pt file:  0.9097_fold_4/model.pkl\n",
      "    FOLD: 4    -   \n",
      "            accuracy =   0.719600       |  0.719600\n",
      "            precision =  0.768400  |   recall =    0.719600   |  f1 =    0.706248\n",
      "\n",
      "\n",
      " ==================================== x2face CHECKPOINT =========================\n"
     ]
    },
    {
     "name": "stderr",
     "output_type": "stream",
     "text": [
      "100%|██████████| 5000/5000 [00:20<00:00, 239.87it/s]\n",
      "100%|██████████| 5000/5000 [00:19<00:00, 258.52it/s]\n"
     ]
    },
    {
     "name": "stdout",
     "output_type": "stream",
     "text": [
      "            pt file:  0.923_fold_0/model.pkl\n",
      "    FOLD: 0    -   \n",
      "            accuracy =   0.884200       |  0.884200\n",
      "            precision =  0.886552  |   recall =    0.884200   |  f1 =    0.884024\n",
      "            pt file:  0.9229_fold_1/model.pkl\n",
      "    FOLD: 1    -   \n",
      "            accuracy =   0.882800       |  0.882800\n",
      "            precision =  0.885000  |   recall =    0.882800   |  f1 =    0.882632\n",
      "            pt file:  0.9232_fold_2/model.pkl\n",
      "    FOLD: 2    -   \n",
      "            accuracy =   0.884400       |  0.884400\n",
      "            precision =  0.886563  |   recall =    0.884400   |  f1 =    0.884238\n",
      "            pt file:  0.9231_fold_3/model.pkl\n",
      "    FOLD: 3    -   \n",
      "            accuracy =   0.882000       |  0.882000\n",
      "            precision =  0.884873  |   recall =    0.882000   |  f1 =    0.881779\n",
      "            pt file:  0.9226_fold_4/model.pkl\n",
      "    FOLD: 4    -   \n",
      "            accuracy =   0.884000       |  0.884000\n",
      "            precision =  0.886231  |   recall =    0.884000   |  f1 =    0.883832\n",
      "\n",
      "*********************************************************\n",
      "             missing_value:  0.2\n",
      "\n",
      "\n",
      " ==================================== deepfake CHECKPOINT =========================\n"
     ]
    },
    {
     "name": "stderr",
     "output_type": "stream",
     "text": [
      "100%|██████████| 5000/5000 [00:25<00:00, 199.95it/s]\n",
      "100%|██████████| 5000/5000 [00:24<00:00, 203.60it/s]\n"
     ]
    },
    {
     "name": "stdout",
     "output_type": "stream",
     "text": [
      "            pt file:  0.9876_fold_0/model.pkl\n",
      "    FOLD: 0    -   \n",
      "            accuracy =   0.936900       |  0.936900\n",
      "            precision =  0.937405  |   recall =    0.936924   |  f1 =    0.936884\n",
      "            pt file:  0.9854_fold_1/model.pkl\n",
      "    FOLD: 1    -   \n",
      "            accuracy =   0.935300       |  0.935300\n",
      "            precision =  0.935828  |   recall =    0.935325   |  f1 =    0.935283\n",
      "            pt file:  0.9858_fold_2/model.pkl\n",
      "    FOLD: 2    -   \n",
      "            accuracy =   0.935900       |  0.935900\n",
      "            precision =  0.936381  |   recall =    0.935924   |  f1 =    0.935885\n",
      "            pt file:  0.988_fold_3/model.pkl\n",
      "    FOLD: 3    -   \n",
      "            accuracy =   0.936600       |  0.936600\n",
      "            precision =  0.937265  |   recall =    0.936628   |  f1 =    0.936579\n",
      "            pt file:  0.987_fold_4/model.pkl\n",
      "    FOLD: 4    -   \n",
      "            accuracy =   0.937400       |  0.937400\n",
      "            precision =  0.938080  |   recall =    0.937428   |  f1 =    0.937378\n",
      "\n",
      "\n",
      " ==================================== 3dmm CHECKPOINT =========================\n"
     ]
    },
    {
     "name": "stderr",
     "output_type": "stream",
     "text": [
      "100%|██████████| 5000/5000 [00:28<00:00, 177.61it/s]\n",
      "100%|██████████| 5000/5000 [00:18<00:00, 264.08it/s]\n"
     ]
    },
    {
     "name": "stdout",
     "output_type": "stream",
     "text": [
      "            pt file:  0.8929_fold_0/model.pkl\n",
      "    FOLD: 0    -   \n",
      "            accuracy =   0.854700       |  0.854700\n",
      "            precision =  0.859935  |   recall =    0.854700   |  f1 =    0.854170\n",
      "            pt file:  0.8934_fold_1/model.pkl\n",
      "    FOLD: 1    -   \n",
      "            accuracy =   0.852700       |  0.852700\n",
      "            precision =  0.858118  |   recall =    0.852700   |  f1 =    0.852141\n",
      "            pt file:  0.892_fold_2/model.pkl\n",
      "    FOLD: 2    -   \n",
      "            accuracy =   0.851800       |  0.851800\n",
      "            precision =  0.856940  |   recall =    0.851800   |  f1 =    0.851265\n",
      "            pt file:  0.8928_fold_3/model.pkl\n",
      "    FOLD: 3    -   \n",
      "            accuracy =   0.852400       |  0.852400\n",
      "            precision =  0.857724  |   recall =    0.852400   |  f1 =    0.851849\n",
      "            pt file:  0.8935_fold_4/model.pkl\n",
      "    FOLD: 4    -   \n",
      "            accuracy =   0.852200       |  0.852200\n",
      "            precision =  0.857628  |   recall =    0.852200   |  f1 =    0.851637\n",
      "\n",
      "\n",
      " ==================================== faceswap_2d CHECKPOINT =========================\n"
     ]
    },
    {
     "name": "stderr",
     "output_type": "stream",
     "text": [
      "100%|██████████| 5000/5000 [00:22<00:00, 218.96it/s]\n",
      "100%|██████████| 5000/5000 [03:41<00:00, 22.59it/s]\n"
     ]
    },
    {
     "name": "stdout",
     "output_type": "stream",
     "text": [
      "            pt file:  0.9949_fold_0/model.pkl\n",
      "    FOLD: 0    -   \n",
      "            accuracy =   0.951200       |  0.951200\n",
      "            precision =  0.951585  |   recall =    0.951200   |  f1 =    0.951190\n",
      "            pt file:  0.9947_fold_1/model.pkl\n",
      "    FOLD: 1    -   \n",
      "            accuracy =   0.946600       |  0.946600\n",
      "            precision =  0.947316  |   recall =    0.946600   |  f1 =    0.946579\n",
      "            pt file:  0.9949_fold_2/model.pkl\n",
      "    FOLD: 2    -   \n",
      "            accuracy =   0.947000       |  0.947000\n",
      "            precision =  0.947606  |   recall =    0.947000   |  f1 =    0.946982\n",
      "            pt file:  0.995_fold_3/model.pkl\n",
      "    FOLD: 3    -   \n",
      "            accuracy =   0.946300       |  0.946300\n",
      "            precision =  0.946925  |   recall =    0.946300   |  f1 =    0.946281\n",
      "            pt file:  0.9947_fold_4/model.pkl\n",
      "    FOLD: 4    -   \n",
      "            accuracy =   0.945100       |  0.945100\n",
      "            precision =  0.945956  |   recall =    0.945100   |  f1 =    0.945074\n",
      "\n",
      "\n",
      " ==================================== faceswap_3d CHECKPOINT =========================\n"
     ]
    },
    {
     "name": "stderr",
     "output_type": "stream",
     "text": [
      "100%|██████████| 5000/5000 [00:29<00:00, 169.93it/s]\n",
      "100%|██████████| 5000/5000 [03:15<00:00, 25.56it/s]\n"
     ]
    },
    {
     "name": "stdout",
     "output_type": "stream",
     "text": [
      "            pt file:  0.9988_fold_0/model.pkl\n",
      "    FOLD: 0    -   \n",
      "            accuracy =   0.963000       |  0.963000\n",
      "            precision =  0.963698  |   recall =    0.963000   |  f1 =    0.962986\n",
      "            pt file:  0.9988_fold_1/model.pkl\n",
      "    FOLD: 1    -   \n",
      "            accuracy =   0.962600       |  0.962600\n",
      "            precision =  0.963449  |   recall =    0.962600   |  f1 =    0.962583\n",
      "            pt file:  0.9987_fold_2/model.pkl\n",
      "    FOLD: 2    -   \n",
      "            accuracy =   0.962100       |  0.962100\n",
      "            precision =  0.962972  |   recall =    0.962100   |  f1 =    0.962082\n",
      "            pt file:  0.9986_fold_3/model.pkl\n",
      "    FOLD: 3    -   \n",
      "            accuracy =   0.962700       |  0.962700\n",
      "            precision =  0.963589  |   recall =    0.962700   |  f1 =    0.962682\n",
      "            pt file:  0.9987_fold_4/model.pkl\n",
      "    FOLD: 4    -   \n",
      "            accuracy =   0.963100       |  0.963100\n",
      "            precision =  0.964056  |   recall =    0.963100   |  f1 =    0.963081\n",
      "\n",
      "\n",
      " ==================================== monkey CHECKPOINT =========================\n"
     ]
    },
    {
     "name": "stderr",
     "output_type": "stream",
     "text": [
      "100%|██████████| 5000/5000 [00:24<00:00, 206.58it/s]\n",
      "100%|██████████| 5000/5000 [00:23<00:00, 211.73it/s]\n"
     ]
    },
    {
     "name": "stdout",
     "output_type": "stream",
     "text": [
      "            pt file:  0.9714_fold_0/model.pkl\n",
      "    FOLD: 0    -   \n",
      "            accuracy =   0.821100       |  0.821100\n",
      "            precision =  0.827206  |   recall =    0.821100   |  f1 =    0.820262\n",
      "            pt file:  0.9717_fold_1/model.pkl\n",
      "    FOLD: 1    -   \n",
      "            accuracy =   0.820900       |  0.820900\n",
      "            precision =  0.827561  |   recall =    0.820900   |  f1 =    0.819985\n",
      "            pt file:  0.9716_fold_2/model.pkl\n",
      "    FOLD: 2    -   \n",
      "            accuracy =   0.820900       |  0.820900\n",
      "            precision =  0.827148  |   recall =    0.820900   |  f1 =    0.820041\n",
      "            pt file:  0.972_fold_3/model.pkl\n",
      "    FOLD: 3    -   \n",
      "            accuracy =   0.824200       |  0.824200\n",
      "            precision =  0.830020  |   recall =    0.824200   |  f1 =    0.823421\n",
      "            pt file:  0.9723_fold_4/model.pkl\n",
      "    FOLD: 4    -   \n",
      "            accuracy =   0.826000       |  0.826000\n",
      "            precision =  0.831293  |   recall =    0.826000   |  f1 =    0.825302\n",
      "\n",
      "\n",
      " ==================================== reenact CHECKPOINT =========================\n"
     ]
    },
    {
     "name": "stderr",
     "output_type": "stream",
     "text": [
      "100%|██████████| 5000/5000 [00:23<00:00, 209.84it/s]\n",
      "100%|██████████| 4566/4566 [00:17<00:00, 258.28it/s]\n"
     ]
    },
    {
     "name": "stdout",
     "output_type": "stream",
     "text": [
      "            pt file:  0.9513_fold_0/model.pkl\n",
      "    FOLD: 0    -   \n",
      "            accuracy =   0.760900       |  0.760900\n",
      "            precision =  0.768974  |   recall =    0.750995   |  f1 =    0.752958\n",
      "            pt file:  0.9511_fold_1/model.pkl\n",
      "    FOLD: 1    -   \n",
      "            accuracy =   0.753700       |  0.753700\n",
      "            precision =  0.764509  |   recall =    0.742498   |  f1 =    0.744119\n",
      "            pt file:  0.9504_fold_2/model.pkl\n",
      "    FOLD: 2    -   \n",
      "            accuracy =   0.750000       |  0.750000\n",
      "            precision =  0.761538  |   recall =    0.738394   |  f1 =    0.739821\n",
      "            pt file:  0.9516_fold_3/model.pkl\n",
      "    FOLD: 3    -   \n",
      "            accuracy =   0.755400       |  0.755400\n",
      "            precision =  0.764540  |   recall =    0.744867   |  f1 =    0.746635\n",
      "            pt file:  0.9517_fold_4/model.pkl\n",
      "    FOLD: 4    -   \n",
      "            accuracy =   0.756100       |  0.756100\n",
      "            precision =  0.766044  |   recall =    0.745301   |  f1 =    0.747055\n",
      "\n",
      "\n",
      " ==================================== stargan CHECKPOINT =========================\n"
     ]
    },
    {
     "name": "stderr",
     "output_type": "stream",
     "text": [
      "100%|██████████| 5000/5000 [00:27<00:00, 183.78it/s]\n",
      "100%|██████████| 5000/5000 [00:38<00:00, 129.80it/s]\n"
     ]
    },
    {
     "name": "stdout",
     "output_type": "stream",
     "text": [
      "            pt file:  0.9092_fold_0/model.pkl\n",
      "    FOLD: 0    -   \n",
      "            accuracy =   0.695400       |  0.695400\n",
      "            precision =  0.714331  |   recall =    0.695400   |  f1 =    0.688522\n",
      "            pt file:  0.9106_fold_1/model.pkl\n",
      "    FOLD: 1    -   \n",
      "            accuracy =   0.692200       |  0.692200\n",
      "            precision =  0.712518  |   recall =    0.692200   |  f1 =    0.684663\n",
      "            pt file:  0.9088_fold_2/model.pkl\n",
      "    FOLD: 2    -   \n",
      "            accuracy =   0.691600       |  0.691600\n",
      "            precision =  0.712915  |   recall =    0.691600   |  f1 =    0.683683\n",
      "            pt file:  0.9118_fold_3/model.pkl\n",
      "    FOLD: 3    -   \n",
      "            accuracy =   0.688500       |  0.688500\n",
      "            precision =  0.711380  |   recall =    0.688500   |  f1 =    0.679836\n",
      "            pt file:  0.9097_fold_4/model.pkl\n",
      "    FOLD: 4    -   \n",
      "            accuracy =   0.696000       |  0.696000\n",
      "            precision =  0.715900  |   recall =    0.696000   |  f1 =    0.688830\n",
      "\n",
      "\n",
      " ==================================== x2face CHECKPOINT =========================\n"
     ]
    },
    {
     "name": "stderr",
     "output_type": "stream",
     "text": [
      "100%|██████████| 5000/5000 [00:25<00:00, 196.76it/s]\n",
      "100%|██████████| 5000/5000 [00:22<00:00, 220.61it/s]\n"
     ]
    },
    {
     "name": "stdout",
     "output_type": "stream",
     "text": [
      "            pt file:  0.923_fold_0/model.pkl\n",
      "    FOLD: 0    -   \n",
      "            accuracy =   0.788100       |  0.788100\n",
      "            precision =  0.815075  |   recall =    0.788100   |  f1 =    0.783465\n",
      "            pt file:  0.9229_fold_1/model.pkl\n",
      "    FOLD: 1    -   \n",
      "            accuracy =   0.788100       |  0.788100\n",
      "            precision =  0.813961  |   recall =    0.788100   |  f1 =    0.783645\n",
      "            pt file:  0.9232_fold_2/model.pkl\n",
      "    FOLD: 2    -   \n",
      "            accuracy =   0.786900       |  0.786900\n",
      "            precision =  0.814085  |   recall =    0.786900   |  f1 =    0.782187\n",
      "            pt file:  0.9231_fold_3/model.pkl\n",
      "    FOLD: 3    -   \n",
      "            accuracy =   0.785100       |  0.785100\n",
      "            precision =  0.814005  |   recall =    0.785100   |  f1 =    0.780038\n",
      "            pt file:  0.9226_fold_4/model.pkl\n",
      "    FOLD: 4    -   \n",
      "            accuracy =   0.786600       |  0.786600\n",
      "            precision =  0.814285  |   recall =    0.786600   |  f1 =    0.781795\n",
      "\n",
      "*********************************************************\n",
      "             missing_value:  0.3\n",
      "\n",
      "\n",
      " ==================================== deepfake CHECKPOINT =========================\n"
     ]
    },
    {
     "name": "stderr",
     "output_type": "stream",
     "text": [
      "100%|██████████| 5000/5000 [00:27<00:00, 181.02it/s]\n",
      "100%|██████████| 5000/5000 [00:27<00:00, 181.61it/s]\n"
     ]
    },
    {
     "name": "stdout",
     "output_type": "stream",
     "text": [
      "            pt file:  0.9876_fold_0/model.pkl\n",
      "    FOLD: 0    -   \n",
      "            accuracy =   0.828000       |  0.828000\n",
      "            precision =  0.853789  |   recall =    0.828189   |  f1 =    0.824865\n",
      "            pt file:  0.9854_fold_1/model.pkl\n",
      "    FOLD: 1    -   \n",
      "            accuracy =   0.823900       |  0.823900\n",
      "            precision =  0.850733  |   recall =    0.824094   |  f1 =    0.820527\n",
      "            pt file:  0.9858_fold_2/model.pkl\n",
      "    FOLD: 2    -   \n",
      "            accuracy =   0.826700       |  0.826700\n",
      "            precision =  0.852346  |   recall =    0.826889   |  f1 =    0.823546\n",
      "            pt file:  0.988_fold_3/model.pkl\n",
      "    FOLD: 3    -   \n",
      "            accuracy =   0.825200       |  0.825200\n",
      "            precision =  0.853380  |   recall =    0.825398   |  f1 =    0.821705\n",
      "            pt file:  0.987_fold_4/model.pkl\n",
      "    FOLD: 4    -   \n",
      "            accuracy =   0.825600       |  0.825600\n",
      "            precision =  0.853296  |   recall =    0.825796   |  f1 =    0.822174\n",
      "\n",
      "\n",
      " ==================================== 3dmm CHECKPOINT =========================\n"
     ]
    },
    {
     "name": "stderr",
     "output_type": "stream",
     "text": [
      "100%|██████████| 5000/5000 [00:28<00:00, 172.84it/s]\n",
      "100%|██████████| 5000/5000 [00:19<00:00, 253.05it/s]\n"
     ]
    },
    {
     "name": "stdout",
     "output_type": "stream",
     "text": [
      "            pt file:  0.8929_fold_0/model.pkl\n",
      "    FOLD: 0    -   \n",
      "            accuracy =   0.733200       |  0.733200\n",
      "            precision =  0.789187  |   recall =    0.733200   |  f1 =    0.719630\n",
      "            pt file:  0.8934_fold_1/model.pkl\n",
      "    FOLD: 1    -   \n",
      "            accuracy =   0.729900       |  0.729900\n",
      "            precision =  0.787822  |   recall =    0.729900   |  f1 =    0.715591\n",
      "            pt file:  0.892_fold_2/model.pkl\n",
      "    FOLD: 2    -   \n",
      "            accuracy =   0.731800       |  0.731800\n",
      "            precision =  0.787954  |   recall =    0.731800   |  f1 =    0.718054\n",
      "            pt file:  0.8928_fold_3/model.pkl\n",
      "    FOLD: 3    -   \n",
      "            accuracy =   0.729900       |  0.729900\n",
      "            precision =  0.785782  |   recall =    0.729900   |  f1 =    0.716017\n",
      "            pt file:  0.8935_fold_4/model.pkl\n",
      "    FOLD: 4    -   \n",
      "            accuracy =   0.731000       |  0.731000\n",
      "            precision =  0.788746  |   recall =    0.731000   |  f1 =    0.716843\n",
      "\n",
      "\n",
      " ==================================== faceswap_2d CHECKPOINT =========================\n"
     ]
    },
    {
     "name": "stderr",
     "output_type": "stream",
     "text": [
      "100%|██████████| 5000/5000 [00:38<00:00, 131.47it/s]\n",
      "100%|██████████| 5000/5000 [03:15<00:00, 25.58it/s]\n"
     ]
    },
    {
     "name": "stdout",
     "output_type": "stream",
     "text": [
      "            pt file:  0.9949_fold_0/model.pkl\n",
      "    FOLD: 0    -   \n",
      "            accuracy =   0.829800       |  0.829800\n",
      "            precision =  0.851488  |   recall =    0.829800   |  f1 =    0.827133\n",
      "            pt file:  0.9947_fold_1/model.pkl\n",
      "    FOLD: 1    -   \n",
      "            accuracy =   0.818800       |  0.818800\n",
      "            precision =  0.844433  |   recall =    0.818800   |  f1 =    0.815365\n",
      "            pt file:  0.9949_fold_2/model.pkl\n",
      "    FOLD: 2    -   \n",
      "            accuracy =   0.819300       |  0.819300\n",
      "            precision =  0.844048  |   recall =    0.819300   |  f1 =    0.815991\n",
      "            pt file:  0.995_fold_3/model.pkl\n",
      "    FOLD: 3    -   \n",
      "            accuracy =   0.818100       |  0.818100\n",
      "            precision =  0.843474  |   recall =    0.818100   |  f1 =    0.814677\n",
      "            pt file:  0.9947_fold_4/model.pkl\n",
      "    FOLD: 4    -   \n",
      "            accuracy =   0.815400       |  0.815400\n",
      "            precision =  0.842649  |   recall =    0.815400   |  f1 =    0.811656\n",
      "\n",
      "\n",
      " ==================================== faceswap_3d CHECKPOINT =========================\n"
     ]
    },
    {
     "name": "stderr",
     "output_type": "stream",
     "text": [
      "100%|██████████| 5000/5000 [00:24<00:00, 200.09it/s]\n",
      "100%|██████████| 5000/5000 [03:50<00:00, 21.73it/s]\n"
     ]
    },
    {
     "name": "stdout",
     "output_type": "stream",
     "text": [
      "            pt file:  0.9988_fold_0/model.pkl\n",
      "    FOLD: 0    -   \n",
      "            accuracy =   0.860200       |  0.860200\n",
      "            precision =  0.879443  |   recall =    0.860200   |  f1 =    0.858405\n",
      "            pt file:  0.9988_fold_1/model.pkl\n",
      "    FOLD: 1    -   \n",
      "            accuracy =   0.859500       |  0.859500\n",
      "            precision =  0.879323  |   recall =    0.859500   |  f1 =    0.857640\n",
      "            pt file:  0.9987_fold_2/model.pkl\n",
      "    FOLD: 2    -   \n",
      "            accuracy =   0.859900       |  0.859900\n",
      "            precision =  0.880937  |   recall =    0.859900   |  f1 =    0.857939\n",
      "            pt file:  0.9986_fold_3/model.pkl\n",
      "    FOLD: 3    -   \n",
      "            accuracy =   0.860900       |  0.860900\n",
      "            precision =  0.881468  |   recall =    0.860900   |  f1 =    0.858999\n",
      "            pt file:  0.9987_fold_4/model.pkl\n",
      "    FOLD: 4    -   \n",
      "            accuracy =   0.859900       |  0.859900\n",
      "            precision =  0.881013  |   recall =    0.859900   |  f1 =    0.857932\n",
      "\n",
      "\n",
      " ==================================== monkey CHECKPOINT =========================\n"
     ]
    },
    {
     "name": "stderr",
     "output_type": "stream",
     "text": [
      "100%|██████████| 5000/5000 [00:21<00:00, 232.94it/s]\n",
      "100%|██████████| 5000/5000 [00:24<00:00, 207.72it/s]\n"
     ]
    },
    {
     "name": "stdout",
     "output_type": "stream",
     "text": [
      "            pt file:  0.9714_fold_0/model.pkl\n",
      "    FOLD: 0    -   \n",
      "            accuracy =   0.696500       |  0.696500\n",
      "            precision =  0.704005  |   recall =    0.696500   |  f1 =    0.693683\n",
      "            pt file:  0.9717_fold_1/model.pkl\n",
      "    FOLD: 1    -   \n",
      "            accuracy =   0.695400       |  0.695400\n",
      "            precision =  0.702847  |   recall =    0.695400   |  f1 =    0.692579\n",
      "            pt file:  0.9716_fold_2/model.pkl\n",
      "    FOLD: 2    -   \n",
      "            accuracy =   0.692300       |  0.692300\n",
      "            precision =  0.700805  |   recall =    0.692300   |  f1 =    0.689007\n",
      "            pt file:  0.972_fold_3/model.pkl\n",
      "    FOLD: 3    -   \n",
      "            accuracy =   0.698600       |  0.698600\n",
      "            precision =  0.705373  |   recall =    0.698600   |  f1 =    0.696094\n",
      "            pt file:  0.9723_fold_4/model.pkl\n",
      "    FOLD: 4    -   \n",
      "            accuracy =   0.693400       |  0.693400\n",
      "            precision =  0.700996  |   recall =    0.693400   |  f1 =    0.690476\n",
      "\n",
      "\n",
      " ==================================== reenact CHECKPOINT =========================\n"
     ]
    },
    {
     "name": "stderr",
     "output_type": "stream",
     "text": [
      "100%|██████████| 5000/5000 [00:27<00:00, 179.23it/s]\n",
      "100%|██████████| 4566/4566 [00:21<00:00, 211.98it/s]\n"
     ]
    },
    {
     "name": "stdout",
     "output_type": "stream",
     "text": [
      "            pt file:  0.9513_fold_0/model.pkl\n",
      "    FOLD: 0    -   \n",
      "            accuracy =   0.670900       |  0.670900\n",
      "            precision =  0.673642  |   recall =    0.658982   |  f1 =    0.657961\n",
      "            pt file:  0.9511_fold_1/model.pkl\n",
      "    FOLD: 1    -   \n",
      "            accuracy =   0.661800       |  0.661800\n",
      "            precision =  0.667043  |   recall =    0.647740   |  f1 =    0.644893\n",
      "            pt file:  0.9504_fold_2/model.pkl\n",
      "    FOLD: 2    -   \n",
      "            accuracy =   0.651200       |  0.651200\n",
      "            precision =  0.656180  |   recall =    0.636378   |  f1 =    0.632426\n",
      "            pt file:  0.9516_fold_3/model.pkl\n",
      "    FOLD: 3    -   \n",
      "            accuracy =   0.653600       |  0.653600\n",
      "            precision =  0.657342  |   recall =    0.639688   |  f1 =    0.636680\n",
      "            pt file:  0.9517_fold_4/model.pkl\n",
      "    FOLD: 4    -   \n",
      "            accuracy =   0.651900       |  0.651900\n",
      "            precision =  0.655840  |   recall =    0.637722   |  f1 =    0.634414\n",
      "\n",
      "\n",
      " ==================================== stargan CHECKPOINT =========================\n"
     ]
    },
    {
     "name": "stderr",
     "output_type": "stream",
     "text": [
      "100%|██████████| 5000/5000 [00:21<00:00, 231.02it/s]\n",
      "100%|██████████| 5000/5000 [00:33<00:00, 150.72it/s]\n"
     ]
    },
    {
     "name": "stdout",
     "output_type": "stream",
     "text": [
      "            pt file:  0.9092_fold_0/model.pkl\n",
      "    FOLD: 0    -   \n",
      "            accuracy =   0.619700       |  0.619700\n",
      "            precision =  0.633914  |   recall =    0.619700   |  f1 =    0.609333\n",
      "            pt file:  0.9106_fold_1/model.pkl\n",
      "    FOLD: 1    -   \n",
      "            accuracy =   0.617900       |  0.617900\n",
      "            precision =  0.632764  |   recall =    0.617900   |  f1 =    0.606897\n",
      "            pt file:  0.9088_fold_2/model.pkl\n",
      "    FOLD: 2    -   \n",
      "            accuracy =   0.609700       |  0.609700\n",
      "            precision =  0.626434  |   recall =    0.609700   |  f1 =    0.596344\n",
      "            pt file:  0.9118_fold_3/model.pkl\n",
      "    FOLD: 3    -   \n",
      "            accuracy =   0.614900       |  0.614900\n",
      "            precision =  0.631554  |   recall =    0.614900   |  f1 =    0.602314\n",
      "            pt file:  0.9097_fold_4/model.pkl\n",
      "    FOLD: 4    -   \n",
      "            accuracy =   0.615900       |  0.615900\n",
      "            precision =  0.631766  |   recall =    0.615900   |  f1 =    0.603979\n",
      "\n",
      "\n",
      " ==================================== x2face CHECKPOINT =========================\n"
     ]
    },
    {
     "name": "stderr",
     "output_type": "stream",
     "text": [
      "100%|██████████| 5000/5000 [00:22<00:00, 222.58it/s]\n",
      "100%|██████████| 5000/5000 [00:20<00:00, 240.58it/s]\n"
     ]
    },
    {
     "name": "stdout",
     "output_type": "stream",
     "text": [
      "            pt file:  0.923_fold_0/model.pkl\n",
      "    FOLD: 0    -   \n",
      "            accuracy =   0.657200       |  0.657200\n",
      "            precision =  0.738733  |   recall =    0.657200   |  f1 =    0.625199\n",
      "            pt file:  0.9229_fold_1/model.pkl\n",
      "    FOLD: 1    -   \n",
      "            accuracy =   0.656400       |  0.656400\n",
      "            precision =  0.736014  |   recall =    0.656400   |  f1 =    0.624755\n",
      "            pt file:  0.9232_fold_2/model.pkl\n",
      "    FOLD: 2    -   \n",
      "            accuracy =   0.655600       |  0.655600\n",
      "            precision =  0.738687  |   recall =    0.655600   |  f1 =    0.622772\n",
      "            pt file:  0.9231_fold_3/model.pkl\n",
      "    FOLD: 3    -   \n",
      "            accuracy =   0.653500       |  0.653500\n",
      "            precision =  0.736581  |   recall =    0.653500   |  f1 =    0.620152\n",
      "            pt file:  0.9226_fold_4/model.pkl\n",
      "    FOLD: 4    -   \n",
      "            accuracy =   0.655400       |  0.655400\n",
      "            precision =  0.736672  |   recall =    0.655400   |  f1 =    0.623038\n",
      "\n",
      "*********************************************************\n",
      "             missing_value:  0.4\n",
      "\n",
      "\n",
      " ==================================== deepfake CHECKPOINT =========================\n"
     ]
    },
    {
     "name": "stderr",
     "output_type": "stream",
     "text": [
      "100%|██████████| 5000/5000 [00:24<00:00, 206.07it/s]\n",
      "100%|██████████| 5000/5000 [00:22<00:00, 223.35it/s]\n"
     ]
    },
    {
     "name": "stdout",
     "output_type": "stream",
     "text": [
      "            pt file:  0.9876_fold_0/model.pkl\n",
      "    FOLD: 0    -   \n",
      "            accuracy =   0.626200       |  0.626200\n",
      "            precision =  0.757712  |   recall =    0.626699   |  f1 =    0.572021\n",
      "            pt file:  0.9854_fold_1/model.pkl\n",
      "    FOLD: 1    -   \n",
      "            accuracy =   0.624100       |  0.624100\n",
      "            precision =  0.755674  |   recall =    0.624601   |  f1 =    0.569088\n",
      "            pt file:  0.9858_fold_2/model.pkl\n",
      "    FOLD: 2    -   \n",
      "            accuracy =   0.627000       |  0.627000\n",
      "            precision =  0.759038  |   recall =    0.627499   |  f1 =    0.573006\n",
      "            pt file:  0.988_fold_3/model.pkl\n",
      "    FOLD: 3    -   \n",
      "            accuracy =   0.622800       |  0.622800\n",
      "            precision =  0.757109  |   recall =    0.623305   |  f1 =    0.566636\n",
      "            pt file:  0.987_fold_4/model.pkl\n",
      "    FOLD: 4    -   \n",
      "            accuracy =   0.623600       |  0.623600\n",
      "            precision =  0.758777  |   recall =    0.624105   |  f1 =    0.567555\n",
      "\n",
      "\n",
      " ==================================== 3dmm CHECKPOINT =========================\n"
     ]
    },
    {
     "name": "stderr",
     "output_type": "stream",
     "text": [
      "100%|██████████| 5000/5000 [00:23<00:00, 208.96it/s]\n",
      "100%|██████████| 5000/5000 [00:17<00:00, 280.36it/s]\n"
     ]
    },
    {
     "name": "stdout",
     "output_type": "stream",
     "text": [
      "            pt file:  0.8929_fold_0/model.pkl\n",
      "    FOLD: 0    -   \n",
      "            accuracy =   0.564900       |  0.564900\n",
      "            precision =  0.718209  |   recall =    0.564900   |  f1 =    0.472194\n",
      "            pt file:  0.8934_fold_1/model.pkl\n",
      "    FOLD: 1    -   \n",
      "            accuracy =   0.561400       |  0.561400\n",
      "            precision =  0.713946  |   recall =    0.561400   |  f1 =    0.466259\n",
      "            pt file:  0.892_fold_2/model.pkl\n",
      "    FOLD: 2    -   \n",
      "            accuracy =   0.564600       |  0.564600\n",
      "            precision =  0.718433  |   recall =    0.564600   |  f1 =    0.471561\n",
      "            pt file:  0.8928_fold_3/model.pkl\n",
      "    FOLD: 3    -   \n",
      "            accuracy =   0.561700       |  0.561700\n",
      "            precision =  0.715244  |   recall =    0.561700   |  f1 =    0.466569\n",
      "            pt file:  0.8935_fold_4/model.pkl\n",
      "    FOLD: 4    -   \n",
      "            accuracy =   0.561200       |  0.561200\n",
      "            precision =  0.717349  |   recall =    0.561200   |  f1 =    0.465135\n",
      "\n",
      "\n",
      " ==================================== faceswap_2d CHECKPOINT =========================\n"
     ]
    },
    {
     "name": "stderr",
     "output_type": "stream",
     "text": [
      "100%|██████████| 5000/5000 [00:26<00:00, 191.21it/s]\n",
      "100%|██████████| 5000/5000 [04:18<00:00, 19.33it/s]\n"
     ]
    },
    {
     "name": "stdout",
     "output_type": "stream",
     "text": [
      "            pt file:  0.9949_fold_0/model.pkl\n",
      "    FOLD: 0    -   \n",
      "            accuracy =   0.604700       |  0.604700\n",
      "            precision =  0.749850  |   recall =    0.604700   |  f1 =    0.537533\n",
      "            pt file:  0.9947_fold_1/model.pkl\n",
      "    FOLD: 1    -   \n",
      "            accuracy =   0.579300       |  0.579300\n",
      "            precision =  0.735257  |   recall =    0.579300   |  f1 =    0.495727\n",
      "            pt file:  0.9949_fold_2/model.pkl\n",
      "    FOLD: 2    -   \n",
      "            accuracy =   0.584600       |  0.584600\n",
      "            precision =  0.739264  |   recall =    0.584600   |  f1 =    0.504530\n",
      "            pt file:  0.995_fold_3/model.pkl\n",
      "    FOLD: 3    -   \n",
      "            accuracy =   0.582200       |  0.582200\n",
      "            precision =  0.733753  |   recall =    0.582200   |  f1 =    0.501380\n",
      "            pt file:  0.9947_fold_4/model.pkl\n",
      "    FOLD: 4    -   \n",
      "            accuracy =   0.575900       |  0.575900\n",
      "            precision =  0.735705  |   recall =    0.575900   |  f1 =    0.489346\n",
      "\n",
      "\n",
      " ==================================== faceswap_3d CHECKPOINT =========================\n"
     ]
    },
    {
     "name": "stderr",
     "output_type": "stream",
     "text": [
      "100%|██████████| 5000/5000 [00:22<00:00, 221.54it/s]\n",
      "100%|██████████| 5000/5000 [04:05<00:00, 20.40it/s]\n"
     ]
    },
    {
     "name": "stdout",
     "output_type": "stream",
     "text": [
      "            pt file:  0.9988_fold_0/model.pkl\n",
      "    FOLD: 0    -   \n",
      "            accuracy =   0.638100       |  0.638100\n",
      "            precision =  0.773952  |   recall =    0.638100   |  f1 =    0.586884\n",
      "            pt file:  0.9988_fold_1/model.pkl\n",
      "    FOLD: 1    -   \n",
      "            accuracy =   0.634100       |  0.634100\n",
      "            precision =  0.776303  |   recall =    0.634100   |  f1 =    0.580069\n",
      "            pt file:  0.9987_fold_2/model.pkl\n",
      "    FOLD: 2    -   \n",
      "            accuracy =   0.632100       |  0.632100\n",
      "            precision =  0.775780  |   recall =    0.632100   |  f1 =    0.577005\n",
      "            pt file:  0.9986_fold_3/model.pkl\n",
      "    FOLD: 3    -   \n",
      "            accuracy =   0.633200       |  0.633200\n",
      "            precision =  0.775918  |   recall =    0.633200   |  f1 =    0.578724\n",
      "            pt file:  0.9987_fold_4/model.pkl\n",
      "    FOLD: 4    -   \n",
      "            accuracy =   0.631700       |  0.631700\n",
      "            precision =  0.775277  |   recall =    0.631700   |  f1 =    0.576475\n",
      "\n",
      "\n",
      " ==================================== monkey CHECKPOINT =========================\n"
     ]
    },
    {
     "name": "stderr",
     "output_type": "stream",
     "text": [
      "100%|██████████| 5000/5000 [00:24<00:00, 208.14it/s]\n",
      "100%|██████████| 5000/5000 [00:21<00:00, 230.57it/s]\n"
     ]
    },
    {
     "name": "stdout",
     "output_type": "stream",
     "text": [
      "            pt file:  0.9714_fold_0/model.pkl\n",
      "    FOLD: 0    -   \n",
      "            accuracy =   0.532100       |  0.532100\n",
      "            precision =  0.551262  |   recall =    0.532100   |  f1 =    0.483866\n",
      "            pt file:  0.9717_fold_1/model.pkl\n",
      "    FOLD: 1    -   \n",
      "            accuracy =   0.533700       |  0.533700\n",
      "            precision =  0.554029  |   recall =    0.533700   |  f1 =    0.485283\n",
      "            pt file:  0.9716_fold_2/model.pkl\n",
      "    FOLD: 2    -   \n",
      "            accuracy =   0.532400       |  0.532400\n",
      "            precision =  0.553455  |   recall =    0.532400   |  f1 =    0.481326\n",
      "            pt file:  0.972_fold_3/model.pkl\n",
      "    FOLD: 3    -   \n",
      "            accuracy =   0.538900       |  0.538900\n",
      "            precision =  0.560397  |   recall =    0.538900   |  f1 =    0.493862\n",
      "            pt file:  0.9723_fold_4/model.pkl\n",
      "    FOLD: 4    -   \n",
      "            accuracy =   0.535200       |  0.535200\n",
      "            precision =  0.557412  |   recall =    0.535200   |  f1 =    0.485430\n",
      "\n",
      "\n",
      " ==================================== reenact CHECKPOINT =========================\n"
     ]
    },
    {
     "name": "stderr",
     "output_type": "stream",
     "text": [
      "100%|██████████| 5000/5000 [00:27<00:00, 185.17it/s]\n",
      "100%|██████████| 4566/4566 [00:20<00:00, 222.36it/s]\n"
     ]
    },
    {
     "name": "stdout",
     "output_type": "stream",
     "text": [
      "            pt file:  0.9513_fold_0/model.pkl\n",
      "    FOLD: 0    -   \n",
      "            accuracy =   0.567900       |  0.567900\n",
      "            precision =  0.567570  |   recall =    0.540665   |  f1 =    0.503274\n",
      "            pt file:  0.9511_fold_1/model.pkl\n",
      "    FOLD: 1    -   \n",
      "            accuracy =   0.566800       |  0.566800\n",
      "            precision =  0.567348  |   recall =    0.538586   |  f1 =    0.497311\n",
      "            pt file:  0.9504_fold_2/model.pkl\n",
      "    FOLD: 2    -   \n",
      "            accuracy =   0.560600       |  0.560600\n",
      "            precision =  0.556868  |   recall =    0.532006   |  f1 =    0.488430\n",
      "            pt file:  0.9516_fold_3/model.pkl\n",
      "    FOLD: 3    -   \n",
      "            accuracy =   0.563600       |  0.563600\n",
      "            precision =  0.561800  |   recall =    0.535309   |  f1 =    0.493335\n",
      "            pt file:  0.9517_fold_4/model.pkl\n",
      "    FOLD: 4    -   \n",
      "            accuracy =   0.563200       |  0.563200\n",
      "            precision =  0.561496  |   recall =    0.534643   |  f1 =    0.491546\n",
      "\n",
      "\n",
      " ==================================== stargan CHECKPOINT =========================\n"
     ]
    },
    {
     "name": "stderr",
     "output_type": "stream",
     "text": [
      "100%|██████████| 5000/5000 [00:25<00:00, 197.40it/s]\n",
      "100%|██████████| 5000/5000 [00:34<00:00, 145.24it/s]\n"
     ]
    },
    {
     "name": "stdout",
     "output_type": "stream",
     "text": [
      "            pt file:  0.9092_fold_0/model.pkl\n",
      "    FOLD: 0    -   \n",
      "            accuracy =   0.528600       |  0.528600\n",
      "            precision =  0.557345  |   recall =    0.528600   |  f1 =    0.461063\n",
      "            pt file:  0.9106_fold_1/model.pkl\n",
      "    FOLD: 1    -   \n",
      "            accuracy =   0.527900       |  0.527900\n",
      "            precision =  0.556294  |   recall =    0.527900   |  f1 =    0.459780\n",
      "            pt file:  0.9088_fold_2/model.pkl\n",
      "    FOLD: 2    -   \n",
      "            accuracy =   0.522200       |  0.522200\n",
      "            precision =  0.548377  |   recall =    0.522200   |  f1 =    0.447453\n",
      "            pt file:  0.9118_fold_3/model.pkl\n",
      "    FOLD: 3    -   \n",
      "            accuracy =   0.527600       |  0.527600\n",
      "            precision =  0.555529  |   recall =    0.527600   |  f1 =    0.459657\n",
      "            pt file:  0.9097_fold_4/model.pkl\n",
      "    FOLD: 4    -   \n",
      "            accuracy =   0.525600       |  0.525600\n",
      "            precision =  0.554534  |   recall =    0.525600   |  f1 =    0.453052\n",
      "\n",
      "\n",
      " ==================================== x2face CHECKPOINT =========================\n"
     ]
    },
    {
     "name": "stderr",
     "output_type": "stream",
     "text": [
      "100%|██████████| 5000/5000 [00:27<00:00, 184.63it/s]\n",
      "100%|██████████| 5000/5000 [00:20<00:00, 241.10it/s]\n"
     ]
    },
    {
     "name": "stdout",
     "output_type": "stream",
     "text": [
      "            pt file:  0.923_fold_0/model.pkl\n",
      "    FOLD: 0    -   \n",
      "            accuracy =   0.527800       |  0.527800\n",
      "            precision =  0.620965  |   recall =    0.527800   |  f1 =    0.415199\n",
      "            pt file:  0.9229_fold_1/model.pkl\n",
      "    FOLD: 1    -   \n",
      "            accuracy =   0.528000       |  0.528000\n",
      "            precision =  0.617195  |   recall =    0.528000   |  f1 =    0.417089\n",
      "            pt file:  0.9232_fold_2/model.pkl\n",
      "    FOLD: 2    -   \n",
      "            accuracy =   0.526800       |  0.526800\n",
      "            precision =  0.617693  |   recall =    0.526800   |  f1 =    0.413578\n",
      "            pt file:  0.9231_fold_3/model.pkl\n",
      "    FOLD: 3    -   \n",
      "            accuracy =   0.528800       |  0.528800\n",
      "            precision =  0.622697  |   recall =    0.528800   |  f1 =    0.417323\n",
      "            pt file:  0.9226_fold_4/model.pkl\n",
      "    FOLD: 4    -   \n",
      "            accuracy =   0.527800       |  0.527800\n",
      "            precision =  0.616358  |   recall =    0.527800   |  f1 =    0.416842\n",
      "\n",
      "*********************************************************\n",
      "             missing_value:  0.5\n",
      "\n",
      "\n",
      " ==================================== deepfake CHECKPOINT =========================\n"
     ]
    },
    {
     "name": "stderr",
     "output_type": "stream",
     "text": [
      "100%|██████████| 5000/5000 [00:24<00:00, 202.68it/s]\n",
      "100%|██████████| 5000/5000 [00:19<00:00, 251.28it/s]\n"
     ]
    },
    {
     "name": "stdout",
     "output_type": "stream",
     "text": [
      "            pt file:  0.9876_fold_0/model.pkl\n",
      "    FOLD: 0    -   \n",
      "            accuracy =   0.492100       |  0.492100\n",
      "            precision =  0.247834  |   recall =    0.492790   |  f1 =    0.329804\n",
      "            pt file:  0.9854_fold_1/model.pkl\n",
      "    FOLD: 1    -   \n",
      "            accuracy =   0.491700       |  0.491700\n",
      "            precision =  0.247733  |   recall =    0.492389   |  f1 =    0.329624\n",
      "            pt file:  0.9858_fold_2/model.pkl\n",
      "    FOLD: 2    -   \n",
      "            accuracy =   0.492300       |  0.492300\n",
      "            precision =  0.247885  |   recall =    0.492990   |  f1 =    0.329893\n",
      "            pt file:  0.988_fold_3/model.pkl\n",
      "    FOLD: 3    -   \n",
      "            accuracy =   0.492400       |  0.492400\n",
      "            precision =  0.247911  |   recall =    0.493090   |  f1 =    0.329938\n",
      "            pt file:  0.987_fold_4/model.pkl\n",
      "    FOLD: 4    -   \n",
      "            accuracy =   0.492800       |  0.492800\n",
      "            precision =  0.248012  |   recall =    0.493491   |  f1 =    0.330118\n",
      "\n",
      "\n",
      " ==================================== 3dmm CHECKPOINT =========================\n"
     ]
    },
    {
     "name": "stderr",
     "output_type": "stream",
     "text": [
      "100%|██████████| 5000/5000 [00:24<00:00, 205.01it/s]\n",
      "100%|██████████| 5000/5000 [00:17<00:00, 278.10it/s]\n",
      "/mnt/disk1/anaconda3/envs/phucnp/lib/python3.8/site-packages/sklearn/metrics/_classification.py:1318: UndefinedMetricWarning: Precision is ill-defined and being set to 0.0 in labels with no predicted samples. Use `zero_division` parameter to control this behavior.\n",
      "  _warn_prf(average, modifier, msg_start, len(result))\n"
     ]
    },
    {
     "name": "stdout",
     "output_type": "stream",
     "text": [
      "            pt file:  0.8929_fold_0/model.pkl\n",
      "    FOLD: 0    -   \n",
      "            accuracy =   0.500000       |  0.500000\n",
      "            precision =  0.250000  |   recall =    0.500000   |  f1 =    0.333333\n"
     ]
    },
    {
     "name": "stderr",
     "output_type": "stream",
     "text": [
      "/mnt/disk1/anaconda3/envs/phucnp/lib/python3.8/site-packages/sklearn/metrics/_classification.py:1318: UndefinedMetricWarning: Precision is ill-defined and being set to 0.0 in labels with no predicted samples. Use `zero_division` parameter to control this behavior.\n",
      "  _warn_prf(average, modifier, msg_start, len(result))\n"
     ]
    },
    {
     "name": "stdout",
     "output_type": "stream",
     "text": [
      "            pt file:  0.8934_fold_1/model.pkl\n",
      "    FOLD: 1    -   \n",
      "            accuracy =   0.500000       |  0.500000\n",
      "            precision =  0.250000  |   recall =    0.500000   |  f1 =    0.333333\n"
     ]
    },
    {
     "name": "stderr",
     "output_type": "stream",
     "text": [
      "/mnt/disk1/anaconda3/envs/phucnp/lib/python3.8/site-packages/sklearn/metrics/_classification.py:1318: UndefinedMetricWarning: Precision is ill-defined and being set to 0.0 in labels with no predicted samples. Use `zero_division` parameter to control this behavior.\n",
      "  _warn_prf(average, modifier, msg_start, len(result))\n"
     ]
    },
    {
     "name": "stdout",
     "output_type": "stream",
     "text": [
      "            pt file:  0.892_fold_2/model.pkl\n",
      "    FOLD: 2    -   \n",
      "            accuracy =   0.500000       |  0.500000\n",
      "            precision =  0.250000  |   recall =    0.500000   |  f1 =    0.333333\n"
     ]
    },
    {
     "name": "stderr",
     "output_type": "stream",
     "text": [
      "/mnt/disk1/anaconda3/envs/phucnp/lib/python3.8/site-packages/sklearn/metrics/_classification.py:1318: UndefinedMetricWarning: Precision is ill-defined and being set to 0.0 in labels with no predicted samples. Use `zero_division` parameter to control this behavior.\n",
      "  _warn_prf(average, modifier, msg_start, len(result))\n"
     ]
    },
    {
     "name": "stdout",
     "output_type": "stream",
     "text": [
      "            pt file:  0.8928_fold_3/model.pkl\n",
      "    FOLD: 3    -   \n",
      "            accuracy =   0.500000       |  0.500000\n",
      "            precision =  0.250000  |   recall =    0.500000   |  f1 =    0.333333\n"
     ]
    },
    {
     "name": "stderr",
     "output_type": "stream",
     "text": [
      "/mnt/disk1/anaconda3/envs/phucnp/lib/python3.8/site-packages/sklearn/metrics/_classification.py:1318: UndefinedMetricWarning: Precision is ill-defined and being set to 0.0 in labels with no predicted samples. Use `zero_division` parameter to control this behavior.\n",
      "  _warn_prf(average, modifier, msg_start, len(result))\n"
     ]
    },
    {
     "name": "stdout",
     "output_type": "stream",
     "text": [
      "            pt file:  0.8935_fold_4/model.pkl\n",
      "    FOLD: 4    -   \n",
      "            accuracy =   0.500000       |  0.500000\n",
      "            precision =  0.250000  |   recall =    0.500000   |  f1 =    0.333333\n",
      "\n",
      "\n",
      " ==================================== faceswap_2d CHECKPOINT =========================\n"
     ]
    },
    {
     "name": "stderr",
     "output_type": "stream",
     "text": [
      "100%|██████████| 5000/5000 [01:02<00:00, 79.64it/s] \n",
      "100%|██████████| 5000/5000 [05:09<00:00, 16.15it/s]\n",
      "/mnt/disk1/anaconda3/envs/phucnp/lib/python3.8/site-packages/sklearn/metrics/_classification.py:1318: UndefinedMetricWarning: Precision is ill-defined and being set to 0.0 in labels with no predicted samples. Use `zero_division` parameter to control this behavior.\n",
      "  _warn_prf(average, modifier, msg_start, len(result))\n"
     ]
    },
    {
     "name": "stdout",
     "output_type": "stream",
     "text": [
      "            pt file:  0.9949_fold_0/model.pkl\n",
      "    FOLD: 0    -   \n",
      "            accuracy =   0.500000       |  0.500000\n",
      "            precision =  0.250000  |   recall =    0.500000   |  f1 =    0.333333\n"
     ]
    },
    {
     "name": "stderr",
     "output_type": "stream",
     "text": [
      "/mnt/disk1/anaconda3/envs/phucnp/lib/python3.8/site-packages/sklearn/metrics/_classification.py:1318: UndefinedMetricWarning: Precision is ill-defined and being set to 0.0 in labels with no predicted samples. Use `zero_division` parameter to control this behavior.\n",
      "  _warn_prf(average, modifier, msg_start, len(result))\n"
     ]
    },
    {
     "name": "stdout",
     "output_type": "stream",
     "text": [
      "            pt file:  0.9947_fold_1/model.pkl\n",
      "    FOLD: 1    -   \n",
      "            accuracy =   0.500000       |  0.500000\n",
      "            precision =  0.250000  |   recall =    0.500000   |  f1 =    0.333333\n"
     ]
    },
    {
     "name": "stderr",
     "output_type": "stream",
     "text": [
      "/mnt/disk1/anaconda3/envs/phucnp/lib/python3.8/site-packages/sklearn/metrics/_classification.py:1318: UndefinedMetricWarning: Precision is ill-defined and being set to 0.0 in labels with no predicted samples. Use `zero_division` parameter to control this behavior.\n",
      "  _warn_prf(average, modifier, msg_start, len(result))\n"
     ]
    },
    {
     "name": "stdout",
     "output_type": "stream",
     "text": [
      "            pt file:  0.9949_fold_2/model.pkl\n",
      "    FOLD: 2    -   \n",
      "            accuracy =   0.500000       |  0.500000\n",
      "            precision =  0.250000  |   recall =    0.500000   |  f1 =    0.333333\n"
     ]
    },
    {
     "name": "stderr",
     "output_type": "stream",
     "text": [
      "/mnt/disk1/anaconda3/envs/phucnp/lib/python3.8/site-packages/sklearn/metrics/_classification.py:1318: UndefinedMetricWarning: Precision is ill-defined and being set to 0.0 in labels with no predicted samples. Use `zero_division` parameter to control this behavior.\n",
      "  _warn_prf(average, modifier, msg_start, len(result))\n"
     ]
    },
    {
     "name": "stdout",
     "output_type": "stream",
     "text": [
      "            pt file:  0.995_fold_3/model.pkl\n",
      "    FOLD: 3    -   \n",
      "            accuracy =   0.500000       |  0.500000\n",
      "            precision =  0.250000  |   recall =    0.500000   |  f1 =    0.333333\n"
     ]
    },
    {
     "name": "stderr",
     "output_type": "stream",
     "text": [
      "/mnt/disk1/anaconda3/envs/phucnp/lib/python3.8/site-packages/sklearn/metrics/_classification.py:1318: UndefinedMetricWarning: Precision is ill-defined and being set to 0.0 in labels with no predicted samples. Use `zero_division` parameter to control this behavior.\n",
      "  _warn_prf(average, modifier, msg_start, len(result))\n"
     ]
    },
    {
     "name": "stdout",
     "output_type": "stream",
     "text": [
      "            pt file:  0.9947_fold_4/model.pkl\n",
      "    FOLD: 4    -   \n",
      "            accuracy =   0.500000       |  0.500000\n",
      "            precision =  0.250000  |   recall =    0.500000   |  f1 =    0.333333\n",
      "\n",
      "\n",
      " ==================================== faceswap_3d CHECKPOINT =========================\n"
     ]
    },
    {
     "name": "stderr",
     "output_type": "stream",
     "text": [
      "100%|██████████| 5000/5000 [01:49<00:00, 45.70it/s] \n",
      "100%|██████████| 5000/5000 [06:02<00:00, 13.78it/s]\n",
      "/mnt/disk1/anaconda3/envs/phucnp/lib/python3.8/site-packages/sklearn/metrics/_classification.py:1318: UndefinedMetricWarning: Precision is ill-defined and being set to 0.0 in labels with no predicted samples. Use `zero_division` parameter to control this behavior.\n",
      "  _warn_prf(average, modifier, msg_start, len(result))\n"
     ]
    },
    {
     "name": "stdout",
     "output_type": "stream",
     "text": [
      "            pt file:  0.9988_fold_0/model.pkl\n",
      "    FOLD: 0    -   \n",
      "            accuracy =   0.500000       |  0.500000\n",
      "            precision =  0.250000  |   recall =    0.500000   |  f1 =    0.333333\n"
     ]
    },
    {
     "name": "stderr",
     "output_type": "stream",
     "text": [
      "/mnt/disk1/anaconda3/envs/phucnp/lib/python3.8/site-packages/sklearn/metrics/_classification.py:1318: UndefinedMetricWarning: Precision is ill-defined and being set to 0.0 in labels with no predicted samples. Use `zero_division` parameter to control this behavior.\n",
      "  _warn_prf(average, modifier, msg_start, len(result))\n"
     ]
    },
    {
     "name": "stdout",
     "output_type": "stream",
     "text": [
      "            pt file:  0.9988_fold_1/model.pkl\n",
      "    FOLD: 1    -   \n",
      "            accuracy =   0.500000       |  0.500000\n",
      "            precision =  0.250000  |   recall =    0.500000   |  f1 =    0.333333\n"
     ]
    },
    {
     "name": "stderr",
     "output_type": "stream",
     "text": [
      "/mnt/disk1/anaconda3/envs/phucnp/lib/python3.8/site-packages/sklearn/metrics/_classification.py:1318: UndefinedMetricWarning: Precision is ill-defined and being set to 0.0 in labels with no predicted samples. Use `zero_division` parameter to control this behavior.\n",
      "  _warn_prf(average, modifier, msg_start, len(result))\n"
     ]
    },
    {
     "name": "stdout",
     "output_type": "stream",
     "text": [
      "            pt file:  0.9987_fold_2/model.pkl\n",
      "    FOLD: 2    -   \n",
      "            accuracy =   0.500000       |  0.500000\n",
      "            precision =  0.250000  |   recall =    0.500000   |  f1 =    0.333333\n"
     ]
    },
    {
     "name": "stderr",
     "output_type": "stream",
     "text": [
      "/mnt/disk1/anaconda3/envs/phucnp/lib/python3.8/site-packages/sklearn/metrics/_classification.py:1318: UndefinedMetricWarning: Precision is ill-defined and being set to 0.0 in labels with no predicted samples. Use `zero_division` parameter to control this behavior.\n",
      "  _warn_prf(average, modifier, msg_start, len(result))\n"
     ]
    },
    {
     "name": "stdout",
     "output_type": "stream",
     "text": [
      "            pt file:  0.9986_fold_3/model.pkl\n",
      "    FOLD: 3    -   \n",
      "            accuracy =   0.500000       |  0.500000\n",
      "            precision =  0.250000  |   recall =    0.500000   |  f1 =    0.333333\n"
     ]
    },
    {
     "name": "stderr",
     "output_type": "stream",
     "text": [
      "/mnt/disk1/anaconda3/envs/phucnp/lib/python3.8/site-packages/sklearn/metrics/_classification.py:1318: UndefinedMetricWarning: Precision is ill-defined and being set to 0.0 in labels with no predicted samples. Use `zero_division` parameter to control this behavior.\n",
      "  _warn_prf(average, modifier, msg_start, len(result))\n"
     ]
    },
    {
     "name": "stdout",
     "output_type": "stream",
     "text": [
      "            pt file:  0.9987_fold_4/model.pkl\n",
      "    FOLD: 4    -   \n",
      "            accuracy =   0.500000       |  0.500000\n",
      "            precision =  0.250000  |   recall =    0.500000   |  f1 =    0.333333\n",
      "\n",
      "\n",
      " ==================================== monkey CHECKPOINT =========================\n"
     ]
    },
    {
     "name": "stderr",
     "output_type": "stream",
     "text": [
      "100%|██████████| 5000/5000 [00:28<00:00, 175.36it/s]\n",
      "100%|██████████| 5000/5000 [00:25<00:00, 193.66it/s]\n",
      "/mnt/disk1/anaconda3/envs/phucnp/lib/python3.8/site-packages/sklearn/metrics/_classification.py:1318: UndefinedMetricWarning: Precision is ill-defined and being set to 0.0 in labels with no predicted samples. Use `zero_division` parameter to control this behavior.\n",
      "  _warn_prf(average, modifier, msg_start, len(result))\n"
     ]
    },
    {
     "name": "stdout",
     "output_type": "stream",
     "text": [
      "            pt file:  0.9714_fold_0/model.pkl\n",
      "    FOLD: 0    -   \n",
      "            accuracy =   0.500000       |  0.500000\n",
      "            precision =  0.250000  |   recall =    0.500000   |  f1 =    0.333333\n"
     ]
    },
    {
     "name": "stderr",
     "output_type": "stream",
     "text": [
      "/mnt/disk1/anaconda3/envs/phucnp/lib/python3.8/site-packages/sklearn/metrics/_classification.py:1318: UndefinedMetricWarning: Precision is ill-defined and being set to 0.0 in labels with no predicted samples. Use `zero_division` parameter to control this behavior.\n",
      "  _warn_prf(average, modifier, msg_start, len(result))\n"
     ]
    },
    {
     "name": "stdout",
     "output_type": "stream",
     "text": [
      "            pt file:  0.9717_fold_1/model.pkl\n",
      "    FOLD: 1    -   \n",
      "            accuracy =   0.500000       |  0.500000\n",
      "            precision =  0.250000  |   recall =    0.500000   |  f1 =    0.333333\n"
     ]
    },
    {
     "name": "stderr",
     "output_type": "stream",
     "text": [
      "/mnt/disk1/anaconda3/envs/phucnp/lib/python3.8/site-packages/sklearn/metrics/_classification.py:1318: UndefinedMetricWarning: Precision is ill-defined and being set to 0.0 in labels with no predicted samples. Use `zero_division` parameter to control this behavior.\n",
      "  _warn_prf(average, modifier, msg_start, len(result))\n"
     ]
    },
    {
     "name": "stdout",
     "output_type": "stream",
     "text": [
      "            pt file:  0.9716_fold_2/model.pkl\n",
      "    FOLD: 2    -   \n",
      "            accuracy =   0.500000       |  0.500000\n",
      "            precision =  0.250000  |   recall =    0.500000   |  f1 =    0.333333\n"
     ]
    },
    {
     "name": "stderr",
     "output_type": "stream",
     "text": [
      "/mnt/disk1/anaconda3/envs/phucnp/lib/python3.8/site-packages/sklearn/metrics/_classification.py:1318: UndefinedMetricWarning: Precision is ill-defined and being set to 0.0 in labels with no predicted samples. Use `zero_division` parameter to control this behavior.\n",
      "  _warn_prf(average, modifier, msg_start, len(result))\n"
     ]
    },
    {
     "name": "stdout",
     "output_type": "stream",
     "text": [
      "            pt file:  0.972_fold_3/model.pkl\n",
      "    FOLD: 3    -   \n",
      "            accuracy =   0.500000       |  0.500000\n",
      "            precision =  0.250000  |   recall =    0.500000   |  f1 =    0.333333\n"
     ]
    },
    {
     "name": "stderr",
     "output_type": "stream",
     "text": [
      "/mnt/disk1/anaconda3/envs/phucnp/lib/python3.8/site-packages/sklearn/metrics/_classification.py:1318: UndefinedMetricWarning: Precision is ill-defined and being set to 0.0 in labels with no predicted samples. Use `zero_division` parameter to control this behavior.\n",
      "  _warn_prf(average, modifier, msg_start, len(result))\n"
     ]
    },
    {
     "name": "stdout",
     "output_type": "stream",
     "text": [
      "            pt file:  0.9723_fold_4/model.pkl\n",
      "    FOLD: 4    -   \n",
      "            accuracy =   0.500000       |  0.500000\n",
      "            precision =  0.250000  |   recall =    0.500000   |  f1 =    0.333333\n",
      "\n",
      "\n",
      " ==================================== reenact CHECKPOINT =========================\n"
     ]
    },
    {
     "name": "stderr",
     "output_type": "stream",
     "text": [
      "100%|██████████| 5000/5000 [01:07<00:00, 74.05it/s] \n",
      "100%|██████████| 4566/4566 [00:31<00:00, 145.05it/s]\n",
      "/mnt/disk1/anaconda3/envs/phucnp/lib/python3.8/site-packages/sklearn/metrics/_classification.py:1318: UndefinedMetricWarning: Precision is ill-defined and being set to 0.0 in labels with no predicted samples. Use `zero_division` parameter to control this behavior.\n",
      "  _warn_prf(average, modifier, msg_start, len(result))\n"
     ]
    },
    {
     "name": "stdout",
     "output_type": "stream",
     "text": [
      "            pt file:  0.9513_fold_0/model.pkl\n",
      "    FOLD: 0    -   \n",
      "            accuracy =   0.543400       |  0.543400\n",
      "            precision =  0.271700  |   recall =    0.500000   |  f1 =    0.352080\n"
     ]
    },
    {
     "name": "stderr",
     "output_type": "stream",
     "text": [
      "/mnt/disk1/anaconda3/envs/phucnp/lib/python3.8/site-packages/sklearn/metrics/_classification.py:1318: UndefinedMetricWarning: Precision is ill-defined and being set to 0.0 in labels with no predicted samples. Use `zero_division` parameter to control this behavior.\n",
      "  _warn_prf(average, modifier, msg_start, len(result))\n"
     ]
    },
    {
     "name": "stdout",
     "output_type": "stream",
     "text": [
      "            pt file:  0.9511_fold_1/model.pkl\n",
      "    FOLD: 1    -   \n",
      "            accuracy =   0.543400       |  0.543400\n",
      "            precision =  0.271700  |   recall =    0.500000   |  f1 =    0.352080\n"
     ]
    },
    {
     "name": "stderr",
     "output_type": "stream",
     "text": [
      "/mnt/disk1/anaconda3/envs/phucnp/lib/python3.8/site-packages/sklearn/metrics/_classification.py:1318: UndefinedMetricWarning: Precision is ill-defined and being set to 0.0 in labels with no predicted samples. Use `zero_division` parameter to control this behavior.\n",
      "  _warn_prf(average, modifier, msg_start, len(result))\n"
     ]
    },
    {
     "name": "stdout",
     "output_type": "stream",
     "text": [
      "            pt file:  0.9504_fold_2/model.pkl\n",
      "    FOLD: 2    -   \n",
      "            accuracy =   0.543400       |  0.543400\n",
      "            precision =  0.271700  |   recall =    0.500000   |  f1 =    0.352080\n"
     ]
    },
    {
     "name": "stderr",
     "output_type": "stream",
     "text": [
      "/mnt/disk1/anaconda3/envs/phucnp/lib/python3.8/site-packages/sklearn/metrics/_classification.py:1318: UndefinedMetricWarning: Precision is ill-defined and being set to 0.0 in labels with no predicted samples. Use `zero_division` parameter to control this behavior.\n",
      "  _warn_prf(average, modifier, msg_start, len(result))\n"
     ]
    },
    {
     "name": "stdout",
     "output_type": "stream",
     "text": [
      "            pt file:  0.9516_fold_3/model.pkl\n",
      "    FOLD: 3    -   \n",
      "            accuracy =   0.543400       |  0.543400\n",
      "            precision =  0.271700  |   recall =    0.500000   |  f1 =    0.352080\n"
     ]
    },
    {
     "name": "stderr",
     "output_type": "stream",
     "text": [
      "/mnt/disk1/anaconda3/envs/phucnp/lib/python3.8/site-packages/sklearn/metrics/_classification.py:1318: UndefinedMetricWarning: Precision is ill-defined and being set to 0.0 in labels with no predicted samples. Use `zero_division` parameter to control this behavior.\n",
      "  _warn_prf(average, modifier, msg_start, len(result))\n"
     ]
    },
    {
     "name": "stdout",
     "output_type": "stream",
     "text": [
      "            pt file:  0.9517_fold_4/model.pkl\n",
      "    FOLD: 4    -   \n",
      "            accuracy =   0.543400       |  0.543400\n",
      "            precision =  0.271700  |   recall =    0.500000   |  f1 =    0.352080\n",
      "\n",
      "\n",
      " ==================================== stargan CHECKPOINT =========================\n"
     ]
    },
    {
     "name": "stderr",
     "output_type": "stream",
     "text": [
      "100%|██████████| 5000/5000 [00:27<00:00, 178.66it/s]\n",
      "100%|██████████| 5000/5000 [00:40<00:00, 124.40it/s]\n"
     ]
    },
    {
     "name": "stdout",
     "output_type": "stream",
     "text": [
      "            pt file:  0.9092_fold_0/model.pkl\n",
      "    FOLD: 0    -   \n",
      "            accuracy =   0.515300       |  0.515300\n",
      "            precision =  0.753884  |   recall =    0.515300   |  f1 =    0.366460\n",
      "            pt file:  0.9106_fold_1/model.pkl\n",
      "    FOLD: 1    -   \n",
      "            accuracy =   0.515300       |  0.515300\n",
      "            precision =  0.753884  |   recall =    0.515300   |  f1 =    0.366460\n",
      "            pt file:  0.9088_fold_2/model.pkl\n",
      "    FOLD: 2    -   \n",
      "            accuracy =   0.515300       |  0.515300\n",
      "            precision =  0.753884  |   recall =    0.515300   |  f1 =    0.366460\n",
      "            pt file:  0.9118_fold_3/model.pkl\n",
      "    FOLD: 3    -   \n",
      "            accuracy =   0.515300       |  0.515300\n",
      "            precision =  0.753884  |   recall =    0.515300   |  f1 =    0.366460\n",
      "            pt file:  0.9097_fold_4/model.pkl\n",
      "    FOLD: 4    -   \n",
      "            accuracy =   0.515300       |  0.515300\n",
      "            precision =  0.753884  |   recall =    0.515300   |  f1 =    0.366460\n",
      "\n",
      "\n",
      " ==================================== x2face CHECKPOINT =========================\n"
     ]
    },
    {
     "name": "stderr",
     "output_type": "stream",
     "text": [
      "100%|██████████| 5000/5000 [02:33<00:00, 32.60it/s] \n",
      "100%|██████████| 5000/5000 [02:17<00:00, 36.29it/s] \n",
      "/mnt/disk1/anaconda3/envs/phucnp/lib/python3.8/site-packages/sklearn/metrics/_classification.py:1318: UndefinedMetricWarning: Precision is ill-defined and being set to 0.0 in labels with no predicted samples. Use `zero_division` parameter to control this behavior.\n",
      "  _warn_prf(average, modifier, msg_start, len(result))\n"
     ]
    },
    {
     "name": "stdout",
     "output_type": "stream",
     "text": [
      "            pt file:  0.923_fold_0/model.pkl\n",
      "    FOLD: 0    -   \n",
      "            accuracy =   0.500000       |  0.500000\n",
      "            precision =  0.250000  |   recall =    0.500000   |  f1 =    0.333333\n"
     ]
    },
    {
     "name": "stderr",
     "output_type": "stream",
     "text": [
      "/mnt/disk1/anaconda3/envs/phucnp/lib/python3.8/site-packages/sklearn/metrics/_classification.py:1318: UndefinedMetricWarning: Precision is ill-defined and being set to 0.0 in labels with no predicted samples. Use `zero_division` parameter to control this behavior.\n",
      "  _warn_prf(average, modifier, msg_start, len(result))\n"
     ]
    },
    {
     "name": "stdout",
     "output_type": "stream",
     "text": [
      "            pt file:  0.9229_fold_1/model.pkl\n",
      "    FOLD: 1    -   \n",
      "            accuracy =   0.500000       |  0.500000\n",
      "            precision =  0.250000  |   recall =    0.500000   |  f1 =    0.333333\n"
     ]
    },
    {
     "name": "stderr",
     "output_type": "stream",
     "text": [
      "/mnt/disk1/anaconda3/envs/phucnp/lib/python3.8/site-packages/sklearn/metrics/_classification.py:1318: UndefinedMetricWarning: Precision is ill-defined and being set to 0.0 in labels with no predicted samples. Use `zero_division` parameter to control this behavior.\n",
      "  _warn_prf(average, modifier, msg_start, len(result))\n"
     ]
    },
    {
     "name": "stdout",
     "output_type": "stream",
     "text": [
      "            pt file:  0.9232_fold_2/model.pkl\n",
      "    FOLD: 2    -   \n",
      "            accuracy =   0.500000       |  0.500000\n",
      "            precision =  0.250000  |   recall =    0.500000   |  f1 =    0.333333\n"
     ]
    },
    {
     "name": "stderr",
     "output_type": "stream",
     "text": [
      "/mnt/disk1/anaconda3/envs/phucnp/lib/python3.8/site-packages/sklearn/metrics/_classification.py:1318: UndefinedMetricWarning: Precision is ill-defined and being set to 0.0 in labels with no predicted samples. Use `zero_division` parameter to control this behavior.\n",
      "  _warn_prf(average, modifier, msg_start, len(result))\n"
     ]
    },
    {
     "name": "stdout",
     "output_type": "stream",
     "text": [
      "            pt file:  0.9231_fold_3/model.pkl\n",
      "    FOLD: 3    -   \n",
      "            accuracy =   0.500000       |  0.500000\n",
      "            precision =  0.250000  |   recall =    0.500000   |  f1 =    0.333333\n",
      "            pt file:  0.9226_fold_4/model.pkl\n",
      "    FOLD: 4    -   \n",
      "            accuracy =   0.500000       |  0.500000\n",
      "            precision =  0.250000  |   recall =    0.500000   |  f1 =    0.333333\n"
     ]
    },
    {
     "name": "stderr",
     "output_type": "stream",
     "text": [
      "/mnt/disk1/anaconda3/envs/phucnp/lib/python3.8/site-packages/sklearn/metrics/_classification.py:1318: UndefinedMetricWarning: Precision is ill-defined and being set to 0.0 in labels with no predicted samples. Use `zero_division` parameter to control this behavior.\n",
      "  _warn_prf(average, modifier, msg_start, len(result))\n"
     ]
    }
   ],
   "source": [
    "import torch\n",
    "import random\n",
    "import numpy as np\n",
    "import os\n",
    "import torch.nn as nn\n",
    "from glob import glob\n",
    "from tqdm import tqdm\n",
    "from os.path import join\n",
    "import os.path as osp\n",
    "import pickle\n",
    "from sklearn.metrics import accuracy_score, precision_score, recall_score, f1_score\n",
    "from util import *\n",
    "\n",
    "def calculate_metric(y_label, y_pred_label):\n",
    "    mic_accuracy = accuracy_score(y_label, y_pred_label)\n",
    "    macro_precision = precision_score(y_label, y_pred_label, average='macro')\n",
    "    macro_recall = recall_score(y_label, y_pred_label, average='macro')\n",
    "    macro_f1 = f1_score(y_label, y_pred_label, average='macro')\n",
    "    return mic_accuracy, macro_precision, macro_recall, macro_f1\n",
    "\n",
    "def eval_spectrum(data, model_file):\n",
    "    pkl_file = open(data, 'rb')\n",
    "    data = pickle.load(pkl_file)\n",
    "    pkl_file.close()\n",
    "    X = data[\"data\"]\n",
    "    y = data[\"label\"]\n",
    "    with open(model_file, 'rb') as f:\n",
    "        svclassifier_r = pickle.load(f)\n",
    "    # print(\"Loaded.\")\n",
    "    SVM_score = svclassifier_r.score(X, y)\n",
    "    # print(\"accuracy by score function: \" + str(SVM_score))\n",
    "    ##### CALCULATE METRIC:\n",
    "    y_pred = svclassifier_r.predict(X)\n",
    "    acc, pre, rec, f1 = calculate_metric(y, y_pred)\n",
    "    # print(\"accuracy: \" + str(acc))\n",
    "    # print(\"precision: \" + str(pre))\n",
    "    # print(\"recall: \" + str(rec))\n",
    "    # print(\"f1 score: \" + str(f1))\n",
    "    return SVM_score, acc, pre, rec, f1\n",
    "\n",
    "def extract_test_features(test_dir: str, output_test: str, brightness: float, contrast: float, std=0, missing_value=0, quality=100, type_transform='noise'):\n",
    "    testset = get_test_path(test_dir=test_dir)\n",
    "    real_path, fake_path = split_real_fake(train_paths=testset)\n",
    "    extract_spectrum_features(real_path, fake_path, -1, output_test, brightness=brightness, contrast=contrast, std=std, miss_size=missing_value, quality=quality, type_transform=type_transform)\n",
    "    return output_test\n",
    "\n",
    "\n",
    "test_dir_template = \"/mnt/disk1/doan/phucnp/Dataset/my_extend_data/extend_data_train/{}/test\"\n",
    "\n",
    "checkpoints = {\n",
    "    \"deepfake\": \"/mnt/disk1/doan/phucnp/Graduation_Thesis/my_thesis/forensics/ml_technique/checkpoint/deepfake/spectrum/c_2.000000\",\n",
    "    \"faceswap_2d\": \"/mnt/disk1/doan/phucnp/Graduation_Thesis/my_thesis/forensics/ml_technique/checkpoint/faceswap_2d/spectrum/c_2.000000\",\n",
    "    \"3dmm\": \"/mnt/disk1/doan/phucnp/Graduation_Thesis/my_thesis/forensics/ml_technique/checkpoint/3dmm/spectrum/c_2.000000\",\n",
    "    \"faceswap_3d\": \"/mnt/disk1/doan/phucnp/Graduation_Thesis/my_thesis/forensics/ml_technique/checkpoint/faceswap_3d/spectrum/c_2.000000\",\n",
    "    \"monkey\": \"/mnt/disk1/doan/phucnp/Graduation_Thesis/my_thesis/forensics/ml_technique/checkpoint/monkey/spectrum/c_2.000000\",\n",
    "    \"reenact\": \"/mnt/disk1/doan/phucnp/Graduation_Thesis/my_thesis/forensics/ml_technique/checkpoint/reenact/spectrum/c_2.000000\",\n",
    "    \"stargan\": \"/mnt/disk1/doan/phucnp/Graduation_Thesis/my_thesis/forensics/ml_technique/checkpoint/stargan/spectrum/c_2.000000\",\n",
    "    \"x2face\": \"/mnt/disk1/doan/phucnp/Graduation_Thesis/my_thesis/forensics/ml_technique/checkpoint/x2face/spectrum/c_2.000000\"\n",
    "}\n",
    "\n",
    "brightness = 1.0\n",
    "contrast = 1.0\n",
    "std= 0\n",
    "missing_values = [0.0, 0.1, 0.2, 0.3, 0.4, 0.5]\n",
    "quality=100\n",
    "type_transform = 'missing_value'\n",
    "\n",
    "for missing_value in missing_values:\n",
    "    print(\"\\n*********************************************************\")\n",
    "    print(\"             missing_value: \", missing_value)\n",
    "    for technique in ['deepfake', '3dmm', 'faceswap_2d', 'faceswap_3d', 'monkey', 'reenact', 'stargan', 'x2face']:\n",
    "        checkpoint = checkpoints[technique]\n",
    "        print(\"\\n\\n ==================================== {} CHECKPOINT =========================\".format(technique))\n",
    "\n",
    "        my_break = False\n",
    "        # filename = '/contrast{}.pkl'.format(contrast)\n",
    "        # filename = '/noise{}.pkl'.format(std)\n",
    "        filename = '/missing{}.pkl'.format(missing_value)\n",
    "        # filename = '/compression{}.pkl'.format(quality)\n",
    "        output_test = '/mnt/disk1/doan/phucnp/Graduation_Thesis/my_thesis/forensics/ml_technique/spectrum/output_features/' + get_datasetname(test_dir_template.format(technique)) + filename\n",
    "        test_features = extract_test_features(test_dir=test_dir_template.format(technique), output_test=output_test, brightness = brightness, contrast=contrast, std=std, missing_value=missing_value, quality=quality, type_transform=type_transform)        \n",
    "        \n",
    "        for pkl_file in sorted(glob(join(checkpoint, '*/*.pkl')), key=lambda pkl: int(pkl.split('/')[-2][-1])):\n",
    "            if 'model' not in pkl_file:\n",
    "                continue\n",
    "                \n",
    "            fold_id = pkl_file.split('/')[-2][-1]\n",
    "            ####\n",
    "            SVM_score, acc, pre, rec, f1 = eval_spectrum(test_features, pkl_file)\n",
    "            print(\"            pt file: \", '/'.join(pkl_file.split('/')[-2:]))\n",
    "            print(\"    FOLD: {}    -   \".format(fold_id))\n",
    "            print(\"            accuracy =   {:.6f}       |  {:6f}\".format(SVM_score, acc))\n",
    "            print(\"            precision =  {:.6f}  |   recall =    {:.6f}   |  f1 =    {:.6f}\".format(pre, rec, f1))\n",
    "\n",
    "            # if brightness == 1.0:\n",
    "            #     from_acc = float(pkl_file.split('/')[-2].split('_')[0])\n",
    "            #     # if abs(round(loss, 4) - round(bestloss, 4)) > 0.001:\n",
    "            #     #     print(\"         Error in loss: {}, {}\".format(loss, bestloss))\n",
    "            #     #     my_break = True\n",
    "            #     if abs(round(from_acc, 4) - round(acc, 4)) > 0.001:\n",
    "            #         print(\"         Error in acc: {}, {}\".format(from_acc, acc))\n",
    "            #         my_break = True\n",
    "\n",
    "            #     if my_break:\n",
    "            #         break\n",
    "\n",
    "\n",
    "\n",
    "        if my_break:\n",
    "            break"
   ]
  }
 ],
 "metadata": {
  "kernelspec": {
   "display_name": "Python 3.8.13 ('phucnp')",
   "language": "python",
   "name": "python3"
  },
  "language_info": {
   "codemirror_mode": {
    "name": "ipython",
    "version": 3
   },
   "file_extension": ".py",
   "mimetype": "text/x-python",
   "name": "python",
   "nbconvert_exporter": "python",
   "pygments_lexer": "ipython3",
   "version": "3.8.13"
  },
  "orig_nbformat": 4,
  "vscode": {
   "interpreter": {
    "hash": "73e4523d5c5fcabc881bfbabdc03d28b885253c65d62f8f3eb31939c7679911f"
   }
  }
 },
 "nbformat": 4,
 "nbformat_minor": 2
}
