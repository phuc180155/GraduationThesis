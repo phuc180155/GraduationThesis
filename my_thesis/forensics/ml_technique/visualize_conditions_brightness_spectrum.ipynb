{
 "cells": [
  {
   "cell_type": "code",
   "execution_count": 1,
   "metadata": {},
   "outputs": [
    {
     "name": "stderr",
     "output_type": "stream",
     "text": [
      "/mnt/disk1/anaconda3/envs/phucnp/lib/python3.8/site-packages/tqdm/auto.py:22: TqdmWarning: IProgress not found. Please update jupyter and ipywidgets. See https://ipywidgets.readthedocs.io/en/stable/user_install.html\n",
      "  from .autonotebook import tqdm as notebook_tqdm\n"
     ]
    },
    {
     "name": "stdout",
     "output_type": "stream",
     "text": [
      "\n",
      "*********************************************************\n",
      "             brightness:  1.0\n",
      "\n",
      "\n",
      " ==================================== deepfake CHECKPOINT =========================\n"
     ]
    },
    {
     "name": "stderr",
     "output_type": "stream",
     "text": [
      "100%|██████████| 5000/5000 [00:23<00:00, 215.07it/s]\n",
      "100%|██████████| 5000/5000 [00:20<00:00, 243.77it/s]\n"
     ]
    },
    {
     "name": "stdout",
     "output_type": "stream",
     "text": [
      "            pt file:  0.9876_fold_0/model.pkl\n",
      "    FOLD: 0    -   \n",
      "            accuracy =   0.987600       |  0.987600\n",
      "            precision =  0.987711  |   recall =    0.987590   |  f1 =    0.987599\n",
      "            pt file:  0.9854_fold_1/model.pkl\n",
      "    FOLD: 1    -   \n",
      "            accuracy =   0.985400       |  0.985400\n",
      "            precision =  0.985555  |   recall =    0.985388   |  f1 =    0.985399\n",
      "            pt file:  0.9858_fold_2/model.pkl\n",
      "    FOLD: 2    -   \n",
      "            accuracy =   0.985800       |  0.985800\n",
      "            precision =  0.985942  |   recall =    0.985788   |  f1 =    0.985799\n",
      "            pt file:  0.988_fold_3/model.pkl\n",
      "    FOLD: 3    -   \n",
      "            accuracy =   0.988000       |  0.988000\n",
      "            precision =  0.988111  |   recall =    0.987990   |  f1 =    0.987999\n",
      "            pt file:  0.987_fold_4/model.pkl\n",
      "    FOLD: 4    -   \n",
      "            accuracy =   0.987000       |  0.987000\n",
      "            precision =  0.987105  |   recall =    0.986990   |  f1 =    0.986999\n",
      "\n",
      "\n",
      " ==================================== 3dmm CHECKPOINT =========================\n"
     ]
    },
    {
     "name": "stderr",
     "output_type": "stream",
     "text": [
      "100%|██████████| 5000/5000 [00:25<00:00, 195.62it/s]\n",
      "100%|██████████| 5000/5000 [00:16<00:00, 305.60it/s]\n"
     ]
    },
    {
     "name": "stdout",
     "output_type": "stream",
     "text": [
      "            pt file:  0.8929_fold_0/model.pkl\n",
      "    FOLD: 0    -   \n",
      "            accuracy =   0.892900       |  0.892900\n",
      "            precision =  0.892951  |   recall =    0.892900   |  f1 =    0.892897\n",
      "            pt file:  0.8934_fold_1/model.pkl\n",
      "    FOLD: 1    -   \n",
      "            accuracy =   0.893400       |  0.893400\n",
      "            precision =  0.893428  |   recall =    0.893400   |  f1 =    0.893398\n",
      "            pt file:  0.892_fold_2/model.pkl\n",
      "    FOLD: 2    -   \n",
      "            accuracy =   0.892000       |  0.892000\n",
      "            precision =  0.892020  |   recall =    0.892000   |  f1 =    0.891999\n",
      "            pt file:  0.8928_fold_3/model.pkl\n",
      "    FOLD: 3    -   \n",
      "            accuracy =   0.892800       |  0.892800\n",
      "            precision =  0.892809  |   recall =    0.892800   |  f1 =    0.892799\n",
      "            pt file:  0.8935_fold_4/model.pkl\n",
      "    FOLD: 4    -   \n",
      "            accuracy =   0.893500       |  0.893500\n",
      "            precision =  0.893544  |   recall =    0.893500   |  f1 =    0.893497\n",
      "\n",
      "\n",
      " ==================================== faceswap_2d CHECKPOINT =========================\n"
     ]
    },
    {
     "name": "stderr",
     "output_type": "stream",
     "text": [
      "100%|██████████| 5000/5000 [00:21<00:00, 237.26it/s]\n",
      "100%|██████████| 5000/5000 [03:24<00:00, 24.45it/s]\n"
     ]
    },
    {
     "name": "stdout",
     "output_type": "stream",
     "text": [
      "            pt file:  0.9949_fold_0/model.pkl\n",
      "    FOLD: 0    -   \n",
      "            accuracy =   0.994900       |  0.994900\n",
      "            precision =  0.994906  |   recall =    0.994900   |  f1 =    0.994900\n",
      "            pt file:  0.9947_fold_1/model.pkl\n",
      "    FOLD: 1    -   \n",
      "            accuracy =   0.994700       |  0.994700\n",
      "            precision =  0.994707  |   recall =    0.994700   |  f1 =    0.994700\n",
      "            pt file:  0.9949_fold_2/model.pkl\n",
      "    FOLD: 2    -   \n",
      "            accuracy =   0.994900       |  0.994900\n",
      "            precision =  0.994907  |   recall =    0.994900   |  f1 =    0.994900\n",
      "            pt file:  0.995_fold_3/model.pkl\n",
      "    FOLD: 3    -   \n",
      "            accuracy =   0.995000       |  0.995000\n",
      "            precision =  0.995004  |   recall =    0.995000   |  f1 =    0.995000\n",
      "            pt file:  0.9947_fold_4/model.pkl\n",
      "    FOLD: 4    -   \n",
      "            accuracy =   0.994700       |  0.994700\n",
      "            precision =  0.994709  |   recall =    0.994700   |  f1 =    0.994700\n",
      "\n",
      "\n",
      " ==================================== faceswap_3d CHECKPOINT =========================\n"
     ]
    },
    {
     "name": "stderr",
     "output_type": "stream",
     "text": [
      "100%|██████████| 5000/5000 [00:22<00:00, 223.13it/s]\n",
      "100%|██████████| 5000/5000 [03:07<00:00, 26.65it/s]\n"
     ]
    },
    {
     "name": "stdout",
     "output_type": "stream",
     "text": [
      "            pt file:  0.9988_fold_0/model.pkl\n",
      "    FOLD: 0    -   \n",
      "            accuracy =   0.998800       |  0.998800\n",
      "            precision =  0.998801  |   recall =    0.998800   |  f1 =    0.998800\n",
      "            pt file:  0.9988_fold_1/model.pkl\n",
      "    FOLD: 1    -   \n",
      "            accuracy =   0.998800       |  0.998800\n",
      "            precision =  0.998801  |   recall =    0.998800   |  f1 =    0.998800\n",
      "            pt file:  0.9987_fold_2/model.pkl\n",
      "    FOLD: 2    -   \n",
      "            accuracy =   0.998700       |  0.998700\n",
      "            precision =  0.998701  |   recall =    0.998700   |  f1 =    0.998700\n",
      "            pt file:  0.9986_fold_3/model.pkl\n",
      "    FOLD: 3    -   \n",
      "            accuracy =   0.998600       |  0.998600\n",
      "            precision =  0.998601  |   recall =    0.998600   |  f1 =    0.998600\n",
      "            pt file:  0.9987_fold_4/model.pkl\n",
      "    FOLD: 4    -   \n",
      "            accuracy =   0.998700       |  0.998700\n",
      "            precision =  0.998702  |   recall =    0.998700   |  f1 =    0.998700\n",
      "\n",
      "\n",
      " ==================================== monkey CHECKPOINT =========================\n"
     ]
    },
    {
     "name": "stderr",
     "output_type": "stream",
     "text": [
      "100%|██████████| 5000/5000 [00:21<00:00, 235.97it/s]\n",
      "100%|██████████| 5000/5000 [00:19<00:00, 252.88it/s]\n"
     ]
    },
    {
     "name": "stdout",
     "output_type": "stream",
     "text": [
      "            pt file:  0.9714_fold_0/model.pkl\n",
      "    FOLD: 0    -   \n",
      "            accuracy =   0.971400       |  0.971400\n",
      "            precision =  0.971729  |   recall =    0.971400   |  f1 =    0.971395\n",
      "            pt file:  0.9717_fold_1/model.pkl\n",
      "    FOLD: 1    -   \n",
      "            accuracy =   0.971700       |  0.971700\n",
      "            precision =  0.972054  |   recall =    0.971700   |  f1 =    0.971695\n",
      "            pt file:  0.9716_fold_2/model.pkl\n",
      "    FOLD: 2    -   \n",
      "            accuracy =   0.971600       |  0.971600\n",
      "            precision =  0.971970  |   recall =    0.971600   |  f1 =    0.971594\n",
      "            pt file:  0.972_fold_3/model.pkl\n",
      "    FOLD: 3    -   \n",
      "            accuracy =   0.972000       |  0.972000\n",
      "            precision =  0.972310  |   recall =    0.972000   |  f1 =    0.971995\n",
      "            pt file:  0.9723_fold_4/model.pkl\n",
      "    FOLD: 4    -   \n",
      "            accuracy =   0.972300       |  0.972300\n",
      "            precision =  0.972645  |   recall =    0.972300   |  f1 =    0.972295\n",
      "\n",
      "\n",
      " ==================================== reenact CHECKPOINT =========================\n"
     ]
    },
    {
     "name": "stderr",
     "output_type": "stream",
     "text": [
      "100%|██████████| 5000/5000 [00:21<00:00, 233.56it/s]\n",
      "100%|██████████| 4566/4566 [00:17<00:00, 263.93it/s]\n"
     ]
    },
    {
     "name": "stdout",
     "output_type": "stream",
     "text": [
      "            pt file:  0.9513_fold_0/model.pkl\n",
      "    FOLD: 0    -   \n",
      "            accuracy =   0.951300       |  0.951300\n",
      "            precision =  0.951744  |   recall =    0.950117   |  f1 =    0.950846\n",
      "            pt file:  0.9511_fold_1/model.pkl\n",
      "    FOLD: 1    -   \n",
      "            accuracy =   0.951100       |  0.951100\n",
      "            precision =  0.951605  |   recall =    0.949863   |  f1 =    0.950638\n",
      "            pt file:  0.9504_fold_2/model.pkl\n",
      "    FOLD: 2    -   \n",
      "            accuracy =   0.950400       |  0.950400\n",
      "            precision =  0.950951  |   recall =    0.949114   |  f1 =    0.949927\n",
      "            pt file:  0.9516_fold_3/model.pkl\n",
      "    FOLD: 3    -   \n",
      "            accuracy =   0.951600       |  0.951600\n",
      "            precision =  0.951914  |   recall =    0.950533   |  f1 =    0.951161\n",
      "            pt file:  0.9517_fold_4/model.pkl\n",
      "    FOLD: 4    -   \n",
      "            accuracy =   0.951700       |  0.951700\n",
      "            precision =  0.952170  |   recall =    0.950502   |  f1 =    0.951248\n",
      "\n",
      "\n",
      " ==================================== stargan CHECKPOINT =========================\n"
     ]
    },
    {
     "name": "stderr",
     "output_type": "stream",
     "text": [
      "100%|██████████| 5000/5000 [00:19<00:00, 253.81it/s]\n",
      "100%|██████████| 5000/5000 [00:31<00:00, 157.53it/s]\n"
     ]
    },
    {
     "name": "stdout",
     "output_type": "stream",
     "text": [
      "            pt file:  0.9092_fold_0/model.pkl\n",
      "    FOLD: 0    -   \n",
      "            accuracy =   0.909200       |  0.909200\n",
      "            precision =  0.912572  |   recall =    0.909200   |  f1 =    0.909014\n",
      "            pt file:  0.9106_fold_1/model.pkl\n",
      "    FOLD: 1    -   \n",
      "            accuracy =   0.910600       |  0.910600\n",
      "            precision =  0.914044  |   recall =    0.910600   |  f1 =    0.910414\n",
      "            pt file:  0.9088_fold_2/model.pkl\n",
      "    FOLD: 2    -   \n",
      "            accuracy =   0.908800       |  0.908800\n",
      "            precision =  0.912259  |   recall =    0.908800   |  f1 =    0.908608\n",
      "            pt file:  0.9118_fold_3/model.pkl\n",
      "    FOLD: 3    -   \n",
      "            accuracy =   0.911800       |  0.911800\n",
      "            precision =  0.915043  |   recall =    0.911800   |  f1 =    0.911627\n",
      "            pt file:  0.9097_fold_4/model.pkl\n",
      "    FOLD: 4    -   \n",
      "            accuracy =   0.909700       |  0.909700\n",
      "            precision =  0.913368  |   recall =    0.909700   |  f1 =    0.909499\n",
      "\n",
      "\n",
      " ==================================== x2face CHECKPOINT =========================\n"
     ]
    },
    {
     "name": "stderr",
     "output_type": "stream",
     "text": [
      "100%|██████████| 5000/5000 [00:21<00:00, 229.62it/s]\n",
      "100%|██████████| 5000/5000 [00:18<00:00, 265.20it/s]\n"
     ]
    },
    {
     "name": "stdout",
     "output_type": "stream",
     "text": [
      "            pt file:  0.923_fold_0/model.pkl\n",
      "    FOLD: 0    -   \n",
      "            accuracy =   0.923000       |  0.923000\n",
      "            precision =  0.923108  |   recall =    0.923000   |  f1 =    0.922995\n",
      "            pt file:  0.9229_fold_1/model.pkl\n",
      "    FOLD: 1    -   \n",
      "            accuracy =   0.922900       |  0.922900\n",
      "            precision =  0.923059  |   recall =    0.922900   |  f1 =    0.922893\n",
      "            pt file:  0.9232_fold_2/model.pkl\n",
      "    FOLD: 2    -   \n",
      "            accuracy =   0.923200       |  0.923200\n",
      "            precision =  0.923331  |   recall =    0.923200   |  f1 =    0.923194\n",
      "            pt file:  0.9231_fold_3/model.pkl\n",
      "    FOLD: 3    -   \n",
      "            accuracy =   0.923100       |  0.923100\n",
      "            precision =  0.923200  |   recall =    0.923100   |  f1 =    0.923095\n",
      "            pt file:  0.9226_fold_4/model.pkl\n",
      "    FOLD: 4    -   \n",
      "            accuracy =   0.922600       |  0.922600\n",
      "            precision =  0.922714  |   recall =    0.922600   |  f1 =    0.922595\n",
      "\n",
      "*********************************************************\n",
      "             brightness:  0.5\n",
      "\n",
      "\n",
      " ==================================== deepfake CHECKPOINT =========================\n"
     ]
    },
    {
     "name": "stderr",
     "output_type": "stream",
     "text": [
      "100%|██████████| 5000/5000 [00:21<00:00, 237.83it/s]\n",
      "100%|██████████| 5000/5000 [00:16<00:00, 311.51it/s]\n"
     ]
    },
    {
     "name": "stdout",
     "output_type": "stream",
     "text": [
      "            pt file:  0.9876_fold_0/model.pkl\n",
      "    FOLD: 0    -   \n",
      "            accuracy =   0.986700       |  0.986700\n",
      "            precision =  0.986778  |   recall =    0.986709   |  f1 =    0.986700\n",
      "            pt file:  0.9854_fold_1/model.pkl\n",
      "    FOLD: 1    -   \n",
      "            accuracy =   0.985300       |  0.985300\n",
      "            precision =  0.985378  |   recall =    0.985309   |  f1 =    0.985300\n",
      "            pt file:  0.9858_fold_2/model.pkl\n",
      "    FOLD: 2    -   \n",
      "            accuracy =   0.985200       |  0.985200\n",
      "            precision =  0.985281  |   recall =    0.985209   |  f1 =    0.985200\n",
      "            pt file:  0.988_fold_3/model.pkl\n",
      "    FOLD: 3    -   \n",
      "            accuracy =   0.986300       |  0.986300\n",
      "            precision =  0.986423  |   recall =    0.986312   |  f1 =    0.986299\n",
      "            pt file:  0.987_fold_4/model.pkl\n",
      "    FOLD: 4    -   \n",
      "            accuracy =   0.986000       |  0.986000\n",
      "            precision =  0.986102  |   recall =    0.986011   |  f1 =    0.985999\n",
      "\n",
      "\n",
      " ==================================== 3dmm CHECKPOINT =========================\n"
     ]
    },
    {
     "name": "stderr",
     "output_type": "stream",
     "text": [
      "100%|██████████| 5000/5000 [00:22<00:00, 223.59it/s]\n",
      "100%|██████████| 5000/5000 [00:16<00:00, 304.46it/s]\n"
     ]
    },
    {
     "name": "stdout",
     "output_type": "stream",
     "text": [
      "            pt file:  0.8929_fold_0/model.pkl\n",
      "    FOLD: 0    -   \n",
      "            accuracy =   0.874800       |  0.874800\n",
      "            precision =  0.874844  |   recall =    0.874800   |  f1 =    0.874796\n",
      "            pt file:  0.8934_fold_1/model.pkl\n",
      "    FOLD: 1    -   \n",
      "            accuracy =   0.874200       |  0.874200\n",
      "            precision =  0.874258  |   recall =    0.874200   |  f1 =    0.874195\n",
      "            pt file:  0.892_fold_2/model.pkl\n",
      "    FOLD: 2    -   \n",
      "            accuracy =   0.871000       |  0.871000\n",
      "            precision =  0.871207  |   recall =    0.871000   |  f1 =    0.870982\n",
      "            pt file:  0.8928_fold_3/model.pkl\n",
      "    FOLD: 3    -   \n",
      "            accuracy =   0.871900       |  0.871900\n",
      "            precision =  0.871984  |   recall =    0.871900   |  f1 =    0.871893\n",
      "            pt file:  0.8935_fold_4/model.pkl\n",
      "    FOLD: 4    -   \n",
      "            accuracy =   0.874100       |  0.874100\n",
      "            precision =  0.874278  |   recall =    0.874100   |  f1 =    0.874085\n",
      "\n",
      "\n",
      " ==================================== faceswap_2d CHECKPOINT =========================\n"
     ]
    },
    {
     "name": "stderr",
     "output_type": "stream",
     "text": [
      "100%|██████████| 5000/5000 [00:21<00:00, 230.01it/s]\n",
      "100%|██████████| 5000/5000 [03:39<00:00, 22.74it/s]\n"
     ]
    },
    {
     "name": "stdout",
     "output_type": "stream",
     "text": [
      "            pt file:  0.9949_fold_0/model.pkl\n",
      "    FOLD: 0    -   \n",
      "            accuracy =   0.985600       |  0.985600\n",
      "            precision =  0.985939  |   recall =    0.985600   |  f1 =    0.985597\n",
      "            pt file:  0.9947_fold_1/model.pkl\n",
      "    FOLD: 1    -   \n",
      "            accuracy =   0.986300       |  0.986300\n",
      "            precision =  0.986604  |   recall =    0.986300   |  f1 =    0.986298\n",
      "            pt file:  0.9949_fold_2/model.pkl\n",
      "    FOLD: 2    -   \n",
      "            accuracy =   0.986300       |  0.986300\n",
      "            precision =  0.986604  |   recall =    0.986300   |  f1 =    0.986298\n",
      "            pt file:  0.995_fold_3/model.pkl\n",
      "    FOLD: 3    -   \n",
      "            accuracy =   0.985700       |  0.985700\n",
      "            precision =  0.986034  |   recall =    0.985700   |  f1 =    0.985698\n",
      "            pt file:  0.9947_fold_4/model.pkl\n",
      "    FOLD: 4    -   \n",
      "            accuracy =   0.986000       |  0.986000\n",
      "            precision =  0.986319  |   recall =    0.986000   |  f1 =    0.985998\n",
      "\n",
      "\n",
      " ==================================== faceswap_3d CHECKPOINT =========================\n"
     ]
    },
    {
     "name": "stderr",
     "output_type": "stream",
     "text": [
      "100%|██████████| 5000/5000 [00:22<00:00, 219.62it/s]\n",
      "100%|██████████| 5000/5000 [03:57<00:00, 21.07it/s]\n"
     ]
    },
    {
     "name": "stdout",
     "output_type": "stream",
     "text": [
      "            pt file:  0.9988_fold_0/model.pkl\n",
      "    FOLD: 0    -   \n",
      "            accuracy =   0.996500       |  0.996500\n",
      "            precision =  0.996517  |   recall =    0.996500   |  f1 =    0.996500\n",
      "            pt file:  0.9988_fold_1/model.pkl\n",
      "    FOLD: 1    -   \n",
      "            accuracy =   0.996800       |  0.996800\n",
      "            precision =  0.996813  |   recall =    0.996800   |  f1 =    0.996800\n",
      "            pt file:  0.9987_fold_2/model.pkl\n",
      "    FOLD: 2    -   \n",
      "            accuracy =   0.997100       |  0.997100\n",
      "            precision =  0.997111  |   recall =    0.997100   |  f1 =    0.997100\n",
      "            pt file:  0.9986_fold_3/model.pkl\n",
      "    FOLD: 3    -   \n",
      "            accuracy =   0.996500       |  0.996500\n",
      "            precision =  0.996517  |   recall =    0.996500   |  f1 =    0.996500\n",
      "            pt file:  0.9987_fold_4/model.pkl\n",
      "    FOLD: 4    -   \n",
      "            accuracy =   0.997200       |  0.997200\n",
      "            precision =  0.997210  |   recall =    0.997200   |  f1 =    0.997200\n",
      "\n",
      "\n",
      " ==================================== monkey CHECKPOINT =========================\n"
     ]
    },
    {
     "name": "stderr",
     "output_type": "stream",
     "text": [
      "100%|██████████| 5000/5000 [00:24<00:00, 205.18it/s]\n",
      "100%|██████████| 5000/5000 [00:22<00:00, 221.24it/s]\n"
     ]
    },
    {
     "name": "stdout",
     "output_type": "stream",
     "text": [
      "            pt file:  0.9714_fold_0/model.pkl\n",
      "    FOLD: 0    -   \n",
      "            accuracy =   0.919300       |  0.919300\n",
      "            precision =  0.930401  |   recall =    0.919300   |  f1 =    0.918776\n",
      "            pt file:  0.9717_fold_1/model.pkl\n",
      "    FOLD: 1    -   \n",
      "            accuracy =   0.919800       |  0.919800\n",
      "            precision =  0.930716  |   recall =    0.919800   |  f1 =    0.919289\n",
      "            pt file:  0.9716_fold_2/model.pkl\n",
      "    FOLD: 2    -   \n",
      "            accuracy =   0.919600       |  0.919600\n",
      "            precision =  0.930567  |   recall =    0.919600   |  f1 =    0.919085\n",
      "            pt file:  0.972_fold_3/model.pkl\n",
      "    FOLD: 3    -   \n",
      "            accuracy =   0.919500       |  0.919500\n",
      "            precision =  0.930493  |   recall =    0.919500   |  f1 =    0.918983\n",
      "            pt file:  0.9723_fold_4/model.pkl\n",
      "    FOLD: 4    -   \n",
      "            accuracy =   0.919700       |  0.919700\n",
      "            precision =  0.930474  |   recall =    0.919700   |  f1 =    0.919194\n",
      "\n",
      "\n",
      " ==================================== reenact CHECKPOINT =========================\n"
     ]
    },
    {
     "name": "stderr",
     "output_type": "stream",
     "text": [
      "100%|██████████| 5000/5000 [00:25<00:00, 198.88it/s]\n",
      "100%|██████████| 4566/4566 [00:20<00:00, 220.81it/s]\n"
     ]
    },
    {
     "name": "stdout",
     "output_type": "stream",
     "text": [
      "            pt file:  0.9513_fold_0/model.pkl\n",
      "    FOLD: 0    -   \n",
      "            accuracy =   0.921600       |  0.921600\n",
      "            precision =  0.921013  |   recall =    0.924101   |  f1 =    0.921392\n",
      "            pt file:  0.9511_fold_1/model.pkl\n",
      "    FOLD: 1    -   \n",
      "            accuracy =   0.923400       |  0.923400\n",
      "            precision =  0.922680  |   recall =    0.925705   |  f1 =    0.923178\n",
      "            pt file:  0.9504_fold_2/model.pkl\n",
      "    FOLD: 2    -   \n",
      "            accuracy =   0.921900       |  0.921900\n",
      "            precision =  0.921250  |   recall =    0.924307   |  f1 =    0.921684\n",
      "            pt file:  0.9516_fold_3/model.pkl\n",
      "    FOLD: 3    -   \n",
      "            accuracy =   0.920900       |  0.920900\n",
      "            precision =  0.920543  |   recall =    0.923702   |  f1 =    0.920718\n",
      "            pt file:  0.9517_fold_4/model.pkl\n",
      "    FOLD: 4    -   \n",
      "            accuracy =   0.922900       |  0.922900\n",
      "            precision =  0.922407  |   recall =    0.925542   |  f1 =    0.922708\n",
      "\n",
      "\n",
      " ==================================== stargan CHECKPOINT =========================\n"
     ]
    },
    {
     "name": "stderr",
     "output_type": "stream",
     "text": [
      "100%|██████████| 5000/5000 [00:24<00:00, 202.33it/s]\n",
      "100%|██████████| 5000/5000 [00:37<00:00, 134.50it/s]\n"
     ]
    },
    {
     "name": "stdout",
     "output_type": "stream",
     "text": [
      "            pt file:  0.9092_fold_0/model.pkl\n",
      "    FOLD: 0    -   \n",
      "            accuracy =   0.844400       |  0.844400\n",
      "            precision =  0.880392  |   recall =    0.844400   |  f1 =    0.840630\n",
      "            pt file:  0.9106_fold_1/model.pkl\n",
      "    FOLD: 1    -   \n",
      "            accuracy =   0.842200       |  0.842200\n",
      "            precision =  0.877146  |   recall =    0.842200   |  f1 =    0.838458\n",
      "            pt file:  0.9088_fold_2/model.pkl\n",
      "    FOLD: 2    -   \n",
      "            accuracy =   0.839800       |  0.839800\n",
      "            precision =  0.872722  |   recall =    0.839800   |  f1 =    0.836183\n",
      "            pt file:  0.9118_fold_3/model.pkl\n",
      "    FOLD: 3    -   \n",
      "            accuracy =   0.844600       |  0.844600\n",
      "            precision =  0.875298  |   recall =    0.844600   |  f1 =    0.841356\n",
      "            pt file:  0.9097_fold_4/model.pkl\n",
      "    FOLD: 4    -   \n",
      "            accuracy =   0.836900       |  0.836900\n",
      "            precision =  0.871156  |   recall =    0.836900   |  f1 =    0.833048\n",
      "\n",
      "\n",
      " ==================================== x2face CHECKPOINT =========================\n"
     ]
    },
    {
     "name": "stderr",
     "output_type": "stream",
     "text": [
      "100%|██████████| 5000/5000 [00:23<00:00, 216.70it/s]\n",
      "100%|██████████| 5000/5000 [00:19<00:00, 259.87it/s]\n"
     ]
    },
    {
     "name": "stdout",
     "output_type": "stream",
     "text": [
      "            pt file:  0.923_fold_0/model.pkl\n",
      "    FOLD: 0    -   \n",
      "            accuracy =   0.876300       |  0.876300\n",
      "            precision =  0.891111  |   recall =    0.876300   |  f1 =    0.875118\n",
      "            pt file:  0.9229_fold_1/model.pkl\n",
      "    FOLD: 1    -   \n",
      "            accuracy =   0.879200       |  0.879200\n",
      "            precision =  0.892850  |   recall =    0.879200   |  f1 =    0.878142\n",
      "            pt file:  0.9232_fold_2/model.pkl\n",
      "    FOLD: 2    -   \n",
      "            accuracy =   0.875100       |  0.875100\n",
      "            precision =  0.889801  |   recall =    0.875100   |  f1 =    0.873911\n",
      "            pt file:  0.9231_fold_3/model.pkl\n",
      "    FOLD: 3    -   \n",
      "            accuracy =   0.874400       |  0.874400\n",
      "            precision =  0.889806  |   recall =    0.874400   |  f1 =    0.873147\n",
      "            pt file:  0.9226_fold_4/model.pkl\n",
      "    FOLD: 4    -   \n",
      "            accuracy =   0.875300       |  0.875300\n",
      "            precision =  0.890135  |   recall =    0.875300   |  f1 =    0.874103\n",
      "\n",
      "*********************************************************\n",
      "             brightness:  0.75\n",
      "\n",
      "\n",
      " ==================================== deepfake CHECKPOINT =========================\n"
     ]
    },
    {
     "name": "stderr",
     "output_type": "stream",
     "text": [
      "100%|██████████| 5000/5000 [00:19<00:00, 251.14it/s]\n",
      "100%|██████████| 5000/5000 [00:15<00:00, 316.51it/s]\n"
     ]
    },
    {
     "name": "stdout",
     "output_type": "stream",
     "text": [
      "            pt file:  0.9876_fold_0/model.pkl\n",
      "    FOLD: 0    -   \n",
      "            accuracy =   0.988200       |  0.988200\n",
      "            precision =  0.988217  |   recall =    0.988196   |  f1 =    0.988200\n",
      "            pt file:  0.9854_fold_1/model.pkl\n",
      "    FOLD: 1    -   \n",
      "            accuracy =   0.986800       |  0.986800\n",
      "            precision =  0.986833  |   recall =    0.986795   |  f1 =    0.986800\n",
      "            pt file:  0.9858_fold_2/model.pkl\n",
      "    FOLD: 2    -   \n",
      "            accuracy =   0.987600       |  0.987600\n",
      "            precision =  0.987624  |   recall =    0.987595   |  f1 =    0.987600\n",
      "            pt file:  0.988_fold_3/model.pkl\n",
      "    FOLD: 3    -   \n",
      "            accuracy =   0.989200       |  0.989200\n",
      "            precision =  0.989210  |   recall =    0.989197   |  f1 =    0.989200\n",
      "            pt file:  0.987_fold_4/model.pkl\n",
      "    FOLD: 4    -   \n",
      "            accuracy =   0.988900       |  0.988900\n",
      "            precision =  0.988913  |   recall =    0.988897   |  f1 =    0.988900\n",
      "\n",
      "\n",
      " ==================================== 3dmm CHECKPOINT =========================\n"
     ]
    },
    {
     "name": "stderr",
     "output_type": "stream",
     "text": [
      "100%|██████████| 5000/5000 [00:23<00:00, 211.09it/s]\n",
      "100%|██████████| 5000/5000 [00:17<00:00, 288.29it/s]\n"
     ]
    },
    {
     "name": "stdout",
     "output_type": "stream",
     "text": [
      "            pt file:  0.8929_fold_0/model.pkl\n",
      "    FOLD: 0    -   \n",
      "            accuracy =   0.888500       |  0.888500\n",
      "            precision =  0.888517  |   recall =    0.888500   |  f1 =    0.888499\n",
      "            pt file:  0.8934_fold_1/model.pkl\n",
      "    FOLD: 1    -   \n",
      "            accuracy =   0.888500       |  0.888500\n",
      "            precision =  0.888513  |   recall =    0.888500   |  f1 =    0.888499\n",
      "            pt file:  0.892_fold_2/model.pkl\n",
      "    FOLD: 2    -   \n",
      "            accuracy =   0.887000       |  0.887000\n",
      "            precision =  0.887014  |   recall =    0.887000   |  f1 =    0.886999\n",
      "            pt file:  0.8928_fold_3/model.pkl\n",
      "    FOLD: 3    -   \n",
      "            accuracy =   0.887400       |  0.887400\n",
      "            precision =  0.887408  |   recall =    0.887400   |  f1 =    0.887399\n",
      "            pt file:  0.8935_fold_4/model.pkl\n",
      "    FOLD: 4    -   \n",
      "            accuracy =   0.889200       |  0.889200\n",
      "            precision =  0.889201  |   recall =    0.889200   |  f1 =    0.889200\n",
      "\n",
      "\n",
      " ==================================== faceswap_2d CHECKPOINT =========================\n"
     ]
    },
    {
     "name": "stderr",
     "output_type": "stream",
     "text": [
      "100%|██████████| 5000/5000 [00:18<00:00, 273.23it/s]\n",
      "100%|██████████| 5000/5000 [03:16<00:00, 25.42it/s]\n"
     ]
    },
    {
     "name": "stdout",
     "output_type": "stream",
     "text": [
      "            pt file:  0.9949_fold_0/model.pkl\n",
      "    FOLD: 0    -   \n",
      "            accuracy =   0.994500       |  0.994500\n",
      "            precision =  0.994512  |   recall =    0.994500   |  f1 =    0.994500\n",
      "            pt file:  0.9947_fold_1/model.pkl\n",
      "    FOLD: 1    -   \n",
      "            accuracy =   0.994100       |  0.994100\n",
      "            precision =  0.994117  |   recall =    0.994100   |  f1 =    0.994100\n",
      "            pt file:  0.9949_fold_2/model.pkl\n",
      "    FOLD: 2    -   \n",
      "            accuracy =   0.994200       |  0.994200\n",
      "            precision =  0.994213  |   recall =    0.994200   |  f1 =    0.994200\n",
      "            pt file:  0.995_fold_3/model.pkl\n",
      "    FOLD: 3    -   \n",
      "            accuracy =   0.994200       |  0.994200\n",
      "            precision =  0.994215  |   recall =    0.994200   |  f1 =    0.994200\n",
      "            pt file:  0.9947_fold_4/model.pkl\n",
      "    FOLD: 4    -   \n",
      "            accuracy =   0.994400       |  0.994400\n",
      "            precision =  0.994410  |   recall =    0.994400   |  f1 =    0.994400\n",
      "\n",
      "\n",
      " ==================================== faceswap_3d CHECKPOINT =========================\n"
     ]
    },
    {
     "name": "stderr",
     "output_type": "stream",
     "text": [
      "100%|██████████| 5000/5000 [00:19<00:00, 262.80it/s]\n",
      "100%|██████████| 5000/5000 [03:13<00:00, 25.79it/s]\n"
     ]
    },
    {
     "name": "stdout",
     "output_type": "stream",
     "text": [
      "            pt file:  0.9988_fold_0/model.pkl\n",
      "    FOLD: 0    -   \n",
      "            accuracy =   0.998200       |  0.998200\n",
      "            precision =  0.998200  |   recall =    0.998200   |  f1 =    0.998200\n",
      "            pt file:  0.9988_fold_1/model.pkl\n",
      "    FOLD: 1    -   \n",
      "            accuracy =   0.998400       |  0.998400\n",
      "            precision =  0.998400  |   recall =    0.998400   |  f1 =    0.998400\n",
      "            pt file:  0.9987_fold_2/model.pkl\n",
      "    FOLD: 2    -   \n",
      "            accuracy =   0.998500       |  0.998500\n",
      "            precision =  0.998500  |   recall =    0.998500   |  f1 =    0.998500\n",
      "            pt file:  0.9986_fold_3/model.pkl\n",
      "    FOLD: 3    -   \n",
      "            accuracy =   0.998200       |  0.998200\n",
      "            precision =  0.998200  |   recall =    0.998200   |  f1 =    0.998200\n",
      "            pt file:  0.9987_fold_4/model.pkl\n",
      "    FOLD: 4    -   \n",
      "            accuracy =   0.998300       |  0.998300\n",
      "            precision =  0.998300  |   recall =    0.998300   |  f1 =    0.998300\n",
      "\n",
      "\n",
      " ==================================== monkey CHECKPOINT =========================\n"
     ]
    },
    {
     "name": "stderr",
     "output_type": "stream",
     "text": [
      "100%|██████████| 5000/5000 [00:20<00:00, 242.40it/s]\n",
      "100%|██████████| 5000/5000 [00:18<00:00, 266.07it/s]\n"
     ]
    },
    {
     "name": "stdout",
     "output_type": "stream",
     "text": [
      "            pt file:  0.9714_fold_0/model.pkl\n",
      "    FOLD: 0    -   \n",
      "            accuracy =   0.962200       |  0.962200\n",
      "            precision =  0.964373  |   recall =    0.962200   |  f1 =    0.962156\n",
      "            pt file:  0.9717_fold_1/model.pkl\n",
      "    FOLD: 1    -   \n",
      "            accuracy =   0.962600       |  0.962600\n",
      "            precision =  0.964724  |   recall =    0.962600   |  f1 =    0.962557\n",
      "            pt file:  0.9716_fold_2/model.pkl\n",
      "    FOLD: 2    -   \n",
      "            accuracy =   0.962300       |  0.962300\n",
      "            precision =  0.964537  |   recall =    0.962300   |  f1 =    0.962255\n",
      "            pt file:  0.972_fold_3/model.pkl\n",
      "    FOLD: 3    -   \n",
      "            accuracy =   0.962300       |  0.962300\n",
      "            precision =  0.964435  |   recall =    0.962300   |  f1 =    0.962257\n",
      "            pt file:  0.9723_fold_4/model.pkl\n",
      "    FOLD: 4    -   \n",
      "            accuracy =   0.961800       |  0.961800\n",
      "            precision =  0.964022  |   recall =    0.961800   |  f1 =    0.961754\n",
      "\n",
      "\n",
      " ==================================== reenact CHECKPOINT =========================\n"
     ]
    },
    {
     "name": "stderr",
     "output_type": "stream",
     "text": [
      "100%|██████████| 5000/5000 [00:22<00:00, 225.40it/s]\n",
      "100%|██████████| 4566/4566 [00:17<00:00, 258.04it/s]\n"
     ]
    },
    {
     "name": "stdout",
     "output_type": "stream",
     "text": [
      "            pt file:  0.9513_fold_0/model.pkl\n",
      "    FOLD: 0    -   \n",
      "            accuracy =   0.943700       |  0.943700\n",
      "            precision =  0.942739  |   recall =    0.944261   |  f1 =    0.943377\n",
      "            pt file:  0.9511_fold_1/model.pkl\n",
      "    FOLD: 1    -   \n",
      "            accuracy =   0.944900       |  0.944900\n",
      "            precision =  0.943973  |   recall =    0.945383   |  f1 =    0.944576\n",
      "            pt file:  0.9504_fold_2/model.pkl\n",
      "    FOLD: 2    -   \n",
      "            accuracy =   0.944900       |  0.944900\n",
      "            precision =  0.943979  |   recall =    0.945365   |  f1 =    0.944574\n",
      "            pt file:  0.9516_fold_3/model.pkl\n",
      "    FOLD: 3    -   \n",
      "            accuracy =   0.944500       |  0.944500\n",
      "            precision =  0.943503  |   recall =    0.945207   |  f1 =    0.944195\n",
      "            pt file:  0.9517_fold_4/model.pkl\n",
      "    FOLD: 4    -   \n",
      "            accuracy =   0.944100       |  0.944100\n",
      "            precision =  0.943130  |   recall =    0.944699   |  f1 =    0.943783\n",
      "\n",
      "\n",
      " ==================================== stargan CHECKPOINT =========================\n"
     ]
    },
    {
     "name": "stderr",
     "output_type": "stream",
     "text": [
      "100%|██████████| 5000/5000 [00:22<00:00, 219.62it/s]\n",
      "100%|██████████| 5000/5000 [00:36<00:00, 135.58it/s]\n"
     ]
    },
    {
     "name": "stdout",
     "output_type": "stream",
     "text": [
      "            pt file:  0.9092_fold_0/model.pkl\n",
      "    FOLD: 0    -   \n",
      "            accuracy =   0.897800       |  0.897800\n",
      "            precision =  0.911366  |   recall =    0.897800   |  f1 =    0.896950\n",
      "            pt file:  0.9106_fold_1/model.pkl\n",
      "    FOLD: 1    -   \n",
      "            accuracy =   0.897700       |  0.897700\n",
      "            precision =  0.910383  |   recall =    0.897700   |  f1 =    0.896903\n",
      "            pt file:  0.9088_fold_2/model.pkl\n",
      "    FOLD: 2    -   \n",
      "            accuracy =   0.897200       |  0.897200\n",
      "            precision =  0.910076  |   recall =    0.897200   |  f1 =    0.896387\n",
      "            pt file:  0.9118_fold_3/model.pkl\n",
      "    FOLD: 3    -   \n",
      "            accuracy =   0.898500       |  0.898500\n",
      "            precision =  0.910159  |   recall =    0.898500   |  f1 =    0.897774\n",
      "            pt file:  0.9097_fold_4/model.pkl\n",
      "    FOLD: 4    -   \n",
      "            accuracy =   0.895400       |  0.895400\n",
      "            precision =  0.909008  |   recall =    0.895400   |  f1 =    0.894523\n",
      "\n",
      "\n",
      " ==================================== x2face CHECKPOINT =========================\n"
     ]
    },
    {
     "name": "stderr",
     "output_type": "stream",
     "text": [
      "100%|██████████| 5000/5000 [00:20<00:00, 246.75it/s]\n",
      "100%|██████████| 5000/5000 [00:18<00:00, 275.33it/s]\n"
     ]
    },
    {
     "name": "stdout",
     "output_type": "stream",
     "text": [
      "            pt file:  0.923_fold_0/model.pkl\n",
      "    FOLD: 0    -   \n",
      "            accuracy =   0.912900       |  0.912900\n",
      "            precision =  0.914342  |   recall =    0.912900   |  f1 =    0.912824\n",
      "            pt file:  0.9229_fold_1/model.pkl\n",
      "    FOLD: 1    -   \n",
      "            accuracy =   0.913700       |  0.913700\n",
      "            precision =  0.914955  |   recall =    0.913700   |  f1 =    0.913635\n",
      "            pt file:  0.9232_fold_2/model.pkl\n",
      "    FOLD: 2    -   \n",
      "            accuracy =   0.912000       |  0.912000\n",
      "            precision =  0.913429  |   recall =    0.912000   |  f1 =    0.911924\n",
      "            pt file:  0.9231_fold_3/model.pkl\n",
      "    FOLD: 3    -   \n",
      "            accuracy =   0.912700       |  0.912700\n",
      "            precision =  0.914142  |   recall =    0.912700   |  f1 =    0.912624\n",
      "            pt file:  0.9226_fold_4/model.pkl\n",
      "    FOLD: 4    -   \n",
      "            accuracy =   0.912800       |  0.912800\n",
      "            precision =  0.914311  |   recall =    0.912800   |  f1 =    0.912720\n",
      "\n",
      "*********************************************************\n",
      "             brightness:  1.5\n",
      "\n",
      "\n",
      " ==================================== deepfake CHECKPOINT =========================\n"
     ]
    },
    {
     "name": "stderr",
     "output_type": "stream",
     "text": [
      "100%|██████████| 5000/5000 [00:29<00:00, 166.69it/s]\n",
      "100%|██████████| 5000/5000 [00:23<00:00, 216.91it/s]\n"
     ]
    },
    {
     "name": "stdout",
     "output_type": "stream",
     "text": [
      "            pt file:  0.9876_fold_0/model.pkl\n",
      "    FOLD: 0    -   \n",
      "            accuracy =   0.977000       |  0.977000\n",
      "            precision =  0.977853  |   recall =    0.976971   |  f1 =    0.976989\n",
      "            pt file:  0.9854_fold_1/model.pkl\n",
      "    FOLD: 1    -   \n",
      "            accuracy =   0.974200       |  0.974200\n",
      "            precision =  0.975217  |   recall =    0.974168   |  f1 =    0.974185\n",
      "            pt file:  0.9858_fold_2/model.pkl\n",
      "    FOLD: 2    -   \n",
      "            accuracy =   0.975000       |  0.975000\n",
      "            precision =  0.975915  |   recall =    0.974970   |  f1 =    0.974987\n",
      "            pt file:  0.988_fold_3/model.pkl\n",
      "    FOLD: 3    -   \n",
      "            accuracy =   0.977000       |  0.977000\n",
      "            precision =  0.977790  |   recall =    0.976972   |  f1 =    0.976989\n",
      "            pt file:  0.987_fold_4/model.pkl\n",
      "    FOLD: 4    -   \n",
      "            accuracy =   0.976600       |  0.976600\n",
      "            precision =  0.977374  |   recall =    0.976572   |  f1 =    0.976589\n",
      "\n",
      "\n",
      " ==================================== 3dmm CHECKPOINT =========================\n"
     ]
    },
    {
     "name": "stderr",
     "output_type": "stream",
     "text": [
      "100%|██████████| 5000/5000 [00:20<00:00, 241.79it/s]\n",
      "100%|██████████| 5000/5000 [00:17<00:00, 291.13it/s]\n"
     ]
    },
    {
     "name": "stdout",
     "output_type": "stream",
     "text": [
      "            pt file:  0.8929_fold_0/model.pkl\n",
      "    FOLD: 0    -   \n",
      "            accuracy =   0.871300       |  0.871300\n",
      "            precision =  0.872208  |   recall =    0.871300   |  f1 =    0.871221\n",
      "            pt file:  0.8934_fold_1/model.pkl\n",
      "    FOLD: 1    -   \n",
      "            accuracy =   0.871000       |  0.871000\n",
      "            precision =  0.871975  |   recall =    0.871000   |  f1 =    0.870915\n",
      "            pt file:  0.892_fold_2/model.pkl\n",
      "    FOLD: 2    -   \n",
      "            accuracy =   0.867200       |  0.867200\n",
      "            precision =  0.868165  |   recall =    0.867200   |  f1 =    0.867113\n",
      "            pt file:  0.8928_fold_3/model.pkl\n",
      "    FOLD: 3    -   \n",
      "            accuracy =   0.871000       |  0.871000\n",
      "            precision =  0.871814  |   recall =    0.871000   |  f1 =    0.870929\n",
      "            pt file:  0.8935_fold_4/model.pkl\n",
      "    FOLD: 4    -   \n",
      "            accuracy =   0.870300       |  0.870300\n",
      "            precision =  0.871312  |   recall =    0.870300   |  f1 =    0.870212\n",
      "\n",
      "\n",
      " ==================================== faceswap_2d CHECKPOINT =========================\n"
     ]
    },
    {
     "name": "stderr",
     "output_type": "stream",
     "text": [
      "100%|██████████| 5000/5000 [00:19<00:00, 253.16it/s]\n",
      "100%|██████████| 5000/5000 [03:08<00:00, 26.51it/s]\n"
     ]
    },
    {
     "name": "stdout",
     "output_type": "stream",
     "text": [
      "            pt file:  0.9949_fold_0/model.pkl\n",
      "    FOLD: 0    -   \n",
      "            accuracy =   0.992000       |  0.992000\n",
      "            precision =  0.992096  |   recall =    0.992000   |  f1 =    0.992000\n",
      "            pt file:  0.9947_fold_1/model.pkl\n",
      "    FOLD: 1    -   \n",
      "            accuracy =   0.992500       |  0.992500\n",
      "            precision =  0.992578  |   recall =    0.992500   |  f1 =    0.992500\n",
      "            pt file:  0.9949_fold_2/model.pkl\n",
      "    FOLD: 2    -   \n",
      "            accuracy =   0.991700       |  0.991700\n",
      "            precision =  0.991805  |   recall =    0.991700   |  f1 =    0.991700\n",
      "            pt file:  0.995_fold_3/model.pkl\n",
      "    FOLD: 3    -   \n",
      "            accuracy =   0.992500       |  0.992500\n",
      "            precision =  0.992578  |   recall =    0.992500   |  f1 =    0.992500\n",
      "            pt file:  0.9947_fold_4/model.pkl\n",
      "    FOLD: 4    -   \n",
      "            accuracy =   0.991900       |  0.991900\n",
      "            precision =  0.991999  |   recall =    0.991900   |  f1 =    0.991900\n",
      "\n",
      "\n",
      " ==================================== faceswap_3d CHECKPOINT =========================\n"
     ]
    },
    {
     "name": "stderr",
     "output_type": "stream",
     "text": [
      "100%|██████████| 5000/5000 [00:20<00:00, 244.35it/s]\n",
      "100%|██████████| 5000/5000 [03:38<00:00, 22.93it/s]\n"
     ]
    },
    {
     "name": "stdout",
     "output_type": "stream",
     "text": [
      "            pt file:  0.9988_fold_0/model.pkl\n",
      "    FOLD: 0    -   \n",
      "            accuracy =   0.994100       |  0.994100\n",
      "            precision =  0.994164  |   recall =    0.994100   |  f1 =    0.994100\n",
      "            pt file:  0.9988_fold_1/model.pkl\n",
      "    FOLD: 1    -   \n",
      "            accuracy =   0.994100       |  0.994100\n",
      "            precision =  0.994164  |   recall =    0.994100   |  f1 =    0.994100\n",
      "            pt file:  0.9987_fold_2/model.pkl\n",
      "    FOLD: 2    -   \n",
      "            accuracy =   0.993800       |  0.993800\n",
      "            precision =  0.993871  |   recall =    0.993800   |  f1 =    0.993800\n",
      "            pt file:  0.9986_fold_3/model.pkl\n",
      "    FOLD: 3    -   \n",
      "            accuracy =   0.994700       |  0.994700\n",
      "            precision =  0.994751  |   recall =    0.994700   |  f1 =    0.994700\n",
      "            pt file:  0.9987_fold_4/model.pkl\n",
      "    FOLD: 4    -   \n",
      "            accuracy =   0.993500       |  0.993500\n",
      "            precision =  0.993578  |   recall =    0.993500   |  f1 =    0.993500\n",
      "\n",
      "\n",
      " ==================================== monkey CHECKPOINT =========================\n"
     ]
    },
    {
     "name": "stderr",
     "output_type": "stream",
     "text": [
      "100%|██████████| 5000/5000 [00:21<00:00, 229.74it/s]\n",
      "100%|██████████| 5000/5000 [00:19<00:00, 250.19it/s]\n"
     ]
    },
    {
     "name": "stdout",
     "output_type": "stream",
     "text": [
      "            pt file:  0.9714_fold_0/model.pkl\n",
      "    FOLD: 0    -   \n",
      "            accuracy =   0.924600       |  0.924600\n",
      "            precision =  0.930678  |   recall =    0.924600   |  f1 =    0.924333\n",
      "            pt file:  0.9717_fold_1/model.pkl\n",
      "    FOLD: 1    -   \n",
      "            accuracy =   0.925800       |  0.925800\n",
      "            precision =  0.931771  |   recall =    0.925800   |  f1 =    0.925543\n",
      "            pt file:  0.9716_fold_2/model.pkl\n",
      "    FOLD: 2    -   \n",
      "            accuracy =   0.925500       |  0.925500\n",
      "            precision =  0.931406  |   recall =    0.925500   |  f1 =    0.925244\n",
      "            pt file:  0.972_fold_3/model.pkl\n",
      "    FOLD: 3    -   \n",
      "            accuracy =   0.923800       |  0.923800\n",
      "            precision =  0.930161  |   recall =    0.923800   |  f1 =    0.923517\n",
      "            pt file:  0.9723_fold_4/model.pkl\n",
      "    FOLD: 4    -   \n",
      "            accuracy =   0.928900       |  0.928900\n",
      "            precision =  0.934057  |   recall =    0.928900   |  f1 =    0.928688\n",
      "\n",
      "\n",
      " ==================================== reenact CHECKPOINT =========================\n"
     ]
    },
    {
     "name": "stderr",
     "output_type": "stream",
     "text": [
      "100%|██████████| 5000/5000 [00:21<00:00, 235.22it/s]\n",
      "100%|██████████| 4566/4566 [00:17<00:00, 268.51it/s]\n"
     ]
    },
    {
     "name": "stdout",
     "output_type": "stream",
     "text": [
      "            pt file:  0.9513_fold_0/model.pkl\n",
      "    FOLD: 0    -   \n",
      "            accuracy =   0.902100       |  0.902100\n",
      "            precision =  0.914809  |   recall =    0.894876   |  f1 =    0.899498\n",
      "            pt file:  0.9511_fold_1/model.pkl\n",
      "    FOLD: 1    -   \n",
      "            accuracy =   0.901200       |  0.901200\n",
      "            precision =  0.914471  |   recall =    0.893803   |  f1 =    0.898510\n",
      "            pt file:  0.9504_fold_2/model.pkl\n",
      "    FOLD: 2    -   \n",
      "            accuracy =   0.903100       |  0.903100\n",
      "            precision =  0.915867  |   recall =    0.895884   |  f1 =    0.900525\n",
      "            pt file:  0.9516_fold_3/model.pkl\n",
      "    FOLD: 3    -   \n",
      "            accuracy =   0.902500       |  0.902500\n",
      "            precision =  0.915232  |   recall =    0.895279   |  f1 =    0.899909\n",
      "            pt file:  0.9517_fold_4/model.pkl\n",
      "    FOLD: 4    -   \n",
      "            accuracy =   0.904000       |  0.904000\n",
      "            precision =  0.916340  |   recall =    0.896922   |  f1 =    0.901497\n",
      "\n",
      "\n",
      " ==================================== stargan CHECKPOINT =========================\n"
     ]
    },
    {
     "name": "stderr",
     "output_type": "stream",
     "text": [
      "100%|██████████| 5000/5000 [00:21<00:00, 237.49it/s]\n",
      "100%|██████████| 5000/5000 [00:37<00:00, 134.50it/s]\n"
     ]
    },
    {
     "name": "stdout",
     "output_type": "stream",
     "text": [
      "            pt file:  0.9092_fold_0/model.pkl\n",
      "    FOLD: 0    -   \n",
      "            accuracy =   0.829400       |  0.829400\n",
      "            precision =  0.848898  |   recall =    0.829400   |  f1 =    0.826983\n",
      "            pt file:  0.9106_fold_1/model.pkl\n",
      "    FOLD: 1    -   \n",
      "            accuracy =   0.831000       |  0.831000\n",
      "            precision =  0.851017  |   recall =    0.831000   |  f1 =    0.828556\n",
      "            pt file:  0.9088_fold_2/model.pkl\n",
      "    FOLD: 2    -   \n",
      "            accuracy =   0.824800       |  0.824800\n",
      "            precision =  0.846159  |   recall =    0.824800   |  f1 =    0.822055\n",
      "            pt file:  0.9118_fold_3/model.pkl\n",
      "    FOLD: 3    -   \n",
      "            accuracy =   0.829500       |  0.829500\n",
      "            precision =  0.849250  |   recall =    0.829500   |  f1 =    0.827055\n",
      "            pt file:  0.9097_fold_4/model.pkl\n",
      "    FOLD: 4    -   \n",
      "            accuracy =   0.829900       |  0.829900\n",
      "            precision =  0.849323  |   recall =    0.829900   |  f1 =    0.827502\n",
      "\n",
      "\n",
      " ==================================== x2face CHECKPOINT =========================\n"
     ]
    },
    {
     "name": "stderr",
     "output_type": "stream",
     "text": [
      "100%|██████████| 5000/5000 [00:21<00:00, 233.11it/s]\n",
      "100%|██████████| 5000/5000 [00:19<00:00, 257.36it/s]\n"
     ]
    },
    {
     "name": "stdout",
     "output_type": "stream",
     "text": [
      "            pt file:  0.923_fold_0/model.pkl\n",
      "    FOLD: 0    -   \n",
      "            accuracy =   0.915700       |  0.915700\n",
      "            precision =  0.919848  |   recall =    0.915700   |  f1 =    0.915491\n",
      "            pt file:  0.9229_fold_1/model.pkl\n",
      "    FOLD: 1    -   \n",
      "            accuracy =   0.915700       |  0.915700\n",
      "            precision =  0.919882  |   recall =    0.915700   |  f1 =    0.915490\n",
      "            pt file:  0.9232_fold_2/model.pkl\n",
      "    FOLD: 2    -   \n",
      "            accuracy =   0.916600       |  0.916600\n",
      "            precision =  0.920673  |   recall =    0.916600   |  f1 =    0.916398\n",
      "            pt file:  0.9231_fold_3/model.pkl\n",
      "    FOLD: 3    -   \n",
      "            accuracy =   0.915800       |  0.915800\n",
      "            precision =  0.920000  |   recall =    0.915800   |  f1 =    0.915589\n",
      "            pt file:  0.9226_fold_4/model.pkl\n",
      "    FOLD: 4    -   \n",
      "            accuracy =   0.918000       |  0.918000\n",
      "            precision =  0.921791  |   recall =    0.918000   |  f1 =    0.917815\n",
      "\n",
      "*********************************************************\n",
      "             brightness:  2.0\n",
      "\n",
      "\n",
      " ==================================== deepfake CHECKPOINT =========================\n"
     ]
    },
    {
     "name": "stderr",
     "output_type": "stream",
     "text": [
      "100%|██████████| 5000/5000 [00:24<00:00, 203.41it/s]\n",
      "100%|██████████| 5000/5000 [00:18<00:00, 265.94it/s]\n"
     ]
    },
    {
     "name": "stdout",
     "output_type": "stream",
     "text": [
      "            pt file:  0.9876_fold_0/model.pkl\n",
      "    FOLD: 0    -   \n",
      "            accuracy =   0.965000       |  0.965000\n",
      "            precision =  0.966694  |   recall =    0.964958   |  f1 =    0.964966\n",
      "            pt file:  0.9854_fold_1/model.pkl\n",
      "    FOLD: 1    -   \n",
      "            accuracy =   0.963100       |  0.963100\n",
      "            precision =  0.965007  |   recall =    0.963056   |  f1 =    0.963060\n",
      "            pt file:  0.9858_fold_2/model.pkl\n",
      "    FOLD: 2    -   \n",
      "            accuracy =   0.962900       |  0.962900\n",
      "            precision =  0.964783  |   recall =    0.962856   |  f1 =    0.962860\n",
      "            pt file:  0.988_fold_3/model.pkl\n",
      "    FOLD: 3    -   \n",
      "            accuracy =   0.965500       |  0.965500\n",
      "            precision =  0.967052  |   recall =    0.965460   |  f1 =    0.965469\n",
      "            pt file:  0.987_fold_4/model.pkl\n",
      "    FOLD: 4    -   \n",
      "            accuracy =   0.965500       |  0.965500\n",
      "            precision =  0.967030  |   recall =    0.965460   |  f1 =    0.965470\n",
      "\n",
      "\n",
      " ==================================== 3dmm CHECKPOINT =========================\n"
     ]
    },
    {
     "name": "stderr",
     "output_type": "stream",
     "text": [
      "100%|██████████| 5000/5000 [00:23<00:00, 213.29it/s]\n",
      "100%|██████████| 5000/5000 [00:17<00:00, 288.89it/s]\n"
     ]
    },
    {
     "name": "stdout",
     "output_type": "stream",
     "text": [
      "            pt file:  0.8929_fold_0/model.pkl\n",
      "    FOLD: 0    -   \n",
      "            accuracy =   0.826900       |  0.826900\n",
      "            precision =  0.831189  |   recall =    0.826900   |  f1 =    0.826338\n",
      "            pt file:  0.8934_fold_1/model.pkl\n",
      "    FOLD: 1    -   \n",
      "            accuracy =   0.824300       |  0.824300\n",
      "            precision =  0.829249  |   recall =    0.824300   |  f1 =    0.823637\n",
      "            pt file:  0.892_fold_2/model.pkl\n",
      "    FOLD: 2    -   \n",
      "            accuracy =   0.825000       |  0.825000\n",
      "            precision =  0.830142  |   recall =    0.825000   |  f1 =    0.824316\n",
      "            pt file:  0.8928_fold_3/model.pkl\n",
      "    FOLD: 3    -   \n",
      "            accuracy =   0.823600       |  0.823600\n",
      "            precision =  0.827334  |   recall =    0.823600   |  f1 =    0.823096\n",
      "            pt file:  0.8935_fold_4/model.pkl\n",
      "    FOLD: 4    -   \n",
      "            accuracy =   0.832000       |  0.832000\n",
      "            precision =  0.837219  |   recall =    0.832000   |  f1 =    0.831348\n",
      "\n",
      "\n",
      " ==================================== faceswap_2d CHECKPOINT =========================\n"
     ]
    },
    {
     "name": "stderr",
     "output_type": "stream",
     "text": [
      "100%|██████████| 5000/5000 [00:21<00:00, 232.78it/s]\n",
      "100%|██████████| 5000/5000 [03:52<00:00, 21.49it/s]\n"
     ]
    },
    {
     "name": "stdout",
     "output_type": "stream",
     "text": [
      "            pt file:  0.9949_fold_0/model.pkl\n",
      "    FOLD: 0    -   \n",
      "            accuracy =   0.963400       |  0.963400\n",
      "            precision =  0.965761  |   recall =    0.963400   |  f1 =    0.963354\n",
      "            pt file:  0.9947_fold_1/model.pkl\n",
      "    FOLD: 1    -   \n",
      "            accuracy =   0.963900       |  0.963900\n",
      "            precision =  0.966197  |   recall =    0.963900   |  f1 =    0.963855\n",
      "            pt file:  0.9949_fold_2/model.pkl\n",
      "    FOLD: 2    -   \n",
      "            accuracy =   0.959700       |  0.959700\n",
      "            precision =  0.962558  |   recall =    0.959700   |  f1 =    0.959638\n",
      "            pt file:  0.995_fold_3/model.pkl\n",
      "    FOLD: 3    -   \n",
      "            accuracy =   0.962800       |  0.962800\n",
      "            precision =  0.965212  |   recall =    0.962800   |  f1 =    0.962752\n",
      "            pt file:  0.9947_fold_4/model.pkl\n",
      "    FOLD: 4    -   \n",
      "            accuracy =   0.960700       |  0.960700\n",
      "            precision =  0.963448  |   recall =    0.960700   |  f1 =    0.960642\n",
      "\n",
      "\n",
      " ==================================== faceswap_3d CHECKPOINT =========================\n"
     ]
    },
    {
     "name": "stderr",
     "output_type": "stream",
     "text": [
      "100%|██████████| 5000/5000 [00:22<00:00, 220.27it/s]\n",
      "100%|██████████| 5000/5000 [03:35<00:00, 23.19it/s]\n"
     ]
    },
    {
     "name": "stdout",
     "output_type": "stream",
     "text": [
      "            pt file:  0.9988_fold_0/model.pkl\n",
      "    FOLD: 0    -   \n",
      "            accuracy =   0.967300       |  0.967300\n",
      "            precision =  0.969283  |   recall =    0.967300   |  f1 =    0.967265\n",
      "            pt file:  0.9988_fold_1/model.pkl\n",
      "    FOLD: 1    -   \n",
      "            accuracy =   0.969100       |  0.969100\n",
      "            precision =  0.970875  |   recall =    0.969100   |  f1 =    0.969071\n",
      "            pt file:  0.9987_fold_2/model.pkl\n",
      "    FOLD: 2    -   \n",
      "            accuracy =   0.966400       |  0.966400\n",
      "            precision =  0.968491  |   recall =    0.966400   |  f1 =    0.966362\n",
      "            pt file:  0.9986_fold_3/model.pkl\n",
      "    FOLD: 3    -   \n",
      "            accuracy =   0.969000       |  0.969000\n",
      "            precision =  0.970786  |   recall =    0.969000   |  f1 =    0.968971\n",
      "            pt file:  0.9987_fold_4/model.pkl\n",
      "    FOLD: 4    -   \n",
      "            accuracy =   0.964800       |  0.964800\n",
      "            precision =  0.967089  |   recall =    0.964800   |  f1 =    0.964757\n",
      "\n",
      "\n",
      " ==================================== monkey CHECKPOINT =========================\n"
     ]
    },
    {
     "name": "stderr",
     "output_type": "stream",
     "text": [
      "100%|██████████| 5000/5000 [00:20<00:00, 245.27it/s]\n",
      "100%|██████████| 5000/5000 [00:19<00:00, 261.00it/s]\n"
     ]
    },
    {
     "name": "stdout",
     "output_type": "stream",
     "text": [
      "            pt file:  0.9714_fold_0/model.pkl\n",
      "    FOLD: 0    -   \n",
      "            accuracy =   0.716100       |  0.716100\n",
      "            precision =  0.812094  |   recall =    0.716100   |  f1 =    0.692451\n",
      "            pt file:  0.9717_fold_1/model.pkl\n",
      "    FOLD: 1    -   \n",
      "            accuracy =   0.718900       |  0.718900\n",
      "            precision =  0.813341  |   recall =    0.718900   |  f1 =    0.695993\n",
      "            pt file:  0.9716_fold_2/model.pkl\n",
      "    FOLD: 2    -   \n",
      "            accuracy =   0.715600       |  0.715600\n",
      "            precision =  0.811872  |   recall =    0.715600   |  f1 =    0.691817\n",
      "            pt file:  0.972_fold_3/model.pkl\n",
      "    FOLD: 3    -   \n",
      "            accuracy =   0.715400       |  0.715400\n",
      "            precision =  0.812186  |   recall =    0.715400   |  f1 =    0.691488\n",
      "            pt file:  0.9723_fold_4/model.pkl\n",
      "    FOLD: 4    -   \n",
      "            accuracy =   0.723700       |  0.723700\n",
      "            precision =  0.815302  |   recall =    0.723700   |  f1 =    0.702061\n",
      "\n",
      "\n",
      " ==================================== reenact CHECKPOINT =========================\n"
     ]
    },
    {
     "name": "stderr",
     "output_type": "stream",
     "text": [
      "100%|██████████| 5000/5000 [00:25<00:00, 197.67it/s]\n",
      "100%|██████████| 4566/4566 [00:19<00:00, 231.90it/s]\n"
     ]
    },
    {
     "name": "stdout",
     "output_type": "stream",
     "text": [
      "            pt file:  0.9513_fold_0/model.pkl\n",
      "    FOLD: 0    -   \n",
      "            accuracy =   0.798200       |  0.798200\n",
      "            precision =  0.854353  |   recall =    0.780173   |  f1 =    0.781638\n",
      "            pt file:  0.9511_fold_1/model.pkl\n",
      "    FOLD: 1    -   \n",
      "            accuracy =   0.794800       |  0.794800\n",
      "            precision =  0.853095  |   recall =    0.776380   |  f1 =    0.777398\n",
      "            pt file:  0.9504_fold_2/model.pkl\n",
      "    FOLD: 2    -   \n",
      "            accuracy =   0.798200       |  0.798200\n",
      "            precision =  0.854208  |   recall =    0.780191   |  f1 =    0.781664\n",
      "            pt file:  0.9516_fold_3/model.pkl\n",
      "    FOLD: 3    -   \n",
      "            accuracy =   0.797600       |  0.797600\n",
      "            precision =  0.854171  |   recall =    0.779499   |  f1 =    0.780884\n",
      "            pt file:  0.9517_fold_4/model.pkl\n",
      "    FOLD: 4    -   \n",
      "            accuracy =   0.798500       |  0.798500\n",
      "            precision =  0.854372  |   recall =    0.780519   |  f1 =    0.782028\n",
      "\n",
      "\n",
      " ==================================== stargan CHECKPOINT =========================\n"
     ]
    },
    {
     "name": "stderr",
     "output_type": "stream",
     "text": [
      "100%|██████████| 5000/5000 [00:20<00:00, 249.33it/s]\n",
      "100%|██████████| 5000/5000 [00:33<00:00, 149.24it/s]\n"
     ]
    },
    {
     "name": "stdout",
     "output_type": "stream",
     "text": [
      "            pt file:  0.9092_fold_0/model.pkl\n",
      "    FOLD: 0    -   \n",
      "            accuracy =   0.640800       |  0.640800\n",
      "            precision =  0.760066  |   recall =    0.640800   |  f1 =    0.594285\n",
      "            pt file:  0.9106_fold_1/model.pkl\n",
      "    FOLD: 1    -   \n",
      "            accuracy =   0.642400       |  0.642400\n",
      "            precision =  0.761455  |   recall =    0.642400   |  f1 =    0.596462\n",
      "            pt file:  0.9088_fold_2/model.pkl\n",
      "    FOLD: 2    -   \n",
      "            accuracy =   0.637600       |  0.637600\n",
      "            precision =  0.760185  |   recall =    0.637600   |  f1 =    0.589215\n",
      "            pt file:  0.9118_fold_3/model.pkl\n",
      "    FOLD: 3    -   \n",
      "            accuracy =   0.640600       |  0.640600\n",
      "            precision =  0.760480  |   recall =    0.640600   |  f1 =    0.593872\n",
      "            pt file:  0.9097_fold_4/model.pkl\n",
      "    FOLD: 4    -   \n",
      "            accuracy =   0.638800       |  0.638800\n",
      "            precision =  0.758708  |   recall =    0.638800   |  f1 =    0.591462\n",
      "\n",
      "\n",
      " ==================================== x2face CHECKPOINT =========================\n"
     ]
    },
    {
     "name": "stderr",
     "output_type": "stream",
     "text": [
      "100%|██████████| 5000/5000 [00:28<00:00, 176.80it/s]\n",
      "100%|██████████| 5000/5000 [00:21<00:00, 233.51it/s]\n"
     ]
    },
    {
     "name": "stdout",
     "output_type": "stream",
     "text": [
      "            pt file:  0.923_fold_0/model.pkl\n",
      "    FOLD: 0    -   \n",
      "            accuracy =   0.870000       |  0.870000\n",
      "            precision =  0.889180  |   recall =    0.870000   |  f1 =    0.868378\n",
      "            pt file:  0.9229_fold_1/model.pkl\n",
      "    FOLD: 1    -   \n",
      "            accuracy =   0.869500       |  0.869500\n",
      "            precision =  0.888473  |   recall =    0.869500   |  f1 =    0.867887\n",
      "            pt file:  0.9232_fold_2/model.pkl\n",
      "    FOLD: 2    -   \n",
      "            accuracy =   0.874900       |  0.874900\n",
      "            precision =  0.892230  |   recall =    0.874900   |  f1 =    0.873503\n",
      "            pt file:  0.9231_fold_3/model.pkl\n",
      "    FOLD: 3    -   \n",
      "            accuracy =   0.869200       |  0.869200\n",
      "            precision =  0.888630  |   recall =    0.869200   |  f1 =    0.867544\n",
      "            pt file:  0.9226_fold_4/model.pkl\n",
      "    FOLD: 4    -   \n",
      "            accuracy =   0.872900       |  0.872900\n",
      "            precision =  0.890622  |   recall =    0.872900   |  f1 =    0.871442\n"
     ]
    }
   ],
   "source": [
    "import torch\n",
    "import random\n",
    "import numpy as np\n",
    "import os\n",
    "import torch.nn as nn\n",
    "from glob import glob\n",
    "from tqdm import tqdm\n",
    "from os.path import join\n",
    "import os.path as osp\n",
    "import pickle\n",
    "from sklearn.metrics import accuracy_score, precision_score, recall_score, f1_score\n",
    "from util import *\n",
    "\n",
    "def calculate_metric(y_label, y_pred_label):\n",
    "    mic_accuracy = accuracy_score(y_label, y_pred_label)\n",
    "    macro_precision = precision_score(y_label, y_pred_label, average='macro')\n",
    "    macro_recall = recall_score(y_label, y_pred_label, average='macro')\n",
    "    macro_f1 = f1_score(y_label, y_pred_label, average='macro')\n",
    "    return mic_accuracy, macro_precision, macro_recall, macro_f1\n",
    "\n",
    "def eval_spectrum(data, model_file):\n",
    "    pkl_file = open(data, 'rb')\n",
    "    data = pickle.load(pkl_file)\n",
    "    pkl_file.close()\n",
    "    X = data[\"data\"]\n",
    "    y = data[\"label\"]\n",
    "    with open(model_file, 'rb') as f:\n",
    "        svclassifier_r = pickle.load(f)\n",
    "    # print(\"Loaded.\")\n",
    "    SVM_score = svclassifier_r.score(X, y)\n",
    "    # print(\"accuracy by score function: \" + str(SVM_score))\n",
    "    ##### CALCULATE METRIC:\n",
    "    y_pred = svclassifier_r.predict(X)\n",
    "    acc, pre, rec, f1 = calculate_metric(y, y_pred)\n",
    "    # print(\"accuracy: \" + str(acc))\n",
    "    # print(\"precision: \" + str(pre))\n",
    "    # print(\"recall: \" + str(rec))\n",
    "    # print(\"f1 score: \" + str(f1))\n",
    "    return SVM_score, acc, pre, rec, f1\n",
    "\n",
    "def extract_test_features(test_dir: str, output_test: str, brightness: float, contrast: float, std=0, missing_value=0, quality=100, type_transform='noise'):\n",
    "    testset = get_test_path(test_dir=test_dir)\n",
    "    real_path, fake_path = split_real_fake(train_paths=testset)\n",
    "    extract_spectrum_features(real_path, fake_path, -1, output_test, brightness=brightness, contrast=contrast, std=std, miss_size=missing_value, quality=quality, type_transform=type_transform)\n",
    "    return output_test\n",
    "\n",
    "\n",
    "test_dir_template = \"/mnt/disk1/doan/phucnp/Dataset/my_extend_data/extend_data_train/{}/test\"\n",
    "\n",
    "checkpoints = {\n",
    "    \"deepfake\": \"/mnt/disk1/doan/phucnp/Graduation_Thesis/my_thesis/forensics/ml_technique/checkpoint/deepfake/spectrum/c_2.000000\",\n",
    "    \"faceswap_2d\": \"/mnt/disk1/doan/phucnp/Graduation_Thesis/my_thesis/forensics/ml_technique/checkpoint/faceswap_2d/spectrum/c_2.000000\",\n",
    "    \"3dmm\": \"/mnt/disk1/doan/phucnp/Graduation_Thesis/my_thesis/forensics/ml_technique/checkpoint/3dmm/spectrum/c_2.000000\",\n",
    "    \"faceswap_3d\": \"/mnt/disk1/doan/phucnp/Graduation_Thesis/my_thesis/forensics/ml_technique/checkpoint/faceswap_3d/spectrum/c_2.000000\",\n",
    "    \"monkey\": \"/mnt/disk1/doan/phucnp/Graduation_Thesis/my_thesis/forensics/ml_technique/checkpoint/monkey/spectrum/c_2.000000\",\n",
    "    \"reenact\": \"/mnt/disk1/doan/phucnp/Graduation_Thesis/my_thesis/forensics/ml_technique/checkpoint/reenact/spectrum/c_2.000000\",\n",
    "    \"stargan\": \"/mnt/disk1/doan/phucnp/Graduation_Thesis/my_thesis/forensics/ml_technique/checkpoint/stargan/spectrum/c_2.000000\",\n",
    "    \"x2face\": \"/mnt/disk1/doan/phucnp/Graduation_Thesis/my_thesis/forensics/ml_technique/checkpoint/x2face/spectrum/c_2.000000\"\n",
    "}\n",
    "\n",
    "brightnesses = [1.0, 0.5, 0.75, 1.5, 2.0]\n",
    "contrast = 1.0\n",
    "std= 0.0\n",
    "missing_value = 0.0\n",
    "quality=100\n",
    "type_transform = 'contrast_brightness'\n",
    "\n",
    "for brightness in brightnesses:\n",
    "    print(\"\\n*********************************************************\")\n",
    "    print(\"             brightness: \", brightness)\n",
    "    for technique in ['deepfake', '3dmm', 'faceswap_2d', 'faceswap_3d', 'monkey', 'reenact', 'stargan', 'x2face']:\n",
    "        checkpoint = checkpoints[technique]\n",
    "        print(\"\\n\\n ==================================== {} CHECKPOINT =========================\".format(technique))\n",
    "\n",
    "        my_break = False\n",
    "        filename = '/bright{}.pkl'.format(brightness)\n",
    "        # filename = '/noise{}.pkl'.format(std)\n",
    "        # filename = '/missing{}.pkl'.format(missing_value)\n",
    "        # filename = '/compression{}.pkl'.format(quality)\n",
    "        output_test = '/mnt/disk1/doan/phucnp/Graduation_Thesis/my_thesis/forensics/ml_technique/spectrum/output_features/' + get_datasetname(test_dir_template.format(technique)) + filename\n",
    "        test_features = extract_test_features(test_dir=test_dir_template.format(technique), output_test=output_test, brightness = brightness, contrast=contrast, std=std, missing_value=missing_value, quality=quality, type_transform=type_transform)        \n",
    "        \n",
    "        for pkl_file in sorted(glob(join(checkpoint, '*/*.pkl')), key=lambda pkl: int(pkl.split('/')[-2][-1])):\n",
    "            if 'model' not in pkl_file:\n",
    "                continue\n",
    "                \n",
    "            fold_id = pkl_file.split('/')[-2][-1]\n",
    "            ####\n",
    "            SVM_score, acc, pre, rec, f1 = eval_spectrum(test_features, pkl_file)\n",
    "            print(\"            pt file: \", '/'.join(pkl_file.split('/')[-2:]))\n",
    "            print(\"    FOLD: {}    -   \".format(fold_id))\n",
    "            print(\"            accuracy =   {:.6f}       |  {:6f}\".format(SVM_score, acc))\n",
    "            print(\"            precision =  {:.6f}  |   recall =    {:.6f}   |  f1 =    {:.6f}\".format(pre, rec, f1))\n",
    "\n",
    "            # if brightness == 1.0:\n",
    "            #     from_acc = float(pkl_file.split('/')[-2].split('_')[0])\n",
    "            #     # if abs(round(loss, 4) - round(bestloss, 4)) > 0.001:\n",
    "            #     #     print(\"         Error in loss: {}, {}\".format(loss, bestloss))\n",
    "            #     #     my_break = True\n",
    "            #     if abs(round(from_acc, 4) - round(acc, 4)) > 0.001:\n",
    "            #         print(\"         Error in acc: {}, {}\".format(from_acc, acc))\n",
    "            #         my_break = True\n",
    "\n",
    "            #     if my_break:\n",
    "            #         break\n",
    "\n",
    "\n",
    "\n",
    "        if my_break:\n",
    "            break"
   ]
  }
 ],
 "metadata": {
  "kernelspec": {
   "display_name": "Python 3.8.13 ('phucnp')",
   "language": "python",
   "name": "python3"
  },
  "language_info": {
   "codemirror_mode": {
    "name": "ipython",
    "version": 3
   },
   "file_extension": ".py",
   "mimetype": "text/x-python",
   "name": "python",
   "nbconvert_exporter": "python",
   "pygments_lexer": "ipython3",
   "version": "3.8.13"
  },
  "orig_nbformat": 4,
  "vscode": {
   "interpreter": {
    "hash": "73e4523d5c5fcabc881bfbabdc03d28b885253c65d62f8f3eb31939c7679911f"
   }
  }
 },
 "nbformat": 4,
 "nbformat_minor": 2
}
