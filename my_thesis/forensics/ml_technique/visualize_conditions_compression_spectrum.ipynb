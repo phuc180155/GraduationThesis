{
 "cells": [
  {
   "cell_type": "code",
   "execution_count": 2,
   "metadata": {},
   "outputs": [
    {
     "name": "stdout",
     "output_type": "stream",
     "text": [
      "\n",
      "*********************************************************\n",
      "             quality:  100\n",
      "\n",
      "\n",
      " ==================================== deepfake CHECKPOINT =========================\n"
     ]
    },
    {
     "name": "stderr",
     "output_type": "stream",
     "text": [
      "100%|██████████| 5000/5000 [00:32<00:00, 153.98it/s]\n",
      "100%|██████████| 5000/5000 [00:24<00:00, 202.72it/s]\n"
     ]
    },
    {
     "name": "stdout",
     "output_type": "stream",
     "text": [
      "            pt file:  0.9876_fold_0/model.pkl\n",
      "    FOLD: 0    -   \n",
      "            accuracy =   0.987500       |  0.987500\n",
      "            precision =  0.987626  |   recall =    0.987489   |  f1 =    0.987499\n",
      "            pt file:  0.9854_fold_1/model.pkl\n",
      "    FOLD: 1    -   \n",
      "            accuracy =   0.985900       |  0.985900\n",
      "            precision =  0.986066  |   recall =    0.985888   |  f1 =    0.985899\n",
      "            pt file:  0.9858_fold_2/model.pkl\n",
      "    FOLD: 2    -   \n",
      "            accuracy =   0.985800       |  0.985800\n",
      "            precision =  0.985948  |   recall =    0.985788   |  f1 =    0.985799\n",
      "            pt file:  0.988_fold_3/model.pkl\n",
      "    FOLD: 3    -   \n",
      "            accuracy =   0.988100       |  0.988100\n",
      "            precision =  0.988214  |   recall =    0.988090   |  f1 =    0.988099\n",
      "            pt file:  0.987_fold_4/model.pkl\n",
      "    FOLD: 4    -   \n",
      "            accuracy =   0.987800       |  0.987800\n",
      "            precision =  0.987905  |   recall =    0.987790   |  f1 =    0.987799\n",
      "\n",
      "\n",
      " ==================================== 3dmm CHECKPOINT =========================\n"
     ]
    },
    {
     "name": "stderr",
     "output_type": "stream",
     "text": [
      "100%|██████████| 5000/5000 [00:32<00:00, 156.09it/s]\n",
      "100%|██████████| 5000/5000 [00:23<00:00, 216.01it/s]\n"
     ]
    },
    {
     "name": "stdout",
     "output_type": "stream",
     "text": [
      "            pt file:  0.8929_fold_0/model.pkl\n",
      "    FOLD: 0    -   \n",
      "            accuracy =   0.893900       |  0.893900\n",
      "            precision =  0.893902  |   recall =    0.893900   |  f1 =    0.893900\n",
      "            pt file:  0.8934_fold_1/model.pkl\n",
      "    FOLD: 1    -   \n",
      "            accuracy =   0.893400       |  0.893400\n",
      "            precision =  0.893403  |   recall =    0.893400   |  f1 =    0.893400\n",
      "            pt file:  0.892_fold_2/model.pkl\n",
      "    FOLD: 2    -   \n",
      "            accuracy =   0.892600       |  0.892600\n",
      "            precision =  0.892606  |   recall =    0.892600   |  f1 =    0.892600\n",
      "            pt file:  0.8928_fold_3/model.pkl\n",
      "    FOLD: 3    -   \n",
      "            accuracy =   0.893500       |  0.893500\n",
      "            precision =  0.893500  |   recall =    0.893500   |  f1 =    0.893500\n",
      "            pt file:  0.8935_fold_4/model.pkl\n",
      "    FOLD: 4    -   \n",
      "            accuracy =   0.894000       |  0.894000\n",
      "            precision =  0.894011  |   recall =    0.894000   |  f1 =    0.893999\n",
      "\n",
      "\n",
      " ==================================== faceswap_2d CHECKPOINT =========================\n"
     ]
    },
    {
     "name": "stderr",
     "output_type": "stream",
     "text": [
      "100%|██████████| 5000/5000 [00:32<00:00, 154.96it/s]\n",
      "100%|██████████| 5000/5000 [05:27<00:00, 15.26it/s]\n"
     ]
    },
    {
     "name": "stdout",
     "output_type": "stream",
     "text": [
      "            pt file:  0.9949_fold_0/model.pkl\n",
      "    FOLD: 0    -   \n",
      "            accuracy =   0.995200       |  0.995200\n",
      "            precision =  0.995204  |   recall =    0.995200   |  f1 =    0.995200\n",
      "            pt file:  0.9947_fold_1/model.pkl\n",
      "    FOLD: 1    -   \n",
      "            accuracy =   0.995000       |  0.995000\n",
      "            precision =  0.995004  |   recall =    0.995000   |  f1 =    0.995000\n",
      "            pt file:  0.9949_fold_2/model.pkl\n",
      "    FOLD: 2    -   \n",
      "            accuracy =   0.995300       |  0.995300\n",
      "            precision =  0.995306  |   recall =    0.995300   |  f1 =    0.995300\n",
      "            pt file:  0.995_fold_3/model.pkl\n",
      "    FOLD: 3    -   \n",
      "            accuracy =   0.995200       |  0.995200\n",
      "            precision =  0.995202  |   recall =    0.995200   |  f1 =    0.995200\n",
      "            pt file:  0.9947_fold_4/model.pkl\n",
      "    FOLD: 4    -   \n",
      "            accuracy =   0.994900       |  0.994900\n",
      "            precision =  0.994906  |   recall =    0.994900   |  f1 =    0.994900\n",
      "\n",
      "\n",
      " ==================================== faceswap_3d CHECKPOINT =========================\n"
     ]
    },
    {
     "name": "stderr",
     "output_type": "stream",
     "text": [
      "100%|██████████| 5000/5000 [00:33<00:00, 147.32it/s]\n",
      "100%|██████████| 5000/5000 [05:35<00:00, 14.88it/s]\n"
     ]
    },
    {
     "name": "stdout",
     "output_type": "stream",
     "text": [
      "            pt file:  0.9988_fold_0/model.pkl\n",
      "    FOLD: 0    -   \n",
      "            accuracy =   0.998800       |  0.998800\n",
      "            precision =  0.998801  |   recall =    0.998800   |  f1 =    0.998800\n",
      "            pt file:  0.9988_fold_1/model.pkl\n",
      "    FOLD: 1    -   \n",
      "            accuracy =   0.998800       |  0.998800\n",
      "            precision =  0.998801  |   recall =    0.998800   |  f1 =    0.998800\n",
      "            pt file:  0.9987_fold_2/model.pkl\n",
      "    FOLD: 2    -   \n",
      "            accuracy =   0.998700       |  0.998700\n",
      "            precision =  0.998701  |   recall =    0.998700   |  f1 =    0.998700\n",
      "            pt file:  0.9986_fold_3/model.pkl\n",
      "    FOLD: 3    -   \n",
      "            accuracy =   0.998600       |  0.998600\n",
      "            precision =  0.998601  |   recall =    0.998600   |  f1 =    0.998600\n",
      "            pt file:  0.9987_fold_4/model.pkl\n",
      "    FOLD: 4    -   \n",
      "            accuracy =   0.998700       |  0.998700\n",
      "            precision =  0.998702  |   recall =    0.998700   |  f1 =    0.998700\n",
      "\n",
      "\n",
      " ==================================== monkey CHECKPOINT =========================\n"
     ]
    },
    {
     "name": "stderr",
     "output_type": "stream",
     "text": [
      "100%|██████████| 5000/5000 [00:31<00:00, 156.57it/s]\n",
      "100%|██████████| 5000/5000 [00:26<00:00, 190.34it/s]\n"
     ]
    },
    {
     "name": "stdout",
     "output_type": "stream",
     "text": [
      "            pt file:  0.9714_fold_0/model.pkl\n",
      "    FOLD: 0    -   \n",
      "            accuracy =   0.971200       |  0.971200\n",
      "            precision =  0.971529  |   recall =    0.971200   |  f1 =    0.971195\n",
      "            pt file:  0.9717_fold_1/model.pkl\n",
      "    FOLD: 1    -   \n",
      "            accuracy =   0.971600       |  0.971600\n",
      "            precision =  0.971929  |   recall =    0.971600   |  f1 =    0.971595\n",
      "            pt file:  0.9716_fold_2/model.pkl\n",
      "    FOLD: 2    -   \n",
      "            accuracy =   0.971400       |  0.971400\n",
      "            precision =  0.971739  |   recall =    0.971400   |  f1 =    0.971395\n",
      "            pt file:  0.972_fold_3/model.pkl\n",
      "    FOLD: 3    -   \n",
      "            accuracy =   0.972300       |  0.972300\n",
      "            precision =  0.972595  |   recall =    0.972300   |  f1 =    0.972296\n",
      "            pt file:  0.9723_fold_4/model.pkl\n",
      "    FOLD: 4    -   \n",
      "            accuracy =   0.972200       |  0.972200\n",
      "            precision =  0.972529  |   recall =    0.972200   |  f1 =    0.972195\n",
      "\n",
      "\n",
      " ==================================== reenact CHECKPOINT =========================\n"
     ]
    },
    {
     "name": "stderr",
     "output_type": "stream",
     "text": [
      "100%|██████████| 5000/5000 [00:26<00:00, 188.91it/s]\n",
      "100%|██████████| 4566/4566 [00:22<00:00, 206.36it/s]\n"
     ]
    },
    {
     "name": "stdout",
     "output_type": "stream",
     "text": [
      "            pt file:  0.9513_fold_0/model.pkl\n",
      "    FOLD: 0    -   \n",
      "            accuracy =   0.950800       |  0.950800\n",
      "            precision =  0.951008  |   recall =    0.949814   |  f1 =    0.950363\n",
      "            pt file:  0.9511_fold_1/model.pkl\n",
      "    FOLD: 1    -   \n",
      "            accuracy =   0.951400       |  0.951400\n",
      "            precision =  0.951692  |   recall =    0.950349   |  f1 =    0.950961\n",
      "            pt file:  0.9504_fold_2/model.pkl\n",
      "    FOLD: 2    -   \n",
      "            accuracy =   0.950800       |  0.950800\n",
      "            precision =  0.951187  |   recall =    0.949657   |  f1 =    0.950346\n",
      "            pt file:  0.9516_fold_3/model.pkl\n",
      "    FOLD: 3    -   \n",
      "            accuracy =   0.951000       |  0.951000\n",
      "            precision =  0.951134  |   recall =    0.950086   |  f1 =    0.950573\n",
      "            pt file:  0.9517_fold_4/model.pkl\n",
      "    FOLD: 4    -   \n",
      "            accuracy =   0.950700       |  0.950700\n",
      "            precision =  0.950975  |   recall =    0.949652   |  f1 =    0.950256\n",
      "\n",
      "\n",
      " ==================================== stargan CHECKPOINT =========================\n"
     ]
    },
    {
     "name": "stderr",
     "output_type": "stream",
     "text": [
      "100%|██████████| 5000/5000 [00:27<00:00, 179.62it/s]\n",
      "100%|██████████| 5000/5000 [00:40<00:00, 122.01it/s]\n"
     ]
    },
    {
     "name": "stdout",
     "output_type": "stream",
     "text": [
      "            pt file:  0.9092_fold_0/model.pkl\n",
      "    FOLD: 0    -   \n",
      "            accuracy =   0.910900       |  0.910900\n",
      "            precision =  0.913587  |   recall =    0.910900   |  f1 =    0.910755\n",
      "            pt file:  0.9106_fold_1/model.pkl\n",
      "    FOLD: 1    -   \n",
      "            accuracy =   0.911700       |  0.911700\n",
      "            precision =  0.914004  |   recall =    0.911700   |  f1 =    0.911577\n",
      "            pt file:  0.9088_fold_2/model.pkl\n",
      "    FOLD: 2    -   \n",
      "            accuracy =   0.911200       |  0.911200\n",
      "            precision =  0.913796  |   recall =    0.911200   |  f1 =    0.911061\n",
      "            pt file:  0.9118_fold_3/model.pkl\n",
      "    FOLD: 3    -   \n",
      "            accuracy =   0.911000       |  0.911000\n",
      "            precision =  0.913166  |   recall =    0.911000   |  f1 =    0.910883\n",
      "            pt file:  0.9097_fold_4/model.pkl\n",
      "    FOLD: 4    -   \n",
      "            accuracy =   0.910600       |  0.910600\n",
      "            precision =  0.913218  |   recall =    0.910600   |  f1 =    0.910458\n",
      "\n",
      "\n",
      " ==================================== x2face CHECKPOINT =========================\n"
     ]
    },
    {
     "name": "stderr",
     "output_type": "stream",
     "text": [
      "100%|██████████| 5000/5000 [00:24<00:00, 205.27it/s]\n",
      "100%|██████████| 5000/5000 [00:22<00:00, 222.96it/s]\n"
     ]
    },
    {
     "name": "stdout",
     "output_type": "stream",
     "text": [
      "            pt file:  0.923_fold_0/model.pkl\n",
      "    FOLD: 0    -   \n",
      "            accuracy =   0.922600       |  0.922600\n",
      "            precision =  0.922714  |   recall =    0.922600   |  f1 =    0.922595\n",
      "            pt file:  0.9229_fold_1/model.pkl\n",
      "    FOLD: 1    -   \n",
      "            accuracy =   0.922300       |  0.922300\n",
      "            precision =  0.922466  |   recall =    0.922300   |  f1 =    0.922292\n",
      "            pt file:  0.9232_fold_2/model.pkl\n",
      "    FOLD: 2    -   \n",
      "            accuracy =   0.922900       |  0.922900\n",
      "            precision =  0.923011  |   recall =    0.922900   |  f1 =    0.922895\n",
      "            pt file:  0.9231_fold_3/model.pkl\n",
      "    FOLD: 3    -   \n",
      "            accuracy =   0.922800       |  0.922800\n",
      "            precision =  0.922908  |   recall =    0.922800   |  f1 =    0.922795\n",
      "            pt file:  0.9226_fold_4/model.pkl\n",
      "    FOLD: 4    -   \n",
      "            accuracy =   0.922600       |  0.922600\n",
      "            precision =  0.922703  |   recall =    0.922600   |  f1 =    0.922595\n",
      "\n",
      "*********************************************************\n",
      "             quality:  90\n",
      "\n",
      "\n",
      " ==================================== deepfake CHECKPOINT =========================\n"
     ]
    },
    {
     "name": "stderr",
     "output_type": "stream",
     "text": [
      "100%|██████████| 5000/5000 [00:26<00:00, 186.08it/s]\n",
      "100%|██████████| 5000/5000 [00:20<00:00, 247.21it/s]\n"
     ]
    },
    {
     "name": "stdout",
     "output_type": "stream",
     "text": [
      "            pt file:  0.9876_fold_0/model.pkl\n",
      "    FOLD: 0    -   \n",
      "            accuracy =   0.984400       |  0.984400\n",
      "            precision =  0.984658  |   recall =    0.984384   |  f1 =    0.984398\n",
      "            pt file:  0.9854_fold_1/model.pkl\n",
      "    FOLD: 1    -   \n",
      "            accuracy =   0.982600       |  0.982600\n",
      "            precision =  0.982954  |   recall =    0.982581   |  f1 =    0.982596\n",
      "            pt file:  0.9858_fold_2/model.pkl\n",
      "    FOLD: 2    -   \n",
      "            accuracy =   0.982400       |  0.982400\n",
      "            precision =  0.982743  |   recall =    0.982382   |  f1 =    0.982396\n",
      "            pt file:  0.988_fold_3/model.pkl\n",
      "    FOLD: 3    -   \n",
      "            accuracy =   0.985600       |  0.985600\n",
      "            precision =  0.985808  |   recall =    0.985586   |  f1 =    0.985598\n",
      "            pt file:  0.987_fold_4/model.pkl\n",
      "    FOLD: 4    -   \n",
      "            accuracy =   0.984600       |  0.984600\n",
      "            precision =  0.984832  |   recall =    0.984585   |  f1 =    0.984598\n",
      "\n",
      "\n",
      " ==================================== 3dmm CHECKPOINT =========================\n"
     ]
    },
    {
     "name": "stderr",
     "output_type": "stream",
     "text": [
      "100%|██████████| 5000/5000 [00:24<00:00, 207.45it/s]\n",
      "100%|██████████| 5000/5000 [00:17<00:00, 281.96it/s]\n"
     ]
    },
    {
     "name": "stdout",
     "output_type": "stream",
     "text": [
      "            pt file:  0.8929_fold_0/model.pkl\n",
      "    FOLD: 0    -   \n",
      "            accuracy =   0.894500       |  0.894500\n",
      "            precision =  0.894504  |   recall =    0.894500   |  f1 =    0.894500\n",
      "            pt file:  0.8934_fold_1/model.pkl\n",
      "    FOLD: 1    -   \n",
      "            accuracy =   0.893900       |  0.893900\n",
      "            precision =  0.893900  |   recall =    0.893900   |  f1 =    0.893900\n",
      "            pt file:  0.892_fold_2/model.pkl\n",
      "    FOLD: 2    -   \n",
      "            accuracy =   0.892800       |  0.892800\n",
      "            precision =  0.892803  |   recall =    0.892800   |  f1 =    0.892800\n",
      "            pt file:  0.8928_fold_3/model.pkl\n",
      "    FOLD: 3    -   \n",
      "            accuracy =   0.894400       |  0.894400\n",
      "            precision =  0.894400  |   recall =    0.894400   |  f1 =    0.894400\n",
      "            pt file:  0.8935_fold_4/model.pkl\n",
      "    FOLD: 4    -   \n",
      "            accuracy =   0.895000       |  0.895000\n",
      "            precision =  0.895002  |   recall =    0.895000   |  f1 =    0.895000\n",
      "\n",
      "\n",
      " ==================================== faceswap_2d CHECKPOINT =========================\n"
     ]
    },
    {
     "name": "stderr",
     "output_type": "stream",
     "text": [
      "100%|██████████| 5000/5000 [00:23<00:00, 210.80it/s]\n",
      "100%|██████████| 5000/5000 [04:08<00:00, 20.09it/s]\n"
     ]
    },
    {
     "name": "stdout",
     "output_type": "stream",
     "text": [
      "            pt file:  0.9949_fold_0/model.pkl\n",
      "    FOLD: 0    -   \n",
      "            accuracy =   0.994500       |  0.994500\n",
      "            precision =  0.994512  |   recall =    0.994500   |  f1 =    0.994500\n",
      "            pt file:  0.9947_fold_1/model.pkl\n",
      "    FOLD: 1    -   \n",
      "            accuracy =   0.994400       |  0.994400\n",
      "            precision =  0.994410  |   recall =    0.994400   |  f1 =    0.994400\n",
      "            pt file:  0.9949_fold_2/model.pkl\n",
      "    FOLD: 2    -   \n",
      "            accuracy =   0.994000       |  0.994000\n",
      "            precision =  0.994018  |   recall =    0.994000   |  f1 =    0.994000\n",
      "            pt file:  0.995_fold_3/model.pkl\n",
      "    FOLD: 3    -   \n",
      "            accuracy =   0.994600       |  0.994600\n",
      "            precision =  0.994608  |   recall =    0.994600   |  f1 =    0.994600\n",
      "            pt file:  0.9947_fold_4/model.pkl\n",
      "    FOLD: 4    -   \n",
      "            accuracy =   0.994400       |  0.994400\n",
      "            precision =  0.994416  |   recall =    0.994400   |  f1 =    0.994400\n",
      "\n",
      "\n",
      " ==================================== faceswap_3d CHECKPOINT =========================\n"
     ]
    },
    {
     "name": "stderr",
     "output_type": "stream",
     "text": [
      "100%|██████████| 5000/5000 [00:27<00:00, 180.06it/s]\n",
      "100%|██████████| 5000/5000 [04:27<00:00, 18.67it/s]\n"
     ]
    },
    {
     "name": "stdout",
     "output_type": "stream",
     "text": [
      "            pt file:  0.9988_fold_0/model.pkl\n",
      "    FOLD: 0    -   \n",
      "            accuracy =   0.998500       |  0.998500\n",
      "            precision =  0.998502  |   recall =    0.998500   |  f1 =    0.998500\n",
      "            pt file:  0.9988_fold_1/model.pkl\n",
      "    FOLD: 1    -   \n",
      "            accuracy =   0.999000       |  0.999000\n",
      "            precision =  0.999001  |   recall =    0.999000   |  f1 =    0.999000\n",
      "            pt file:  0.9987_fold_2/model.pkl\n",
      "    FOLD: 2    -   \n",
      "            accuracy =   0.998600       |  0.998600\n",
      "            precision =  0.998601  |   recall =    0.998600   |  f1 =    0.998600\n",
      "            pt file:  0.9986_fold_3/model.pkl\n",
      "    FOLD: 3    -   \n",
      "            accuracy =   0.998800       |  0.998800\n",
      "            precision =  0.998801  |   recall =    0.998800   |  f1 =    0.998800\n",
      "            pt file:  0.9987_fold_4/model.pkl\n",
      "    FOLD: 4    -   \n",
      "            accuracy =   0.998500       |  0.998500\n",
      "            precision =  0.998502  |   recall =    0.998500   |  f1 =    0.998500\n",
      "\n",
      "\n",
      " ==================================== monkey CHECKPOINT =========================\n"
     ]
    },
    {
     "name": "stderr",
     "output_type": "stream",
     "text": [
      "100%|██████████| 5000/5000 [00:25<00:00, 198.34it/s]\n",
      "100%|██████████| 5000/5000 [00:22<00:00, 220.86it/s]\n"
     ]
    },
    {
     "name": "stdout",
     "output_type": "stream",
     "text": [
      "            pt file:  0.9714_fold_0/model.pkl\n",
      "    FOLD: 0    -   \n",
      "            accuracy =   0.819100       |  0.819100\n",
      "            precision =  0.849788  |   recall =    0.819100   |  f1 =    0.815043\n",
      "            pt file:  0.9717_fold_1/model.pkl\n",
      "    FOLD: 1    -   \n",
      "            accuracy =   0.819000       |  0.819000\n",
      "            precision =  0.849633  |   recall =    0.819000   |  f1 =    0.814947\n",
      "            pt file:  0.9716_fold_2/model.pkl\n",
      "    FOLD: 2    -   \n",
      "            accuracy =   0.816700       |  0.816700\n",
      "            precision =  0.847520  |   recall =    0.816700   |  f1 =    0.812544\n",
      "            pt file:  0.972_fold_3/model.pkl\n",
      "    FOLD: 3    -   \n",
      "            accuracy =   0.821400       |  0.821400\n",
      "            precision =  0.851358  |   recall =    0.821400   |  f1 =    0.817510\n",
      "            pt file:  0.9723_fold_4/model.pkl\n",
      "    FOLD: 4    -   \n",
      "            accuracy =   0.830200       |  0.830200\n",
      "            precision =  0.857513  |   recall =    0.830200   |  f1 =    0.826894\n",
      "\n",
      "\n",
      " ==================================== reenact CHECKPOINT =========================\n"
     ]
    },
    {
     "name": "stderr",
     "output_type": "stream",
     "text": [
      "100%|██████████| 5000/5000 [00:26<00:00, 185.50it/s]\n",
      "100%|██████████| 4566/4566 [00:20<00:00, 225.36it/s]\n"
     ]
    },
    {
     "name": "stdout",
     "output_type": "stream",
     "text": [
      "            pt file:  0.9513_fold_0/model.pkl\n",
      "    FOLD: 0    -   \n",
      "            accuracy =   0.950200       |  0.950200\n",
      "            precision =  0.950519  |   recall =    0.949105   |  f1 =    0.949746\n",
      "            pt file:  0.9511_fold_1/model.pkl\n",
      "    FOLD: 1    -   \n",
      "            accuracy =   0.950400       |  0.950400\n",
      "            precision =  0.950782  |   recall =    0.949254   |  f1 =    0.949943\n",
      "            pt file:  0.9504_fold_2/model.pkl\n",
      "    FOLD: 2    -   \n",
      "            accuracy =   0.950100       |  0.950100\n",
      "            precision =  0.950448  |   recall =    0.948978   |  f1 =    0.949643\n",
      "            pt file:  0.9516_fold_3/model.pkl\n",
      "    FOLD: 3    -   \n",
      "            accuracy =   0.950900       |  0.950900\n",
      "            precision =  0.951138  |   recall =    0.949889   |  f1 =    0.950461\n",
      "            pt file:  0.9517_fold_4/model.pkl\n",
      "    FOLD: 4    -   \n",
      "            accuracy =   0.951300       |  0.951300\n",
      "            precision =  0.951682  |   recall =    0.950169   |  f1 =    0.950852\n",
      "\n",
      "\n",
      " ==================================== stargan CHECKPOINT =========================\n"
     ]
    },
    {
     "name": "stderr",
     "output_type": "stream",
     "text": [
      "100%|██████████| 5000/5000 [00:26<00:00, 191.31it/s]\n",
      "100%|██████████| 5000/5000 [00:41<00:00, 121.58it/s]\n"
     ]
    },
    {
     "name": "stdout",
     "output_type": "stream",
     "text": [
      "            pt file:  0.9092_fold_0/model.pkl\n",
      "    FOLD: 0    -   \n",
      "            accuracy =   0.910500       |  0.910500\n",
      "            precision =  0.911656  |   recall =    0.910500   |  f1 =    0.910437\n",
      "            pt file:  0.9106_fold_1/model.pkl\n",
      "    FOLD: 1    -   \n",
      "            accuracy =   0.906300       |  0.906300\n",
      "            precision =  0.907053  |   recall =    0.906300   |  f1 =    0.906257\n",
      "            pt file:  0.9088_fold_2/model.pkl\n",
      "    FOLD: 2    -   \n",
      "            accuracy =   0.910200       |  0.910200\n",
      "            precision =  0.911454  |   recall =    0.910200   |  f1 =    0.910132\n",
      "            pt file:  0.9118_fold_3/model.pkl\n",
      "    FOLD: 3    -   \n",
      "            accuracy =   0.907000       |  0.907000\n",
      "            precision =  0.907789  |   recall =    0.907000   |  f1 =    0.906955\n",
      "            pt file:  0.9097_fold_4/model.pkl\n",
      "    FOLD: 4    -   \n",
      "            accuracy =   0.909200       |  0.909200\n",
      "            precision =  0.910433  |   recall =    0.909200   |  f1 =    0.909132\n",
      "\n",
      "\n",
      " ==================================== x2face CHECKPOINT =========================\n"
     ]
    },
    {
     "name": "stderr",
     "output_type": "stream",
     "text": [
      "100%|██████████| 5000/5000 [00:27<00:00, 181.05it/s]\n",
      "100%|██████████| 5000/5000 [00:25<00:00, 196.25it/s]\n"
     ]
    },
    {
     "name": "stdout",
     "output_type": "stream",
     "text": [
      "            pt file:  0.923_fold_0/model.pkl\n",
      "    FOLD: 0    -   \n",
      "            accuracy =   0.922500       |  0.922500\n",
      "            precision =  0.923130  |   recall =    0.922500   |  f1 =    0.922471\n",
      "            pt file:  0.9229_fold_1/model.pkl\n",
      "    FOLD: 1    -   \n",
      "            accuracy =   0.921100       |  0.921100\n",
      "            precision =  0.921677  |   recall =    0.921100   |  f1 =    0.921073\n",
      "            pt file:  0.9232_fold_2/model.pkl\n",
      "    FOLD: 2    -   \n",
      "            accuracy =   0.922400       |  0.922400\n",
      "            precision =  0.922973  |   recall =    0.922400   |  f1 =    0.922374\n",
      "            pt file:  0.9231_fold_3/model.pkl\n",
      "    FOLD: 3    -   \n",
      "            accuracy =   0.921700       |  0.921700\n",
      "            precision =  0.922160  |   recall =    0.921700   |  f1 =    0.921679\n",
      "            pt file:  0.9226_fold_4/model.pkl\n",
      "    FOLD: 4    -   \n",
      "            accuracy =   0.921700       |  0.921700\n",
      "            precision =  0.922229  |   recall =    0.921700   |  f1 =    0.921675\n",
      "\n",
      "*********************************************************\n",
      "             quality:  80\n",
      "\n",
      "\n",
      " ==================================== deepfake CHECKPOINT =========================\n"
     ]
    },
    {
     "name": "stderr",
     "output_type": "stream",
     "text": [
      "100%|██████████| 5000/5000 [00:23<00:00, 213.73it/s]\n",
      "100%|██████████| 5000/5000 [00:18<00:00, 269.99it/s]\n"
     ]
    },
    {
     "name": "stdout",
     "output_type": "stream",
     "text": [
      "            pt file:  0.9876_fold_0/model.pkl\n",
      "    FOLD: 0    -   \n",
      "            accuracy =   0.992000       |  0.992000\n",
      "            precision =  0.992000  |   recall =    0.992000   |  f1 =    0.992000\n",
      "            pt file:  0.9854_fold_1/model.pkl\n",
      "    FOLD: 1    -   \n",
      "            accuracy =   0.990400       |  0.990400\n",
      "            precision =  0.990403  |   recall =    0.990399   |  f1 =    0.990400\n",
      "            pt file:  0.9858_fold_2/model.pkl\n",
      "    FOLD: 2    -   \n",
      "            accuracy =   0.990700       |  0.990700\n",
      "            precision =  0.990701  |   recall =    0.990699   |  f1 =    0.990700\n",
      "            pt file:  0.988_fold_3/model.pkl\n",
      "    FOLD: 3    -   \n",
      "            accuracy =   0.992100       |  0.992100\n",
      "            precision =  0.992100  |   recall =    0.992100   |  f1 =    0.992100\n",
      "            pt file:  0.987_fold_4/model.pkl\n",
      "    FOLD: 4    -   \n",
      "            accuracy =   0.991800       |  0.991800\n",
      "            precision =  0.991800  |   recall =    0.991800   |  f1 =    0.991800\n",
      "\n",
      "\n",
      " ==================================== 3dmm CHECKPOINT =========================\n"
     ]
    },
    {
     "name": "stderr",
     "output_type": "stream",
     "text": [
      "100%|██████████| 5000/5000 [00:23<00:00, 209.72it/s]\n",
      "100%|██████████| 5000/5000 [00:18<00:00, 263.40it/s]\n"
     ]
    },
    {
     "name": "stdout",
     "output_type": "stream",
     "text": [
      "            pt file:  0.8929_fold_0/model.pkl\n",
      "    FOLD: 0    -   \n",
      "            accuracy =   0.899200       |  0.899200\n",
      "            precision =  0.899218  |   recall =    0.899200   |  f1 =    0.899199\n",
      "            pt file:  0.8934_fold_1/model.pkl\n",
      "    FOLD: 1    -   \n",
      "            accuracy =   0.899400       |  0.899400\n",
      "            precision =  0.899423  |   recall =    0.899400   |  f1 =    0.899399\n",
      "            pt file:  0.892_fold_2/model.pkl\n",
      "    FOLD: 2    -   \n",
      "            accuracy =   0.897200       |  0.897200\n",
      "            precision =  0.897221  |   recall =    0.897200   |  f1 =    0.897199\n",
      "            pt file:  0.8928_fold_3/model.pkl\n",
      "    FOLD: 3    -   \n",
      "            accuracy =   0.899600       |  0.899600\n",
      "            precision =  0.899626  |   recall =    0.899600   |  f1 =    0.899598\n",
      "            pt file:  0.8935_fold_4/model.pkl\n",
      "    FOLD: 4    -   \n",
      "            accuracy =   0.900200       |  0.900200\n",
      "            precision =  0.900200  |   recall =    0.900200   |  f1 =    0.900200\n",
      "\n",
      "\n",
      " ==================================== faceswap_2d CHECKPOINT =========================\n"
     ]
    },
    {
     "name": "stderr",
     "output_type": "stream",
     "text": [
      "100%|██████████| 5000/5000 [00:25<00:00, 195.72it/s]\n",
      "100%|██████████| 5000/5000 [04:10<00:00, 19.96it/s]\n"
     ]
    },
    {
     "name": "stdout",
     "output_type": "stream",
     "text": [
      "            pt file:  0.9949_fold_0/model.pkl\n",
      "    FOLD: 0    -   \n",
      "            accuracy =   0.993000       |  0.993000\n",
      "            precision =  0.993035  |   recall =    0.993000   |  f1 =    0.993000\n",
      "            pt file:  0.9947_fold_1/model.pkl\n",
      "    FOLD: 1    -   \n",
      "            accuracy =   0.992400       |  0.992400\n",
      "            precision =  0.992428  |   recall =    0.992400   |  f1 =    0.992400\n",
      "            pt file:  0.9949_fold_2/model.pkl\n",
      "    FOLD: 2    -   \n",
      "            accuracy =   0.993100       |  0.993100\n",
      "            precision =  0.993133  |   recall =    0.993100   |  f1 =    0.993100\n",
      "            pt file:  0.995_fold_3/model.pkl\n",
      "    FOLD: 3    -   \n",
      "            accuracy =   0.992700       |  0.992700\n",
      "            precision =  0.992730  |   recall =    0.992700   |  f1 =    0.992700\n",
      "            pt file:  0.9947_fold_4/model.pkl\n",
      "    FOLD: 4    -   \n",
      "            accuracy =   0.993100       |  0.993100\n",
      "            precision =  0.993130  |   recall =    0.993100   |  f1 =    0.993100\n",
      "\n",
      "\n",
      " ==================================== faceswap_3d CHECKPOINT =========================\n"
     ]
    },
    {
     "name": "stderr",
     "output_type": "stream",
     "text": [
      "100%|██████████| 5000/5000 [00:25<00:00, 192.32it/s]\n",
      "100%|██████████| 5000/5000 [04:18<00:00, 19.32it/s]\n"
     ]
    },
    {
     "name": "stdout",
     "output_type": "stream",
     "text": [
      "            pt file:  0.9988_fold_0/model.pkl\n",
      "    FOLD: 0    -   \n",
      "            accuracy =   0.996800       |  0.996800\n",
      "            precision =  0.996816  |   recall =    0.996800   |  f1 =    0.996800\n",
      "            pt file:  0.9988_fold_1/model.pkl\n",
      "    FOLD: 1    -   \n",
      "            accuracy =   0.996900       |  0.996900\n",
      "            precision =  0.996912  |   recall =    0.996900   |  f1 =    0.996900\n",
      "            pt file:  0.9987_fold_2/model.pkl\n",
      "    FOLD: 2    -   \n",
      "            accuracy =   0.996800       |  0.996800\n",
      "            precision =  0.996816  |   recall =    0.996800   |  f1 =    0.996800\n",
      "            pt file:  0.9986_fold_3/model.pkl\n",
      "    FOLD: 3    -   \n",
      "            accuracy =   0.996700       |  0.996700\n",
      "            precision =  0.996714  |   recall =    0.996700   |  f1 =    0.996700\n",
      "            pt file:  0.9987_fold_4/model.pkl\n",
      "    FOLD: 4    -   \n",
      "            accuracy =   0.996800       |  0.996800\n",
      "            precision =  0.996816  |   recall =    0.996800   |  f1 =    0.996800\n",
      "\n",
      "\n",
      " ==================================== monkey CHECKPOINT =========================\n"
     ]
    },
    {
     "name": "stderr",
     "output_type": "stream",
     "text": [
      "100%|██████████| 5000/5000 [00:25<00:00, 193.81it/s]\n",
      "100%|██████████| 5000/5000 [00:23<00:00, 216.64it/s]\n"
     ]
    },
    {
     "name": "stdout",
     "output_type": "stream",
     "text": [
      "            pt file:  0.9714_fold_0/model.pkl\n",
      "    FOLD: 0    -   \n",
      "            accuracy =   0.939200       |  0.939200\n",
      "            precision =  0.940354  |   recall =    0.939200   |  f1 =    0.939160\n",
      "            pt file:  0.9717_fold_1/model.pkl\n",
      "    FOLD: 1    -   \n",
      "            accuracy =   0.939100       |  0.939100\n",
      "            precision =  0.940263  |   recall =    0.939100   |  f1 =    0.939060\n",
      "            pt file:  0.9716_fold_2/model.pkl\n",
      "    FOLD: 2    -   \n",
      "            accuracy =   0.937900       |  0.937900\n",
      "            precision =  0.939209  |   recall =    0.937900   |  f1 =    0.937854\n",
      "            pt file:  0.972_fold_3/model.pkl\n",
      "    FOLD: 3    -   \n",
      "            accuracy =   0.939900       |  0.939900\n",
      "            precision =  0.940825  |   recall =    0.939900   |  f1 =    0.939868\n",
      "            pt file:  0.9723_fold_4/model.pkl\n",
      "    FOLD: 4    -   \n",
      "            accuracy =   0.940600       |  0.940600\n",
      "            precision =  0.941776  |   recall =    0.940600   |  f1 =    0.940560\n",
      "\n",
      "\n",
      " ==================================== reenact CHECKPOINT =========================\n"
     ]
    },
    {
     "name": "stderr",
     "output_type": "stream",
     "text": [
      "100%|██████████| 5000/5000 [00:30<00:00, 165.00it/s]\n",
      "100%|██████████| 4566/4566 [00:21<00:00, 212.63it/s]\n"
     ]
    },
    {
     "name": "stdout",
     "output_type": "stream",
     "text": [
      "            pt file:  0.9513_fold_0/model.pkl\n",
      "    FOLD: 0    -   \n",
      "            accuracy =   0.946800       |  0.946800\n",
      "            precision =  0.946129  |   recall =    0.946781   |  f1 =    0.946436\n",
      "            pt file:  0.9511_fold_1/model.pkl\n",
      "    FOLD: 1    -   \n",
      "            accuracy =   0.948200       |  0.948200\n",
      "            precision =  0.947639  |   recall =    0.948034   |  f1 =    0.947830\n",
      "            pt file:  0.9504_fold_2/model.pkl\n",
      "    FOLD: 2    -   \n",
      "            accuracy =   0.947500       |  0.947500\n",
      "            precision =  0.946917  |   recall =    0.947355   |  f1 =    0.947128\n",
      "            pt file:  0.9516_fold_3/model.pkl\n",
      "    FOLD: 3    -   \n",
      "            accuracy =   0.947200       |  0.947200\n",
      "            precision =  0.946424  |   recall =    0.947376   |  f1 =    0.946858\n",
      "            pt file:  0.9517_fold_4/model.pkl\n",
      "    FOLD: 4    -   \n",
      "            accuracy =   0.947800       |  0.947800\n",
      "            precision =  0.947064  |   recall =    0.947911   |  f1 =    0.947455\n",
      "\n",
      "\n",
      " ==================================== stargan CHECKPOINT =========================\n"
     ]
    },
    {
     "name": "stderr",
     "output_type": "stream",
     "text": [
      "100%|██████████| 5000/5000 [00:27<00:00, 182.18it/s]\n",
      "100%|██████████| 5000/5000 [00:44<00:00, 113.40it/s]\n"
     ]
    },
    {
     "name": "stdout",
     "output_type": "stream",
     "text": [
      "            pt file:  0.9092_fold_0/model.pkl\n",
      "    FOLD: 0    -   \n",
      "            accuracy =   0.886700       |  0.886700\n",
      "            precision =  0.904505  |   recall =    0.886700   |  f1 =    0.885439\n",
      "            pt file:  0.9106_fold_1/model.pkl\n",
      "    FOLD: 1    -   \n",
      "            accuracy =   0.886400       |  0.886400\n",
      "            precision =  0.902567  |   recall =    0.886400   |  f1 =    0.885248\n",
      "            pt file:  0.9088_fold_2/model.pkl\n",
      "    FOLD: 2    -   \n",
      "            accuracy =   0.884500       |  0.884500\n",
      "            precision =  0.901367  |   recall =    0.884500   |  f1 =    0.883274\n",
      "            pt file:  0.9118_fold_3/model.pkl\n",
      "    FOLD: 3    -   \n",
      "            accuracy =   0.887400       |  0.887400\n",
      "            precision =  0.903407  |   recall =    0.887400   |  f1 =    0.886272\n",
      "            pt file:  0.9097_fold_4/model.pkl\n",
      "    FOLD: 4    -   \n",
      "            accuracy =   0.885300       |  0.885300\n",
      "            precision =  0.902619  |   recall =    0.885300   |  f1 =    0.884053\n",
      "\n",
      "\n",
      " ==================================== x2face CHECKPOINT =========================\n"
     ]
    },
    {
     "name": "stderr",
     "output_type": "stream",
     "text": [
      "100%|██████████| 5000/5000 [00:26<00:00, 191.22it/s]\n",
      "100%|██████████| 5000/5000 [00:22<00:00, 223.32it/s]\n"
     ]
    },
    {
     "name": "stdout",
     "output_type": "stream",
     "text": [
      "            pt file:  0.923_fold_0/model.pkl\n",
      "    FOLD: 0    -   \n",
      "            accuracy =   0.905900       |  0.905900\n",
      "            precision =  0.907752  |   recall =    0.905900   |  f1 =    0.905793\n",
      "            pt file:  0.9229_fold_1/model.pkl\n",
      "    FOLD: 1    -   \n",
      "            accuracy =   0.907000       |  0.907000\n",
      "            precision =  0.908674  |   recall =    0.907000   |  f1 =    0.906905\n",
      "            pt file:  0.9232_fold_2/model.pkl\n",
      "    FOLD: 2    -   \n",
      "            accuracy =   0.906100       |  0.906100\n",
      "            precision =  0.907953  |   recall =    0.906100   |  f1 =    0.905993\n",
      "            pt file:  0.9231_fold_3/model.pkl\n",
      "    FOLD: 3    -   \n",
      "            accuracy =   0.907500       |  0.907500\n",
      "            precision =  0.909187  |   recall =    0.907500   |  f1 =    0.907405\n",
      "            pt file:  0.9226_fold_4/model.pkl\n",
      "    FOLD: 4    -   \n",
      "            accuracy =   0.906500       |  0.906500\n",
      "            precision =  0.908400  |   recall =    0.906500   |  f1 =    0.906391\n",
      "\n",
      "*********************************************************\n",
      "             quality:  70\n",
      "\n",
      "\n",
      " ==================================== deepfake CHECKPOINT =========================\n"
     ]
    },
    {
     "name": "stderr",
     "output_type": "stream",
     "text": [
      "100%|██████████| 5000/5000 [00:26<00:00, 185.57it/s]\n",
      "100%|██████████| 5000/5000 [00:20<00:00, 245.10it/s]\n"
     ]
    },
    {
     "name": "stdout",
     "output_type": "stream",
     "text": [
      "            pt file:  0.9876_fold_0/model.pkl\n",
      "    FOLD: 0    -   \n",
      "            accuracy =   0.979200       |  0.979200\n",
      "            precision =  0.979790  |   recall =    0.979176   |  f1 =    0.979193\n",
      "            pt file:  0.9854_fold_1/model.pkl\n",
      "    FOLD: 1    -   \n",
      "            accuracy =   0.977400       |  0.977400\n",
      "            precision =  0.978100  |   recall =    0.977374   |  f1 =    0.977391\n",
      "            pt file:  0.9858_fold_2/model.pkl\n",
      "    FOLD: 2    -   \n",
      "            accuracy =   0.977800       |  0.977800\n",
      "            precision =  0.978471  |   recall =    0.977774   |  f1 =    0.977791\n",
      "            pt file:  0.988_fold_3/model.pkl\n",
      "    FOLD: 3    -   \n",
      "            accuracy =   0.980200       |  0.980200\n",
      "            precision =  0.980713  |   recall =    0.980178   |  f1 =    0.980194\n",
      "            pt file:  0.987_fold_4/model.pkl\n",
      "    FOLD: 4    -   \n",
      "            accuracy =   0.979400       |  0.979400\n",
      "            precision =  0.979937  |   recall =    0.979377   |  f1 =    0.979393\n",
      "\n",
      "\n",
      " ==================================== 3dmm CHECKPOINT =========================\n"
     ]
    },
    {
     "name": "stderr",
     "output_type": "stream",
     "text": [
      "100%|██████████| 5000/5000 [00:26<00:00, 189.36it/s]\n",
      "100%|██████████| 5000/5000 [00:20<00:00, 249.82it/s]\n"
     ]
    },
    {
     "name": "stdout",
     "output_type": "stream",
     "text": [
      "            pt file:  0.8929_fold_0/model.pkl\n",
      "    FOLD: 0    -   \n",
      "            accuracy =   0.884900       |  0.884900\n",
      "            precision =  0.885536  |   recall =    0.884900   |  f1 =    0.884853\n",
      "            pt file:  0.8934_fold_1/model.pkl\n",
      "    FOLD: 1    -   \n",
      "            accuracy =   0.886500       |  0.886500\n",
      "            precision =  0.887041  |   recall =    0.886500   |  f1 =    0.886460\n",
      "            pt file:  0.892_fold_2/model.pkl\n",
      "    FOLD: 2    -   \n",
      "            accuracy =   0.884200       |  0.884200\n",
      "            precision =  0.884905  |   recall =    0.884200   |  f1 =    0.884147\n",
      "            pt file:  0.8928_fold_3/model.pkl\n",
      "    FOLD: 3    -   \n",
      "            accuracy =   0.883800       |  0.883800\n",
      "            precision =  0.884465  |   recall =    0.883800   |  f1 =    0.883750\n",
      "            pt file:  0.8935_fold_4/model.pkl\n",
      "    FOLD: 4    -   \n",
      "            accuracy =   0.886000       |  0.886000\n",
      "            precision =  0.886749  |   recall =    0.886000   |  f1 =    0.885945\n",
      "\n",
      "\n",
      " ==================================== faceswap_2d CHECKPOINT =========================\n"
     ]
    },
    {
     "name": "stderr",
     "output_type": "stream",
     "text": [
      "100%|██████████| 5000/5000 [00:25<00:00, 199.19it/s]\n",
      "100%|██████████| 5000/5000 [04:33<00:00, 18.27it/s]\n"
     ]
    },
    {
     "name": "stdout",
     "output_type": "stream",
     "text": [
      "            pt file:  0.9949_fold_0/model.pkl\n",
      "    FOLD: 0    -   \n",
      "            accuracy =   0.991800       |  0.991800\n",
      "            precision =  0.991862  |   recall =    0.991800   |  f1 =    0.991800\n",
      "            pt file:  0.9947_fold_1/model.pkl\n",
      "    FOLD: 1    -   \n",
      "            accuracy =   0.991600       |  0.991600\n",
      "            precision =  0.991657  |   recall =    0.991600   |  f1 =    0.991600\n",
      "            pt file:  0.9949_fold_2/model.pkl\n",
      "    FOLD: 2    -   \n",
      "            accuracy =   0.992000       |  0.992000\n",
      "            precision =  0.992057  |   recall =    0.992000   |  f1 =    0.992000\n",
      "            pt file:  0.995_fold_3/model.pkl\n",
      "    FOLD: 3    -   \n",
      "            accuracy =   0.991600       |  0.991600\n",
      "            precision =  0.991649  |   recall =    0.991600   |  f1 =    0.991600\n",
      "            pt file:  0.9947_fold_4/model.pkl\n",
      "    FOLD: 4    -   \n",
      "            accuracy =   0.992200       |  0.992200\n",
      "            precision =  0.992249  |   recall =    0.992200   |  f1 =    0.992200\n",
      "\n",
      "\n",
      " ==================================== faceswap_3d CHECKPOINT =========================\n"
     ]
    },
    {
     "name": "stderr",
     "output_type": "stream",
     "text": [
      "100%|██████████| 5000/5000 [00:23<00:00, 212.08it/s]\n",
      "100%|██████████| 5000/5000 [04:06<00:00, 20.31it/s]\n"
     ]
    },
    {
     "name": "stdout",
     "output_type": "stream",
     "text": [
      "            pt file:  0.9988_fold_0/model.pkl\n",
      "    FOLD: 0    -   \n",
      "            accuracy =   0.990900       |  0.990900\n",
      "            precision =  0.991042  |   recall =    0.990900   |  f1 =    0.990899\n",
      "            pt file:  0.9988_fold_1/model.pkl\n",
      "    FOLD: 1    -   \n",
      "            accuracy =   0.992700       |  0.992700\n",
      "            precision =  0.992788  |   recall =    0.992700   |  f1 =    0.992700\n",
      "            pt file:  0.9987_fold_2/model.pkl\n",
      "    FOLD: 2    -   \n",
      "            accuracy =   0.992300       |  0.992300\n",
      "            precision =  0.992399  |   recall =    0.992300   |  f1 =    0.992300\n",
      "            pt file:  0.9986_fold_3/model.pkl\n",
      "    FOLD: 3    -   \n",
      "            accuracy =   0.991700       |  0.991700\n",
      "            precision =  0.991823  |   recall =    0.991700   |  f1 =    0.991699\n",
      "            pt file:  0.9987_fold_4/model.pkl\n",
      "    FOLD: 4    -   \n",
      "            accuracy =   0.991000       |  0.991000\n",
      "            precision =  0.991139  |   recall =    0.991000   |  f1 =    0.990999\n",
      "\n",
      "\n",
      " ==================================== monkey CHECKPOINT =========================\n"
     ]
    },
    {
     "name": "stderr",
     "output_type": "stream",
     "text": [
      "100%|██████████| 5000/5000 [00:24<00:00, 205.67it/s]\n",
      "100%|██████████| 5000/5000 [00:24<00:00, 201.51it/s]\n"
     ]
    },
    {
     "name": "stdout",
     "output_type": "stream",
     "text": [
      "            pt file:  0.9714_fold_0/model.pkl\n",
      "    FOLD: 0    -   \n",
      "            accuracy =   0.978900       |  0.978900\n",
      "            precision =  0.978967  |   recall =    0.978900   |  f1 =    0.978899\n",
      "            pt file:  0.9717_fold_1/model.pkl\n",
      "    FOLD: 1    -   \n",
      "            accuracy =   0.979200       |  0.979200\n",
      "            precision =  0.979260  |   recall =    0.979200   |  f1 =    0.979199\n",
      "            pt file:  0.9716_fold_2/model.pkl\n",
      "    FOLD: 2    -   \n",
      "            accuracy =   0.979700       |  0.979700\n",
      "            precision =  0.979742  |   recall =    0.979700   |  f1 =    0.979700\n",
      "            pt file:  0.972_fold_3/model.pkl\n",
      "    FOLD: 3    -   \n",
      "            accuracy =   0.977300       |  0.977300\n",
      "            precision =  0.977413  |   recall =    0.977300   |  f1 =    0.977299\n",
      "            pt file:  0.9723_fold_4/model.pkl\n",
      "    FOLD: 4    -   \n",
      "            accuracy =   0.977700       |  0.977700\n",
      "            precision =  0.977791  |   recall =    0.977700   |  f1 =    0.977699\n",
      "\n",
      "\n",
      " ==================================== reenact CHECKPOINT =========================\n"
     ]
    },
    {
     "name": "stderr",
     "output_type": "stream",
     "text": [
      "100%|██████████| 5000/5000 [00:27<00:00, 181.97it/s]\n",
      "100%|██████████| 4566/4566 [00:20<00:00, 223.31it/s]\n"
     ]
    },
    {
     "name": "stdout",
     "output_type": "stream",
     "text": [
      "            pt file:  0.9513_fold_0/model.pkl\n",
      "    FOLD: 0    -   \n",
      "            accuracy =   0.940600       |  0.940600\n",
      "            precision =  0.944496  |   recall =    0.937193   |  f1 =    0.939723\n",
      "            pt file:  0.9511_fold_1/model.pkl\n",
      "    FOLD: 1    -   \n",
      "            accuracy =   0.940100       |  0.940100\n",
      "            precision =  0.944080  |   recall =    0.936645   |  f1 =    0.939208\n",
      "            pt file:  0.9504_fold_2/model.pkl\n",
      "    FOLD: 2    -   \n",
      "            accuracy =   0.938500       |  0.938500\n",
      "            precision =  0.942955  |   recall =    0.934806   |  f1 =    0.937544\n",
      "            pt file:  0.9516_fold_3/model.pkl\n",
      "    FOLD: 3    -   \n",
      "            accuracy =   0.941000       |  0.941000\n",
      "            precision =  0.944790  |   recall =    0.937648   |  f1 =    0.940138\n",
      "            pt file:  0.9517_fold_4/model.pkl\n",
      "    FOLD: 4    -   \n",
      "            accuracy =   0.942000       |  0.942000\n",
      "            precision =  0.945853  |   recall =    0.938639   |  f1 =    0.941150\n",
      "\n",
      "\n",
      " ==================================== stargan CHECKPOINT =========================\n"
     ]
    },
    {
     "name": "stderr",
     "output_type": "stream",
     "text": [
      "100%|██████████| 5000/5000 [00:24<00:00, 201.51it/s]\n",
      "100%|██████████| 5000/5000 [00:39<00:00, 125.41it/s]\n"
     ]
    },
    {
     "name": "stdout",
     "output_type": "stream",
     "text": [
      "            pt file:  0.9092_fold_0/model.pkl\n",
      "    FOLD: 0    -   \n",
      "            accuracy =   0.882800       |  0.882800\n",
      "            precision =  0.884277  |   recall =    0.882800   |  f1 =    0.882687\n",
      "            pt file:  0.9106_fold_1/model.pkl\n",
      "    FOLD: 1    -   \n",
      "            accuracy =   0.883900       |  0.883900\n",
      "            precision =  0.885372  |   recall =    0.883900   |  f1 =    0.883789\n",
      "            pt file:  0.9088_fold_2/model.pkl\n",
      "    FOLD: 2    -   \n",
      "            accuracy =   0.883800       |  0.883800\n",
      "            precision =  0.885150  |   recall =    0.883800   |  f1 =    0.883698\n",
      "            pt file:  0.9118_fold_3/model.pkl\n",
      "    FOLD: 3    -   \n",
      "            accuracy =   0.885000       |  0.885000\n",
      "            precision =  0.886524  |   recall =    0.885000   |  f1 =    0.884887\n",
      "            pt file:  0.9097_fold_4/model.pkl\n",
      "    FOLD: 4    -   \n",
      "            accuracy =   0.880600       |  0.880600\n",
      "            precision =  0.882031  |   recall =    0.880600   |  f1 =    0.880488\n",
      "\n",
      "\n",
      " ==================================== x2face CHECKPOINT =========================\n"
     ]
    },
    {
     "name": "stderr",
     "output_type": "stream",
     "text": [
      "100%|██████████| 5000/5000 [00:28<00:00, 178.16it/s]\n",
      "100%|██████████| 5000/5000 [00:22<00:00, 226.16it/s]\n"
     ]
    },
    {
     "name": "stdout",
     "output_type": "stream",
     "text": [
      "            pt file:  0.923_fold_0/model.pkl\n",
      "    FOLD: 0    -   \n",
      "            accuracy =   0.901000       |  0.901000\n",
      "            precision =  0.909300  |   recall =    0.901000   |  f1 =    0.900496\n",
      "            pt file:  0.9229_fold_1/model.pkl\n",
      "    FOLD: 1    -   \n",
      "            accuracy =   0.901100       |  0.901100\n",
      "            precision =  0.909714  |   recall =    0.901100   |  f1 =    0.900577\n",
      "            pt file:  0.9232_fold_2/model.pkl\n",
      "    FOLD: 2    -   \n",
      "            accuracy =   0.902600       |  0.902600\n",
      "            precision =  0.910885  |   recall =    0.902600   |  f1 =    0.902107\n",
      "            pt file:  0.9231_fold_3/model.pkl\n",
      "    FOLD: 3    -   \n",
      "            accuracy =   0.903800       |  0.903800\n",
      "            precision =  0.911639  |   recall =    0.903800   |  f1 =    0.903340\n",
      "            pt file:  0.9226_fold_4/model.pkl\n",
      "    FOLD: 4    -   \n",
      "            accuracy =   0.901400       |  0.901400\n",
      "            precision =  0.909756  |   recall =    0.901400   |  f1 =    0.900895\n",
      "\n",
      "*********************************************************\n",
      "             quality:  60\n",
      "\n",
      "\n",
      " ==================================== deepfake CHECKPOINT =========================\n"
     ]
    },
    {
     "name": "stderr",
     "output_type": "stream",
     "text": [
      "100%|██████████| 5000/5000 [00:22<00:00, 218.47it/s]\n",
      "100%|██████████| 5000/5000 [00:20<00:00, 243.29it/s]\n"
     ]
    },
    {
     "name": "stdout",
     "output_type": "stream",
     "text": [
      "            pt file:  0.9876_fold_0/model.pkl\n",
      "    FOLD: 0    -   \n",
      "            accuracy =   0.957600       |  0.957600\n",
      "            precision =  0.960685  |   recall =    0.957543   |  f1 =    0.957525\n",
      "            pt file:  0.9854_fold_1/model.pkl\n",
      "    FOLD: 1    -   \n",
      "            accuracy =   0.954800       |  0.954800\n",
      "            precision =  0.958304  |   recall =    0.954739   |  f1 =    0.954709\n",
      "            pt file:  0.9858_fold_2/model.pkl\n",
      "    FOLD: 2    -   \n",
      "            accuracy =   0.955700       |  0.955700\n",
      "            precision =  0.959066  |   recall =    0.955640   |  f1 =    0.955614\n",
      "            pt file:  0.988_fold_3/model.pkl\n",
      "    FOLD: 3    -   \n",
      "            accuracy =   0.958800       |  0.958800\n",
      "            precision =  0.961684  |   recall =    0.958745   |  f1 =    0.958732\n",
      "            pt file:  0.987_fold_4/model.pkl\n",
      "    FOLD: 4    -   \n",
      "            accuracy =   0.958300       |  0.958300\n",
      "            precision =  0.961315  |   recall =    0.958244   |  f1 =    0.958228\n",
      "\n",
      "\n",
      " ==================================== 3dmm CHECKPOINT =========================\n"
     ]
    },
    {
     "name": "stderr",
     "output_type": "stream",
     "text": [
      "100%|██████████| 5000/5000 [00:30<00:00, 165.68it/s]\n",
      "100%|██████████| 5000/5000 [00:23<00:00, 214.99it/s]\n"
     ]
    },
    {
     "name": "stdout",
     "output_type": "stream",
     "text": [
      "            pt file:  0.8929_fold_0/model.pkl\n",
      "    FOLD: 0    -   \n",
      "            accuracy =   0.849600       |  0.849600\n",
      "            precision =  0.855685  |   recall =    0.849600   |  f1 =    0.848954\n",
      "            pt file:  0.8934_fold_1/model.pkl\n",
      "    FOLD: 1    -   \n",
      "            accuracy =   0.848300       |  0.848300\n",
      "            precision =  0.854269  |   recall =    0.848300   |  f1 =    0.847658\n",
      "            pt file:  0.892_fold_2/model.pkl\n",
      "    FOLD: 2    -   \n",
      "            accuracy =   0.847700       |  0.847700\n",
      "            precision =  0.854390  |   recall =    0.847700   |  f1 =    0.846978\n",
      "            pt file:  0.8928_fold_3/model.pkl\n",
      "    FOLD: 3    -   \n",
      "            accuracy =   0.847300       |  0.847300\n",
      "            precision =  0.853983  |   recall =    0.847300   |  f1 =    0.846576\n",
      "            pt file:  0.8935_fold_4/model.pkl\n",
      "    FOLD: 4    -   \n",
      "            accuracy =   0.847200       |  0.847200\n",
      "            precision =  0.854847  |   recall =    0.847200   |  f1 =    0.846372\n",
      "\n",
      "\n",
      " ==================================== faceswap_2d CHECKPOINT =========================\n"
     ]
    },
    {
     "name": "stderr",
     "output_type": "stream",
     "text": [
      "100%|██████████| 5000/5000 [00:25<00:00, 194.70it/s]\n",
      "100%|██████████| 5000/5000 [04:31<00:00, 18.42it/s]\n"
     ]
    },
    {
     "name": "stdout",
     "output_type": "stream",
     "text": [
      "            pt file:  0.9949_fold_0/model.pkl\n",
      "    FOLD: 0    -   \n",
      "            accuracy =   0.990600       |  0.990600\n",
      "            precision =  0.990726  |   recall =    0.990600   |  f1 =    0.990599\n",
      "            pt file:  0.9947_fold_1/model.pkl\n",
      "    FOLD: 1    -   \n",
      "            accuracy =   0.990300       |  0.990300\n",
      "            precision =  0.990410  |   recall =    0.990300   |  f1 =    0.990299\n",
      "            pt file:  0.9949_fold_2/model.pkl\n",
      "    FOLD: 2    -   \n",
      "            accuracy =   0.991100       |  0.991100\n",
      "            precision =  0.991199  |   recall =    0.991100   |  f1 =    0.991100\n",
      "            pt file:  0.995_fold_3/model.pkl\n",
      "    FOLD: 3    -   \n",
      "            accuracy =   0.990900       |  0.990900\n",
      "            precision =  0.991005  |   recall =    0.990900   |  f1 =    0.990900\n",
      "            pt file:  0.9947_fold_4/model.pkl\n",
      "    FOLD: 4    -   \n",
      "            accuracy =   0.991100       |  0.991100\n",
      "            precision =  0.991205  |   recall =    0.991100   |  f1 =    0.991100\n",
      "\n",
      "\n",
      " ==================================== faceswap_3d CHECKPOINT =========================\n"
     ]
    },
    {
     "name": "stderr",
     "output_type": "stream",
     "text": [
      "100%|██████████| 5000/5000 [00:25<00:00, 192.67it/s]\n",
      "100%|██████████| 5000/5000 [04:17<00:00, 19.41it/s]\n"
     ]
    },
    {
     "name": "stdout",
     "output_type": "stream",
     "text": [
      "            pt file:  0.9988_fold_0/model.pkl\n",
      "    FOLD: 0    -   \n",
      "            accuracy =   0.981400       |  0.981400\n",
      "            precision =  0.982025  |   recall =    0.981400   |  f1 =    0.981394\n",
      "            pt file:  0.9988_fold_1/model.pkl\n",
      "    FOLD: 1    -   \n",
      "            accuracy =   0.983300       |  0.983300\n",
      "            precision =  0.983802  |   recall =    0.983300   |  f1 =    0.983296\n",
      "            pt file:  0.9987_fold_2/model.pkl\n",
      "    FOLD: 2    -   \n",
      "            accuracy =   0.983600       |  0.983600\n",
      "            precision =  0.984083  |   recall =    0.983600   |  f1 =    0.983596\n",
      "            pt file:  0.9986_fold_3/model.pkl\n",
      "    FOLD: 3    -   \n",
      "            accuracy =   0.982700       |  0.982700\n",
      "            precision =  0.983214  |   recall =    0.982700   |  f1 =    0.982695\n",
      "            pt file:  0.9987_fold_4/model.pkl\n",
      "    FOLD: 4    -   \n",
      "            accuracy =   0.982000       |  0.982000\n",
      "            precision =  0.982584  |   recall =    0.982000   |  f1 =    0.981995\n",
      "\n",
      "\n",
      " ==================================== monkey CHECKPOINT =========================\n"
     ]
    },
    {
     "name": "stderr",
     "output_type": "stream",
     "text": [
      "100%|██████████| 5000/5000 [00:28<00:00, 178.12it/s]\n",
      "100%|██████████| 5000/5000 [00:22<00:00, 225.56it/s]\n"
     ]
    },
    {
     "name": "stdout",
     "output_type": "stream",
     "text": [
      "            pt file:  0.9714_fold_0/model.pkl\n",
      "    FOLD: 0    -   \n",
      "            accuracy =   0.979900       |  0.979900\n",
      "            precision =  0.980475  |   recall =    0.979900   |  f1 =    0.979894\n",
      "            pt file:  0.9717_fold_1/model.pkl\n",
      "    FOLD: 1    -   \n",
      "            accuracy =   0.981300       |  0.981300\n",
      "            precision =  0.981800  |   recall =    0.981300   |  f1 =    0.981295\n",
      "            pt file:  0.9716_fold_2/model.pkl\n",
      "    FOLD: 2    -   \n",
      "            accuracy =   0.981500       |  0.981500\n",
      "            precision =  0.981975  |   recall =    0.981500   |  f1 =    0.981495\n",
      "            pt file:  0.972_fold_3/model.pkl\n",
      "    FOLD: 3    -   \n",
      "            accuracy =   0.977600       |  0.977600\n",
      "            precision =  0.978350  |   recall =    0.977600   |  f1 =    0.977591\n",
      "            pt file:  0.9723_fold_4/model.pkl\n",
      "    FOLD: 4    -   \n",
      "            accuracy =   0.978700       |  0.978700\n",
      "            precision =  0.979371  |   recall =    0.978700   |  f1 =    0.978693\n",
      "\n",
      "\n",
      " ==================================== reenact CHECKPOINT =========================\n"
     ]
    },
    {
     "name": "stderr",
     "output_type": "stream",
     "text": [
      "100%|██████████| 5000/5000 [00:26<00:00, 190.35it/s]\n",
      "100%|██████████| 4566/4566 [00:21<00:00, 209.79it/s]\n"
     ]
    },
    {
     "name": "stdout",
     "output_type": "stream",
     "text": [
      "            pt file:  0.9513_fold_0/model.pkl\n",
      "    FOLD: 0    -   \n",
      "            accuracy =   0.860600       |  0.860600\n",
      "            precision =  0.889368  |   recall =    0.848767   |  f1 =    0.854169\n",
      "            pt file:  0.9511_fold_1/model.pkl\n",
      "    FOLD: 1    -   \n",
      "            accuracy =   0.861200       |  0.861200\n",
      "            precision =  0.889751  |   recall =    0.849424   |  f1 =    0.854835\n",
      "            pt file:  0.9504_fold_2/model.pkl\n",
      "    FOLD: 2    -   \n",
      "            accuracy =   0.858100       |  0.858100\n",
      "            precision =  0.888073  |   recall =    0.845977   |  f1 =    0.851350\n",
      "            pt file:  0.9516_fold_3/model.pkl\n",
      "    FOLD: 3    -   \n",
      "            accuracy =   0.863000       |  0.863000\n",
      "            precision =  0.891386  |   recall =    0.851307   |  f1 =    0.856767\n",
      "            pt file:  0.9517_fold_4/model.pkl\n",
      "    FOLD: 4    -   \n",
      "            accuracy =   0.865700       |  0.865700\n",
      "            precision =  0.893118  |   recall =    0.854264   |  f1 =    0.859754\n",
      "\n",
      "\n",
      " ==================================== stargan CHECKPOINT =========================\n"
     ]
    },
    {
     "name": "stderr",
     "output_type": "stream",
     "text": [
      "100%|██████████| 5000/5000 [00:27<00:00, 183.53it/s]\n",
      "100%|██████████| 5000/5000 [00:43<00:00, 115.25it/s]\n"
     ]
    },
    {
     "name": "stdout",
     "output_type": "stream",
     "text": [
      "            pt file:  0.9092_fold_0/model.pkl\n",
      "    FOLD: 0    -   \n",
      "            accuracy =   0.714500       |  0.714500\n",
      "            precision =  0.790465  |   recall =    0.714500   |  f1 =    0.694527\n",
      "            pt file:  0.9106_fold_1/model.pkl\n",
      "    FOLD: 1    -   \n",
      "            accuracy =   0.713700       |  0.713700\n",
      "            precision =  0.791001  |   recall =    0.713700   |  f1 =    0.693335\n",
      "            pt file:  0.9088_fold_2/model.pkl\n",
      "    FOLD: 2    -   \n",
      "            accuracy =   0.711200       |  0.711200\n",
      "            precision =  0.788652  |   recall =    0.711200   |  f1 =    0.690434\n",
      "            pt file:  0.9118_fold_3/model.pkl\n",
      "    FOLD: 3    -   \n",
      "            accuracy =   0.713200       |  0.713200\n",
      "            precision =  0.790401  |   recall =    0.713200   |  f1 =    0.692782\n",
      "            pt file:  0.9097_fold_4/model.pkl\n",
      "    FOLD: 4    -   \n",
      "            accuracy =   0.711400       |  0.711400\n",
      "            precision =  0.788599  |   recall =    0.711400   |  f1 =    0.690717\n",
      "\n",
      "\n",
      " ==================================== x2face CHECKPOINT =========================\n"
     ]
    },
    {
     "name": "stderr",
     "output_type": "stream",
     "text": [
      "100%|██████████| 5000/5000 [00:31<00:00, 160.47it/s]\n",
      "100%|██████████| 5000/5000 [00:25<00:00, 194.90it/s]\n"
     ]
    },
    {
     "name": "stdout",
     "output_type": "stream",
     "text": [
      "            pt file:  0.923_fold_0/model.pkl\n",
      "    FOLD: 0    -   \n",
      "            accuracy =   0.816900       |  0.816900\n",
      "            precision =  0.860281  |   recall =    0.816900   |  f1 =    0.811217\n",
      "            pt file:  0.9229_fold_1/model.pkl\n",
      "    FOLD: 1    -   \n",
      "            accuracy =   0.815700       |  0.815700\n",
      "            precision =  0.859030  |   recall =    0.815700   |  f1 =    0.809966\n",
      "            pt file:  0.9232_fold_2/model.pkl\n",
      "    FOLD: 2    -   \n",
      "            accuracy =   0.817100       |  0.817100\n",
      "            precision =  0.860395  |   recall =    0.817100   |  f1 =    0.811437\n",
      "            pt file:  0.9231_fold_3/model.pkl\n",
      "    FOLD: 3    -   \n",
      "            accuracy =   0.817800       |  0.817800\n",
      "            precision =  0.859450  |   recall =    0.817800   |  f1 =    0.812365\n",
      "            pt file:  0.9226_fold_4/model.pkl\n",
      "    FOLD: 4    -   \n",
      "            accuracy =   0.816100       |  0.816100\n",
      "            precision =  0.858920  |   recall =    0.816100   |  f1 =    0.810447\n",
      "\n",
      "*********************************************************\n",
      "             quality:  50\n",
      "\n",
      "\n",
      " ==================================== deepfake CHECKPOINT =========================\n"
     ]
    },
    {
     "name": "stderr",
     "output_type": "stream",
     "text": [
      "100%|██████████| 5000/5000 [00:27<00:00, 180.39it/s]\n",
      "100%|██████████| 5000/5000 [00:21<00:00, 228.02it/s]\n"
     ]
    },
    {
     "name": "stdout",
     "output_type": "stream",
     "text": [
      "            pt file:  0.9876_fold_0/model.pkl\n",
      "    FOLD: 0    -   \n",
      "            accuracy =   0.945000       |  0.945000\n",
      "            precision =  0.950195  |   recall =    0.944925   |  f1 =    0.944834\n",
      "            pt file:  0.9854_fold_1/model.pkl\n",
      "    FOLD: 1    -   \n",
      "            accuracy =   0.942000       |  0.942000\n",
      "            precision =  0.947760  |   recall =    0.941921   |  f1 =    0.941806\n",
      "            pt file:  0.9858_fold_2/model.pkl\n",
      "    FOLD: 2    -   \n",
      "            accuracy =   0.944300       |  0.944300\n",
      "            precision =  0.949624  |   recall =    0.944224   |  f1 =    0.944128\n",
      "            pt file:  0.988_fold_3/model.pkl\n",
      "    FOLD: 3    -   \n",
      "            accuracy =   0.946600       |  0.946600\n",
      "            precision =  0.951504  |   recall =    0.946527   |  f1 =    0.946448\n",
      "            pt file:  0.987_fold_4/model.pkl\n",
      "    FOLD: 4    -   \n",
      "            accuracy =   0.947300       |  0.947300\n",
      "            precision =  0.952042  |   recall =    0.947229   |  f1 =    0.947155\n",
      "\n",
      "\n",
      " ==================================== 3dmm CHECKPOINT =========================\n"
     ]
    },
    {
     "name": "stderr",
     "output_type": "stream",
     "text": [
      "100%|██████████| 5000/5000 [00:28<00:00, 177.75it/s]\n",
      "100%|██████████| 5000/5000 [00:19<00:00, 261.35it/s]\n"
     ]
    },
    {
     "name": "stdout",
     "output_type": "stream",
     "text": [
      "            pt file:  0.8929_fold_0/model.pkl\n",
      "    FOLD: 0    -   \n",
      "            accuracy =   0.828500       |  0.828500\n",
      "            precision =  0.843385  |   recall =    0.828500   |  f1 =    0.826621\n",
      "            pt file:  0.8934_fold_1/model.pkl\n",
      "    FOLD: 1    -   \n",
      "            accuracy =   0.826100       |  0.826100\n",
      "            precision =  0.840522  |   recall =    0.826100   |  f1 =    0.824239\n",
      "            pt file:  0.892_fold_2/model.pkl\n",
      "    FOLD: 2    -   \n",
      "            accuracy =   0.824200       |  0.824200\n",
      "            precision =  0.840501  |   recall =    0.824200   |  f1 =    0.822070\n",
      "            pt file:  0.8928_fold_3/model.pkl\n",
      "    FOLD: 3    -   \n",
      "            accuracy =   0.826100       |  0.826100\n",
      "            precision =  0.841905  |   recall =    0.826100   |  f1 =    0.824067\n",
      "            pt file:  0.8935_fold_4/model.pkl\n",
      "    FOLD: 4    -   \n",
      "            accuracy =   0.824700       |  0.824700\n",
      "            precision =  0.840932  |   recall =    0.824700   |  f1 =    0.822588\n",
      "\n",
      "\n",
      " ==================================== faceswap_2d CHECKPOINT =========================\n"
     ]
    },
    {
     "name": "stderr",
     "output_type": "stream",
     "text": [
      "100%|██████████| 5000/5000 [00:36<00:00, 136.94it/s]\n",
      "100%|██████████| 5000/5000 [05:45<00:00, 14.49it/s]\n"
     ]
    },
    {
     "name": "stdout",
     "output_type": "stream",
     "text": [
      "            pt file:  0.9949_fold_0/model.pkl\n",
      "    FOLD: 0    -   \n",
      "            accuracy =   0.989000       |  0.989000\n",
      "            precision =  0.989188  |   recall =    0.989000   |  f1 =    0.988999\n",
      "            pt file:  0.9947_fold_1/model.pkl\n",
      "    FOLD: 1    -   \n",
      "            accuracy =   0.988500       |  0.988500\n",
      "            precision =  0.988707  |   recall =    0.988500   |  f1 =    0.988499\n",
      "            pt file:  0.9949_fold_2/model.pkl\n",
      "    FOLD: 2    -   \n",
      "            accuracy =   0.989600       |  0.989600\n",
      "            precision =  0.989773  |   recall =    0.989600   |  f1 =    0.989599\n",
      "            pt file:  0.995_fold_3/model.pkl\n",
      "    FOLD: 3    -   \n",
      "            accuracy =   0.989000       |  0.989000\n",
      "            precision =  0.989173  |   recall =    0.989000   |  f1 =    0.988999\n",
      "            pt file:  0.9947_fold_4/model.pkl\n",
      "    FOLD: 4    -   \n",
      "            accuracy =   0.989000       |  0.989000\n",
      "            precision =  0.989180  |   recall =    0.989000   |  f1 =    0.988999\n",
      "\n",
      "\n",
      " ==================================== faceswap_3d CHECKPOINT =========================\n"
     ]
    },
    {
     "name": "stderr",
     "output_type": "stream",
     "text": [
      "100%|██████████| 5000/5000 [00:32<00:00, 153.16it/s]\n",
      "100%|██████████| 5000/5000 [05:58<00:00, 13.96it/s]\n"
     ]
    },
    {
     "name": "stdout",
     "output_type": "stream",
     "text": [
      "            pt file:  0.9988_fold_0/model.pkl\n",
      "    FOLD: 0    -   \n",
      "            accuracy =   0.970400       |  0.970400\n",
      "            precision =  0.972010  |   recall =    0.970400   |  f1 =    0.970375\n",
      "            pt file:  0.9988_fold_1/model.pkl\n",
      "    FOLD: 1    -   \n",
      "            accuracy =   0.974900       |  0.974900\n",
      "            precision =  0.976081  |   recall =    0.974900   |  f1 =    0.974884\n",
      "            pt file:  0.9987_fold_2/model.pkl\n",
      "    FOLD: 2    -   \n",
      "            accuracy =   0.974200       |  0.974200\n",
      "            precision =  0.975446  |   recall =    0.974200   |  f1 =    0.974183\n",
      "            pt file:  0.9986_fold_3/model.pkl\n",
      "    FOLD: 3    -   \n",
      "            accuracy =   0.973300       |  0.973300\n",
      "            precision =  0.974613  |   recall =    0.973300   |  f1 =    0.973282\n",
      "            pt file:  0.9987_fold_4/model.pkl\n",
      "    FOLD: 4    -   \n",
      "            accuracy =   0.970700       |  0.970700\n",
      "            precision =  0.972300  |   recall =    0.970700   |  f1 =    0.970675\n",
      "\n",
      "\n",
      " ==================================== monkey CHECKPOINT =========================\n"
     ]
    },
    {
     "name": "stderr",
     "output_type": "stream",
     "text": [
      "100%|██████████| 5000/5000 [00:38<00:00, 130.75it/s]\n",
      "100%|██████████| 5000/5000 [00:39<00:00, 127.01it/s]\n"
     ]
    },
    {
     "name": "stdout",
     "output_type": "stream",
     "text": [
      "            pt file:  0.9714_fold_0/model.pkl\n",
      "    FOLD: 0    -   \n",
      "            accuracy =   0.979000       |  0.979000\n",
      "            precision =  0.979752  |   recall =    0.979000   |  f1 =    0.978992\n",
      "            pt file:  0.9717_fold_1/model.pkl\n",
      "    FOLD: 1    -   \n",
      "            accuracy =   0.980900       |  0.980900\n",
      "            precision =  0.981531  |   recall =    0.980900   |  f1 =    0.980894\n",
      "            pt file:  0.9716_fold_2/model.pkl\n",
      "    FOLD: 2    -   \n",
      "            accuracy =   0.981600       |  0.981600\n",
      "            precision =  0.982171  |   recall =    0.981600   |  f1 =    0.981595\n",
      "            pt file:  0.972_fold_3/model.pkl\n",
      "    FOLD: 3    -   \n",
      "            accuracy =   0.975900       |  0.975900\n",
      "            precision =  0.976918  |   recall =    0.975900   |  f1 =    0.975887\n",
      "            pt file:  0.9723_fold_4/model.pkl\n",
      "    FOLD: 4    -   \n",
      "            accuracy =   0.977500       |  0.977500\n",
      "            precision =  0.978385  |   recall =    0.977500   |  f1 =    0.977490\n",
      "\n",
      "\n",
      " ==================================== reenact CHECKPOINT =========================\n"
     ]
    },
    {
     "name": "stderr",
     "output_type": "stream",
     "text": [
      "100%|██████████| 5000/5000 [00:33<00:00, 150.39it/s]\n",
      "100%|██████████| 4566/4566 [00:27<00:00, 165.51it/s]\n"
     ]
    },
    {
     "name": "stdout",
     "output_type": "stream",
     "text": [
      "            pt file:  0.9513_fold_0/model.pkl\n",
      "    FOLD: 0    -   \n",
      "            accuracy =   0.808500       |  0.808500\n",
      "            precision =  0.860594  |   recall =    0.791382   |  f1 =    0.793930\n",
      "            pt file:  0.9511_fold_1/model.pkl\n",
      "    FOLD: 1    -   \n",
      "            accuracy =   0.806800       |  0.806800\n",
      "            precision =  0.859095  |   recall =    0.789591   |  f1 =    0.791994\n",
      "            pt file:  0.9504_fold_2/model.pkl\n",
      "    FOLD: 2    -   \n",
      "            accuracy =   0.804800       |  0.804800\n",
      "            precision =  0.859259  |   recall =    0.787243   |  f1 =    0.789377\n",
      "            pt file:  0.9516_fold_3/model.pkl\n",
      "    FOLD: 3    -   \n",
      "            accuracy =   0.808300       |  0.808300\n",
      "            precision =  0.860760  |   recall =    0.791128   |  f1 =    0.793644\n",
      "            pt file:  0.9517_fold_4/model.pkl\n",
      "    FOLD: 4    -   \n",
      "            accuracy =   0.812100       |  0.812100\n",
      "            precision =  0.862870  |   recall =    0.795290   |  f1 =    0.798172\n",
      "\n",
      "\n",
      " ==================================== stargan CHECKPOINT =========================\n"
     ]
    },
    {
     "name": "stderr",
     "output_type": "stream",
     "text": [
      "100%|██████████| 5000/5000 [00:31<00:00, 157.82it/s]\n",
      "100%|██████████| 5000/5000 [00:46<00:00, 107.18it/s]\n"
     ]
    },
    {
     "name": "stdout",
     "output_type": "stream",
     "text": [
      "            pt file:  0.9092_fold_0/model.pkl\n",
      "    FOLD: 0    -   \n",
      "            accuracy =   0.696800       |  0.696800\n",
      "            precision =  0.794919  |   recall =    0.696800   |  f1 =    0.669294\n",
      "            pt file:  0.9106_fold_1/model.pkl\n",
      "    FOLD: 1    -   \n",
      "            accuracy =   0.695400       |  0.695400\n",
      "            precision =  0.794044  |   recall =    0.695400   |  f1 =    0.667515\n",
      "            pt file:  0.9088_fold_2/model.pkl\n",
      "    FOLD: 2    -   \n",
      "            accuracy =   0.701500       |  0.701500\n",
      "            precision =  0.796183  |   recall =    0.701500   |  f1 =    0.675572\n",
      "            pt file:  0.9118_fold_3/model.pkl\n",
      "    FOLD: 3    -   \n",
      "            accuracy =   0.696500       |  0.696500\n",
      "            precision =  0.794368  |   recall =    0.696500   |  f1 =    0.668987\n",
      "            pt file:  0.9097_fold_4/model.pkl\n",
      "    FOLD: 4    -   \n",
      "            accuracy =   0.697100       |  0.697100\n",
      "            precision =  0.794252  |   recall =    0.697100   |  f1 =    0.669849\n",
      "\n",
      "\n",
      " ==================================== x2face CHECKPOINT =========================\n"
     ]
    },
    {
     "name": "stderr",
     "output_type": "stream",
     "text": [
      "100%|██████████| 5000/5000 [00:31<00:00, 158.65it/s]\n",
      "100%|██████████| 5000/5000 [00:26<00:00, 185.45it/s]\n"
     ]
    },
    {
     "name": "stdout",
     "output_type": "stream",
     "text": [
      "            pt file:  0.923_fold_0/model.pkl\n",
      "    FOLD: 0    -   \n",
      "            accuracy =   0.745100       |  0.745100\n",
      "            precision =  0.826539  |   recall =    0.745100   |  f1 =    0.728150\n",
      "            pt file:  0.9229_fold_1/model.pkl\n",
      "    FOLD: 1    -   \n",
      "            accuracy =   0.742900       |  0.742900\n",
      "            precision =  0.823780  |   recall =    0.742900   |  f1 =    0.725775\n",
      "            pt file:  0.9232_fold_2/model.pkl\n",
      "    FOLD: 2    -   \n",
      "            accuracy =   0.746100       |  0.746100\n",
      "            precision =  0.827176  |   recall =    0.746100   |  f1 =    0.729332\n",
      "            pt file:  0.9231_fold_3/model.pkl\n",
      "    FOLD: 3    -   \n",
      "            accuracy =   0.746900       |  0.746900\n",
      "            precision =  0.825669  |   recall =    0.746900   |  f1 =    0.730611\n",
      "            pt file:  0.9226_fold_4/model.pkl\n",
      "    FOLD: 4    -   \n",
      "            accuracy =   0.743300       |  0.743300\n",
      "            precision =  0.823968  |   recall =    0.743300   |  f1 =    0.726260\n"
     ]
    }
   ],
   "source": [
    "import torch\n",
    "import random\n",
    "import numpy as np\n",
    "import os\n",
    "import torch.nn as nn\n",
    "from glob import glob\n",
    "from tqdm import tqdm\n",
    "from os.path import join\n",
    "import os.path as osp\n",
    "import pickle\n",
    "from sklearn.metrics import accuracy_score, precision_score, recall_score, f1_score\n",
    "from util import *\n",
    "\n",
    "def calculate_metric(y_label, y_pred_label):\n",
    "    mic_accuracy = accuracy_score(y_label, y_pred_label)\n",
    "    macro_precision = precision_score(y_label, y_pred_label, average='macro')\n",
    "    macro_recall = recall_score(y_label, y_pred_label, average='macro')\n",
    "    macro_f1 = f1_score(y_label, y_pred_label, average='macro')\n",
    "    return mic_accuracy, macro_precision, macro_recall, macro_f1\n",
    "\n",
    "def eval_spectrum(data, model_file):\n",
    "    pkl_file = open(data, 'rb')\n",
    "    data = pickle.load(pkl_file)\n",
    "    pkl_file.close()\n",
    "    X = data[\"data\"]\n",
    "    y = data[\"label\"]\n",
    "    with open(model_file, 'rb') as f:\n",
    "        svclassifier_r = pickle.load(f)\n",
    "    # print(\"Loaded.\")\n",
    "    SVM_score = svclassifier_r.score(X, y)\n",
    "    # print(\"accuracy by score function: \" + str(SVM_score))\n",
    "    ##### CALCULATE METRIC:\n",
    "    y_pred = svclassifier_r.predict(X)\n",
    "    acc, pre, rec, f1 = calculate_metric(y, y_pred)\n",
    "    # print(\"accuracy: \" + str(acc))\n",
    "    # print(\"precision: \" + str(pre))\n",
    "    # print(\"recall: \" + str(rec))\n",
    "    # print(\"f1 score: \" + str(f1))\n",
    "    return SVM_score, acc, pre, rec, f1\n",
    "\n",
    "def extract_test_features(test_dir: str, output_test: str, brightness: float, contrast: float, std=0, missing_value=0, quality=100, type_transform='noise'):\n",
    "    testset = get_test_path(test_dir=test_dir)\n",
    "    real_path, fake_path = split_real_fake(train_paths=testset)\n",
    "    extract_spectrum_features(real_path, fake_path, -1, output_test, brightness=brightness, contrast=contrast, std=std, miss_size=missing_value, quality=quality, type_transform=type_transform)\n",
    "    return output_test\n",
    "\n",
    "\n",
    "test_dir_template = \"/mnt/disk1/doan/phucnp/Dataset/my_extend_data/extend_data_train/{}/test\"\n",
    "\n",
    "checkpoints = {\n",
    "    \"deepfake\": \"/mnt/disk1/doan/phucnp/Graduation_Thesis/my_thesis/forensics/ml_technique/checkpoint/deepfake/spectrum/c_2.000000\",\n",
    "    \"faceswap_2d\": \"/mnt/disk1/doan/phucnp/Graduation_Thesis/my_thesis/forensics/ml_technique/checkpoint/faceswap_2d/spectrum/c_2.000000\",\n",
    "    \"3dmm\": \"/mnt/disk1/doan/phucnp/Graduation_Thesis/my_thesis/forensics/ml_technique/checkpoint/3dmm/spectrum/c_2.000000\",\n",
    "    \"faceswap_3d\": \"/mnt/disk1/doan/phucnp/Graduation_Thesis/my_thesis/forensics/ml_technique/checkpoint/faceswap_3d/spectrum/c_2.000000\",\n",
    "    \"monkey\": \"/mnt/disk1/doan/phucnp/Graduation_Thesis/my_thesis/forensics/ml_technique/checkpoint/monkey/spectrum/c_2.000000\",\n",
    "    \"reenact\": \"/mnt/disk1/doan/phucnp/Graduation_Thesis/my_thesis/forensics/ml_technique/checkpoint/reenact/spectrum/c_2.000000\",\n",
    "    \"stargan\": \"/mnt/disk1/doan/phucnp/Graduation_Thesis/my_thesis/forensics/ml_technique/checkpoint/stargan/spectrum/c_2.000000\",\n",
    "    \"x2face\": \"/mnt/disk1/doan/phucnp/Graduation_Thesis/my_thesis/forensics/ml_technique/checkpoint/x2face/spectrum/c_2.000000\"\n",
    "}\n",
    "\n",
    "brightness = 1.0\n",
    "contrast = 1.0\n",
    "std= 0\n",
    "missing_value = 0.0\n",
    "qualitys=[100, 90, 80, 70, 60, 50]\n",
    "type_transform = 'compression'\n",
    "\n",
    "for quality in qualitys:\n",
    "    print(\"\\n*********************************************************\")\n",
    "    print(\"             quality: \", quality)\n",
    "    for technique in ['deepfake', '3dmm', 'faceswap_2d', 'faceswap_3d', 'monkey', 'reenact', 'stargan', 'x2face']:\n",
    "        checkpoint = checkpoints[technique]\n",
    "        print(\"\\n\\n ==================================== {} CHECKPOINT =========================\".format(technique))\n",
    "\n",
    "        my_break = False\n",
    "        # filename = '/contrast{}.pkl'.format(contrast)\n",
    "        # filename = '/noise{}.pkl'.format(std)\n",
    "        # filename = '/missing{}.pkl'.format(missing_value)\n",
    "        filename = '/compression{}.pkl'.format(quality)\n",
    "        output_test = '/mnt/disk1/doan/phucnp/Graduation_Thesis/my_thesis/forensics/ml_technique/spectrum/output_features/' + get_datasetname(test_dir_template.format(technique)) + filename\n",
    "        test_features = extract_test_features(test_dir=test_dir_template.format(technique), output_test=output_test, brightness = brightness, contrast=contrast, std=std, missing_value=missing_value, quality=quality, type_transform=type_transform)        \n",
    "        \n",
    "        for pkl_file in sorted(glob(join(checkpoint, '*/*.pkl')), key=lambda pkl: int(pkl.split('/')[-2][-1])):\n",
    "            if 'model' not in pkl_file:\n",
    "                continue\n",
    "                \n",
    "            fold_id = pkl_file.split('/')[-2][-1]\n",
    "            ####\n",
    "            SVM_score, acc, pre, rec, f1 = eval_spectrum(test_features, pkl_file)\n",
    "            print(\"            pt file: \", '/'.join(pkl_file.split('/')[-2:]))\n",
    "            print(\"    FOLD: {}    -   \".format(fold_id))\n",
    "            print(\"            accuracy =   {:.6f}       |  {:6f}\".format(SVM_score, acc))\n",
    "            print(\"            precision =  {:.6f}  |   recall =    {:.6f}   |  f1 =    {:.6f}\".format(pre, rec, f1))\n",
    "\n",
    "            # if brightness == 1.0:\n",
    "            #     from_acc = float(pkl_file.split('/')[-2].split('_')[0])\n",
    "            #     # if abs(round(loss, 4) - round(bestloss, 4)) > 0.001:\n",
    "            #     #     print(\"         Error in loss: {}, {}\".format(loss, bestloss))\n",
    "            #     #     my_break = True\n",
    "            #     if abs(round(from_acc, 4) - round(acc, 4)) > 0.001:\n",
    "            #         print(\"         Error in acc: {}, {}\".format(from_acc, acc))\n",
    "            #         my_break = True\n",
    "\n",
    "            #     if my_break:\n",
    "            #         break\n",
    "\n",
    "\n",
    "\n",
    "        if my_break:\n",
    "            break"
   ]
  }
 ],
 "metadata": {
  "kernelspec": {
   "display_name": "Python 3.8.13 ('phucnp')",
   "language": "python",
   "name": "python3"
  },
  "language_info": {
   "codemirror_mode": {
    "name": "ipython",
    "version": 3
   },
   "file_extension": ".py",
   "mimetype": "text/x-python",
   "name": "python",
   "nbconvert_exporter": "python",
   "pygments_lexer": "ipython3",
   "version": "3.8.13"
  },
  "orig_nbformat": 4,
  "vscode": {
   "interpreter": {
    "hash": "73e4523d5c5fcabc881bfbabdc03d28b885253c65d62f8f3eb31939c7679911f"
   }
  }
 },
 "nbformat": 4,
 "nbformat_minor": 2
}
