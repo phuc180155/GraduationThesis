{
 "cells": [
  {
   "cell_type": "code",
   "execution_count": 1,
   "metadata": {},
   "outputs": [
    {
     "name": "stderr",
     "output_type": "stream",
     "text": [
      "/mnt/disk1/anaconda3/envs/phucnp/lib/python3.8/site-packages/tqdm/auto.py:22: TqdmWarning: IProgress not found. Please update jupyter and ipywidgets. See https://ipywidgets.readthedocs.io/en/stable/user_install.html\n",
      "  from .autonotebook import tqdm as notebook_tqdm\n"
     ]
    },
    {
     "name": "stdout",
     "output_type": "stream",
     "text": [
      "\n",
      "*********************************************************\n",
      "             contrast:  1.0\n",
      "\n",
      "\n",
      " ==================================== deepfake CHECKPOINT =========================\n"
     ]
    },
    {
     "name": "stderr",
     "output_type": "stream",
     "text": [
      "100%|██████████| 5000/5000 [00:23<00:00, 216.87it/s]\n",
      "100%|██████████| 5000/5000 [00:18<00:00, 275.22it/s]\n"
     ]
    },
    {
     "name": "stdout",
     "output_type": "stream",
     "text": [
      "            pt file:  0.9876_fold_0/model.pkl\n",
      "    FOLD: 0    -   \n",
      "            accuracy =   0.987600       |  0.987600\n",
      "            precision =  0.987711  |   recall =    0.987590   |  f1 =    0.987599\n",
      "            pt file:  0.9854_fold_1/model.pkl\n",
      "    FOLD: 1    -   \n",
      "            accuracy =   0.985400       |  0.985400\n",
      "            precision =  0.985555  |   recall =    0.985388   |  f1 =    0.985399\n",
      "            pt file:  0.9858_fold_2/model.pkl\n",
      "    FOLD: 2    -   \n",
      "            accuracy =   0.985800       |  0.985800\n",
      "            precision =  0.985942  |   recall =    0.985788   |  f1 =    0.985799\n",
      "            pt file:  0.988_fold_3/model.pkl\n",
      "    FOLD: 3    -   \n",
      "            accuracy =   0.988000       |  0.988000\n",
      "            precision =  0.988111  |   recall =    0.987990   |  f1 =    0.987999\n",
      "            pt file:  0.987_fold_4/model.pkl\n",
      "    FOLD: 4    -   \n",
      "            accuracy =   0.987000       |  0.987000\n",
      "            precision =  0.987105  |   recall =    0.986990   |  f1 =    0.986999\n",
      "\n",
      "\n",
      " ==================================== 3dmm CHECKPOINT =========================\n"
     ]
    },
    {
     "name": "stderr",
     "output_type": "stream",
     "text": [
      "100%|██████████| 5000/5000 [00:22<00:00, 220.74it/s]\n",
      "100%|██████████| 5000/5000 [00:16<00:00, 308.01it/s]\n"
     ]
    },
    {
     "name": "stdout",
     "output_type": "stream",
     "text": [
      "            pt file:  0.8929_fold_0/model.pkl\n",
      "    FOLD: 0    -   \n",
      "            accuracy =   0.892900       |  0.892900\n",
      "            precision =  0.892951  |   recall =    0.892900   |  f1 =    0.892897\n",
      "            pt file:  0.8934_fold_1/model.pkl\n",
      "    FOLD: 1    -   \n",
      "            accuracy =   0.893400       |  0.893400\n",
      "            precision =  0.893428  |   recall =    0.893400   |  f1 =    0.893398\n",
      "            pt file:  0.892_fold_2/model.pkl\n",
      "    FOLD: 2    -   \n",
      "            accuracy =   0.892000       |  0.892000\n",
      "            precision =  0.892020  |   recall =    0.892000   |  f1 =    0.891999\n",
      "            pt file:  0.8928_fold_3/model.pkl\n",
      "    FOLD: 3    -   \n",
      "            accuracy =   0.892800       |  0.892800\n",
      "            precision =  0.892809  |   recall =    0.892800   |  f1 =    0.892799\n",
      "            pt file:  0.8935_fold_4/model.pkl\n",
      "    FOLD: 4    -   \n",
      "            accuracy =   0.893500       |  0.893500\n",
      "            precision =  0.893544  |   recall =    0.893500   |  f1 =    0.893497\n",
      "\n",
      "\n",
      " ==================================== faceswap_2d CHECKPOINT =========================\n"
     ]
    },
    {
     "name": "stderr",
     "output_type": "stream",
     "text": [
      "100%|██████████| 5000/5000 [00:24<00:00, 208.31it/s]\n",
      "100%|██████████| 5000/5000 [03:40<00:00, 22.67it/s]\n"
     ]
    },
    {
     "name": "stdout",
     "output_type": "stream",
     "text": [
      "            pt file:  0.9949_fold_0/model.pkl\n",
      "    FOLD: 0    -   \n",
      "            accuracy =   0.994900       |  0.994900\n",
      "            precision =  0.994906  |   recall =    0.994900   |  f1 =    0.994900\n",
      "            pt file:  0.9947_fold_1/model.pkl\n",
      "    FOLD: 1    -   \n",
      "            accuracy =   0.994700       |  0.994700\n",
      "            precision =  0.994707  |   recall =    0.994700   |  f1 =    0.994700\n",
      "            pt file:  0.9949_fold_2/model.pkl\n",
      "    FOLD: 2    -   \n",
      "            accuracy =   0.994900       |  0.994900\n",
      "            precision =  0.994907  |   recall =    0.994900   |  f1 =    0.994900\n",
      "            pt file:  0.995_fold_3/model.pkl\n",
      "    FOLD: 3    -   \n",
      "            accuracy =   0.995000       |  0.995000\n",
      "            precision =  0.995004  |   recall =    0.995000   |  f1 =    0.995000\n",
      "            pt file:  0.9947_fold_4/model.pkl\n",
      "    FOLD: 4    -   \n",
      "            accuracy =   0.994700       |  0.994700\n",
      "            precision =  0.994709  |   recall =    0.994700   |  f1 =    0.994700\n",
      "\n",
      "\n",
      " ==================================== faceswap_3d CHECKPOINT =========================\n"
     ]
    },
    {
     "name": "stderr",
     "output_type": "stream",
     "text": [
      "100%|██████████| 5000/5000 [00:23<00:00, 217.03it/s]\n",
      "100%|██████████| 5000/5000 [03:41<00:00, 22.56it/s]\n"
     ]
    },
    {
     "name": "stdout",
     "output_type": "stream",
     "text": [
      "            pt file:  0.9988_fold_0/model.pkl\n",
      "    FOLD: 0    -   \n",
      "            accuracy =   0.998800       |  0.998800\n",
      "            precision =  0.998801  |   recall =    0.998800   |  f1 =    0.998800\n",
      "            pt file:  0.9988_fold_1/model.pkl\n",
      "    FOLD: 1    -   \n",
      "            accuracy =   0.998800       |  0.998800\n",
      "            precision =  0.998801  |   recall =    0.998800   |  f1 =    0.998800\n",
      "            pt file:  0.9987_fold_2/model.pkl\n",
      "    FOLD: 2    -   \n",
      "            accuracy =   0.998700       |  0.998700\n",
      "            precision =  0.998701  |   recall =    0.998700   |  f1 =    0.998700\n",
      "            pt file:  0.9986_fold_3/model.pkl\n",
      "    FOLD: 3    -   \n",
      "            accuracy =   0.998600       |  0.998600\n",
      "            precision =  0.998601  |   recall =    0.998600   |  f1 =    0.998600\n",
      "            pt file:  0.9987_fold_4/model.pkl\n",
      "    FOLD: 4    -   \n",
      "            accuracy =   0.998700       |  0.998700\n",
      "            precision =  0.998702  |   recall =    0.998700   |  f1 =    0.998700\n",
      "\n",
      "\n",
      " ==================================== monkey CHECKPOINT =========================\n"
     ]
    },
    {
     "name": "stderr",
     "output_type": "stream",
     "text": [
      "100%|██████████| 5000/5000 [00:23<00:00, 212.57it/s]\n",
      "100%|██████████| 5000/5000 [00:22<00:00, 226.61it/s]\n"
     ]
    },
    {
     "name": "stdout",
     "output_type": "stream",
     "text": [
      "            pt file:  0.9714_fold_0/model.pkl\n",
      "    FOLD: 0    -   \n",
      "            accuracy =   0.971400       |  0.971400\n",
      "            precision =  0.971729  |   recall =    0.971400   |  f1 =    0.971395\n",
      "            pt file:  0.9717_fold_1/model.pkl\n",
      "    FOLD: 1    -   \n",
      "            accuracy =   0.971700       |  0.971700\n",
      "            precision =  0.972054  |   recall =    0.971700   |  f1 =    0.971695\n",
      "            pt file:  0.9716_fold_2/model.pkl\n",
      "    FOLD: 2    -   \n",
      "            accuracy =   0.971600       |  0.971600\n",
      "            precision =  0.971970  |   recall =    0.971600   |  f1 =    0.971594\n",
      "            pt file:  0.972_fold_3/model.pkl\n",
      "    FOLD: 3    -   \n",
      "            accuracy =   0.972000       |  0.972000\n",
      "            precision =  0.972310  |   recall =    0.972000   |  f1 =    0.971995\n",
      "            pt file:  0.9723_fold_4/model.pkl\n",
      "    FOLD: 4    -   \n",
      "            accuracy =   0.972300       |  0.972300\n",
      "            precision =  0.972645  |   recall =    0.972300   |  f1 =    0.972295\n",
      "\n",
      "\n",
      " ==================================== reenact CHECKPOINT =========================\n"
     ]
    },
    {
     "name": "stderr",
     "output_type": "stream",
     "text": [
      "100%|██████████| 5000/5000 [00:22<00:00, 221.85it/s]\n",
      "100%|██████████| 4566/4566 [00:18<00:00, 250.81it/s]\n"
     ]
    },
    {
     "name": "stdout",
     "output_type": "stream",
     "text": [
      "            pt file:  0.9513_fold_0/model.pkl\n",
      "    FOLD: 0    -   \n",
      "            accuracy =   0.951300       |  0.951300\n",
      "            precision =  0.951744  |   recall =    0.950117   |  f1 =    0.950846\n",
      "            pt file:  0.9511_fold_1/model.pkl\n",
      "    FOLD: 1    -   \n",
      "            accuracy =   0.951100       |  0.951100\n",
      "            precision =  0.951605  |   recall =    0.949863   |  f1 =    0.950638\n",
      "            pt file:  0.9504_fold_2/model.pkl\n",
      "    FOLD: 2    -   \n",
      "            accuracy =   0.950400       |  0.950400\n",
      "            precision =  0.950951  |   recall =    0.949114   |  f1 =    0.949927\n",
      "            pt file:  0.9516_fold_3/model.pkl\n",
      "    FOLD: 3    -   \n",
      "            accuracy =   0.951600       |  0.951600\n",
      "            precision =  0.951914  |   recall =    0.950533   |  f1 =    0.951161\n",
      "            pt file:  0.9517_fold_4/model.pkl\n",
      "    FOLD: 4    -   \n",
      "            accuracy =   0.951700       |  0.951700\n",
      "            precision =  0.952170  |   recall =    0.950502   |  f1 =    0.951248\n",
      "\n",
      "\n",
      " ==================================== stargan CHECKPOINT =========================\n"
     ]
    },
    {
     "name": "stderr",
     "output_type": "stream",
     "text": [
      "100%|██████████| 5000/5000 [00:18<00:00, 266.93it/s]\n",
      "100%|██████████| 5000/5000 [00:35<00:00, 142.26it/s]\n"
     ]
    },
    {
     "name": "stdout",
     "output_type": "stream",
     "text": [
      "            pt file:  0.9092_fold_0/model.pkl\n",
      "    FOLD: 0    -   \n",
      "            accuracy =   0.909200       |  0.909200\n",
      "            precision =  0.912572  |   recall =    0.909200   |  f1 =    0.909014\n",
      "            pt file:  0.9106_fold_1/model.pkl\n",
      "    FOLD: 1    -   \n",
      "            accuracy =   0.910600       |  0.910600\n",
      "            precision =  0.914044  |   recall =    0.910600   |  f1 =    0.910414\n",
      "            pt file:  0.9088_fold_2/model.pkl\n",
      "    FOLD: 2    -   \n",
      "            accuracy =   0.908800       |  0.908800\n",
      "            precision =  0.912259  |   recall =    0.908800   |  f1 =    0.908608\n",
      "            pt file:  0.9118_fold_3/model.pkl\n",
      "    FOLD: 3    -   \n",
      "            accuracy =   0.911800       |  0.911800\n",
      "            precision =  0.915043  |   recall =    0.911800   |  f1 =    0.911627\n",
      "            pt file:  0.9097_fold_4/model.pkl\n",
      "    FOLD: 4    -   \n",
      "            accuracy =   0.909700       |  0.909700\n",
      "            precision =  0.913368  |   recall =    0.909700   |  f1 =    0.909499\n",
      "\n",
      "\n",
      " ==================================== x2face CHECKPOINT =========================\n"
     ]
    },
    {
     "name": "stderr",
     "output_type": "stream",
     "text": [
      "100%|██████████| 5000/5000 [00:21<00:00, 230.06it/s]\n",
      "100%|██████████| 5000/5000 [00:18<00:00, 263.66it/s]\n"
     ]
    },
    {
     "name": "stdout",
     "output_type": "stream",
     "text": [
      "            pt file:  0.923_fold_0/model.pkl\n",
      "    FOLD: 0    -   \n",
      "            accuracy =   0.923000       |  0.923000\n",
      "            precision =  0.923108  |   recall =    0.923000   |  f1 =    0.922995\n",
      "            pt file:  0.9229_fold_1/model.pkl\n",
      "    FOLD: 1    -   \n",
      "            accuracy =   0.922900       |  0.922900\n",
      "            precision =  0.923059  |   recall =    0.922900   |  f1 =    0.922893\n",
      "            pt file:  0.9232_fold_2/model.pkl\n",
      "    FOLD: 2    -   \n",
      "            accuracy =   0.923200       |  0.923200\n",
      "            precision =  0.923331  |   recall =    0.923200   |  f1 =    0.923194\n",
      "            pt file:  0.9231_fold_3/model.pkl\n",
      "    FOLD: 3    -   \n",
      "            accuracy =   0.923100       |  0.923100\n",
      "            precision =  0.923200  |   recall =    0.923100   |  f1 =    0.923095\n",
      "            pt file:  0.9226_fold_4/model.pkl\n",
      "    FOLD: 4    -   \n",
      "            accuracy =   0.922600       |  0.922600\n",
      "            precision =  0.922714  |   recall =    0.922600   |  f1 =    0.922595\n",
      "\n",
      "*********************************************************\n",
      "             contrast:  0.5\n",
      "\n",
      "\n",
      " ==================================== deepfake CHECKPOINT =========================\n"
     ]
    },
    {
     "name": "stderr",
     "output_type": "stream",
     "text": [
      "100%|██████████| 5000/5000 [00:22<00:00, 221.45it/s]\n",
      "100%|██████████| 5000/5000 [00:18<00:00, 276.02it/s]\n"
     ]
    },
    {
     "name": "stdout",
     "output_type": "stream",
     "text": [
      "            pt file:  0.9876_fold_0/model.pkl\n",
      "    FOLD: 0    -   \n",
      "            accuracy =   0.986200       |  0.986200\n",
      "            precision =  0.986302  |   recall =    0.986211   |  f1 =    0.986199\n",
      "            pt file:  0.9854_fold_1/model.pkl\n",
      "    FOLD: 1    -   \n",
      "            accuracy =   0.984700       |  0.984700\n",
      "            precision =  0.984799  |   recall =    0.984710   |  f1 =    0.984699\n",
      "            pt file:  0.9858_fold_2/model.pkl\n",
      "    FOLD: 2    -   \n",
      "            accuracy =   0.984900       |  0.984900\n",
      "            precision =  0.984988  |   recall =    0.984910   |  f1 =    0.984900\n",
      "            pt file:  0.988_fold_3/model.pkl\n",
      "    FOLD: 3    -   \n",
      "            accuracy =   0.985800       |  0.985800\n",
      "            precision =  0.985932  |   recall =    0.985812   |  f1 =    0.985799\n",
      "            pt file:  0.987_fold_4/model.pkl\n",
      "    FOLD: 4    -   \n",
      "            accuracy =   0.985000       |  0.985000\n",
      "            precision =  0.985126  |   recall =    0.985012   |  f1 =    0.984999\n",
      "\n",
      "\n",
      " ==================================== 3dmm CHECKPOINT =========================\n"
     ]
    },
    {
     "name": "stderr",
     "output_type": "stream",
     "text": [
      "100%|██████████| 5000/5000 [00:19<00:00, 257.86it/s]\n",
      "100%|██████████| 5000/5000 [00:14<00:00, 356.40it/s]\n"
     ]
    },
    {
     "name": "stdout",
     "output_type": "stream",
     "text": [
      "            pt file:  0.8929_fold_0/model.pkl\n",
      "    FOLD: 0    -   \n",
      "            accuracy =   0.876200       |  0.876200\n",
      "            precision =  0.876266  |   recall =    0.876200   |  f1 =    0.876195\n",
      "            pt file:  0.8934_fold_1/model.pkl\n",
      "    FOLD: 1    -   \n",
      "            accuracy =   0.876000       |  0.876000\n",
      "            precision =  0.876074  |   recall =    0.876000   |  f1 =    0.875994\n",
      "            pt file:  0.892_fold_2/model.pkl\n",
      "    FOLD: 2    -   \n",
      "            accuracy =   0.871500       |  0.871500\n",
      "            precision =  0.871711  |   recall =    0.871500   |  f1 =    0.871482\n",
      "            pt file:  0.8928_fold_3/model.pkl\n",
      "    FOLD: 3    -   \n",
      "            accuracy =   0.872100       |  0.872100\n",
      "            precision =  0.872203  |   recall =    0.872100   |  f1 =    0.872091\n",
      "            pt file:  0.8935_fold_4/model.pkl\n",
      "    FOLD: 4    -   \n",
      "            accuracy =   0.874600       |  0.874600\n",
      "            precision =  0.874823  |   recall =    0.874600   |  f1 =    0.874581\n",
      "\n",
      "\n",
      " ==================================== faceswap_2d CHECKPOINT =========================\n"
     ]
    },
    {
     "name": "stderr",
     "output_type": "stream",
     "text": [
      "100%|██████████| 5000/5000 [00:22<00:00, 218.53it/s]\n",
      "100%|██████████| 5000/5000 [03:22<00:00, 24.69it/s]\n"
     ]
    },
    {
     "name": "stdout",
     "output_type": "stream",
     "text": [
      "            pt file:  0.9949_fold_0/model.pkl\n",
      "    FOLD: 0    -   \n",
      "            accuracy =   0.986100       |  0.986100\n",
      "            precision =  0.986414  |   recall =    0.986100   |  f1 =    0.986098\n",
      "            pt file:  0.9947_fold_1/model.pkl\n",
      "    FOLD: 1    -   \n",
      "            accuracy =   0.986700       |  0.986700\n",
      "            precision =  0.986985  |   recall =    0.986700   |  f1 =    0.986698\n",
      "            pt file:  0.9949_fold_2/model.pkl\n",
      "    FOLD: 2    -   \n",
      "            accuracy =   0.987100       |  0.987100\n",
      "            precision =  0.987367  |   recall =    0.987100   |  f1 =    0.987098\n",
      "            pt file:  0.995_fold_3/model.pkl\n",
      "    FOLD: 3    -   \n",
      "            accuracy =   0.986300       |  0.986300\n",
      "            precision =  0.986604  |   recall =    0.986300   |  f1 =    0.986298\n",
      "            pt file:  0.9947_fold_4/model.pkl\n",
      "    FOLD: 4    -   \n",
      "            accuracy =   0.986300       |  0.986300\n",
      "            precision =  0.986604  |   recall =    0.986300   |  f1 =    0.986298\n",
      "\n",
      "\n",
      " ==================================== faceswap_3d CHECKPOINT =========================\n"
     ]
    },
    {
     "name": "stderr",
     "output_type": "stream",
     "text": [
      "100%|██████████| 5000/5000 [00:21<00:00, 229.76it/s]\n",
      "100%|██████████| 5000/5000 [03:10<00:00, 26.19it/s]\n"
     ]
    },
    {
     "name": "stdout",
     "output_type": "stream",
     "text": [
      "            pt file:  0.9988_fold_0/model.pkl\n",
      "    FOLD: 0    -   \n",
      "            accuracy =   0.996400       |  0.996400\n",
      "            precision =  0.996418  |   recall =    0.996400   |  f1 =    0.996400\n",
      "            pt file:  0.9988_fold_1/model.pkl\n",
      "    FOLD: 1    -   \n",
      "            accuracy =   0.996600       |  0.996600\n",
      "            precision =  0.996616  |   recall =    0.996600   |  f1 =    0.996600\n",
      "            pt file:  0.9987_fold_2/model.pkl\n",
      "    FOLD: 2    -   \n",
      "            accuracy =   0.996900       |  0.996900\n",
      "            precision =  0.996912  |   recall =    0.996900   |  f1 =    0.996900\n",
      "            pt file:  0.9986_fold_3/model.pkl\n",
      "    FOLD: 3    -   \n",
      "            accuracy =   0.996400       |  0.996400\n",
      "            precision =  0.996418  |   recall =    0.996400   |  f1 =    0.996400\n",
      "            pt file:  0.9987_fold_4/model.pkl\n",
      "    FOLD: 4    -   \n",
      "            accuracy =   0.997100       |  0.997100\n",
      "            precision =  0.997111  |   recall =    0.997100   |  f1 =    0.997100\n",
      "\n",
      "\n",
      " ==================================== monkey CHECKPOINT =========================\n"
     ]
    },
    {
     "name": "stderr",
     "output_type": "stream",
     "text": [
      "100%|██████████| 5000/5000 [00:22<00:00, 225.96it/s]\n",
      "100%|██████████| 5000/5000 [00:20<00:00, 243.16it/s]\n"
     ]
    },
    {
     "name": "stdout",
     "output_type": "stream",
     "text": [
      "            pt file:  0.9714_fold_0/model.pkl\n",
      "    FOLD: 0    -   \n",
      "            accuracy =   0.919900       |  0.919900\n",
      "            precision =  0.930847  |   recall =    0.919900   |  f1 =    0.919388\n",
      "            pt file:  0.9717_fold_1/model.pkl\n",
      "    FOLD: 1    -   \n",
      "            accuracy =   0.920200       |  0.920200\n",
      "            precision =  0.931014  |   recall =    0.920200   |  f1 =    0.919696\n",
      "            pt file:  0.9716_fold_2/model.pkl\n",
      "    FOLD: 2    -   \n",
      "            accuracy =   0.919700       |  0.919700\n",
      "            precision =  0.930698  |   recall =    0.919700   |  f1 =    0.919184\n",
      "            pt file:  0.972_fold_3/model.pkl\n",
      "    FOLD: 3    -   \n",
      "            accuracy =   0.920300       |  0.920300\n",
      "            precision =  0.931145  |   recall =    0.920300   |  f1 =    0.919796\n",
      "            pt file:  0.9723_fold_4/model.pkl\n",
      "    FOLD: 4    -   \n",
      "            accuracy =   0.920700       |  0.920700\n",
      "            precision =  0.931276  |   recall =    0.920700   |  f1 =    0.920211\n",
      "\n",
      "\n",
      " ==================================== reenact CHECKPOINT =========================\n"
     ]
    },
    {
     "name": "stderr",
     "output_type": "stream",
     "text": [
      "100%|██████████| 5000/5000 [00:22<00:00, 226.75it/s]\n",
      "100%|██████████| 4566/4566 [00:17<00:00, 256.08it/s]\n"
     ]
    },
    {
     "name": "stdout",
     "output_type": "stream",
     "text": [
      "            pt file:  0.9513_fold_0/model.pkl\n",
      "    FOLD: 0    -   \n",
      "            accuracy =   0.922300       |  0.922300\n",
      "            precision =  0.921720  |   recall =    0.924815   |  f1 =    0.922095\n",
      "            pt file:  0.9511_fold_1/model.pkl\n",
      "    FOLD: 1    -   \n",
      "            accuracy =   0.923200       |  0.923200\n",
      "            precision =  0.922522  |   recall =    0.925573   |  f1 =    0.922984\n",
      "            pt file:  0.9504_fold_2/model.pkl\n",
      "    FOLD: 2    -   \n",
      "            accuracy =   0.922600       |  0.922600\n",
      "            precision =  0.921901  |   recall =    0.924934   |  f1 =    0.922379\n",
      "            pt file:  0.9516_fold_3/model.pkl\n",
      "    FOLD: 3    -   \n",
      "            accuracy =   0.921500       |  0.921500\n",
      "            precision =  0.921101  |   recall =    0.924254   |  f1 =    0.921315\n",
      "            pt file:  0.9517_fold_4/model.pkl\n",
      "    FOLD: 4    -   \n",
      "            accuracy =   0.922900       |  0.922900\n",
      "            precision =  0.922382  |   recall =    0.925507   |  f1 =    0.922704\n",
      "\n",
      "\n",
      " ==================================== stargan CHECKPOINT =========================\n"
     ]
    },
    {
     "name": "stderr",
     "output_type": "stream",
     "text": [
      "100%|██████████| 5000/5000 [00:20<00:00, 246.96it/s]\n",
      "100%|██████████| 5000/5000 [00:34<00:00, 146.12it/s]\n"
     ]
    },
    {
     "name": "stdout",
     "output_type": "stream",
     "text": [
      "            pt file:  0.9092_fold_0/model.pkl\n",
      "    FOLD: 0    -   \n",
      "            accuracy =   0.844700       |  0.844700\n",
      "            precision =  0.880568  |   recall =    0.844700   |  f1 =    0.840952\n",
      "            pt file:  0.9106_fold_1/model.pkl\n",
      "    FOLD: 1    -   \n",
      "            accuracy =   0.842400       |  0.842400\n",
      "            precision =  0.877064  |   recall =    0.842400   |  f1 =    0.838693\n",
      "            pt file:  0.9088_fold_2/model.pkl\n",
      "    FOLD: 2    -   \n",
      "            accuracy =   0.840400       |  0.840400\n",
      "            precision =  0.873967  |   recall =    0.840400   |  f1 =    0.836736\n",
      "            pt file:  0.9118_fold_3/model.pkl\n",
      "    FOLD: 3    -   \n",
      "            accuracy =   0.845600       |  0.845600\n",
      "            precision =  0.877143  |   recall =    0.845600   |  f1 =    0.842303\n",
      "            pt file:  0.9097_fold_4/model.pkl\n",
      "    FOLD: 4    -   \n",
      "            accuracy =   0.837800       |  0.837800\n",
      "            precision =  0.872297  |   recall =    0.837800   |  f1 =    0.833954\n",
      "\n",
      "\n",
      " ==================================== x2face CHECKPOINT =========================\n"
     ]
    },
    {
     "name": "stderr",
     "output_type": "stream",
     "text": [
      "100%|██████████| 5000/5000 [00:20<00:00, 246.69it/s]\n",
      "100%|██████████| 5000/5000 [00:18<00:00, 268.87it/s]\n"
     ]
    },
    {
     "name": "stdout",
     "output_type": "stream",
     "text": [
      "            pt file:  0.923_fold_0/model.pkl\n",
      "    FOLD: 0    -   \n",
      "            accuracy =   0.876900       |  0.876900\n",
      "            precision =  0.891420  |   recall =    0.876900   |  f1 =    0.875748\n",
      "            pt file:  0.9229_fold_1/model.pkl\n",
      "    FOLD: 1    -   \n",
      "            accuracy =   0.879700       |  0.879700\n",
      "            precision =  0.893337  |   recall =    0.879700   |  f1 =    0.878648\n",
      "            pt file:  0.9232_fold_2/model.pkl\n",
      "    FOLD: 2    -   \n",
      "            accuracy =   0.875300       |  0.875300\n",
      "            precision =  0.889758  |   recall =    0.875300   |  f1 =    0.874133\n",
      "            pt file:  0.9231_fold_3/model.pkl\n",
      "    FOLD: 3    -   \n",
      "            accuracy =   0.874800       |  0.874800\n",
      "            precision =  0.890287  |   recall =    0.874800   |  f1 =    0.873546\n",
      "            pt file:  0.9226_fold_4/model.pkl\n",
      "    FOLD: 4    -   \n",
      "            accuracy =   0.874800       |  0.874800\n",
      "            precision =  0.889647  |   recall =    0.874800   |  f1 =    0.873596\n",
      "\n",
      "*********************************************************\n",
      "             contrast:  0.75\n",
      "\n",
      "\n",
      " ==================================== deepfake CHECKPOINT =========================\n"
     ]
    },
    {
     "name": "stderr",
     "output_type": "stream",
     "text": [
      "100%|██████████| 5000/5000 [00:20<00:00, 238.41it/s]\n",
      "100%|██████████| 5000/5000 [00:17<00:00, 284.60it/s]\n"
     ]
    },
    {
     "name": "stdout",
     "output_type": "stream",
     "text": [
      "            pt file:  0.9876_fold_0/model.pkl\n",
      "    FOLD: 0    -   \n",
      "            accuracy =   0.988100       |  0.988100\n",
      "            precision =  0.988120  |   recall =    0.988096   |  f1 =    0.988100\n",
      "            pt file:  0.9854_fold_1/model.pkl\n",
      "    FOLD: 1    -   \n",
      "            accuracy =   0.986500       |  0.986500\n",
      "            precision =  0.986542  |   recall =    0.986494   |  f1 =    0.986500\n",
      "            pt file:  0.9858_fold_2/model.pkl\n",
      "    FOLD: 2    -   \n",
      "            accuracy =   0.986600       |  0.986600\n",
      "            precision =  0.986636  |   recall =    0.986594   |  f1 =    0.986600\n",
      "            pt file:  0.988_fold_3/model.pkl\n",
      "    FOLD: 3    -   \n",
      "            accuracy =   0.988700       |  0.988700\n",
      "            precision =  0.988716  |   recall =    0.988696   |  f1 =    0.988700\n",
      "            pt file:  0.987_fold_4/model.pkl\n",
      "    FOLD: 4    -   \n",
      "            accuracy =   0.988700       |  0.988700\n",
      "            precision =  0.988711  |   recall =    0.988697   |  f1 =    0.988700\n",
      "\n",
      "\n",
      " ==================================== 3dmm CHECKPOINT =========================\n"
     ]
    },
    {
     "name": "stderr",
     "output_type": "stream",
     "text": [
      "100%|██████████| 5000/5000 [00:19<00:00, 251.02it/s]\n",
      "100%|██████████| 5000/5000 [00:14<00:00, 343.59it/s]\n"
     ]
    },
    {
     "name": "stdout",
     "output_type": "stream",
     "text": [
      "            pt file:  0.8929_fold_0/model.pkl\n",
      "    FOLD: 0    -   \n",
      "            accuracy =   0.889900       |  0.889900\n",
      "            precision =  0.889903  |   recall =    0.889900   |  f1 =    0.889900\n",
      "            pt file:  0.8934_fold_1/model.pkl\n",
      "    FOLD: 1    -   \n",
      "            accuracy =   0.888900       |  0.888900\n",
      "            precision =  0.888904  |   recall =    0.888900   |  f1 =    0.888900\n",
      "            pt file:  0.892_fold_2/model.pkl\n",
      "    FOLD: 2    -   \n",
      "            accuracy =   0.887400       |  0.887400\n",
      "            precision =  0.887402  |   recall =    0.887400   |  f1 =    0.887400\n",
      "            pt file:  0.8928_fold_3/model.pkl\n",
      "    FOLD: 3    -   \n",
      "            accuracy =   0.889300       |  0.889300\n",
      "            precision =  0.889300  |   recall =    0.889300   |  f1 =    0.889300\n",
      "            pt file:  0.8935_fold_4/model.pkl\n",
      "    FOLD: 4    -   \n",
      "            accuracy =   0.889800       |  0.889800\n",
      "            precision =  0.889803  |   recall =    0.889800   |  f1 =    0.889800\n",
      "\n",
      "\n",
      " ==================================== faceswap_2d CHECKPOINT =========================\n"
     ]
    },
    {
     "name": "stderr",
     "output_type": "stream",
     "text": [
      "100%|██████████| 5000/5000 [00:20<00:00, 242.47it/s]\n",
      "100%|██████████| 5000/5000 [03:22<00:00, 24.65it/s]\n"
     ]
    },
    {
     "name": "stdout",
     "output_type": "stream",
     "text": [
      "            pt file:  0.9949_fold_0/model.pkl\n",
      "    FOLD: 0    -   \n",
      "            accuracy =   0.994300       |  0.994300\n",
      "            precision =  0.994314  |   recall =    0.994300   |  f1 =    0.994300\n",
      "            pt file:  0.9947_fold_1/model.pkl\n",
      "    FOLD: 1    -   \n",
      "            accuracy =   0.994100       |  0.994100\n",
      "            precision =  0.994114  |   recall =    0.994100   |  f1 =    0.994100\n",
      "            pt file:  0.9949_fold_2/model.pkl\n",
      "    FOLD: 2    -   \n",
      "            accuracy =   0.994500       |  0.994500\n",
      "            precision =  0.994509  |   recall =    0.994500   |  f1 =    0.994500\n",
      "            pt file:  0.995_fold_3/model.pkl\n",
      "    FOLD: 3    -   \n",
      "            accuracy =   0.994700       |  0.994700\n",
      "            precision =  0.994709  |   recall =    0.994700   |  f1 =    0.994700\n",
      "            pt file:  0.9947_fold_4/model.pkl\n",
      "    FOLD: 4    -   \n",
      "            accuracy =   0.994500       |  0.994500\n",
      "            precision =  0.994510  |   recall =    0.994500   |  f1 =    0.994500\n",
      "\n",
      "\n",
      " ==================================== faceswap_3d CHECKPOINT =========================\n"
     ]
    },
    {
     "name": "stderr",
     "output_type": "stream",
     "text": [
      "100%|██████████| 5000/5000 [00:23<00:00, 212.10it/s]\n",
      "100%|██████████| 5000/5000 [03:32<00:00, 23.51it/s]\n"
     ]
    },
    {
     "name": "stdout",
     "output_type": "stream",
     "text": [
      "            pt file:  0.9988_fold_0/model.pkl\n",
      "    FOLD: 0    -   \n",
      "            accuracy =   0.998300       |  0.998300\n",
      "            precision =  0.998300  |   recall =    0.998300   |  f1 =    0.998300\n",
      "            pt file:  0.9988_fold_1/model.pkl\n",
      "    FOLD: 1    -   \n",
      "            accuracy =   0.998400       |  0.998400\n",
      "            precision =  0.998400  |   recall =    0.998400   |  f1 =    0.998400\n",
      "            pt file:  0.9987_fold_2/model.pkl\n",
      "    FOLD: 2    -   \n",
      "            accuracy =   0.998500       |  0.998500\n",
      "            precision =  0.998500  |   recall =    0.998500   |  f1 =    0.998500\n",
      "            pt file:  0.9986_fold_3/model.pkl\n",
      "    FOLD: 3    -   \n",
      "            accuracy =   0.998200       |  0.998200\n",
      "            precision =  0.998200  |   recall =    0.998200   |  f1 =    0.998200\n",
      "            pt file:  0.9987_fold_4/model.pkl\n",
      "    FOLD: 4    -   \n",
      "            accuracy =   0.998300       |  0.998300\n",
      "            precision =  0.998300  |   recall =    0.998300   |  f1 =    0.998300\n",
      "\n",
      "\n",
      " ==================================== monkey CHECKPOINT =========================\n"
     ]
    },
    {
     "name": "stderr",
     "output_type": "stream",
     "text": [
      "100%|██████████| 5000/5000 [00:21<00:00, 231.23it/s]\n",
      "100%|██████████| 5000/5000 [00:19<00:00, 253.60it/s]\n"
     ]
    },
    {
     "name": "stdout",
     "output_type": "stream",
     "text": [
      "            pt file:  0.9714_fold_0/model.pkl\n",
      "    FOLD: 0    -   \n",
      "            accuracy =   0.962000       |  0.962000\n",
      "            precision =  0.964121  |   recall =    0.962000   |  f1 =    0.961957\n",
      "            pt file:  0.9717_fold_1/model.pkl\n",
      "    FOLD: 1    -   \n",
      "            accuracy =   0.962000       |  0.962000\n",
      "            precision =  0.964146  |   recall =    0.962000   |  f1 =    0.961956\n",
      "            pt file:  0.9716_fold_2/model.pkl\n",
      "    FOLD: 2    -   \n",
      "            accuracy =   0.961100       |  0.961100\n",
      "            precision =  0.963384  |   recall =    0.961100   |  f1 =    0.961052\n",
      "            pt file:  0.972_fold_3/model.pkl\n",
      "    FOLD: 3    -   \n",
      "            accuracy =   0.961500       |  0.961500\n",
      "            precision =  0.963682  |   recall =    0.961500   |  f1 =    0.961455\n",
      "            pt file:  0.9723_fold_4/model.pkl\n",
      "    FOLD: 4    -   \n",
      "            accuracy =   0.960500       |  0.960500\n",
      "            precision =  0.962833  |   recall =    0.960500   |  f1 =    0.960450\n",
      "\n",
      "\n",
      " ==================================== reenact CHECKPOINT =========================\n"
     ]
    },
    {
     "name": "stderr",
     "output_type": "stream",
     "text": [
      "100%|██████████| 5000/5000 [00:24<00:00, 200.49it/s]\n",
      "100%|██████████| 4566/4566 [00:24<00:00, 185.18it/s]\n"
     ]
    },
    {
     "name": "stdout",
     "output_type": "stream",
     "text": [
      "            pt file:  0.9513_fold_0/model.pkl\n",
      "    FOLD: 0    -   \n",
      "            accuracy =   0.943600       |  0.943600\n",
      "            precision =  0.942670  |   recall =    0.944064   |  f1 =    0.943267\n",
      "            pt file:  0.9511_fold_1/model.pkl\n",
      "    FOLD: 1    -   \n",
      "            accuracy =   0.944100       |  0.944100\n",
      "            precision =  0.943188  |   recall =    0.944524   |  f1 =    0.943766\n",
      "            pt file:  0.9504_fold_2/model.pkl\n",
      "    FOLD: 2    -   \n",
      "            accuracy =   0.943700       |  0.943700\n",
      "            precision =  0.942800  |   recall =    0.944086   |  f1 =    0.943360\n",
      "            pt file:  0.9516_fold_3/model.pkl\n",
      "    FOLD: 3    -   \n",
      "            accuracy =   0.944100       |  0.944100\n",
      "            precision =  0.943110  |   recall =    0.944769   |  f1 =    0.943790\n",
      "            pt file:  0.9517_fold_4/model.pkl\n",
      "    FOLD: 4    -   \n",
      "            accuracy =   0.943600       |  0.943600\n",
      "            precision =  0.942630  |   recall =    0.944186   |  f1 =    0.943279\n",
      "\n",
      "\n",
      " ==================================== stargan CHECKPOINT =========================\n"
     ]
    },
    {
     "name": "stderr",
     "output_type": "stream",
     "text": [
      "100%|██████████| 5000/5000 [00:21<00:00, 232.38it/s]\n",
      "100%|██████████| 5000/5000 [00:32<00:00, 151.97it/s]\n"
     ]
    },
    {
     "name": "stdout",
     "output_type": "stream",
     "text": [
      "            pt file:  0.9092_fold_0/model.pkl\n",
      "    FOLD: 0    -   \n",
      "            accuracy =   0.899400       |  0.899400\n",
      "            precision =  0.913270  |   recall =    0.899400   |  f1 =    0.898549\n",
      "            pt file:  0.9106_fold_1/model.pkl\n",
      "    FOLD: 1    -   \n",
      "            accuracy =   0.899200       |  0.899200\n",
      "            precision =  0.912081  |   recall =    0.899200   |  f1 =    0.898406\n",
      "            pt file:  0.9088_fold_2/model.pkl\n",
      "    FOLD: 2    -   \n",
      "            accuracy =   0.899400       |  0.899400\n",
      "            precision =  0.912529  |   recall =    0.899400   |  f1 =    0.898593\n",
      "            pt file:  0.9118_fold_3/model.pkl\n",
      "    FOLD: 3    -   \n",
      "            accuracy =   0.899900       |  0.899900\n",
      "            precision =  0.912238  |   recall =    0.899900   |  f1 =    0.899145\n",
      "            pt file:  0.9097_fold_4/model.pkl\n",
      "    FOLD: 4    -   \n",
      "            accuracy =   0.897300       |  0.897300\n",
      "            precision =  0.911379  |   recall =    0.897300   |  f1 =    0.896414\n",
      "\n",
      "\n",
      " ==================================== x2face CHECKPOINT =========================\n"
     ]
    },
    {
     "name": "stderr",
     "output_type": "stream",
     "text": [
      "100%|██████████| 5000/5000 [00:21<00:00, 237.30it/s]\n",
      "100%|██████████| 5000/5000 [00:20<00:00, 249.04it/s]\n"
     ]
    },
    {
     "name": "stdout",
     "output_type": "stream",
     "text": [
      "            pt file:  0.923_fold_0/model.pkl\n",
      "    FOLD: 0    -   \n",
      "            accuracy =   0.914100       |  0.914100\n",
      "            precision =  0.915566  |   recall =    0.914100   |  f1 =    0.914024\n",
      "            pt file:  0.9229_fold_1/model.pkl\n",
      "    FOLD: 1    -   \n",
      "            accuracy =   0.913100       |  0.913100\n",
      "            precision =  0.914447  |   recall =    0.913100   |  f1 =    0.913029\n",
      "            pt file:  0.9232_fold_2/model.pkl\n",
      "    FOLD: 2    -   \n",
      "            accuracy =   0.912300       |  0.912300\n",
      "            precision =  0.913800  |   recall =    0.912300   |  f1 =    0.912220\n",
      "            pt file:  0.9231_fold_3/model.pkl\n",
      "    FOLD: 3    -   \n",
      "            accuracy =   0.913100       |  0.913100\n",
      "            precision =  0.914603  |   recall =    0.913100   |  f1 =    0.913021\n",
      "            pt file:  0.9226_fold_4/model.pkl\n",
      "    FOLD: 4    -   \n",
      "            accuracy =   0.912700       |  0.912700\n",
      "            precision =  0.914122  |   recall =    0.912700   |  f1 =    0.912625\n",
      "\n",
      "*********************************************************\n",
      "             contrast:  1.5\n",
      "\n",
      "\n",
      " ==================================== deepfake CHECKPOINT =========================\n"
     ]
    },
    {
     "name": "stderr",
     "output_type": "stream",
     "text": [
      "100%|██████████| 5000/5000 [00:22<00:00, 219.28it/s]\n",
      "100%|██████████| 5000/5000 [00:18<00:00, 269.69it/s]\n"
     ]
    },
    {
     "name": "stdout",
     "output_type": "stream",
     "text": [
      "            pt file:  0.9876_fold_0/model.pkl\n",
      "    FOLD: 0    -   \n",
      "            accuracy =   0.979400       |  0.979400\n",
      "            precision =  0.980088  |   recall =    0.979374   |  f1 =    0.979392\n",
      "            pt file:  0.9854_fold_1/model.pkl\n",
      "    FOLD: 1    -   \n",
      "            accuracy =   0.977200       |  0.977200\n",
      "            precision =  0.978022  |   recall =    0.977171   |  f1 =    0.977189\n",
      "            pt file:  0.9858_fold_2/model.pkl\n",
      "    FOLD: 2    -   \n",
      "            accuracy =   0.977700       |  0.977700\n",
      "            precision =  0.978499  |   recall =    0.977672   |  f1 =    0.977690\n",
      "            pt file:  0.988_fold_3/model.pkl\n",
      "    FOLD: 3    -   \n",
      "            accuracy =   0.979900       |  0.979900\n",
      "            precision =  0.980539  |   recall =    0.979875   |  f1 =    0.979893\n",
      "            pt file:  0.987_fold_4/model.pkl\n",
      "    FOLD: 4    -   \n",
      "            accuracy =   0.979800       |  0.979800\n",
      "            precision =  0.980432  |   recall =    0.979775   |  f1 =    0.979793\n",
      "\n",
      "\n",
      " ==================================== 3dmm CHECKPOINT =========================\n"
     ]
    },
    {
     "name": "stderr",
     "output_type": "stream",
     "text": [
      "100%|██████████| 5000/5000 [00:23<00:00, 215.27it/s]\n",
      "100%|██████████| 5000/5000 [00:16<00:00, 310.93it/s]\n"
     ]
    },
    {
     "name": "stdout",
     "output_type": "stream",
     "text": [
      "            pt file:  0.8929_fold_0/model.pkl\n",
      "    FOLD: 0    -   \n",
      "            accuracy =   0.885800       |  0.885800\n",
      "            precision =  0.885973  |   recall =    0.885800   |  f1 =    0.885787\n",
      "            pt file:  0.8934_fold_1/model.pkl\n",
      "    FOLD: 1    -   \n",
      "            accuracy =   0.886100       |  0.886100\n",
      "            precision =  0.886264  |   recall =    0.886100   |  f1 =    0.886088\n",
      "            pt file:  0.892_fold_2/model.pkl\n",
      "    FOLD: 2    -   \n",
      "            accuracy =   0.884600       |  0.884600\n",
      "            precision =  0.884773  |   recall =    0.884600   |  f1 =    0.884587\n",
      "            pt file:  0.8928_fold_3/model.pkl\n",
      "    FOLD: 3    -   \n",
      "            accuracy =   0.885300       |  0.885300\n",
      "            precision =  0.885433  |   recall =    0.885300   |  f1 =    0.885290\n",
      "            pt file:  0.8935_fold_4/model.pkl\n",
      "    FOLD: 4    -   \n",
      "            accuracy =   0.886200       |  0.886200\n",
      "            precision =  0.886374  |   recall =    0.886200   |  f1 =    0.886187\n",
      "\n",
      "\n",
      " ==================================== faceswap_2d CHECKPOINT =========================\n"
     ]
    },
    {
     "name": "stderr",
     "output_type": "stream",
     "text": [
      "100%|██████████| 5000/5000 [00:25<00:00, 196.23it/s]\n",
      "100%|██████████| 5000/5000 [03:50<00:00, 21.67it/s]\n"
     ]
    },
    {
     "name": "stdout",
     "output_type": "stream",
     "text": [
      "            pt file:  0.9949_fold_0/model.pkl\n",
      "    FOLD: 0    -   \n",
      "            accuracy =   0.994100       |  0.994100\n",
      "            precision =  0.994127  |   recall =    0.994100   |  f1 =    0.994100\n",
      "            pt file:  0.9947_fold_1/model.pkl\n",
      "    FOLD: 1    -   \n",
      "            accuracy =   0.994100       |  0.994100\n",
      "            precision =  0.994127  |   recall =    0.994100   |  f1 =    0.994100\n",
      "            pt file:  0.9949_fold_2/model.pkl\n",
      "    FOLD: 2    -   \n",
      "            accuracy =   0.994200       |  0.994200\n",
      "            precision =  0.994232  |   recall =    0.994200   |  f1 =    0.994200\n",
      "            pt file:  0.995_fold_3/model.pkl\n",
      "    FOLD: 3    -   \n",
      "            accuracy =   0.994100       |  0.994100\n",
      "            precision =  0.994124  |   recall =    0.994100   |  f1 =    0.994100\n",
      "            pt file:  0.9947_fold_4/model.pkl\n",
      "    FOLD: 4    -   \n",
      "            accuracy =   0.994000       |  0.994000\n",
      "            precision =  0.994029  |   recall =    0.994000   |  f1 =    0.994000\n",
      "\n",
      "\n",
      " ==================================== faceswap_3d CHECKPOINT =========================\n"
     ]
    },
    {
     "name": "stderr",
     "output_type": "stream",
     "text": [
      "100%|██████████| 5000/5000 [00:24<00:00, 207.61it/s]\n",
      "100%|██████████| 5000/5000 [03:41<00:00, 22.58it/s]\n"
     ]
    },
    {
     "name": "stdout",
     "output_type": "stream",
     "text": [
      "            pt file:  0.9988_fold_0/model.pkl\n",
      "    FOLD: 0    -   \n",
      "            accuracy =   0.997600       |  0.997600\n",
      "            precision =  0.997608  |   recall =    0.997600   |  f1 =    0.997600\n",
      "            pt file:  0.9988_fold_1/model.pkl\n",
      "    FOLD: 1    -   \n",
      "            accuracy =   0.997600       |  0.997600\n",
      "            precision =  0.997608  |   recall =    0.997600   |  f1 =    0.997600\n",
      "            pt file:  0.9987_fold_2/model.pkl\n",
      "    FOLD: 2    -   \n",
      "            accuracy =   0.997500       |  0.997500\n",
      "            precision =  0.997509  |   recall =    0.997500   |  f1 =    0.997500\n",
      "            pt file:  0.9986_fold_3/model.pkl\n",
      "    FOLD: 3    -   \n",
      "            accuracy =   0.997500       |  0.997500\n",
      "            precision =  0.997509  |   recall =    0.997500   |  f1 =    0.997500\n",
      "            pt file:  0.9987_fold_4/model.pkl\n",
      "    FOLD: 4    -   \n",
      "            accuracy =   0.997400       |  0.997400\n",
      "            precision =  0.997410  |   recall =    0.997400   |  f1 =    0.997400\n",
      "\n",
      "\n",
      " ==================================== monkey CHECKPOINT =========================\n"
     ]
    },
    {
     "name": "stderr",
     "output_type": "stream",
     "text": [
      "100%|██████████| 5000/5000 [00:23<00:00, 209.01it/s]\n",
      "100%|██████████| 5000/5000 [00:22<00:00, 219.96it/s]\n"
     ]
    },
    {
     "name": "stdout",
     "output_type": "stream",
     "text": [
      "            pt file:  0.9714_fold_0/model.pkl\n",
      "    FOLD: 0    -   \n",
      "            accuracy =   0.936100       |  0.936100\n",
      "            precision =  0.940595  |   recall =    0.936100   |  f1 =    0.935937\n",
      "            pt file:  0.9717_fold_1/model.pkl\n",
      "    FOLD: 1    -   \n",
      "            accuracy =   0.935000       |  0.935000\n",
      "            precision =  0.939610  |   recall =    0.935000   |  f1 =    0.934829\n",
      "            pt file:  0.9716_fold_2/model.pkl\n",
      "    FOLD: 2    -   \n",
      "            accuracy =   0.936200       |  0.936200\n",
      "            precision =  0.940606  |   recall =    0.936200   |  f1 =    0.936040\n",
      "            pt file:  0.972_fold_3/model.pkl\n",
      "    FOLD: 3    -   \n",
      "            accuracy =   0.936800       |  0.936800\n",
      "            precision =  0.941106  |   recall =    0.936800   |  f1 =    0.936645\n",
      "            pt file:  0.9723_fold_4/model.pkl\n",
      "    FOLD: 4    -   \n",
      "            accuracy =   0.938800       |  0.938800\n",
      "            precision =  0.942678  |   recall =    0.938800   |  f1 =    0.938666\n",
      "\n",
      "\n",
      " ==================================== reenact CHECKPOINT =========================\n"
     ]
    },
    {
     "name": "stderr",
     "output_type": "stream",
     "text": [
      "100%|██████████| 5000/5000 [00:23<00:00, 209.20it/s]\n",
      "100%|██████████| 4566/4566 [00:20<00:00, 219.07it/s]\n"
     ]
    },
    {
     "name": "stdout",
     "output_type": "stream",
     "text": [
      "            pt file:  0.9513_fold_0/model.pkl\n",
      "    FOLD: 0    -   \n",
      "            accuracy =   0.935200       |  0.935200\n",
      "            precision =  0.940166  |   recall =    0.931227   |  f1 =    0.934144\n",
      "            pt file:  0.9511_fold_1/model.pkl\n",
      "    FOLD: 1    -   \n",
      "            accuracy =   0.934200       |  0.934200\n",
      "            precision =  0.939481  |   recall =    0.930080   |  f1 =    0.933100\n",
      "            pt file:  0.9504_fold_2/model.pkl\n",
      "    FOLD: 2    -   \n",
      "            accuracy =   0.932000       |  0.932000\n",
      "            precision =  0.937700  |   recall =    0.927671   |  f1 =    0.930824\n",
      "            pt file:  0.9516_fold_3/model.pkl\n",
      "    FOLD: 3    -   \n",
      "            accuracy =   0.934300       |  0.934300\n",
      "            precision =  0.939432  |   recall =    0.930242   |  f1 =    0.933214\n",
      "            pt file:  0.9517_fold_4/model.pkl\n",
      "    FOLD: 4    -   \n",
      "            accuracy =   0.935500       |  0.935500\n",
      "            precision =  0.940411  |   recall =    0.931556   |  f1 =    0.934454\n",
      "\n",
      "\n",
      " ==================================== stargan CHECKPOINT =========================\n"
     ]
    },
    {
     "name": "stderr",
     "output_type": "stream",
     "text": [
      "100%|██████████| 5000/5000 [00:27<00:00, 181.17it/s]\n",
      "100%|██████████| 5000/5000 [00:33<00:00, 149.16it/s]\n"
     ]
    },
    {
     "name": "stdout",
     "output_type": "stream",
     "text": [
      "            pt file:  0.9092_fold_0/model.pkl\n",
      "    FOLD: 0    -   \n",
      "            accuracy =   0.809200       |  0.809200\n",
      "            precision =  0.839157  |   recall =    0.809200   |  f1 =    0.804892\n",
      "            pt file:  0.9106_fold_1/model.pkl\n",
      "    FOLD: 1    -   \n",
      "            accuracy =   0.805800       |  0.805800\n",
      "            precision =  0.838034  |   recall =    0.805800   |  f1 =    0.801057\n",
      "            pt file:  0.9088_fold_2/model.pkl\n",
      "    FOLD: 2    -   \n",
      "            accuracy =   0.806900       |  0.806900\n",
      "            precision =  0.838378  |   recall =    0.806900   |  f1 =    0.802302\n",
      "            pt file:  0.9118_fold_3/model.pkl\n",
      "    FOLD: 3    -   \n",
      "            accuracy =   0.805700       |  0.805700\n",
      "            precision =  0.837970  |   recall =    0.805700   |  f1 =    0.800949\n",
      "            pt file:  0.9097_fold_4/model.pkl\n",
      "    FOLD: 4    -   \n",
      "            accuracy =   0.809100       |  0.809100\n",
      "            precision =  0.838651  |   recall =    0.809100   |  f1 =    0.804843\n",
      "\n",
      "\n",
      " ==================================== x2face CHECKPOINT =========================\n"
     ]
    },
    {
     "name": "stderr",
     "output_type": "stream",
     "text": [
      "100%|██████████| 5000/5000 [00:23<00:00, 213.93it/s]\n",
      "100%|██████████| 5000/5000 [00:19<00:00, 258.85it/s]\n"
     ]
    },
    {
     "name": "stdout",
     "output_type": "stream",
     "text": [
      "            pt file:  0.923_fold_0/model.pkl\n",
      "    FOLD: 0    -   \n",
      "            accuracy =   0.908500       |  0.908500\n",
      "            precision =  0.912478  |   recall =    0.908500   |  f1 =    0.908279\n",
      "            pt file:  0.9229_fold_1/model.pkl\n",
      "    FOLD: 1    -   \n",
      "            accuracy =   0.909600       |  0.909600\n",
      "            precision =  0.913539  |   recall =    0.909600   |  f1 =    0.909384\n",
      "            pt file:  0.9232_fold_2/model.pkl\n",
      "    FOLD: 2    -   \n",
      "            accuracy =   0.911900       |  0.911900\n",
      "            precision =  0.915556  |   recall =    0.911900   |  f1 =    0.911706\n",
      "            pt file:  0.9231_fold_3/model.pkl\n",
      "    FOLD: 3    -   \n",
      "            accuracy =   0.909000       |  0.909000\n",
      "            precision =  0.912869  |   recall =    0.909000   |  f1 =    0.908786\n",
      "            pt file:  0.9226_fold_4/model.pkl\n",
      "    FOLD: 4    -   \n",
      "            accuracy =   0.910800       |  0.910800\n",
      "            precision =  0.914431  |   recall =    0.910800   |  f1 =    0.910604\n",
      "\n",
      "*********************************************************\n",
      "             contrast:  2.0\n",
      "\n",
      "\n",
      " ==================================== deepfake CHECKPOINT =========================\n"
     ]
    },
    {
     "name": "stderr",
     "output_type": "stream",
     "text": [
      "100%|██████████| 5000/5000 [00:22<00:00, 221.70it/s]\n",
      "100%|██████████| 5000/5000 [00:17<00:00, 288.87it/s]\n"
     ]
    },
    {
     "name": "stdout",
     "output_type": "stream",
     "text": [
      "            pt file:  0.9876_fold_0/model.pkl\n",
      "    FOLD: 0    -   \n",
      "            accuracy =   0.964200       |  0.964200\n",
      "            precision =  0.966450  |   recall =    0.964152   |  f1 =    0.964154\n",
      "            pt file:  0.9854_fold_1/model.pkl\n",
      "    FOLD: 1    -   \n",
      "            accuracy =   0.961200       |  0.961200\n",
      "            precision =  0.963812  |   recall =    0.961148   |  f1 =    0.961142\n",
      "            pt file:  0.9858_fold_2/model.pkl\n",
      "    FOLD: 2    -   \n",
      "            accuracy =   0.961200       |  0.961200\n",
      "            precision =  0.963784  |   recall =    0.961148   |  f1 =    0.961143\n",
      "            pt file:  0.988_fold_3/model.pkl\n",
      "    FOLD: 3    -   \n",
      "            accuracy =   0.964800       |  0.964800\n",
      "            precision =  0.966949  |   recall =    0.964753   |  f1 =    0.964757\n",
      "            pt file:  0.987_fold_4/model.pkl\n",
      "    FOLD: 4    -   \n",
      "            accuracy =   0.963900       |  0.963900\n",
      "            precision =  0.966161  |   recall =    0.963852   |  f1 =    0.963853\n",
      "\n",
      "\n",
      " ==================================== 3dmm CHECKPOINT =========================\n"
     ]
    },
    {
     "name": "stderr",
     "output_type": "stream",
     "text": [
      "100%|██████████| 5000/5000 [00:21<00:00, 229.38it/s]\n",
      "100%|██████████| 5000/5000 [00:14<00:00, 345.39it/s]\n"
     ]
    },
    {
     "name": "stdout",
     "output_type": "stream",
     "text": [
      "            pt file:  0.8929_fold_0/model.pkl\n",
      "    FOLD: 0    -   \n",
      "            accuracy =   0.863400       |  0.863400\n",
      "            precision =  0.865128  |   recall =    0.863400   |  f1 =    0.863238\n",
      "            pt file:  0.8934_fold_1/model.pkl\n",
      "    FOLD: 1    -   \n",
      "            accuracy =   0.863100       |  0.863100\n",
      "            precision =  0.865404  |   recall =    0.863100   |  f1 =    0.862884\n",
      "            pt file:  0.892_fold_2/model.pkl\n",
      "    FOLD: 2    -   \n",
      "            accuracy =   0.859700       |  0.859700\n",
      "            precision =  0.862029  |   recall =    0.859700   |  f1 =    0.859474\n",
      "            pt file:  0.8928_fold_3/model.pkl\n",
      "    FOLD: 3    -   \n",
      "            accuracy =   0.863600       |  0.863600\n",
      "            precision =  0.865432  |   recall =    0.863600   |  f1 =    0.863429\n",
      "            pt file:  0.8935_fold_4/model.pkl\n",
      "    FOLD: 4    -   \n",
      "            accuracy =   0.862800       |  0.862800\n",
      "            precision =  0.864446  |   recall =    0.862800   |  f1 =    0.862645\n",
      "\n",
      "\n",
      " ==================================== faceswap_2d CHECKPOINT =========================\n"
     ]
    },
    {
     "name": "stderr",
     "output_type": "stream",
     "text": [
      "100%|██████████| 5000/5000 [00:19<00:00, 251.18it/s]\n",
      "100%|██████████| 5000/5000 [03:22<00:00, 24.69it/s]\n"
     ]
    },
    {
     "name": "stdout",
     "output_type": "stream",
     "text": [
      "            pt file:  0.9949_fold_0/model.pkl\n",
      "    FOLD: 0    -   \n",
      "            accuracy =   0.990900       |  0.990900\n",
      "            precision =  0.991023  |   recall =    0.990900   |  f1 =    0.990899\n",
      "            pt file:  0.9947_fold_1/model.pkl\n",
      "    FOLD: 1    -   \n",
      "            accuracy =   0.991200       |  0.991200\n",
      "            precision =  0.991308  |   recall =    0.991200   |  f1 =    0.991200\n",
      "            pt file:  0.9949_fold_2/model.pkl\n",
      "    FOLD: 2    -   \n",
      "            accuracy =   0.990300       |  0.990300\n",
      "            precision =  0.990435  |   recall =    0.990300   |  f1 =    0.990299\n",
      "            pt file:  0.995_fold_3/model.pkl\n",
      "    FOLD: 3    -   \n",
      "            accuracy =   0.990800       |  0.990800\n",
      "            precision =  0.990926  |   recall =    0.990800   |  f1 =    0.990799\n",
      "            pt file:  0.9947_fold_4/model.pkl\n",
      "    FOLD: 4    -   \n",
      "            accuracy =   0.990400       |  0.990400\n",
      "            precision =  0.990532  |   recall =    0.990400   |  f1 =    0.990399\n",
      "\n",
      "\n",
      " ==================================== faceswap_3d CHECKPOINT =========================\n"
     ]
    },
    {
     "name": "stderr",
     "output_type": "stream",
     "text": [
      "100%|██████████| 5000/5000 [00:22<00:00, 219.88it/s]\n",
      "100%|██████████| 5000/5000 [03:41<00:00, 22.55it/s]\n"
     ]
    },
    {
     "name": "stdout",
     "output_type": "stream",
     "text": [
      "            pt file:  0.9988_fold_0/model.pkl\n",
      "    FOLD: 0    -   \n",
      "            accuracy =   0.994000       |  0.994000\n",
      "            precision =  0.994066  |   recall =    0.994000   |  f1 =    0.994000\n",
      "            pt file:  0.9988_fold_1/model.pkl\n",
      "    FOLD: 1    -   \n",
      "            accuracy =   0.994300       |  0.994300\n",
      "            precision =  0.994356  |   recall =    0.994300   |  f1 =    0.994300\n",
      "            pt file:  0.9987_fold_2/model.pkl\n",
      "    FOLD: 2    -   \n",
      "            accuracy =   0.993500       |  0.993500\n",
      "            precision =  0.993578  |   recall =    0.993500   |  f1 =    0.993500\n",
      "            pt file:  0.9986_fold_3/model.pkl\n",
      "    FOLD: 3    -   \n",
      "            accuracy =   0.994000       |  0.994000\n",
      "            precision =  0.994062  |   recall =    0.994000   |  f1 =    0.994000\n",
      "            pt file:  0.9987_fold_4/model.pkl\n",
      "    FOLD: 4    -   \n",
      "            accuracy =   0.993100       |  0.993100\n",
      "            precision =  0.993189  |   recall =    0.993100   |  f1 =    0.993100\n",
      "\n",
      "\n",
      " ==================================== monkey CHECKPOINT =========================\n"
     ]
    },
    {
     "name": "stderr",
     "output_type": "stream",
     "text": [
      "100%|██████████| 5000/5000 [00:22<00:00, 222.39it/s]\n",
      "100%|██████████| 5000/5000 [00:20<00:00, 246.22it/s]\n"
     ]
    },
    {
     "name": "stdout",
     "output_type": "stream",
     "text": [
      "            pt file:  0.9714_fold_0/model.pkl\n",
      "    FOLD: 0    -   \n",
      "            accuracy =   0.789700       |  0.789700\n",
      "            precision =  0.847896  |   recall =    0.789700   |  f1 =    0.780521\n",
      "            pt file:  0.9717_fold_1/model.pkl\n",
      "    FOLD: 1    -   \n",
      "            accuracy =   0.791800       |  0.791800\n",
      "            precision =  0.848986  |   recall =    0.791800   |  f1 =    0.782907\n",
      "            pt file:  0.9716_fold_2/model.pkl\n",
      "    FOLD: 2    -   \n",
      "            accuracy =   0.788600       |  0.788600\n",
      "            precision =  0.847328  |   recall =    0.788600   |  f1 =    0.779269\n",
      "            pt file:  0.972_fold_3/model.pkl\n",
      "    FOLD: 3    -   \n",
      "            accuracy =   0.791600       |  0.791600\n",
      "            precision =  0.849017  |   recall =    0.791600   |  f1 =    0.782661\n",
      "            pt file:  0.9723_fold_4/model.pkl\n",
      "    FOLD: 4    -   \n",
      "            accuracy =   0.798300       |  0.798300\n",
      "            precision =  0.852265  |   recall =    0.798300   |  f1 =    0.790268\n",
      "\n",
      "\n",
      " ==================================== reenact CHECKPOINT =========================\n"
     ]
    },
    {
     "name": "stderr",
     "output_type": "stream",
     "text": [
      "100%|██████████| 5000/5000 [00:22<00:00, 222.84it/s]\n",
      "100%|██████████| 4566/4566 [00:16<00:00, 268.65it/s]\n"
     ]
    },
    {
     "name": "stdout",
     "output_type": "stream",
     "text": [
      "            pt file:  0.9513_fold_0/model.pkl\n",
      "    FOLD: 0    -   \n",
      "            accuracy =   0.867700       |  0.867700\n",
      "            precision =  0.893391  |   recall =    0.856647   |  f1 =    0.862089\n",
      "            pt file:  0.9511_fold_1/model.pkl\n",
      "    FOLD: 1    -   \n",
      "            accuracy =   0.865000       |  0.865000\n",
      "            precision =  0.891724  |   recall =    0.853672   |  f1 =    0.859102\n",
      "            pt file:  0.9504_fold_2/model.pkl\n",
      "    FOLD: 2    -   \n",
      "            accuracy =   0.866300       |  0.866300\n",
      "            precision =  0.892755  |   recall =    0.855061   |  f1 =    0.860512\n",
      "            pt file:  0.9516_fold_3/model.pkl\n",
      "    FOLD: 3    -   \n",
      "            accuracy =   0.865500       |  0.865500\n",
      "            precision =  0.892049  |   recall =    0.854220   |  f1 =    0.859654\n",
      "            pt file:  0.9517_fold_4/model.pkl\n",
      "    FOLD: 4    -   \n",
      "            accuracy =   0.869700       |  0.869700\n",
      "            precision =  0.894793  |   recall =    0.858819   |  f1 =    0.864276\n",
      "\n",
      "\n",
      " ==================================== stargan CHECKPOINT =========================\n"
     ]
    },
    {
     "name": "stderr",
     "output_type": "stream",
     "text": [
      "100%|██████████| 5000/5000 [00:21<00:00, 229.81it/s]\n",
      "100%|██████████| 5000/5000 [00:33<00:00, 151.09it/s]\n"
     ]
    },
    {
     "name": "stdout",
     "output_type": "stream",
     "text": [
      "            pt file:  0.9092_fold_0/model.pkl\n",
      "    FOLD: 0    -   \n",
      "            accuracy =   0.618800       |  0.618800\n",
      "            precision =  0.760895  |   recall =    0.618800   |  f1 =    0.558714\n",
      "            pt file:  0.9106_fold_1/model.pkl\n",
      "    FOLD: 1    -   \n",
      "            accuracy =   0.616900       |  0.616900\n",
      "            precision =  0.760620  |   recall =    0.616900   |  f1 =    0.555639\n",
      "            pt file:  0.9088_fold_2/model.pkl\n",
      "    FOLD: 2    -   \n",
      "            accuracy =   0.620000       |  0.620000\n",
      "            precision =  0.762172  |   recall =    0.620000   |  f1 =    0.560403\n",
      "            pt file:  0.9118_fold_3/model.pkl\n",
      "    FOLD: 3    -   \n",
      "            accuracy =   0.616700       |  0.616700\n",
      "            precision =  0.761213  |   recall =    0.616700   |  f1 =    0.555177\n",
      "            pt file:  0.9097_fold_4/model.pkl\n",
      "    FOLD: 4    -   \n",
      "            accuracy =   0.617700       |  0.617700\n",
      "            precision =  0.761366  |   recall =    0.617700   |  f1 =    0.556796\n",
      "\n",
      "\n",
      " ==================================== x2face CHECKPOINT =========================\n"
     ]
    },
    {
     "name": "stderr",
     "output_type": "stream",
     "text": [
      "100%|██████████| 5000/5000 [00:22<00:00, 220.57it/s]\n",
      "100%|██████████| 5000/5000 [00:19<00:00, 251.16it/s]\n"
     ]
    },
    {
     "name": "stdout",
     "output_type": "stream",
     "text": [
      "            pt file:  0.923_fold_0/model.pkl\n",
      "    FOLD: 0    -   \n",
      "            accuracy =   0.881400       |  0.881400\n",
      "            precision =  0.892477  |   recall =    0.881400   |  f1 =    0.880557\n",
      "            pt file:  0.9229_fold_1/model.pkl\n",
      "    FOLD: 1    -   \n",
      "            accuracy =   0.880500       |  0.880500\n",
      "            precision =  0.891309  |   recall =    0.880500   |  f1 =    0.879669\n",
      "            pt file:  0.9232_fold_2/model.pkl\n",
      "    FOLD: 2    -   \n",
      "            accuracy =   0.884500       |  0.884500\n",
      "            precision =  0.894837  |   recall =    0.884500   |  f1 =    0.883739\n",
      "            pt file:  0.9231_fold_3/model.pkl\n",
      "    FOLD: 3    -   \n",
      "            accuracy =   0.881000       |  0.881000\n",
      "            precision =  0.891690  |   recall =    0.881000   |  f1 =    0.880183\n",
      "            pt file:  0.9226_fold_4/model.pkl\n",
      "    FOLD: 4    -   \n",
      "            accuracy =   0.883200       |  0.883200\n",
      "            precision =  0.893423  |   recall =    0.883200   |  f1 =    0.882436\n"
     ]
    }
   ],
   "source": [
    "import torch\n",
    "import random\n",
    "import numpy as np\n",
    "import os\n",
    "import torch.nn as nn\n",
    "from glob import glob\n",
    "from tqdm import tqdm\n",
    "from os.path import join\n",
    "import os.path as osp\n",
    "import pickle\n",
    "from sklearn.metrics import accuracy_score, precision_score, recall_score, f1_score\n",
    "from util import *\n",
    "\n",
    "def calculate_metric(y_label, y_pred_label):\n",
    "    mic_accuracy = accuracy_score(y_label, y_pred_label)\n",
    "    macro_precision = precision_score(y_label, y_pred_label, average='macro')\n",
    "    macro_recall = recall_score(y_label, y_pred_label, average='macro')\n",
    "    macro_f1 = f1_score(y_label, y_pred_label, average='macro')\n",
    "    return mic_accuracy, macro_precision, macro_recall, macro_f1\n",
    "\n",
    "def eval_spectrum(data, model_file):\n",
    "    pkl_file = open(data, 'rb')\n",
    "    data = pickle.load(pkl_file)\n",
    "    pkl_file.close()\n",
    "    X = data[\"data\"]\n",
    "    y = data[\"label\"]\n",
    "    with open(model_file, 'rb') as f:\n",
    "        svclassifier_r = pickle.load(f)\n",
    "    # print(\"Loaded.\")\n",
    "    SVM_score = svclassifier_r.score(X, y)\n",
    "    # print(\"accuracy by score function: \" + str(SVM_score))\n",
    "    ##### CALCULATE METRIC:\n",
    "    y_pred = svclassifier_r.predict(X)\n",
    "    acc, pre, rec, f1 = calculate_metric(y, y_pred)\n",
    "    # print(\"accuracy: \" + str(acc))\n",
    "    # print(\"precision: \" + str(pre))\n",
    "    # print(\"recall: \" + str(rec))\n",
    "    # print(\"f1 score: \" + str(f1))\n",
    "    return SVM_score, acc, pre, rec, f1\n",
    "\n",
    "def extract_test_features(test_dir: str, output_test: str, brightness: float, contrast: float, std=0, missing_value=0, quality=100, type_transform='noise'):\n",
    "    testset = get_test_path(test_dir=test_dir)\n",
    "    real_path, fake_path = split_real_fake(train_paths=testset)\n",
    "    extract_spectrum_features(real_path, fake_path, -1, output_test, brightness=brightness, contrast=contrast, std=std, miss_size=missing_value, quality=quality, type_transform=type_transform)\n",
    "    return output_test\n",
    "\n",
    "\n",
    "test_dir_template = \"/mnt/disk1/doan/phucnp/Dataset/my_extend_data/extend_data_train/{}/test\"\n",
    "\n",
    "checkpoints = {\n",
    "    \"deepfake\": \"/mnt/disk1/doan/phucnp/Graduation_Thesis/my_thesis/forensics/ml_technique/checkpoint/deepfake/spectrum/c_2.000000\",\n",
    "    \"faceswap_2d\": \"/mnt/disk1/doan/phucnp/Graduation_Thesis/my_thesis/forensics/ml_technique/checkpoint/faceswap_2d/spectrum/c_2.000000\",\n",
    "    \"3dmm\": \"/mnt/disk1/doan/phucnp/Graduation_Thesis/my_thesis/forensics/ml_technique/checkpoint/3dmm/spectrum/c_2.000000\",\n",
    "    \"faceswap_3d\": \"/mnt/disk1/doan/phucnp/Graduation_Thesis/my_thesis/forensics/ml_technique/checkpoint/faceswap_3d/spectrum/c_2.000000\",\n",
    "    \"monkey\": \"/mnt/disk1/doan/phucnp/Graduation_Thesis/my_thesis/forensics/ml_technique/checkpoint/monkey/spectrum/c_2.000000\",\n",
    "    \"reenact\": \"/mnt/disk1/doan/phucnp/Graduation_Thesis/my_thesis/forensics/ml_technique/checkpoint/reenact/spectrum/c_2.000000\",\n",
    "    \"stargan\": \"/mnt/disk1/doan/phucnp/Graduation_Thesis/my_thesis/forensics/ml_technique/checkpoint/stargan/spectrum/c_2.000000\",\n",
    "    \"x2face\": \"/mnt/disk1/doan/phucnp/Graduation_Thesis/my_thesis/forensics/ml_technique/checkpoint/x2face/spectrum/c_2.000000\"\n",
    "}\n",
    "\n",
    "brightness = 1.0\n",
    "contrasts = [1.0, 0.5, 0.75, 1.5, 2.0]\n",
    "std= 0.0\n",
    "missing_value = 0.0\n",
    "quality=100\n",
    "type_transform = 'contrast_brightness'\n",
    "\n",
    "for contrast in contrasts:\n",
    "    print(\"\\n*********************************************************\")\n",
    "    print(\"             contrast: \", contrast)\n",
    "    for technique in ['deepfake', '3dmm', 'faceswap_2d', 'faceswap_3d', 'monkey', 'reenact', 'stargan', 'x2face']:\n",
    "        checkpoint = checkpoints[technique]\n",
    "        print(\"\\n\\n ==================================== {} CHECKPOINT =========================\".format(technique))\n",
    "\n",
    "        my_break = False\n",
    "        filename = '/contrast{}.pkl'.format(contrast)\n",
    "        # filename = '/noise{}.pkl'.format(std)\n",
    "        # filename = '/missing{}.pkl'.format(missing_value)\n",
    "        # filename = '/compression{}.pkl'.format(quality)\n",
    "        output_test = '/mnt/disk1/doan/phucnp/Graduation_Thesis/my_thesis/forensics/ml_technique/spectrum/output_features/' + get_datasetname(test_dir_template.format(technique)) + filename\n",
    "        test_features = extract_test_features(test_dir=test_dir_template.format(technique), output_test=output_test, brightness = brightness, contrast=contrast, std=std, missing_value=missing_value, quality=quality, type_transform=type_transform)        \n",
    "        \n",
    "        for pkl_file in sorted(glob(join(checkpoint, '*/*.pkl')), key=lambda pkl: int(pkl.split('/')[-2][-1])):\n",
    "            if 'model' not in pkl_file:\n",
    "                continue\n",
    "                \n",
    "            fold_id = pkl_file.split('/')[-2][-1]\n",
    "            ####\n",
    "            SVM_score, acc, pre, rec, f1 = eval_spectrum(test_features, pkl_file)\n",
    "            print(\"            pt file: \", '/'.join(pkl_file.split('/')[-2:]))\n",
    "            print(\"    FOLD: {}    -   \".format(fold_id))\n",
    "            print(\"            accuracy =   {:.6f}       |  {:6f}\".format(SVM_score, acc))\n",
    "            print(\"            precision =  {:.6f}  |   recall =    {:.6f}   |  f1 =    {:.6f}\".format(pre, rec, f1))\n",
    "\n",
    "            # if brightness == 1.0:\n",
    "            #     from_acc = float(pkl_file.split('/')[-2].split('_')[0])\n",
    "            #     # if abs(round(loss, 4) - round(bestloss, 4)) > 0.001:\n",
    "            #     #     print(\"         Error in loss: {}, {}\".format(loss, bestloss))\n",
    "            #     #     my_break = True\n",
    "            #     if abs(round(from_acc, 4) - round(acc, 4)) > 0.001:\n",
    "            #         print(\"         Error in acc: {}, {}\".format(from_acc, acc))\n",
    "            #         my_break = True\n",
    "\n",
    "            #     if my_break:\n",
    "            #         break\n",
    "\n",
    "\n",
    "\n",
    "        if my_break:\n",
    "            break"
   ]
  }
 ],
 "metadata": {
  "kernelspec": {
   "display_name": "Python 3.8.13 ('phucnp')",
   "language": "python",
   "name": "python3"
  },
  "language_info": {
   "codemirror_mode": {
    "name": "ipython",
    "version": 3
   },
   "file_extension": ".py",
   "mimetype": "text/x-python",
   "name": "python",
   "nbconvert_exporter": "python",
   "pygments_lexer": "ipython3",
   "version": "3.8.13"
  },
  "orig_nbformat": 4,
  "vscode": {
   "interpreter": {
    "hash": "73e4523d5c5fcabc881bfbabdc03d28b885253c65d62f8f3eb31939c7679911f"
   }
  }
 },
 "nbformat": 4,
 "nbformat_minor": 2
}
