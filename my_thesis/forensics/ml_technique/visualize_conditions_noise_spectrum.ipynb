{
 "cells": [
  {
   "cell_type": "code",
   "execution_count": 2,
   "metadata": {},
   "outputs": [
    {
     "name": "stdout",
     "output_type": "stream",
     "text": [
      "\n",
      "*********************************************************\n",
      "             std:  0.0\n",
      "\n",
      "\n",
      " ==================================== deepfake CHECKPOINT =========================\n"
     ]
    },
    {
     "name": "stderr",
     "output_type": "stream",
     "text": [
      "100%|██████████| 5000/5000 [01:25<00:00, 58.61it/s] \n",
      "100%|██████████| 5000/5000 [01:34<00:00, 52.92it/s] \n"
     ]
    },
    {
     "name": "stdout",
     "output_type": "stream",
     "text": [
      "            pt file:  0.9876_fold_0/model.pkl\n",
      "    FOLD: 0    -   \n",
      "            accuracy =   0.987600       |  0.987600\n",
      "            precision =  0.987711  |   recall =    0.987590   |  f1 =    0.987599\n",
      "            pt file:  0.9854_fold_1/model.pkl\n",
      "    FOLD: 1    -   \n",
      "            accuracy =   0.985400       |  0.985400\n",
      "            precision =  0.985555  |   recall =    0.985388   |  f1 =    0.985399\n",
      "            pt file:  0.9858_fold_2/model.pkl\n",
      "    FOLD: 2    -   \n",
      "            accuracy =   0.985800       |  0.985800\n",
      "            precision =  0.985942  |   recall =    0.985788   |  f1 =    0.985799\n",
      "            pt file:  0.988_fold_3/model.pkl\n",
      "    FOLD: 3    -   \n",
      "            accuracy =   0.988000       |  0.988000\n",
      "            precision =  0.988111  |   recall =    0.987990   |  f1 =    0.987999\n",
      "            pt file:  0.987_fold_4/model.pkl\n",
      "    FOLD: 4    -   \n",
      "            accuracy =   0.987000       |  0.987000\n",
      "            precision =  0.987105  |   recall =    0.986990   |  f1 =    0.986999\n",
      "\n",
      "\n",
      " ==================================== 3dmm CHECKPOINT =========================\n"
     ]
    },
    {
     "name": "stderr",
     "output_type": "stream",
     "text": [
      "100%|██████████| 5000/5000 [01:30<00:00, 55.49it/s] \n",
      "100%|██████████| 5000/5000 [00:23<00:00, 216.92it/s]\n"
     ]
    },
    {
     "name": "stdout",
     "output_type": "stream",
     "text": [
      "            pt file:  0.8929_fold_0/model.pkl\n",
      "    FOLD: 0    -   \n",
      "            accuracy =   0.892900       |  0.892900\n",
      "            precision =  0.892951  |   recall =    0.892900   |  f1 =    0.892897\n",
      "            pt file:  0.8934_fold_1/model.pkl\n",
      "    FOLD: 1    -   \n",
      "            accuracy =   0.893400       |  0.893400\n",
      "            precision =  0.893428  |   recall =    0.893400   |  f1 =    0.893398\n",
      "            pt file:  0.892_fold_2/model.pkl\n",
      "    FOLD: 2    -   \n",
      "            accuracy =   0.892000       |  0.892000\n",
      "            precision =  0.892020  |   recall =    0.892000   |  f1 =    0.891999\n",
      "            pt file:  0.8928_fold_3/model.pkl\n",
      "    FOLD: 3    -   \n",
      "            accuracy =   0.892800       |  0.892800\n",
      "            precision =  0.892809  |   recall =    0.892800   |  f1 =    0.892799\n",
      "            pt file:  0.8935_fold_4/model.pkl\n",
      "    FOLD: 4    -   \n",
      "            accuracy =   0.893500       |  0.893500\n",
      "            precision =  0.893544  |   recall =    0.893500   |  f1 =    0.893497\n",
      "\n",
      "\n",
      " ==================================== faceswap_2d CHECKPOINT =========================\n"
     ]
    },
    {
     "name": "stderr",
     "output_type": "stream",
     "text": [
      "100%|██████████| 5000/5000 [00:35<00:00, 140.19it/s]\n",
      "100%|██████████| 5000/5000 [06:07<00:00, 13.60it/s]\n"
     ]
    },
    {
     "name": "stdout",
     "output_type": "stream",
     "text": [
      "            pt file:  0.9949_fold_0/model.pkl\n",
      "    FOLD: 0    -   \n",
      "            accuracy =   0.994900       |  0.994900\n",
      "            precision =  0.994906  |   recall =    0.994900   |  f1 =    0.994900\n",
      "            pt file:  0.9947_fold_1/model.pkl\n",
      "    FOLD: 1    -   \n",
      "            accuracy =   0.994700       |  0.994700\n",
      "            precision =  0.994707  |   recall =    0.994700   |  f1 =    0.994700\n",
      "            pt file:  0.9949_fold_2/model.pkl\n",
      "    FOLD: 2    -   \n",
      "            accuracy =   0.994900       |  0.994900\n",
      "            precision =  0.994907  |   recall =    0.994900   |  f1 =    0.994900\n",
      "            pt file:  0.995_fold_3/model.pkl\n",
      "    FOLD: 3    -   \n",
      "            accuracy =   0.995000       |  0.995000\n",
      "            precision =  0.995004  |   recall =    0.995000   |  f1 =    0.995000\n",
      "            pt file:  0.9947_fold_4/model.pkl\n",
      "    FOLD: 4    -   \n",
      "            accuracy =   0.994700       |  0.994700\n",
      "            precision =  0.994709  |   recall =    0.994700   |  f1 =    0.994700\n",
      "\n",
      "\n",
      " ==================================== faceswap_3d CHECKPOINT =========================\n"
     ]
    },
    {
     "name": "stderr",
     "output_type": "stream",
     "text": [
      "100%|██████████| 5000/5000 [00:32<00:00, 154.16it/s]\n",
      "100%|██████████| 5000/5000 [05:32<00:00, 15.03it/s]\n"
     ]
    },
    {
     "name": "stdout",
     "output_type": "stream",
     "text": [
      "            pt file:  0.9988_fold_0/model.pkl\n",
      "    FOLD: 0    -   \n",
      "            accuracy =   0.998800       |  0.998800\n",
      "            precision =  0.998801  |   recall =    0.998800   |  f1 =    0.998800\n",
      "            pt file:  0.9988_fold_1/model.pkl\n",
      "    FOLD: 1    -   \n",
      "            accuracy =   0.998800       |  0.998800\n",
      "            precision =  0.998801  |   recall =    0.998800   |  f1 =    0.998800\n",
      "            pt file:  0.9987_fold_2/model.pkl\n",
      "    FOLD: 2    -   \n",
      "            accuracy =   0.998700       |  0.998700\n",
      "            precision =  0.998701  |   recall =    0.998700   |  f1 =    0.998700\n",
      "            pt file:  0.9986_fold_3/model.pkl\n",
      "    FOLD: 3    -   \n",
      "            accuracy =   0.998600       |  0.998600\n",
      "            precision =  0.998601  |   recall =    0.998600   |  f1 =    0.998600\n",
      "            pt file:  0.9987_fold_4/model.pkl\n",
      "    FOLD: 4    -   \n",
      "            accuracy =   0.998700       |  0.998700\n",
      "            precision =  0.998702  |   recall =    0.998700   |  f1 =    0.998700\n",
      "\n",
      "\n",
      " ==================================== monkey CHECKPOINT =========================\n"
     ]
    },
    {
     "name": "stderr",
     "output_type": "stream",
     "text": [
      "100%|██████████| 5000/5000 [00:29<00:00, 170.57it/s]\n",
      "100%|██████████| 5000/5000 [00:27<00:00, 182.25it/s]\n"
     ]
    },
    {
     "name": "stdout",
     "output_type": "stream",
     "text": [
      "            pt file:  0.9714_fold_0/model.pkl\n",
      "    FOLD: 0    -   \n",
      "            accuracy =   0.971400       |  0.971400\n",
      "            precision =  0.971729  |   recall =    0.971400   |  f1 =    0.971395\n",
      "            pt file:  0.9717_fold_1/model.pkl\n",
      "    FOLD: 1    -   \n",
      "            accuracy =   0.971700       |  0.971700\n",
      "            precision =  0.972054  |   recall =    0.971700   |  f1 =    0.971695\n",
      "            pt file:  0.9716_fold_2/model.pkl\n",
      "    FOLD: 2    -   \n",
      "            accuracy =   0.971600       |  0.971600\n",
      "            precision =  0.971970  |   recall =    0.971600   |  f1 =    0.971594\n",
      "            pt file:  0.972_fold_3/model.pkl\n",
      "    FOLD: 3    -   \n",
      "            accuracy =   0.972000       |  0.972000\n",
      "            precision =  0.972310  |   recall =    0.972000   |  f1 =    0.971995\n",
      "            pt file:  0.9723_fold_4/model.pkl\n",
      "    FOLD: 4    -   \n",
      "            accuracy =   0.972300       |  0.972300\n",
      "            precision =  0.972645  |   recall =    0.972300   |  f1 =    0.972295\n",
      "\n",
      "\n",
      " ==================================== reenact CHECKPOINT =========================\n"
     ]
    },
    {
     "name": "stderr",
     "output_type": "stream",
     "text": [
      "100%|██████████| 5000/5000 [00:25<00:00, 195.13it/s]\n",
      "100%|██████████| 4566/4566 [00:20<00:00, 218.44it/s]\n"
     ]
    },
    {
     "name": "stdout",
     "output_type": "stream",
     "text": [
      "            pt file:  0.9513_fold_0/model.pkl\n",
      "    FOLD: 0    -   \n",
      "            accuracy =   0.951300       |  0.951300\n",
      "            precision =  0.951744  |   recall =    0.950117   |  f1 =    0.950846\n",
      "            pt file:  0.9511_fold_1/model.pkl\n",
      "    FOLD: 1    -   \n",
      "            accuracy =   0.951100       |  0.951100\n",
      "            precision =  0.951605  |   recall =    0.949863   |  f1 =    0.950638\n",
      "            pt file:  0.9504_fold_2/model.pkl\n",
      "    FOLD: 2    -   \n",
      "            accuracy =   0.950400       |  0.950400\n",
      "            precision =  0.950951  |   recall =    0.949114   |  f1 =    0.949927\n",
      "            pt file:  0.9516_fold_3/model.pkl\n",
      "    FOLD: 3    -   \n",
      "            accuracy =   0.951600       |  0.951600\n",
      "            precision =  0.951914  |   recall =    0.950533   |  f1 =    0.951161\n",
      "            pt file:  0.9517_fold_4/model.pkl\n",
      "    FOLD: 4    -   \n",
      "            accuracy =   0.951700       |  0.951700\n",
      "            precision =  0.952170  |   recall =    0.950502   |  f1 =    0.951248\n",
      "\n",
      "\n",
      " ==================================== stargan CHECKPOINT =========================\n"
     ]
    },
    {
     "name": "stderr",
     "output_type": "stream",
     "text": [
      "100%|██████████| 5000/5000 [00:34<00:00, 143.28it/s]\n",
      "100%|██████████| 5000/5000 [01:15<00:00, 66.07it/s] \n"
     ]
    },
    {
     "name": "stdout",
     "output_type": "stream",
     "text": [
      "            pt file:  0.9092_fold_0/model.pkl\n",
      "    FOLD: 0    -   \n",
      "            accuracy =   0.909200       |  0.909200\n",
      "            precision =  0.912572  |   recall =    0.909200   |  f1 =    0.909014\n",
      "            pt file:  0.9106_fold_1/model.pkl\n",
      "    FOLD: 1    -   \n",
      "            accuracy =   0.910600       |  0.910600\n",
      "            precision =  0.914044  |   recall =    0.910600   |  f1 =    0.910414\n",
      "            pt file:  0.9088_fold_2/model.pkl\n",
      "    FOLD: 2    -   \n",
      "            accuracy =   0.908800       |  0.908800\n",
      "            precision =  0.912259  |   recall =    0.908800   |  f1 =    0.908608\n",
      "            pt file:  0.9118_fold_3/model.pkl\n",
      "    FOLD: 3    -   \n",
      "            accuracy =   0.911800       |  0.911800\n",
      "            precision =  0.915043  |   recall =    0.911800   |  f1 =    0.911627\n",
      "            pt file:  0.9097_fold_4/model.pkl\n",
      "    FOLD: 4    -   \n",
      "            accuracy =   0.909700       |  0.909700\n",
      "            precision =  0.913368  |   recall =    0.909700   |  f1 =    0.909499\n",
      "\n",
      "\n",
      " ==================================== x2face CHECKPOINT =========================\n"
     ]
    },
    {
     "name": "stderr",
     "output_type": "stream",
     "text": [
      "100%|██████████| 5000/5000 [00:27<00:00, 178.98it/s]\n",
      "100%|██████████| 5000/5000 [00:34<00:00, 144.08it/s]\n"
     ]
    },
    {
     "name": "stdout",
     "output_type": "stream",
     "text": [
      "            pt file:  0.923_fold_0/model.pkl\n",
      "    FOLD: 0    -   \n",
      "            accuracy =   0.923000       |  0.923000\n",
      "            precision =  0.923108  |   recall =    0.923000   |  f1 =    0.922995\n",
      "            pt file:  0.9229_fold_1/model.pkl\n",
      "    FOLD: 1    -   \n",
      "            accuracy =   0.922900       |  0.922900\n",
      "            precision =  0.923059  |   recall =    0.922900   |  f1 =    0.922893\n",
      "            pt file:  0.9232_fold_2/model.pkl\n",
      "    FOLD: 2    -   \n",
      "            accuracy =   0.923200       |  0.923200\n",
      "            precision =  0.923331  |   recall =    0.923200   |  f1 =    0.923194\n",
      "            pt file:  0.9231_fold_3/model.pkl\n",
      "    FOLD: 3    -   \n",
      "            accuracy =   0.923100       |  0.923100\n",
      "            precision =  0.923200  |   recall =    0.923100   |  f1 =    0.923095\n",
      "            pt file:  0.9226_fold_4/model.pkl\n",
      "    FOLD: 4    -   \n",
      "            accuracy =   0.922600       |  0.922600\n",
      "            precision =  0.922714  |   recall =    0.922600   |  f1 =    0.922595\n",
      "\n",
      "*********************************************************\n",
      "             std:  0.05\n",
      "\n",
      "\n",
      " ==================================== deepfake CHECKPOINT =========================\n"
     ]
    },
    {
     "name": "stderr",
     "output_type": "stream",
     "text": [
      "100%|██████████| 5000/5000 [00:24<00:00, 204.67it/s]\n",
      "100%|██████████| 5000/5000 [00:23<00:00, 211.82it/s]\n"
     ]
    },
    {
     "name": "stdout",
     "output_type": "stream",
     "text": [
      "            pt file:  0.9876_fold_0/model.pkl\n",
      "    FOLD: 0    -   \n",
      "            accuracy =   0.632300       |  0.632300\n",
      "            precision =  0.682608  |   recall =    0.631931   |  f1 =    0.604730\n",
      "            pt file:  0.9854_fold_1/model.pkl\n",
      "    FOLD: 1    -   \n",
      "            accuracy =   0.637600       |  0.637600\n",
      "            precision =  0.690221  |   recall =    0.637231   |  f1 =    0.610317\n",
      "            pt file:  0.9858_fold_2/model.pkl\n",
      "    FOLD: 2    -   \n",
      "            accuracy =   0.595400       |  0.595400\n",
      "            precision =  0.666280  |   recall =    0.594942   |  f1 =    0.546557\n",
      "            pt file:  0.988_fold_3/model.pkl\n",
      "    FOLD: 3    -   \n",
      "            accuracy =   0.641100       |  0.641100\n",
      "            precision =  0.689699  |   recall =    0.640745   |  f1 =    0.616202\n",
      "            pt file:  0.987_fold_4/model.pkl\n",
      "    FOLD: 4    -   \n",
      "            accuracy =   0.594600       |  0.594600\n",
      "            precision =  0.669413  |   recall =    0.594134   |  f1 =    0.543697\n",
      "\n",
      "\n",
      " ==================================== 3dmm CHECKPOINT =========================\n"
     ]
    },
    {
     "name": "stderr",
     "output_type": "stream",
     "text": [
      "100%|██████████| 5000/5000 [00:25<00:00, 199.07it/s]\n",
      "100%|██████████| 5000/5000 [00:20<00:00, 243.83it/s]\n"
     ]
    },
    {
     "name": "stdout",
     "output_type": "stream",
     "text": [
      "            pt file:  0.8929_fold_0/model.pkl\n",
      "    FOLD: 0    -   \n",
      "            accuracy =   0.561600       |  0.561600\n",
      "            precision =  0.671416  |   recall =    0.561600   |  f1 =    0.477996\n",
      "            pt file:  0.8934_fold_1/model.pkl\n",
      "    FOLD: 1    -   \n",
      "            accuracy =   0.566600       |  0.566600\n",
      "            precision =  0.671164  |   recall =    0.566600   |  f1 =    0.488478\n",
      "            pt file:  0.892_fold_2/model.pkl\n",
      "    FOLD: 2    -   \n",
      "            accuracy =   0.547500       |  0.547500\n",
      "            precision =  0.665707  |   recall =    0.547500   |  f1 =    0.449287\n",
      "            pt file:  0.8928_fold_3/model.pkl\n",
      "    FOLD: 3    -   \n",
      "            accuracy =   0.563200       |  0.563200\n",
      "            precision =  0.670136  |   recall =    0.563200   |  f1 =    0.481769\n",
      "            pt file:  0.8935_fold_4/model.pkl\n",
      "    FOLD: 4    -   \n",
      "            accuracy =   0.549000       |  0.549000\n",
      "            precision =  0.663827  |   recall =    0.549000   |  f1 =    0.453184\n",
      "\n",
      "\n",
      " ==================================== faceswap_2d CHECKPOINT =========================\n"
     ]
    },
    {
     "name": "stderr",
     "output_type": "stream",
     "text": [
      "100%|██████████| 5000/5000 [00:28<00:00, 178.45it/s]\n",
      "100%|██████████| 5000/5000 [04:43<00:00, 17.65it/s]\n"
     ]
    },
    {
     "name": "stdout",
     "output_type": "stream",
     "text": [
      "            pt file:  0.9949_fold_0/model.pkl\n",
      "    FOLD: 0    -   \n",
      "            accuracy =   0.760200       |  0.760200\n",
      "            precision =  0.837929  |   recall =    0.760200   |  f1 =    0.745569\n",
      "            pt file:  0.9947_fold_1/model.pkl\n",
      "    FOLD: 1    -   \n",
      "            accuracy =   0.634800       |  0.634800\n",
      "            precision =  0.788951  |   recall =    0.634800   |  f1 =    0.578597\n",
      "            pt file:  0.9949_fold_2/model.pkl\n",
      "    FOLD: 2    -   \n",
      "            accuracy =   0.667400       |  0.667400\n",
      "            precision =  0.800264  |   recall =    0.667400   |  f1 =    0.626030\n",
      "            pt file:  0.995_fold_3/model.pkl\n",
      "    FOLD: 3    -   \n",
      "            accuracy =   0.683900       |  0.683900\n",
      "            precision =  0.806335  |   recall =    0.683900   |  f1 =    0.648809\n",
      "            pt file:  0.9947_fold_4/model.pkl\n",
      "    FOLD: 4    -   \n",
      "            accuracy =   0.659700       |  0.659700\n",
      "            precision =  0.797513  |   recall =    0.659700   |  f1 =    0.615131\n",
      "\n",
      "\n",
      " ==================================== faceswap_3d CHECKPOINT =========================\n"
     ]
    },
    {
     "name": "stderr",
     "output_type": "stream",
     "text": [
      "100%|██████████| 5000/5000 [01:03<00:00, 79.06it/s] \n",
      "100%|██████████| 5000/5000 [04:28<00:00, 18.64it/s]\n"
     ]
    },
    {
     "name": "stdout",
     "output_type": "stream",
     "text": [
      "            pt file:  0.9988_fold_0/model.pkl\n",
      "    FOLD: 0    -   \n",
      "            accuracy =   0.911800       |  0.911800\n",
      "            precision =  0.924657  |   recall =    0.911800   |  f1 =    0.911127\n",
      "            pt file:  0.9988_fold_1/model.pkl\n",
      "    FOLD: 1    -   \n",
      "            accuracy =   0.939800       |  0.939800\n",
      "            precision =  0.945841  |   recall =    0.939800   |  f1 =    0.939595\n",
      "            pt file:  0.9987_fold_2/model.pkl\n",
      "    FOLD: 2    -   \n",
      "            accuracy =   0.909500       |  0.909500\n",
      "            precision =  0.923181  |   recall =    0.909500   |  f1 =    0.908763\n",
      "            pt file:  0.9986_fold_3/model.pkl\n",
      "    FOLD: 3    -   \n",
      "            accuracy =   0.896800       |  0.896800\n",
      "            precision =  0.914243  |   recall =    0.896800   |  f1 =    0.895702\n",
      "            pt file:  0.9987_fold_4/model.pkl\n",
      "    FOLD: 4    -   \n",
      "            accuracy =   0.915600       |  0.915600\n",
      "            precision =  0.927612  |   recall =    0.915600   |  f1 =    0.915003\n",
      "\n",
      "\n",
      " ==================================== monkey CHECKPOINT =========================\n"
     ]
    },
    {
     "name": "stderr",
     "output_type": "stream",
     "text": [
      "100%|██████████| 5000/5000 [00:28<00:00, 173.95it/s]\n",
      "100%|██████████| 5000/5000 [00:25<00:00, 193.89it/s]\n",
      "/mnt/disk1/anaconda3/envs/phucnp/lib/python3.8/site-packages/sklearn/metrics/_classification.py:1318: UndefinedMetricWarning: Precision is ill-defined and being set to 0.0 in labels with no predicted samples. Use `zero_division` parameter to control this behavior.\n",
      "  _warn_prf(average, modifier, msg_start, len(result))\n"
     ]
    },
    {
     "name": "stdout",
     "output_type": "stream",
     "text": [
      "            pt file:  0.9714_fold_0/model.pkl\n",
      "    FOLD: 0    -   \n",
      "            accuracy =   0.500000       |  0.500000\n",
      "            precision =  0.250000  |   recall =    0.500000   |  f1 =    0.333333\n"
     ]
    },
    {
     "name": "stderr",
     "output_type": "stream",
     "text": [
      "/mnt/disk1/anaconda3/envs/phucnp/lib/python3.8/site-packages/sklearn/metrics/_classification.py:1318: UndefinedMetricWarning: Precision is ill-defined and being set to 0.0 in labels with no predicted samples. Use `zero_division` parameter to control this behavior.\n",
      "  _warn_prf(average, modifier, msg_start, len(result))\n"
     ]
    },
    {
     "name": "stdout",
     "output_type": "stream",
     "text": [
      "            pt file:  0.9717_fold_1/model.pkl\n",
      "    FOLD: 1    -   \n",
      "            accuracy =   0.500000       |  0.500000\n",
      "            precision =  0.250000  |   recall =    0.500000   |  f1 =    0.333333\n"
     ]
    },
    {
     "name": "stderr",
     "output_type": "stream",
     "text": [
      "/mnt/disk1/anaconda3/envs/phucnp/lib/python3.8/site-packages/sklearn/metrics/_classification.py:1318: UndefinedMetricWarning: Precision is ill-defined and being set to 0.0 in labels with no predicted samples. Use `zero_division` parameter to control this behavior.\n",
      "  _warn_prf(average, modifier, msg_start, len(result))\n"
     ]
    },
    {
     "name": "stdout",
     "output_type": "stream",
     "text": [
      "            pt file:  0.9716_fold_2/model.pkl\n",
      "    FOLD: 2    -   \n",
      "            accuracy =   0.500000       |  0.500000\n",
      "            precision =  0.250000  |   recall =    0.500000   |  f1 =    0.333333\n"
     ]
    },
    {
     "name": "stderr",
     "output_type": "stream",
     "text": [
      "/mnt/disk1/anaconda3/envs/phucnp/lib/python3.8/site-packages/sklearn/metrics/_classification.py:1318: UndefinedMetricWarning: Precision is ill-defined and being set to 0.0 in labels with no predicted samples. Use `zero_division` parameter to control this behavior.\n",
      "  _warn_prf(average, modifier, msg_start, len(result))\n"
     ]
    },
    {
     "name": "stdout",
     "output_type": "stream",
     "text": [
      "            pt file:  0.972_fold_3/model.pkl\n",
      "    FOLD: 3    -   \n",
      "            accuracy =   0.500000       |  0.500000\n",
      "            precision =  0.250000  |   recall =    0.500000   |  f1 =    0.333333\n"
     ]
    },
    {
     "name": "stderr",
     "output_type": "stream",
     "text": [
      "/mnt/disk1/anaconda3/envs/phucnp/lib/python3.8/site-packages/sklearn/metrics/_classification.py:1318: UndefinedMetricWarning: Precision is ill-defined and being set to 0.0 in labels with no predicted samples. Use `zero_division` parameter to control this behavior.\n",
      "  _warn_prf(average, modifier, msg_start, len(result))\n"
     ]
    },
    {
     "name": "stdout",
     "output_type": "stream",
     "text": [
      "            pt file:  0.9723_fold_4/model.pkl\n",
      "    FOLD: 4    -   \n",
      "            accuracy =   0.500000       |  0.500000\n",
      "            precision =  0.250000  |   recall =    0.500000   |  f1 =    0.333333\n",
      "\n",
      "\n",
      " ==================================== reenact CHECKPOINT =========================\n"
     ]
    },
    {
     "name": "stderr",
     "output_type": "stream",
     "text": [
      "100%|██████████| 5000/5000 [00:28<00:00, 177.13it/s]\n",
      "100%|██████████| 4566/4566 [00:23<00:00, 193.55it/s]\n"
     ]
    },
    {
     "name": "stdout",
     "output_type": "stream",
     "text": [
      "            pt file:  0.9513_fold_0/model.pkl\n",
      "    FOLD: 0    -   \n",
      "            accuracy =   0.677500       |  0.677500\n",
      "            precision =  0.674918  |   recall =    0.674518   |  f1 =    0.674692\n",
      "            pt file:  0.9511_fold_1/model.pkl\n",
      "    FOLD: 1    -   \n",
      "            accuracy =   0.688900       |  0.688900\n",
      "            precision =  0.688805  |   recall =    0.690238   |  f1 =    0.688283\n",
      "            pt file:  0.9504_fold_2/model.pkl\n",
      "    FOLD: 2    -   \n",
      "            accuracy =   0.700600       |  0.700600\n",
      "            precision =  0.698227  |   recall =    0.697173   |  f1 =    0.697576\n",
      "            pt file:  0.9516_fold_3/model.pkl\n",
      "    FOLD: 3    -   \n",
      "            accuracy =   0.739300       |  0.739300\n",
      "            precision =  0.741398  |   recall =    0.731522   |  f1 =    0.733043\n",
      "            pt file:  0.9517_fold_4/model.pkl\n",
      "    FOLD: 4    -   \n",
      "            accuracy =   0.732500       |  0.732500\n",
      "            precision =  0.730466  |   recall =    0.729866   |  f1 =    0.730131\n",
      "\n",
      "\n",
      " ==================================== stargan CHECKPOINT =========================\n"
     ]
    },
    {
     "name": "stderr",
     "output_type": "stream",
     "text": [
      "100%|██████████| 5000/5000 [00:30<00:00, 166.20it/s]\n",
      "100%|██████████| 5000/5000 [01:20<00:00, 61.75it/s] \n"
     ]
    },
    {
     "name": "stdout",
     "output_type": "stream",
     "text": [
      "            pt file:  0.9092_fold_0/model.pkl\n",
      "    FOLD: 0    -   \n",
      "            accuracy =   0.500100       |  0.500100\n",
      "            precision =  0.750025  |   recall =    0.500100   |  f1 =    0.333556\n"
     ]
    },
    {
     "name": "stderr",
     "output_type": "stream",
     "text": [
      "/mnt/disk1/anaconda3/envs/phucnp/lib/python3.8/site-packages/sklearn/metrics/_classification.py:1318: UndefinedMetricWarning: Precision is ill-defined and being set to 0.0 in labels with no predicted samples. Use `zero_division` parameter to control this behavior.\n",
      "  _warn_prf(average, modifier, msg_start, len(result))\n"
     ]
    },
    {
     "name": "stdout",
     "output_type": "stream",
     "text": [
      "            pt file:  0.9106_fold_1/model.pkl\n",
      "    FOLD: 1    -   \n",
      "            accuracy =   0.500000       |  0.500000\n",
      "            precision =  0.250000  |   recall =    0.500000   |  f1 =    0.333333\n"
     ]
    },
    {
     "name": "stderr",
     "output_type": "stream",
     "text": [
      "/mnt/disk1/anaconda3/envs/phucnp/lib/python3.8/site-packages/sklearn/metrics/_classification.py:1318: UndefinedMetricWarning: Precision is ill-defined and being set to 0.0 in labels with no predicted samples. Use `zero_division` parameter to control this behavior.\n",
      "  _warn_prf(average, modifier, msg_start, len(result))\n"
     ]
    },
    {
     "name": "stdout",
     "output_type": "stream",
     "text": [
      "            pt file:  0.9088_fold_2/model.pkl\n",
      "    FOLD: 2    -   \n",
      "            accuracy =   0.500000       |  0.500000\n",
      "            precision =  0.250000  |   recall =    0.500000   |  f1 =    0.333333\n"
     ]
    },
    {
     "name": "stderr",
     "output_type": "stream",
     "text": [
      "/mnt/disk1/anaconda3/envs/phucnp/lib/python3.8/site-packages/sklearn/metrics/_classification.py:1318: UndefinedMetricWarning: Precision is ill-defined and being set to 0.0 in labels with no predicted samples. Use `zero_division` parameter to control this behavior.\n",
      "  _warn_prf(average, modifier, msg_start, len(result))\n"
     ]
    },
    {
     "name": "stdout",
     "output_type": "stream",
     "text": [
      "            pt file:  0.9118_fold_3/model.pkl\n",
      "    FOLD: 3    -   \n",
      "            accuracy =   0.500000       |  0.500000\n",
      "            precision =  0.250000  |   recall =    0.500000   |  f1 =    0.333333\n"
     ]
    },
    {
     "name": "stderr",
     "output_type": "stream",
     "text": [
      "/mnt/disk1/anaconda3/envs/phucnp/lib/python3.8/site-packages/sklearn/metrics/_classification.py:1318: UndefinedMetricWarning: Precision is ill-defined and being set to 0.0 in labels with no predicted samples. Use `zero_division` parameter to control this behavior.\n",
      "  _warn_prf(average, modifier, msg_start, len(result))\n"
     ]
    },
    {
     "name": "stdout",
     "output_type": "stream",
     "text": [
      "            pt file:  0.9097_fold_4/model.pkl\n",
      "    FOLD: 4    -   \n",
      "            accuracy =   0.500000       |  0.500000\n",
      "            precision =  0.250000  |   recall =    0.500000   |  f1 =    0.333333\n",
      "\n",
      "\n",
      " ==================================== x2face CHECKPOINT =========================\n"
     ]
    },
    {
     "name": "stderr",
     "output_type": "stream",
     "text": [
      "100%|██████████| 5000/5000 [00:28<00:00, 174.83it/s]\n",
      "100%|██████████| 5000/5000 [00:27<00:00, 184.07it/s]\n"
     ]
    },
    {
     "name": "stdout",
     "output_type": "stream",
     "text": [
      "            pt file:  0.923_fold_0/model.pkl\n",
      "    FOLD: 0    -   \n",
      "            accuracy =   0.508000       |  0.508000\n",
      "            precision =  0.550396  |   recall =    0.508000   |  f1 =    0.376968\n",
      "            pt file:  0.9229_fold_1/model.pkl\n",
      "    FOLD: 1    -   \n",
      "            accuracy =   0.506300       |  0.506300\n",
      "            precision =  0.551945  |   recall =    0.506300   |  f1 =    0.367311\n",
      "            pt file:  0.9232_fold_2/model.pkl\n",
      "    FOLD: 2    -   \n",
      "            accuracy =   0.506300       |  0.506300\n",
      "            precision =  0.548927  |   recall =    0.506300   |  f1 =    0.368824\n",
      "            pt file:  0.9231_fold_3/model.pkl\n",
      "    FOLD: 3    -   \n",
      "            accuracy =   0.507700       |  0.507700\n",
      "            precision =  0.547952  |   recall =    0.507700   |  f1 =    0.376949\n",
      "            pt file:  0.9226_fold_4/model.pkl\n",
      "    FOLD: 4    -   \n",
      "            accuracy =   0.506200       |  0.506200\n",
      "            precision =  0.550651  |   recall =    0.506200   |  f1 =    0.367411\n",
      "\n",
      "*********************************************************\n",
      "             std:  0.1\n",
      "\n",
      "\n",
      " ==================================== deepfake CHECKPOINT =========================\n"
     ]
    },
    {
     "name": "stderr",
     "output_type": "stream",
     "text": [
      "100%|██████████| 5000/5000 [00:31<00:00, 159.98it/s]\n",
      "100%|██████████| 5000/5000 [00:28<00:00, 173.18it/s]\n"
     ]
    },
    {
     "name": "stdout",
     "output_type": "stream",
     "text": [
      "            pt file:  0.9876_fold_0/model.pkl\n",
      "    FOLD: 0    -   \n",
      "            accuracy =   0.499800       |  0.499800\n",
      "            precision =  0.515205  |   recall =    0.500489   |  f1 =    0.340734\n",
      "            pt file:  0.9854_fold_1/model.pkl\n",
      "    FOLD: 1    -   \n",
      "            accuracy =   0.501000       |  0.501000\n",
      "            precision =  0.553873  |   recall =    0.501689   |  f1 =    0.342145\n",
      "            pt file:  0.9858_fold_2/model.pkl\n",
      "    FOLD: 2    -   \n",
      "            accuracy =   0.514700       |  0.514700\n",
      "            precision =  0.580684  |   recall =    0.515330   |  f1 =    0.391953\n",
      "            pt file:  0.988_fold_3/model.pkl\n",
      "    FOLD: 3    -   \n",
      "            accuracy =   0.500000       |  0.500000\n",
      "            precision =  0.532843  |   recall =    0.500693   |  f1 =    0.338593\n",
      "            pt file:  0.987_fold_4/model.pkl\n",
      "    FOLD: 4    -   \n",
      "            accuracy =   0.527100       |  0.527100\n",
      "            precision =  0.610193  |   recall =    0.527706   |  f1 =    0.418658\n",
      "\n",
      "\n",
      " ==================================== 3dmm CHECKPOINT =========================\n"
     ]
    },
    {
     "name": "stderr",
     "output_type": "stream",
     "text": [
      "100%|██████████| 5000/5000 [00:34<00:00, 145.21it/s]\n",
      "100%|██████████| 5000/5000 [00:26<00:00, 191.68it/s]\n"
     ]
    },
    {
     "name": "stdout",
     "output_type": "stream",
     "text": [
      "            pt file:  0.8929_fold_0/model.pkl\n",
      "    FOLD: 0    -   \n",
      "            accuracy =   0.633600       |  0.633600\n",
      "            precision =  0.640138  |   recall =    0.633600   |  f1 =    0.629276\n",
      "            pt file:  0.8934_fold_1/model.pkl\n",
      "    FOLD: 1    -   \n",
      "            accuracy =   0.627300       |  0.627300\n",
      "            precision =  0.640057  |   recall =    0.627300   |  f1 =    0.618616\n",
      "            pt file:  0.892_fold_2/model.pkl\n",
      "    FOLD: 2    -   \n",
      "            accuracy =   0.642800       |  0.642800\n",
      "            precision =  0.642869  |   recall =    0.642800   |  f1 =    0.642757\n",
      "            pt file:  0.8928_fold_3/model.pkl\n",
      "    FOLD: 3    -   \n",
      "            accuracy =   0.628500       |  0.628500\n",
      "            precision =  0.637740  |   recall =    0.628500   |  f1 =    0.622164\n",
      "            pt file:  0.8935_fold_4/model.pkl\n",
      "    FOLD: 4    -   \n",
      "            accuracy =   0.642400       |  0.642400\n",
      "            precision =  0.642444  |   recall =    0.642400   |  f1 =    0.642372\n",
      "\n",
      "\n",
      " ==================================== faceswap_2d CHECKPOINT =========================\n"
     ]
    },
    {
     "name": "stderr",
     "output_type": "stream",
     "text": [
      "100%|██████████| 5000/5000 [00:28<00:00, 172.88it/s]\n",
      "100%|██████████| 5000/5000 [04:47<00:00, 17.40it/s]\n"
     ]
    },
    {
     "name": "stdout",
     "output_type": "stream",
     "text": [
      "            pt file:  0.9949_fold_0/model.pkl\n",
      "    FOLD: 0    -   \n",
      "            accuracy =   0.505900       |  0.505900\n",
      "            precision =  0.751484  |   recall =    0.505900   |  f1 =    0.346312\n"
     ]
    },
    {
     "name": "stderr",
     "output_type": "stream",
     "text": [
      "/mnt/disk1/anaconda3/envs/phucnp/lib/python3.8/site-packages/sklearn/metrics/_classification.py:1318: UndefinedMetricWarning: Precision is ill-defined and being set to 0.0 in labels with no predicted samples. Use `zero_division` parameter to control this behavior.\n",
      "  _warn_prf(average, modifier, msg_start, len(result))\n"
     ]
    },
    {
     "name": "stdout",
     "output_type": "stream",
     "text": [
      "            pt file:  0.9947_fold_1/model.pkl\n",
      "    FOLD: 1    -   \n",
      "            accuracy =   0.500000       |  0.500000\n",
      "            precision =  0.250000  |   recall =    0.500000   |  f1 =    0.333333\n",
      "            pt file:  0.9949_fold_2/model.pkl\n",
      "    FOLD: 2    -   \n",
      "            accuracy =   0.500700       |  0.500700\n",
      "            precision =  0.750175  |   recall =    0.500700   |  f1 =    0.334887\n",
      "            pt file:  0.995_fold_3/model.pkl\n",
      "    FOLD: 3    -   \n",
      "            accuracy =   0.501000       |  0.501000\n",
      "            precision =  0.750250  |   recall =    0.501000   |  f1 =    0.335552\n",
      "            pt file:  0.9947_fold_4/model.pkl\n",
      "    FOLD: 4    -   \n",
      "            accuracy =   0.500100       |  0.500100\n",
      "            precision =  0.750025  |   recall =    0.500100   |  f1 =    0.333556\n",
      "\n",
      "\n",
      " ==================================== faceswap_3d CHECKPOINT =========================\n"
     ]
    },
    {
     "name": "stderr",
     "output_type": "stream",
     "text": [
      "100%|██████████| 5000/5000 [00:28<00:00, 178.27it/s]\n",
      "100%|██████████| 5000/5000 [05:42<00:00, 14.60it/s]\n"
     ]
    },
    {
     "name": "stdout",
     "output_type": "stream",
     "text": [
      "            pt file:  0.9988_fold_0/model.pkl\n",
      "    FOLD: 0    -   \n",
      "            accuracy =   0.525600       |  0.525600\n",
      "            precision =  0.756568  |   recall =    0.525600   |  f1 =    0.387827\n",
      "            pt file:  0.9988_fold_1/model.pkl\n",
      "    FOLD: 1    -   \n",
      "            accuracy =   0.585900       |  0.585900\n",
      "            precision =  0.773493  |   recall =    0.585900   |  f1 =    0.500194\n",
      "            pt file:  0.9987_fold_2/model.pkl\n",
      "    FOLD: 2    -   \n",
      "            accuracy =   0.528700       |  0.528700\n",
      "            precision =  0.757387  |   recall =    0.528700   |  f1 =    0.394120\n",
      "            pt file:  0.9986_fold_3/model.pkl\n",
      "    FOLD: 3    -   \n",
      "            accuracy =   0.515300       |  0.515300\n",
      "            precision =  0.753884  |   recall =    0.515300   |  f1 =    0.366460\n",
      "            pt file:  0.9987_fold_4/model.pkl\n",
      "    FOLD: 4    -   \n",
      "            accuracy =   0.536000       |  0.536000\n",
      "            precision =  0.759336  |   recall =    0.536000   |  f1 =    0.408694\n",
      "\n",
      "\n",
      " ==================================== monkey CHECKPOINT =========================\n"
     ]
    },
    {
     "name": "stderr",
     "output_type": "stream",
     "text": [
      "100%|██████████| 5000/5000 [00:34<00:00, 146.21it/s]\n",
      "100%|██████████| 5000/5000 [00:28<00:00, 176.07it/s]\n",
      "/mnt/disk1/anaconda3/envs/phucnp/lib/python3.8/site-packages/sklearn/metrics/_classification.py:1318: UndefinedMetricWarning: Precision is ill-defined and being set to 0.0 in labels with no predicted samples. Use `zero_division` parameter to control this behavior.\n",
      "  _warn_prf(average, modifier, msg_start, len(result))\n"
     ]
    },
    {
     "name": "stdout",
     "output_type": "stream",
     "text": [
      "            pt file:  0.9714_fold_0/model.pkl\n",
      "    FOLD: 0    -   \n",
      "            accuracy =   0.500000       |  0.500000\n",
      "            precision =  0.250000  |   recall =    0.500000   |  f1 =    0.333333\n"
     ]
    },
    {
     "name": "stderr",
     "output_type": "stream",
     "text": [
      "/mnt/disk1/anaconda3/envs/phucnp/lib/python3.8/site-packages/sklearn/metrics/_classification.py:1318: UndefinedMetricWarning: Precision is ill-defined and being set to 0.0 in labels with no predicted samples. Use `zero_division` parameter to control this behavior.\n",
      "  _warn_prf(average, modifier, msg_start, len(result))\n"
     ]
    },
    {
     "name": "stdout",
     "output_type": "stream",
     "text": [
      "            pt file:  0.9717_fold_1/model.pkl\n",
      "    FOLD: 1    -   \n",
      "            accuracy =   0.500000       |  0.500000\n",
      "            precision =  0.250000  |   recall =    0.500000   |  f1 =    0.333333\n"
     ]
    },
    {
     "name": "stderr",
     "output_type": "stream",
     "text": [
      "/mnt/disk1/anaconda3/envs/phucnp/lib/python3.8/site-packages/sklearn/metrics/_classification.py:1318: UndefinedMetricWarning: Precision is ill-defined and being set to 0.0 in labels with no predicted samples. Use `zero_division` parameter to control this behavior.\n",
      "  _warn_prf(average, modifier, msg_start, len(result))\n"
     ]
    },
    {
     "name": "stdout",
     "output_type": "stream",
     "text": [
      "            pt file:  0.9716_fold_2/model.pkl\n",
      "    FOLD: 2    -   \n",
      "            accuracy =   0.500000       |  0.500000\n",
      "            precision =  0.250000  |   recall =    0.500000   |  f1 =    0.333333\n"
     ]
    },
    {
     "name": "stderr",
     "output_type": "stream",
     "text": [
      "/mnt/disk1/anaconda3/envs/phucnp/lib/python3.8/site-packages/sklearn/metrics/_classification.py:1318: UndefinedMetricWarning: Precision is ill-defined and being set to 0.0 in labels with no predicted samples. Use `zero_division` parameter to control this behavior.\n",
      "  _warn_prf(average, modifier, msg_start, len(result))\n"
     ]
    },
    {
     "name": "stdout",
     "output_type": "stream",
     "text": [
      "            pt file:  0.972_fold_3/model.pkl\n",
      "    FOLD: 3    -   \n",
      "            accuracy =   0.500000       |  0.500000\n",
      "            precision =  0.250000  |   recall =    0.500000   |  f1 =    0.333333\n"
     ]
    },
    {
     "name": "stderr",
     "output_type": "stream",
     "text": [
      "/mnt/disk1/anaconda3/envs/phucnp/lib/python3.8/site-packages/sklearn/metrics/_classification.py:1318: UndefinedMetricWarning: Precision is ill-defined and being set to 0.0 in labels with no predicted samples. Use `zero_division` parameter to control this behavior.\n",
      "  _warn_prf(average, modifier, msg_start, len(result))\n"
     ]
    },
    {
     "name": "stdout",
     "output_type": "stream",
     "text": [
      "            pt file:  0.9723_fold_4/model.pkl\n",
      "    FOLD: 4    -   \n",
      "            accuracy =   0.500000       |  0.500000\n",
      "            precision =  0.250000  |   recall =    0.500000   |  f1 =    0.333333\n",
      "\n",
      "\n",
      " ==================================== reenact CHECKPOINT =========================\n"
     ]
    },
    {
     "name": "stderr",
     "output_type": "stream",
     "text": [
      "100%|██████████| 5000/5000 [00:29<00:00, 170.95it/s]\n",
      "100%|██████████| 4566/4566 [00:25<00:00, 176.86it/s]\n"
     ]
    },
    {
     "name": "stdout",
     "output_type": "stream",
     "text": [
      "            pt file:  0.9513_fold_0/model.pkl\n",
      "    FOLD: 0    -   \n",
      "            accuracy =   0.575000       |  0.575000\n",
      "            precision =  0.674622  |   recall =    0.603609   |  f1 =    0.539625\n",
      "            pt file:  0.9511_fold_1/model.pkl\n",
      "    FOLD: 1    -   \n",
      "            accuracy =   0.598800       |  0.598800\n",
      "            precision =  0.601031  |   recall =    0.601579   |  f1 =    0.598636\n",
      "            pt file:  0.9504_fold_2/model.pkl\n",
      "    FOLD: 2    -   \n",
      "            accuracy =   0.608400       |  0.608400\n",
      "            precision =  0.609662  |   recall =    0.610412   |  f1 =    0.608052\n",
      "            pt file:  0.9516_fold_3/model.pkl\n",
      "    FOLD: 3    -   \n",
      "            accuracy =   0.563300       |  0.563300\n",
      "            precision =  0.557435  |   recall =    0.538444   |  f1 =    0.508798\n",
      "            pt file:  0.9517_fold_4/model.pkl\n",
      "    FOLD: 4    -   \n",
      "            accuracy =   0.604700       |  0.604700\n",
      "            precision =  0.600165  |   recall =    0.594239   |  f1 =    0.592634\n",
      "\n",
      "\n",
      " ==================================== stargan CHECKPOINT =========================\n"
     ]
    },
    {
     "name": "stderr",
     "output_type": "stream",
     "text": [
      "100%|██████████| 5000/5000 [00:29<00:00, 166.92it/s]\n",
      "100%|██████████| 5000/5000 [01:13<00:00, 68.47it/s] \n",
      "/mnt/disk1/anaconda3/envs/phucnp/lib/python3.8/site-packages/sklearn/metrics/_classification.py:1318: UndefinedMetricWarning: Precision is ill-defined and being set to 0.0 in labels with no predicted samples. Use `zero_division` parameter to control this behavior.\n",
      "  _warn_prf(average, modifier, msg_start, len(result))\n"
     ]
    },
    {
     "name": "stdout",
     "output_type": "stream",
     "text": [
      "            pt file:  0.9092_fold_0/model.pkl\n",
      "    FOLD: 0    -   \n",
      "            accuracy =   0.500000       |  0.500000\n",
      "            precision =  0.250000  |   recall =    0.500000   |  f1 =    0.333333\n"
     ]
    },
    {
     "name": "stderr",
     "output_type": "stream",
     "text": [
      "/mnt/disk1/anaconda3/envs/phucnp/lib/python3.8/site-packages/sklearn/metrics/_classification.py:1318: UndefinedMetricWarning: Precision is ill-defined and being set to 0.0 in labels with no predicted samples. Use `zero_division` parameter to control this behavior.\n",
      "  _warn_prf(average, modifier, msg_start, len(result))\n"
     ]
    },
    {
     "name": "stdout",
     "output_type": "stream",
     "text": [
      "            pt file:  0.9106_fold_1/model.pkl\n",
      "    FOLD: 1    -   \n",
      "            accuracy =   0.500000       |  0.500000\n",
      "            precision =  0.250000  |   recall =    0.500000   |  f1 =    0.333333\n"
     ]
    },
    {
     "name": "stderr",
     "output_type": "stream",
     "text": [
      "/mnt/disk1/anaconda3/envs/phucnp/lib/python3.8/site-packages/sklearn/metrics/_classification.py:1318: UndefinedMetricWarning: Precision is ill-defined and being set to 0.0 in labels with no predicted samples. Use `zero_division` parameter to control this behavior.\n",
      "  _warn_prf(average, modifier, msg_start, len(result))\n"
     ]
    },
    {
     "name": "stdout",
     "output_type": "stream",
     "text": [
      "            pt file:  0.9088_fold_2/model.pkl\n",
      "    FOLD: 2    -   \n",
      "            accuracy =   0.500000       |  0.500000\n",
      "            precision =  0.250000  |   recall =    0.500000   |  f1 =    0.333333\n"
     ]
    },
    {
     "name": "stderr",
     "output_type": "stream",
     "text": [
      "/mnt/disk1/anaconda3/envs/phucnp/lib/python3.8/site-packages/sklearn/metrics/_classification.py:1318: UndefinedMetricWarning: Precision is ill-defined and being set to 0.0 in labels with no predicted samples. Use `zero_division` parameter to control this behavior.\n",
      "  _warn_prf(average, modifier, msg_start, len(result))\n"
     ]
    },
    {
     "name": "stdout",
     "output_type": "stream",
     "text": [
      "            pt file:  0.9118_fold_3/model.pkl\n",
      "    FOLD: 3    -   \n",
      "            accuracy =   0.500000       |  0.500000\n",
      "            precision =  0.250000  |   recall =    0.500000   |  f1 =    0.333333\n"
     ]
    },
    {
     "name": "stderr",
     "output_type": "stream",
     "text": [
      "/mnt/disk1/anaconda3/envs/phucnp/lib/python3.8/site-packages/sklearn/metrics/_classification.py:1318: UndefinedMetricWarning: Precision is ill-defined and being set to 0.0 in labels with no predicted samples. Use `zero_division` parameter to control this behavior.\n",
      "  _warn_prf(average, modifier, msg_start, len(result))\n"
     ]
    },
    {
     "name": "stdout",
     "output_type": "stream",
     "text": [
      "            pt file:  0.9097_fold_4/model.pkl\n",
      "    FOLD: 4    -   \n",
      "            accuracy =   0.500000       |  0.500000\n",
      "            precision =  0.250000  |   recall =    0.500000   |  f1 =    0.333333\n",
      "\n",
      "\n",
      " ==================================== x2face CHECKPOINT =========================\n"
     ]
    },
    {
     "name": "stderr",
     "output_type": "stream",
     "text": [
      "100%|██████████| 5000/5000 [00:35<00:00, 141.95it/s]\n",
      "100%|██████████| 5000/5000 [00:29<00:00, 170.46it/s]\n"
     ]
    },
    {
     "name": "stdout",
     "output_type": "stream",
     "text": [
      "            pt file:  0.923_fold_0/model.pkl\n",
      "    FOLD: 0    -   \n",
      "            accuracy =   0.546200       |  0.546200\n",
      "            precision =  0.547034  |   recall =    0.546200   |  f1 =    0.544178\n",
      "            pt file:  0.9229_fold_1/model.pkl\n",
      "    FOLD: 1    -   \n",
      "            accuracy =   0.552600       |  0.552600\n",
      "            precision =  0.561877  |   recall =    0.552600   |  f1 =    0.535178\n",
      "            pt file:  0.9232_fold_2/model.pkl\n",
      "    FOLD: 2    -   \n",
      "            accuracy =   0.554800       |  0.554800\n",
      "            precision =  0.561737  |   recall =    0.554800   |  f1 =    0.541933\n",
      "            pt file:  0.9231_fold_3/model.pkl\n",
      "    FOLD: 3    -   \n",
      "            accuracy =   0.550100       |  0.550100\n",
      "            precision =  0.550698  |   recall =    0.550100   |  f1 =    0.548770\n",
      "            pt file:  0.9226_fold_4/model.pkl\n",
      "    FOLD: 4    -   \n",
      "            accuracy =   0.552500       |  0.552500\n",
      "            precision =  0.562346  |   recall =    0.552500   |  f1 =    0.534106\n",
      "\n",
      "*********************************************************\n",
      "             std:  0.15\n",
      "\n",
      "\n",
      " ==================================== deepfake CHECKPOINT =========================\n"
     ]
    },
    {
     "name": "stderr",
     "output_type": "stream",
     "text": [
      "100%|██████████| 5000/5000 [00:53<00:00, 93.46it/s] \n",
      "100%|██████████| 5000/5000 [00:20<00:00, 244.20it/s]\n",
      "/mnt/disk1/anaconda3/envs/phucnp/lib/python3.8/site-packages/sklearn/metrics/_classification.py:1318: UndefinedMetricWarning: Precision is ill-defined and being set to 0.0 in labels with no predicted samples. Use `zero_division` parameter to control this behavior.\n",
      "  _warn_prf(average, modifier, msg_start, len(result))\n"
     ]
    },
    {
     "name": "stdout",
     "output_type": "stream",
     "text": [
      "            pt file:  0.9876_fold_0/model.pkl\n",
      "    FOLD: 0    -   \n",
      "            accuracy =   0.499300       |  0.499300\n",
      "            precision =  0.249650  |   recall =    0.500000   |  f1 =    0.333022\n"
     ]
    },
    {
     "name": "stderr",
     "output_type": "stream",
     "text": [
      "/mnt/disk1/anaconda3/envs/phucnp/lib/python3.8/site-packages/sklearn/metrics/_classification.py:1318: UndefinedMetricWarning: Precision is ill-defined and being set to 0.0 in labels with no predicted samples. Use `zero_division` parameter to control this behavior.\n",
      "  _warn_prf(average, modifier, msg_start, len(result))\n"
     ]
    },
    {
     "name": "stdout",
     "output_type": "stream",
     "text": [
      "            pt file:  0.9854_fold_1/model.pkl\n",
      "    FOLD: 1    -   \n",
      "            accuracy =   0.499300       |  0.499300\n",
      "            precision =  0.249650  |   recall =    0.500000   |  f1 =    0.333022\n"
     ]
    },
    {
     "name": "stderr",
     "output_type": "stream",
     "text": [
      "/mnt/disk1/anaconda3/envs/phucnp/lib/python3.8/site-packages/sklearn/metrics/_classification.py:1318: UndefinedMetricWarning: Precision is ill-defined and being set to 0.0 in labels with no predicted samples. Use `zero_division` parameter to control this behavior.\n",
      "  _warn_prf(average, modifier, msg_start, len(result))\n"
     ]
    },
    {
     "name": "stdout",
     "output_type": "stream",
     "text": [
      "            pt file:  0.9858_fold_2/model.pkl\n",
      "    FOLD: 2    -   \n",
      "            accuracy =   0.499300       |  0.499300\n",
      "            precision =  0.249650  |   recall =    0.500000   |  f1 =    0.333022\n"
     ]
    },
    {
     "name": "stderr",
     "output_type": "stream",
     "text": [
      "/mnt/disk1/anaconda3/envs/phucnp/lib/python3.8/site-packages/sklearn/metrics/_classification.py:1318: UndefinedMetricWarning: Precision is ill-defined and being set to 0.0 in labels with no predicted samples. Use `zero_division` parameter to control this behavior.\n",
      "  _warn_prf(average, modifier, msg_start, len(result))\n"
     ]
    },
    {
     "name": "stdout",
     "output_type": "stream",
     "text": [
      "            pt file:  0.988_fold_3/model.pkl\n",
      "    FOLD: 3    -   \n",
      "            accuracy =   0.499300       |  0.499300\n",
      "            precision =  0.249650  |   recall =    0.500000   |  f1 =    0.333022\n"
     ]
    },
    {
     "name": "stderr",
     "output_type": "stream",
     "text": [
      "/mnt/disk1/anaconda3/envs/phucnp/lib/python3.8/site-packages/sklearn/metrics/_classification.py:1318: UndefinedMetricWarning: Precision is ill-defined and being set to 0.0 in labels with no predicted samples. Use `zero_division` parameter to control this behavior.\n",
      "  _warn_prf(average, modifier, msg_start, len(result))\n"
     ]
    },
    {
     "name": "stdout",
     "output_type": "stream",
     "text": [
      "            pt file:  0.987_fold_4/model.pkl\n",
      "    FOLD: 4    -   \n",
      "            accuracy =   0.499300       |  0.499300\n",
      "            precision =  0.249650  |   recall =    0.500000   |  f1 =    0.333022\n",
      "\n",
      "\n",
      " ==================================== 3dmm CHECKPOINT =========================\n"
     ]
    },
    {
     "name": "stderr",
     "output_type": "stream",
     "text": [
      "100%|██████████| 5000/5000 [00:59<00:00, 84.65it/s] \n",
      "100%|██████████| 5000/5000 [00:20<00:00, 245.45it/s]\n"
     ]
    },
    {
     "name": "stdout",
     "output_type": "stream",
     "text": [
      "            pt file:  0.8929_fold_0/model.pkl\n",
      "    FOLD: 0    -   \n",
      "            accuracy =   0.500400       |  0.500400\n",
      "            precision =  0.750100  |   recall =    0.500400   |  f1 =    0.334222\n",
      "            pt file:  0.8934_fold_1/model.pkl\n",
      "    FOLD: 1    -   \n",
      "            accuracy =   0.500100       |  0.500100\n",
      "            precision =  0.750025  |   recall =    0.500100   |  f1 =    0.333556\n",
      "            pt file:  0.892_fold_2/model.pkl\n",
      "    FOLD: 2    -   \n",
      "            accuracy =   0.501100       |  0.501100\n",
      "            precision =  0.711814  |   recall =    0.501100   |  f1 =    0.335950\n",
      "            pt file:  0.8928_fold_3/model.pkl\n",
      "    FOLD: 3    -   \n",
      "            accuracy =   0.500300       |  0.500300\n",
      "            precision =  0.750075  |   recall =    0.500300   |  f1 =    0.334000\n",
      "            pt file:  0.8935_fold_4/model.pkl\n",
      "    FOLD: 4    -   \n",
      "            accuracy =   0.501900       |  0.501900\n",
      "            precision =  0.726666  |   recall =    0.501900   |  f1 =    0.337717\n",
      "\n",
      "\n",
      " ==================================== faceswap_2d CHECKPOINT =========================\n"
     ]
    },
    {
     "name": "stderr",
     "output_type": "stream",
     "text": [
      "100%|██████████| 5000/5000 [00:29<00:00, 171.87it/s]\n",
      "100%|██████████| 5000/5000 [04:58<00:00, 16.76it/s]\n",
      "/mnt/disk1/anaconda3/envs/phucnp/lib/python3.8/site-packages/sklearn/metrics/_classification.py:1318: UndefinedMetricWarning: Precision is ill-defined and being set to 0.0 in labels with no predicted samples. Use `zero_division` parameter to control this behavior.\n",
      "  _warn_prf(average, modifier, msg_start, len(result))\n"
     ]
    },
    {
     "name": "stdout",
     "output_type": "stream",
     "text": [
      "            pt file:  0.9949_fold_0/model.pkl\n",
      "    FOLD: 0    -   \n",
      "            accuracy =   0.500000       |  0.500000\n",
      "            precision =  0.250000  |   recall =    0.500000   |  f1 =    0.333333\n"
     ]
    },
    {
     "name": "stderr",
     "output_type": "stream",
     "text": [
      "/mnt/disk1/anaconda3/envs/phucnp/lib/python3.8/site-packages/sklearn/metrics/_classification.py:1318: UndefinedMetricWarning: Precision is ill-defined and being set to 0.0 in labels with no predicted samples. Use `zero_division` parameter to control this behavior.\n",
      "  _warn_prf(average, modifier, msg_start, len(result))\n"
     ]
    },
    {
     "name": "stdout",
     "output_type": "stream",
     "text": [
      "            pt file:  0.9947_fold_1/model.pkl\n",
      "    FOLD: 1    -   \n",
      "            accuracy =   0.500000       |  0.500000\n",
      "            precision =  0.250000  |   recall =    0.500000   |  f1 =    0.333333\n"
     ]
    },
    {
     "name": "stderr",
     "output_type": "stream",
     "text": [
      "/mnt/disk1/anaconda3/envs/phucnp/lib/python3.8/site-packages/sklearn/metrics/_classification.py:1318: UndefinedMetricWarning: Precision is ill-defined and being set to 0.0 in labels with no predicted samples. Use `zero_division` parameter to control this behavior.\n",
      "  _warn_prf(average, modifier, msg_start, len(result))\n"
     ]
    },
    {
     "name": "stdout",
     "output_type": "stream",
     "text": [
      "            pt file:  0.9949_fold_2/model.pkl\n",
      "    FOLD: 2    -   \n",
      "            accuracy =   0.500000       |  0.500000\n",
      "            precision =  0.250000  |   recall =    0.500000   |  f1 =    0.333333\n"
     ]
    },
    {
     "name": "stderr",
     "output_type": "stream",
     "text": [
      "/mnt/disk1/anaconda3/envs/phucnp/lib/python3.8/site-packages/sklearn/metrics/_classification.py:1318: UndefinedMetricWarning: Precision is ill-defined and being set to 0.0 in labels with no predicted samples. Use `zero_division` parameter to control this behavior.\n",
      "  _warn_prf(average, modifier, msg_start, len(result))\n"
     ]
    },
    {
     "name": "stdout",
     "output_type": "stream",
     "text": [
      "            pt file:  0.995_fold_3/model.pkl\n",
      "    FOLD: 3    -   \n",
      "            accuracy =   0.500000       |  0.500000\n",
      "            precision =  0.250000  |   recall =    0.500000   |  f1 =    0.333333\n"
     ]
    },
    {
     "name": "stderr",
     "output_type": "stream",
     "text": [
      "/mnt/disk1/anaconda3/envs/phucnp/lib/python3.8/site-packages/sklearn/metrics/_classification.py:1318: UndefinedMetricWarning: Precision is ill-defined and being set to 0.0 in labels with no predicted samples. Use `zero_division` parameter to control this behavior.\n",
      "  _warn_prf(average, modifier, msg_start, len(result))\n"
     ]
    },
    {
     "name": "stdout",
     "output_type": "stream",
     "text": [
      "            pt file:  0.9947_fold_4/model.pkl\n",
      "    FOLD: 4    -   \n",
      "            accuracy =   0.500000       |  0.500000\n",
      "            precision =  0.250000  |   recall =    0.500000   |  f1 =    0.333333\n",
      "\n",
      "\n",
      " ==================================== faceswap_3d CHECKPOINT =========================\n"
     ]
    },
    {
     "name": "stderr",
     "output_type": "stream",
     "text": [
      "100%|██████████| 5000/5000 [00:29<00:00, 171.52it/s]\n",
      "100%|██████████| 5000/5000 [04:31<00:00, 18.39it/s]\n",
      "/mnt/disk1/anaconda3/envs/phucnp/lib/python3.8/site-packages/sklearn/metrics/_classification.py:1318: UndefinedMetricWarning: Precision is ill-defined and being set to 0.0 in labels with no predicted samples. Use `zero_division` parameter to control this behavior.\n",
      "  _warn_prf(average, modifier, msg_start, len(result))\n"
     ]
    },
    {
     "name": "stdout",
     "output_type": "stream",
     "text": [
      "            pt file:  0.9988_fold_0/model.pkl\n",
      "    FOLD: 0    -   \n",
      "            accuracy =   0.500000       |  0.500000\n",
      "            precision =  0.250000  |   recall =    0.500000   |  f1 =    0.333333\n"
     ]
    },
    {
     "name": "stderr",
     "output_type": "stream",
     "text": [
      "/mnt/disk1/anaconda3/envs/phucnp/lib/python3.8/site-packages/sklearn/metrics/_classification.py:1318: UndefinedMetricWarning: Precision is ill-defined and being set to 0.0 in labels with no predicted samples. Use `zero_division` parameter to control this behavior.\n",
      "  _warn_prf(average, modifier, msg_start, len(result))\n"
     ]
    },
    {
     "name": "stdout",
     "output_type": "stream",
     "text": [
      "            pt file:  0.9988_fold_1/model.pkl\n",
      "    FOLD: 1    -   \n",
      "            accuracy =   0.500000       |  0.500000\n",
      "            precision =  0.250000  |   recall =    0.500000   |  f1 =    0.333333\n"
     ]
    },
    {
     "name": "stderr",
     "output_type": "stream",
     "text": [
      "/mnt/disk1/anaconda3/envs/phucnp/lib/python3.8/site-packages/sklearn/metrics/_classification.py:1318: UndefinedMetricWarning: Precision is ill-defined and being set to 0.0 in labels with no predicted samples. Use `zero_division` parameter to control this behavior.\n",
      "  _warn_prf(average, modifier, msg_start, len(result))\n"
     ]
    },
    {
     "name": "stdout",
     "output_type": "stream",
     "text": [
      "            pt file:  0.9987_fold_2/model.pkl\n",
      "    FOLD: 2    -   \n",
      "            accuracy =   0.500000       |  0.500000\n",
      "            precision =  0.250000  |   recall =    0.500000   |  f1 =    0.333333\n"
     ]
    },
    {
     "name": "stderr",
     "output_type": "stream",
     "text": [
      "/mnt/disk1/anaconda3/envs/phucnp/lib/python3.8/site-packages/sklearn/metrics/_classification.py:1318: UndefinedMetricWarning: Precision is ill-defined and being set to 0.0 in labels with no predicted samples. Use `zero_division` parameter to control this behavior.\n",
      "  _warn_prf(average, modifier, msg_start, len(result))\n"
     ]
    },
    {
     "name": "stdout",
     "output_type": "stream",
     "text": [
      "            pt file:  0.9986_fold_3/model.pkl\n",
      "    FOLD: 3    -   \n",
      "            accuracy =   0.500000       |  0.500000\n",
      "            precision =  0.250000  |   recall =    0.500000   |  f1 =    0.333333\n"
     ]
    },
    {
     "name": "stderr",
     "output_type": "stream",
     "text": [
      "/mnt/disk1/anaconda3/envs/phucnp/lib/python3.8/site-packages/sklearn/metrics/_classification.py:1318: UndefinedMetricWarning: Precision is ill-defined and being set to 0.0 in labels with no predicted samples. Use `zero_division` parameter to control this behavior.\n",
      "  _warn_prf(average, modifier, msg_start, len(result))\n"
     ]
    },
    {
     "name": "stdout",
     "output_type": "stream",
     "text": [
      "            pt file:  0.9987_fold_4/model.pkl\n",
      "    FOLD: 4    -   \n",
      "            accuracy =   0.500000       |  0.500000\n",
      "            precision =  0.250000  |   recall =    0.500000   |  f1 =    0.333333\n",
      "\n",
      "\n",
      " ==================================== monkey CHECKPOINT =========================\n"
     ]
    },
    {
     "name": "stderr",
     "output_type": "stream",
     "text": [
      "100%|██████████| 5000/5000 [00:32<00:00, 152.96it/s]\n",
      "100%|██████████| 5000/5000 [00:28<00:00, 177.42it/s]\n",
      "/mnt/disk1/anaconda3/envs/phucnp/lib/python3.8/site-packages/sklearn/metrics/_classification.py:1318: UndefinedMetricWarning: Precision is ill-defined and being set to 0.0 in labels with no predicted samples. Use `zero_division` parameter to control this behavior.\n",
      "  _warn_prf(average, modifier, msg_start, len(result))\n"
     ]
    },
    {
     "name": "stdout",
     "output_type": "stream",
     "text": [
      "            pt file:  0.9714_fold_0/model.pkl\n",
      "    FOLD: 0    -   \n",
      "            accuracy =   0.500000       |  0.500000\n",
      "            precision =  0.250000  |   recall =    0.500000   |  f1 =    0.333333\n"
     ]
    },
    {
     "name": "stderr",
     "output_type": "stream",
     "text": [
      "/mnt/disk1/anaconda3/envs/phucnp/lib/python3.8/site-packages/sklearn/metrics/_classification.py:1318: UndefinedMetricWarning: Precision is ill-defined and being set to 0.0 in labels with no predicted samples. Use `zero_division` parameter to control this behavior.\n",
      "  _warn_prf(average, modifier, msg_start, len(result))\n"
     ]
    },
    {
     "name": "stdout",
     "output_type": "stream",
     "text": [
      "            pt file:  0.9717_fold_1/model.pkl\n",
      "    FOLD: 1    -   \n",
      "            accuracy =   0.500000       |  0.500000\n",
      "            precision =  0.250000  |   recall =    0.500000   |  f1 =    0.333333\n"
     ]
    },
    {
     "name": "stderr",
     "output_type": "stream",
     "text": [
      "/mnt/disk1/anaconda3/envs/phucnp/lib/python3.8/site-packages/sklearn/metrics/_classification.py:1318: UndefinedMetricWarning: Precision is ill-defined and being set to 0.0 in labels with no predicted samples. Use `zero_division` parameter to control this behavior.\n",
      "  _warn_prf(average, modifier, msg_start, len(result))\n"
     ]
    },
    {
     "name": "stdout",
     "output_type": "stream",
     "text": [
      "            pt file:  0.9716_fold_2/model.pkl\n",
      "    FOLD: 2    -   \n",
      "            accuracy =   0.500000       |  0.500000\n",
      "            precision =  0.250000  |   recall =    0.500000   |  f1 =    0.333333\n"
     ]
    },
    {
     "name": "stderr",
     "output_type": "stream",
     "text": [
      "/mnt/disk1/anaconda3/envs/phucnp/lib/python3.8/site-packages/sklearn/metrics/_classification.py:1318: UndefinedMetricWarning: Precision is ill-defined and being set to 0.0 in labels with no predicted samples. Use `zero_division` parameter to control this behavior.\n",
      "  _warn_prf(average, modifier, msg_start, len(result))\n"
     ]
    },
    {
     "name": "stdout",
     "output_type": "stream",
     "text": [
      "            pt file:  0.972_fold_3/model.pkl\n",
      "    FOLD: 3    -   \n",
      "            accuracy =   0.500000       |  0.500000\n",
      "            precision =  0.250000  |   recall =    0.500000   |  f1 =    0.333333\n"
     ]
    },
    {
     "name": "stderr",
     "output_type": "stream",
     "text": [
      "/mnt/disk1/anaconda3/envs/phucnp/lib/python3.8/site-packages/sklearn/metrics/_classification.py:1318: UndefinedMetricWarning: Precision is ill-defined and being set to 0.0 in labels with no predicted samples. Use `zero_division` parameter to control this behavior.\n",
      "  _warn_prf(average, modifier, msg_start, len(result))\n"
     ]
    },
    {
     "name": "stdout",
     "output_type": "stream",
     "text": [
      "            pt file:  0.9723_fold_4/model.pkl\n",
      "    FOLD: 4    -   \n",
      "            accuracy =   0.500000       |  0.500000\n",
      "            precision =  0.250000  |   recall =    0.500000   |  f1 =    0.333333\n",
      "\n",
      "\n",
      " ==================================== reenact CHECKPOINT =========================\n"
     ]
    },
    {
     "name": "stderr",
     "output_type": "stream",
     "text": [
      "100%|██████████| 5000/5000 [00:30<00:00, 166.32it/s]\n",
      "100%|██████████| 4566/4566 [00:25<00:00, 177.81it/s]\n"
     ]
    },
    {
     "name": "stdout",
     "output_type": "stream",
     "text": [
      "            pt file:  0.9513_fold_0/model.pkl\n",
      "    FOLD: 0    -   \n",
      "            accuracy =   0.522100       |  0.522100\n",
      "            precision =  0.371903  |   recall =    0.481748   |  f1 =    0.357018\n",
      "            pt file:  0.9511_fold_1/model.pkl\n",
      "    FOLD: 1    -   \n",
      "            accuracy =   0.542800       |  0.542800\n",
      "            precision =  0.396576  |   recall =    0.499500   |  f1 =    0.352426\n",
      "            pt file:  0.9504_fold_2/model.pkl\n",
      "    FOLD: 2    -   \n",
      "            accuracy =   0.542800       |  0.542800\n",
      "            precision =  0.414437  |   recall =    0.499518   |  f1 =    0.352624\n"
     ]
    },
    {
     "name": "stderr",
     "output_type": "stream",
     "text": [
      "/mnt/disk1/anaconda3/envs/phucnp/lib/python3.8/site-packages/sklearn/metrics/_classification.py:1318: UndefinedMetricWarning: Precision is ill-defined and being set to 0.0 in labels with no predicted samples. Use `zero_division` parameter to control this behavior.\n",
      "  _warn_prf(average, modifier, msg_start, len(result))\n"
     ]
    },
    {
     "name": "stdout",
     "output_type": "stream",
     "text": [
      "            pt file:  0.9516_fold_3/model.pkl\n",
      "    FOLD: 3    -   \n",
      "            accuracy =   0.543400       |  0.543400\n",
      "            precision =  0.271700  |   recall =    0.500000   |  f1 =    0.352080\n",
      "            pt file:  0.9517_fold_4/model.pkl\n",
      "    FOLD: 4    -   \n",
      "            accuracy =   0.543300       |  0.543300\n",
      "            precision =  0.438348  |   recall =    0.499925   |  f1 =    0.352238\n",
      "\n",
      "\n",
      " ==================================== stargan CHECKPOINT =========================\n"
     ]
    },
    {
     "name": "stderr",
     "output_type": "stream",
     "text": [
      "100%|██████████| 5000/5000 [00:31<00:00, 157.07it/s]\n",
      "100%|██████████| 5000/5000 [00:54<00:00, 91.19it/s] \n",
      "/mnt/disk1/anaconda3/envs/phucnp/lib/python3.8/site-packages/sklearn/metrics/_classification.py:1318: UndefinedMetricWarning: Precision is ill-defined and being set to 0.0 in labels with no predicted samples. Use `zero_division` parameter to control this behavior.\n",
      "  _warn_prf(average, modifier, msg_start, len(result))\n"
     ]
    },
    {
     "name": "stdout",
     "output_type": "stream",
     "text": [
      "            pt file:  0.9092_fold_0/model.pkl\n",
      "    FOLD: 0    -   \n",
      "            accuracy =   0.500000       |  0.500000\n",
      "            precision =  0.250000  |   recall =    0.500000   |  f1 =    0.333333\n"
     ]
    },
    {
     "name": "stderr",
     "output_type": "stream",
     "text": [
      "/mnt/disk1/anaconda3/envs/phucnp/lib/python3.8/site-packages/sklearn/metrics/_classification.py:1318: UndefinedMetricWarning: Precision is ill-defined and being set to 0.0 in labels with no predicted samples. Use `zero_division` parameter to control this behavior.\n",
      "  _warn_prf(average, modifier, msg_start, len(result))\n"
     ]
    },
    {
     "name": "stdout",
     "output_type": "stream",
     "text": [
      "            pt file:  0.9106_fold_1/model.pkl\n",
      "    FOLD: 1    -   \n",
      "            accuracy =   0.500000       |  0.500000\n",
      "            precision =  0.250000  |   recall =    0.500000   |  f1 =    0.333333\n"
     ]
    },
    {
     "name": "stderr",
     "output_type": "stream",
     "text": [
      "/mnt/disk1/anaconda3/envs/phucnp/lib/python3.8/site-packages/sklearn/metrics/_classification.py:1318: UndefinedMetricWarning: Precision is ill-defined and being set to 0.0 in labels with no predicted samples. Use `zero_division` parameter to control this behavior.\n",
      "  _warn_prf(average, modifier, msg_start, len(result))\n"
     ]
    },
    {
     "name": "stdout",
     "output_type": "stream",
     "text": [
      "            pt file:  0.9088_fold_2/model.pkl\n",
      "    FOLD: 2    -   \n",
      "            accuracy =   0.500000       |  0.500000\n",
      "            precision =  0.250000  |   recall =    0.500000   |  f1 =    0.333333\n"
     ]
    },
    {
     "name": "stderr",
     "output_type": "stream",
     "text": [
      "/mnt/disk1/anaconda3/envs/phucnp/lib/python3.8/site-packages/sklearn/metrics/_classification.py:1318: UndefinedMetricWarning: Precision is ill-defined and being set to 0.0 in labels with no predicted samples. Use `zero_division` parameter to control this behavior.\n",
      "  _warn_prf(average, modifier, msg_start, len(result))\n"
     ]
    },
    {
     "name": "stdout",
     "output_type": "stream",
     "text": [
      "            pt file:  0.9118_fold_3/model.pkl\n",
      "    FOLD: 3    -   \n",
      "            accuracy =   0.500000       |  0.500000\n",
      "            precision =  0.250000  |   recall =    0.500000   |  f1 =    0.333333\n"
     ]
    },
    {
     "name": "stderr",
     "output_type": "stream",
     "text": [
      "/mnt/disk1/anaconda3/envs/phucnp/lib/python3.8/site-packages/sklearn/metrics/_classification.py:1318: UndefinedMetricWarning: Precision is ill-defined and being set to 0.0 in labels with no predicted samples. Use `zero_division` parameter to control this behavior.\n",
      "  _warn_prf(average, modifier, msg_start, len(result))\n"
     ]
    },
    {
     "name": "stdout",
     "output_type": "stream",
     "text": [
      "            pt file:  0.9097_fold_4/model.pkl\n",
      "    FOLD: 4    -   \n",
      "            accuracy =   0.500000       |  0.500000\n",
      "            precision =  0.250000  |   recall =    0.500000   |  f1 =    0.333333\n",
      "\n",
      "\n",
      " ==================================== x2face CHECKPOINT =========================\n"
     ]
    },
    {
     "name": "stderr",
     "output_type": "stream",
     "text": [
      "100%|██████████| 5000/5000 [01:14<00:00, 67.46it/s] \n",
      "100%|██████████| 5000/5000 [00:29<00:00, 170.43it/s]\n"
     ]
    },
    {
     "name": "stdout",
     "output_type": "stream",
     "text": [
      "            pt file:  0.923_fold_0/model.pkl\n",
      "    FOLD: 0    -   \n",
      "            accuracy =   0.499600       |  0.499600\n",
      "            precision =  0.485193  |   recall =    0.499600   |  f1 =    0.338755\n",
      "            pt file:  0.9229_fold_1/model.pkl\n",
      "    FOLD: 1    -   \n",
      "            accuracy =   0.495300       |  0.495300\n",
      "            precision =  0.465683  |   recall =    0.495300   |  f1 =    0.356447\n",
      "            pt file:  0.9232_fold_2/model.pkl\n",
      "    FOLD: 2    -   \n",
      "            accuracy =   0.497200       |  0.497200\n",
      "            precision =  0.469622  |   recall =    0.497200   |  f1 =    0.349583\n",
      "            pt file:  0.9231_fold_3/model.pkl\n",
      "    FOLD: 3    -   \n",
      "            accuracy =   0.500500       |  0.500500\n",
      "            precision =  0.550125  |   recall =    0.500500   |  f1 =    0.336207\n",
      "            pt file:  0.9226_fold_4/model.pkl\n",
      "    FOLD: 4    -   \n",
      "            accuracy =   0.494900       |  0.494900\n",
      "            precision =  0.467947  |   recall =    0.494900   |  f1 =    0.360453\n",
      "\n",
      "*********************************************************\n",
      "             std:  0.2\n",
      "\n",
      "\n",
      " ==================================== deepfake CHECKPOINT =========================\n"
     ]
    },
    {
     "name": "stderr",
     "output_type": "stream",
     "text": [
      "100%|██████████| 5000/5000 [00:31<00:00, 157.17it/s]\n",
      "100%|██████████| 5000/5000 [00:25<00:00, 192.91it/s]\n",
      "/mnt/disk1/anaconda3/envs/phucnp/lib/python3.8/site-packages/sklearn/metrics/_classification.py:1318: UndefinedMetricWarning: Precision is ill-defined and being set to 0.0 in labels with no predicted samples. Use `zero_division` parameter to control this behavior.\n",
      "  _warn_prf(average, modifier, msg_start, len(result))\n"
     ]
    },
    {
     "name": "stdout",
     "output_type": "stream",
     "text": [
      "            pt file:  0.9876_fold_0/model.pkl\n",
      "    FOLD: 0    -   \n",
      "            accuracy =   0.499300       |  0.499300\n",
      "            precision =  0.249650  |   recall =    0.500000   |  f1 =    0.333022\n"
     ]
    },
    {
     "name": "stderr",
     "output_type": "stream",
     "text": [
      "/mnt/disk1/anaconda3/envs/phucnp/lib/python3.8/site-packages/sklearn/metrics/_classification.py:1318: UndefinedMetricWarning: Precision is ill-defined and being set to 0.0 in labels with no predicted samples. Use `zero_division` parameter to control this behavior.\n",
      "  _warn_prf(average, modifier, msg_start, len(result))\n"
     ]
    },
    {
     "name": "stdout",
     "output_type": "stream",
     "text": [
      "            pt file:  0.9854_fold_1/model.pkl\n",
      "    FOLD: 1    -   \n",
      "            accuracy =   0.499300       |  0.499300\n",
      "            precision =  0.249650  |   recall =    0.500000   |  f1 =    0.333022\n"
     ]
    },
    {
     "name": "stderr",
     "output_type": "stream",
     "text": [
      "/mnt/disk1/anaconda3/envs/phucnp/lib/python3.8/site-packages/sklearn/metrics/_classification.py:1318: UndefinedMetricWarning: Precision is ill-defined and being set to 0.0 in labels with no predicted samples. Use `zero_division` parameter to control this behavior.\n",
      "  _warn_prf(average, modifier, msg_start, len(result))\n"
     ]
    },
    {
     "name": "stdout",
     "output_type": "stream",
     "text": [
      "            pt file:  0.9858_fold_2/model.pkl\n",
      "    FOLD: 2    -   \n",
      "            accuracy =   0.499300       |  0.499300\n",
      "            precision =  0.249650  |   recall =    0.500000   |  f1 =    0.333022\n"
     ]
    },
    {
     "name": "stderr",
     "output_type": "stream",
     "text": [
      "/mnt/disk1/anaconda3/envs/phucnp/lib/python3.8/site-packages/sklearn/metrics/_classification.py:1318: UndefinedMetricWarning: Precision is ill-defined and being set to 0.0 in labels with no predicted samples. Use `zero_division` parameter to control this behavior.\n",
      "  _warn_prf(average, modifier, msg_start, len(result))\n"
     ]
    },
    {
     "name": "stdout",
     "output_type": "stream",
     "text": [
      "            pt file:  0.988_fold_3/model.pkl\n",
      "    FOLD: 3    -   \n",
      "            accuracy =   0.499300       |  0.499300\n",
      "            precision =  0.249650  |   recall =    0.500000   |  f1 =    0.333022\n"
     ]
    },
    {
     "name": "stderr",
     "output_type": "stream",
     "text": [
      "/mnt/disk1/anaconda3/envs/phucnp/lib/python3.8/site-packages/sklearn/metrics/_classification.py:1318: UndefinedMetricWarning: Precision is ill-defined and being set to 0.0 in labels with no predicted samples. Use `zero_division` parameter to control this behavior.\n",
      "  _warn_prf(average, modifier, msg_start, len(result))\n"
     ]
    },
    {
     "name": "stdout",
     "output_type": "stream",
     "text": [
      "            pt file:  0.987_fold_4/model.pkl\n",
      "    FOLD: 4    -   \n",
      "            accuracy =   0.499300       |  0.499300\n",
      "            precision =  0.249650  |   recall =    0.500000   |  f1 =    0.333022\n",
      "\n",
      "\n",
      " ==================================== 3dmm CHECKPOINT =========================\n"
     ]
    },
    {
     "name": "stderr",
     "output_type": "stream",
     "text": [
      "100%|██████████| 5000/5000 [00:30<00:00, 162.15it/s]\n",
      "100%|██████████| 5000/5000 [00:21<00:00, 234.58it/s]\n",
      "/mnt/disk1/anaconda3/envs/phucnp/lib/python3.8/site-packages/sklearn/metrics/_classification.py:1318: UndefinedMetricWarning: Precision is ill-defined and being set to 0.0 in labels with no predicted samples. Use `zero_division` parameter to control this behavior.\n",
      "  _warn_prf(average, modifier, msg_start, len(result))\n"
     ]
    },
    {
     "name": "stdout",
     "output_type": "stream",
     "text": [
      "            pt file:  0.8929_fold_0/model.pkl\n",
      "    FOLD: 0    -   \n",
      "            accuracy =   0.500000       |  0.500000\n",
      "            precision =  0.250000  |   recall =    0.500000   |  f1 =    0.333333\n"
     ]
    },
    {
     "name": "stderr",
     "output_type": "stream",
     "text": [
      "/mnt/disk1/anaconda3/envs/phucnp/lib/python3.8/site-packages/sklearn/metrics/_classification.py:1318: UndefinedMetricWarning: Precision is ill-defined and being set to 0.0 in labels with no predicted samples. Use `zero_division` parameter to control this behavior.\n",
      "  _warn_prf(average, modifier, msg_start, len(result))\n"
     ]
    },
    {
     "name": "stdout",
     "output_type": "stream",
     "text": [
      "            pt file:  0.8934_fold_1/model.pkl\n",
      "    FOLD: 1    -   \n",
      "            accuracy =   0.500000       |  0.500000\n",
      "            precision =  0.250000  |   recall =    0.500000   |  f1 =    0.333333\n"
     ]
    },
    {
     "name": "stderr",
     "output_type": "stream",
     "text": [
      "/mnt/disk1/anaconda3/envs/phucnp/lib/python3.8/site-packages/sklearn/metrics/_classification.py:1318: UndefinedMetricWarning: Precision is ill-defined and being set to 0.0 in labels with no predicted samples. Use `zero_division` parameter to control this behavior.\n",
      "  _warn_prf(average, modifier, msg_start, len(result))\n"
     ]
    },
    {
     "name": "stdout",
     "output_type": "stream",
     "text": [
      "            pt file:  0.892_fold_2/model.pkl\n",
      "    FOLD: 2    -   \n",
      "            accuracy =   0.500000       |  0.500000\n",
      "            precision =  0.250000  |   recall =    0.500000   |  f1 =    0.333333\n"
     ]
    },
    {
     "name": "stderr",
     "output_type": "stream",
     "text": [
      "/mnt/disk1/anaconda3/envs/phucnp/lib/python3.8/site-packages/sklearn/metrics/_classification.py:1318: UndefinedMetricWarning: Precision is ill-defined and being set to 0.0 in labels with no predicted samples. Use `zero_division` parameter to control this behavior.\n",
      "  _warn_prf(average, modifier, msg_start, len(result))\n"
     ]
    },
    {
     "name": "stdout",
     "output_type": "stream",
     "text": [
      "            pt file:  0.8928_fold_3/model.pkl\n",
      "    FOLD: 3    -   \n",
      "            accuracy =   0.500000       |  0.500000\n",
      "            precision =  0.250000  |   recall =    0.500000   |  f1 =    0.333333\n"
     ]
    },
    {
     "name": "stderr",
     "output_type": "stream",
     "text": [
      "/mnt/disk1/anaconda3/envs/phucnp/lib/python3.8/site-packages/sklearn/metrics/_classification.py:1318: UndefinedMetricWarning: Precision is ill-defined and being set to 0.0 in labels with no predicted samples. Use `zero_division` parameter to control this behavior.\n",
      "  _warn_prf(average, modifier, msg_start, len(result))\n"
     ]
    },
    {
     "name": "stdout",
     "output_type": "stream",
     "text": [
      "            pt file:  0.8935_fold_4/model.pkl\n",
      "    FOLD: 4    -   \n",
      "            accuracy =   0.500000       |  0.500000\n",
      "            precision =  0.250000  |   recall =    0.500000   |  f1 =    0.333333\n",
      "\n",
      "\n",
      " ==================================== faceswap_2d CHECKPOINT =========================\n"
     ]
    },
    {
     "name": "stderr",
     "output_type": "stream",
     "text": [
      "100%|██████████| 5000/5000 [00:29<00:00, 171.87it/s]\n",
      "100%|██████████| 5000/5000 [04:33<00:00, 18.29it/s]\n",
      "/mnt/disk1/anaconda3/envs/phucnp/lib/python3.8/site-packages/sklearn/metrics/_classification.py:1318: UndefinedMetricWarning: Precision is ill-defined and being set to 0.0 in labels with no predicted samples. Use `zero_division` parameter to control this behavior.\n",
      "  _warn_prf(average, modifier, msg_start, len(result))\n"
     ]
    },
    {
     "name": "stdout",
     "output_type": "stream",
     "text": [
      "            pt file:  0.9949_fold_0/model.pkl\n",
      "    FOLD: 0    -   \n",
      "            accuracy =   0.500000       |  0.500000\n",
      "            precision =  0.250000  |   recall =    0.500000   |  f1 =    0.333333\n"
     ]
    },
    {
     "name": "stderr",
     "output_type": "stream",
     "text": [
      "/mnt/disk1/anaconda3/envs/phucnp/lib/python3.8/site-packages/sklearn/metrics/_classification.py:1318: UndefinedMetricWarning: Precision is ill-defined and being set to 0.0 in labels with no predicted samples. Use `zero_division` parameter to control this behavior.\n",
      "  _warn_prf(average, modifier, msg_start, len(result))\n"
     ]
    },
    {
     "name": "stdout",
     "output_type": "stream",
     "text": [
      "            pt file:  0.9947_fold_1/model.pkl\n",
      "    FOLD: 1    -   \n",
      "            accuracy =   0.500000       |  0.500000\n",
      "            precision =  0.250000  |   recall =    0.500000   |  f1 =    0.333333\n"
     ]
    },
    {
     "name": "stderr",
     "output_type": "stream",
     "text": [
      "/mnt/disk1/anaconda3/envs/phucnp/lib/python3.8/site-packages/sklearn/metrics/_classification.py:1318: UndefinedMetricWarning: Precision is ill-defined and being set to 0.0 in labels with no predicted samples. Use `zero_division` parameter to control this behavior.\n",
      "  _warn_prf(average, modifier, msg_start, len(result))\n"
     ]
    },
    {
     "name": "stdout",
     "output_type": "stream",
     "text": [
      "            pt file:  0.9949_fold_2/model.pkl\n",
      "    FOLD: 2    -   \n",
      "            accuracy =   0.500000       |  0.500000\n",
      "            precision =  0.250000  |   recall =    0.500000   |  f1 =    0.333333\n"
     ]
    },
    {
     "name": "stderr",
     "output_type": "stream",
     "text": [
      "/mnt/disk1/anaconda3/envs/phucnp/lib/python3.8/site-packages/sklearn/metrics/_classification.py:1318: UndefinedMetricWarning: Precision is ill-defined and being set to 0.0 in labels with no predicted samples. Use `zero_division` parameter to control this behavior.\n",
      "  _warn_prf(average, modifier, msg_start, len(result))\n"
     ]
    },
    {
     "name": "stdout",
     "output_type": "stream",
     "text": [
      "            pt file:  0.995_fold_3/model.pkl\n",
      "    FOLD: 3    -   \n",
      "            accuracy =   0.500000       |  0.500000\n",
      "            precision =  0.250000  |   recall =    0.500000   |  f1 =    0.333333\n"
     ]
    },
    {
     "name": "stderr",
     "output_type": "stream",
     "text": [
      "/mnt/disk1/anaconda3/envs/phucnp/lib/python3.8/site-packages/sklearn/metrics/_classification.py:1318: UndefinedMetricWarning: Precision is ill-defined and being set to 0.0 in labels with no predicted samples. Use `zero_division` parameter to control this behavior.\n",
      "  _warn_prf(average, modifier, msg_start, len(result))\n"
     ]
    },
    {
     "name": "stdout",
     "output_type": "stream",
     "text": [
      "            pt file:  0.9947_fold_4/model.pkl\n",
      "    FOLD: 4    -   \n",
      "            accuracy =   0.500000       |  0.500000\n",
      "            precision =  0.250000  |   recall =    0.500000   |  f1 =    0.333333\n",
      "\n",
      "\n",
      " ==================================== faceswap_3d CHECKPOINT =========================\n"
     ]
    },
    {
     "name": "stderr",
     "output_type": "stream",
     "text": [
      "100%|██████████| 5000/5000 [00:48<00:00, 102.77it/s]\n",
      "100%|██████████| 5000/5000 [06:11<00:00, 13.46it/s]\n",
      "/mnt/disk1/anaconda3/envs/phucnp/lib/python3.8/site-packages/sklearn/metrics/_classification.py:1318: UndefinedMetricWarning: Precision is ill-defined and being set to 0.0 in labels with no predicted samples. Use `zero_division` parameter to control this behavior.\n",
      "  _warn_prf(average, modifier, msg_start, len(result))\n"
     ]
    },
    {
     "name": "stdout",
     "output_type": "stream",
     "text": [
      "            pt file:  0.9988_fold_0/model.pkl\n",
      "    FOLD: 0    -   \n",
      "            accuracy =   0.500000       |  0.500000\n",
      "            precision =  0.250000  |   recall =    0.500000   |  f1 =    0.333333\n"
     ]
    },
    {
     "name": "stderr",
     "output_type": "stream",
     "text": [
      "/mnt/disk1/anaconda3/envs/phucnp/lib/python3.8/site-packages/sklearn/metrics/_classification.py:1318: UndefinedMetricWarning: Precision is ill-defined and being set to 0.0 in labels with no predicted samples. Use `zero_division` parameter to control this behavior.\n",
      "  _warn_prf(average, modifier, msg_start, len(result))\n"
     ]
    },
    {
     "name": "stdout",
     "output_type": "stream",
     "text": [
      "            pt file:  0.9988_fold_1/model.pkl\n",
      "    FOLD: 1    -   \n",
      "            accuracy =   0.500000       |  0.500000\n",
      "            precision =  0.250000  |   recall =    0.500000   |  f1 =    0.333333\n"
     ]
    },
    {
     "name": "stderr",
     "output_type": "stream",
     "text": [
      "/mnt/disk1/anaconda3/envs/phucnp/lib/python3.8/site-packages/sklearn/metrics/_classification.py:1318: UndefinedMetricWarning: Precision is ill-defined and being set to 0.0 in labels with no predicted samples. Use `zero_division` parameter to control this behavior.\n",
      "  _warn_prf(average, modifier, msg_start, len(result))\n"
     ]
    },
    {
     "name": "stdout",
     "output_type": "stream",
     "text": [
      "            pt file:  0.9987_fold_2/model.pkl\n",
      "    FOLD: 2    -   \n",
      "            accuracy =   0.500000       |  0.500000\n",
      "            precision =  0.250000  |   recall =    0.500000   |  f1 =    0.333333\n"
     ]
    },
    {
     "name": "stderr",
     "output_type": "stream",
     "text": [
      "/mnt/disk1/anaconda3/envs/phucnp/lib/python3.8/site-packages/sklearn/metrics/_classification.py:1318: UndefinedMetricWarning: Precision is ill-defined and being set to 0.0 in labels with no predicted samples. Use `zero_division` parameter to control this behavior.\n",
      "  _warn_prf(average, modifier, msg_start, len(result))\n"
     ]
    },
    {
     "name": "stdout",
     "output_type": "stream",
     "text": [
      "            pt file:  0.9986_fold_3/model.pkl\n",
      "    FOLD: 3    -   \n",
      "            accuracy =   0.500000       |  0.500000\n",
      "            precision =  0.250000  |   recall =    0.500000   |  f1 =    0.333333\n"
     ]
    },
    {
     "name": "stderr",
     "output_type": "stream",
     "text": [
      "/mnt/disk1/anaconda3/envs/phucnp/lib/python3.8/site-packages/sklearn/metrics/_classification.py:1318: UndefinedMetricWarning: Precision is ill-defined and being set to 0.0 in labels with no predicted samples. Use `zero_division` parameter to control this behavior.\n",
      "  _warn_prf(average, modifier, msg_start, len(result))\n"
     ]
    },
    {
     "name": "stdout",
     "output_type": "stream",
     "text": [
      "            pt file:  0.9987_fold_4/model.pkl\n",
      "    FOLD: 4    -   \n",
      "            accuracy =   0.500000       |  0.500000\n",
      "            precision =  0.250000  |   recall =    0.500000   |  f1 =    0.333333\n",
      "\n",
      "\n",
      " ==================================== monkey CHECKPOINT =========================\n"
     ]
    },
    {
     "name": "stderr",
     "output_type": "stream",
     "text": [
      "100%|██████████| 5000/5000 [02:41<00:00, 31.05it/s] \n",
      "100%|██████████| 5000/5000 [00:57<00:00, 86.42it/s] \n",
      "/mnt/disk1/anaconda3/envs/phucnp/lib/python3.8/site-packages/sklearn/metrics/_classification.py:1318: UndefinedMetricWarning: Precision is ill-defined and being set to 0.0 in labels with no predicted samples. Use `zero_division` parameter to control this behavior.\n",
      "  _warn_prf(average, modifier, msg_start, len(result))\n"
     ]
    },
    {
     "name": "stdout",
     "output_type": "stream",
     "text": [
      "            pt file:  0.9714_fold_0/model.pkl\n",
      "    FOLD: 0    -   \n",
      "            accuracy =   0.500000       |  0.500000\n",
      "            precision =  0.250000  |   recall =    0.500000   |  f1 =    0.333333\n"
     ]
    },
    {
     "name": "stderr",
     "output_type": "stream",
     "text": [
      "/mnt/disk1/anaconda3/envs/phucnp/lib/python3.8/site-packages/sklearn/metrics/_classification.py:1318: UndefinedMetricWarning: Precision is ill-defined and being set to 0.0 in labels with no predicted samples. Use `zero_division` parameter to control this behavior.\n",
      "  _warn_prf(average, modifier, msg_start, len(result))\n"
     ]
    },
    {
     "name": "stdout",
     "output_type": "stream",
     "text": [
      "            pt file:  0.9717_fold_1/model.pkl\n",
      "    FOLD: 1    -   \n",
      "            accuracy =   0.500000       |  0.500000\n",
      "            precision =  0.250000  |   recall =    0.500000   |  f1 =    0.333333\n"
     ]
    },
    {
     "name": "stderr",
     "output_type": "stream",
     "text": [
      "/mnt/disk1/anaconda3/envs/phucnp/lib/python3.8/site-packages/sklearn/metrics/_classification.py:1318: UndefinedMetricWarning: Precision is ill-defined and being set to 0.0 in labels with no predicted samples. Use `zero_division` parameter to control this behavior.\n",
      "  _warn_prf(average, modifier, msg_start, len(result))\n"
     ]
    },
    {
     "name": "stdout",
     "output_type": "stream",
     "text": [
      "            pt file:  0.9716_fold_2/model.pkl\n",
      "    FOLD: 2    -   \n",
      "            accuracy =   0.500000       |  0.500000\n",
      "            precision =  0.250000  |   recall =    0.500000   |  f1 =    0.333333\n"
     ]
    },
    {
     "name": "stderr",
     "output_type": "stream",
     "text": [
      "/mnt/disk1/anaconda3/envs/phucnp/lib/python3.8/site-packages/sklearn/metrics/_classification.py:1318: UndefinedMetricWarning: Precision is ill-defined and being set to 0.0 in labels with no predicted samples. Use `zero_division` parameter to control this behavior.\n",
      "  _warn_prf(average, modifier, msg_start, len(result))\n"
     ]
    },
    {
     "name": "stdout",
     "output_type": "stream",
     "text": [
      "            pt file:  0.972_fold_3/model.pkl\n",
      "    FOLD: 3    -   \n",
      "            accuracy =   0.500000       |  0.500000\n",
      "            precision =  0.250000  |   recall =    0.500000   |  f1 =    0.333333\n"
     ]
    },
    {
     "name": "stderr",
     "output_type": "stream",
     "text": [
      "/mnt/disk1/anaconda3/envs/phucnp/lib/python3.8/site-packages/sklearn/metrics/_classification.py:1318: UndefinedMetricWarning: Precision is ill-defined and being set to 0.0 in labels with no predicted samples. Use `zero_division` parameter to control this behavior.\n",
      "  _warn_prf(average, modifier, msg_start, len(result))\n"
     ]
    },
    {
     "name": "stdout",
     "output_type": "stream",
     "text": [
      "            pt file:  0.9723_fold_4/model.pkl\n",
      "    FOLD: 4    -   \n",
      "            accuracy =   0.500000       |  0.500000\n",
      "            precision =  0.250000  |   recall =    0.500000   |  f1 =    0.333333\n",
      "\n",
      "\n",
      " ==================================== reenact CHECKPOINT =========================\n"
     ]
    },
    {
     "name": "stderr",
     "output_type": "stream",
     "text": [
      "100%|██████████| 5000/5000 [01:03<00:00, 78.77it/s] \n",
      "100%|██████████| 4566/4566 [00:53<00:00, 84.74it/s] \n",
      "/mnt/disk1/anaconda3/envs/phucnp/lib/python3.8/site-packages/sklearn/metrics/_classification.py:1318: UndefinedMetricWarning: Precision is ill-defined and being set to 0.0 in labels with no predicted samples. Use `zero_division` parameter to control this behavior.\n",
      "  _warn_prf(average, modifier, msg_start, len(result))\n"
     ]
    },
    {
     "name": "stdout",
     "output_type": "stream",
     "text": [
      "            pt file:  0.9513_fold_0/model.pkl\n",
      "    FOLD: 0    -   \n",
      "            accuracy =   0.543400       |  0.543400\n",
      "            precision =  0.271700  |   recall =    0.500000   |  f1 =    0.352080\n"
     ]
    },
    {
     "name": "stderr",
     "output_type": "stream",
     "text": [
      "/mnt/disk1/anaconda3/envs/phucnp/lib/python3.8/site-packages/sklearn/metrics/_classification.py:1318: UndefinedMetricWarning: Precision is ill-defined and being set to 0.0 in labels with no predicted samples. Use `zero_division` parameter to control this behavior.\n",
      "  _warn_prf(average, modifier, msg_start, len(result))\n"
     ]
    },
    {
     "name": "stdout",
     "output_type": "stream",
     "text": [
      "            pt file:  0.9511_fold_1/model.pkl\n",
      "    FOLD: 1    -   \n",
      "            accuracy =   0.543400       |  0.543400\n",
      "            precision =  0.271700  |   recall =    0.500000   |  f1 =    0.352080\n"
     ]
    },
    {
     "name": "stderr",
     "output_type": "stream",
     "text": [
      "/mnt/disk1/anaconda3/envs/phucnp/lib/python3.8/site-packages/sklearn/metrics/_classification.py:1318: UndefinedMetricWarning: Precision is ill-defined and being set to 0.0 in labels with no predicted samples. Use `zero_division` parameter to control this behavior.\n",
      "  _warn_prf(average, modifier, msg_start, len(result))\n"
     ]
    },
    {
     "name": "stdout",
     "output_type": "stream",
     "text": [
      "            pt file:  0.9504_fold_2/model.pkl\n",
      "    FOLD: 2    -   \n",
      "            accuracy =   0.543400       |  0.543400\n",
      "            precision =  0.271700  |   recall =    0.500000   |  f1 =    0.352080\n"
     ]
    },
    {
     "name": "stderr",
     "output_type": "stream",
     "text": [
      "/mnt/disk1/anaconda3/envs/phucnp/lib/python3.8/site-packages/sklearn/metrics/_classification.py:1318: UndefinedMetricWarning: Precision is ill-defined and being set to 0.0 in labels with no predicted samples. Use `zero_division` parameter to control this behavior.\n",
      "  _warn_prf(average, modifier, msg_start, len(result))\n"
     ]
    },
    {
     "name": "stdout",
     "output_type": "stream",
     "text": [
      "            pt file:  0.9516_fold_3/model.pkl\n",
      "    FOLD: 3    -   \n",
      "            accuracy =   0.543400       |  0.543400\n",
      "            precision =  0.271700  |   recall =    0.500000   |  f1 =    0.352080\n"
     ]
    },
    {
     "name": "stderr",
     "output_type": "stream",
     "text": [
      "/mnt/disk1/anaconda3/envs/phucnp/lib/python3.8/site-packages/sklearn/metrics/_classification.py:1318: UndefinedMetricWarning: Precision is ill-defined and being set to 0.0 in labels with no predicted samples. Use `zero_division` parameter to control this behavior.\n",
      "  _warn_prf(average, modifier, msg_start, len(result))\n"
     ]
    },
    {
     "name": "stdout",
     "output_type": "stream",
     "text": [
      "            pt file:  0.9517_fold_4/model.pkl\n",
      "    FOLD: 4    -   \n",
      "            accuracy =   0.543400       |  0.543400\n",
      "            precision =  0.271700  |   recall =    0.500000   |  f1 =    0.352080\n",
      "\n",
      "\n",
      " ==================================== stargan CHECKPOINT =========================\n"
     ]
    },
    {
     "name": "stderr",
     "output_type": "stream",
     "text": [
      "100%|██████████| 5000/5000 [00:28<00:00, 173.11it/s]\n",
      "100%|██████████| 5000/5000 [01:49<00:00, 45.55it/s] \n",
      "/mnt/disk1/anaconda3/envs/phucnp/lib/python3.8/site-packages/sklearn/metrics/_classification.py:1318: UndefinedMetricWarning: Precision is ill-defined and being set to 0.0 in labels with no predicted samples. Use `zero_division` parameter to control this behavior.\n",
      "  _warn_prf(average, modifier, msg_start, len(result))\n"
     ]
    },
    {
     "name": "stdout",
     "output_type": "stream",
     "text": [
      "            pt file:  0.9092_fold_0/model.pkl\n",
      "    FOLD: 0    -   \n",
      "            accuracy =   0.500000       |  0.500000\n",
      "            precision =  0.250000  |   recall =    0.500000   |  f1 =    0.333333\n"
     ]
    },
    {
     "name": "stderr",
     "output_type": "stream",
     "text": [
      "/mnt/disk1/anaconda3/envs/phucnp/lib/python3.8/site-packages/sklearn/metrics/_classification.py:1318: UndefinedMetricWarning: Precision is ill-defined and being set to 0.0 in labels with no predicted samples. Use `zero_division` parameter to control this behavior.\n",
      "  _warn_prf(average, modifier, msg_start, len(result))\n"
     ]
    },
    {
     "name": "stdout",
     "output_type": "stream",
     "text": [
      "            pt file:  0.9106_fold_1/model.pkl\n",
      "    FOLD: 1    -   \n",
      "            accuracy =   0.500000       |  0.500000\n",
      "            precision =  0.250000  |   recall =    0.500000   |  f1 =    0.333333\n"
     ]
    },
    {
     "name": "stderr",
     "output_type": "stream",
     "text": [
      "/mnt/disk1/anaconda3/envs/phucnp/lib/python3.8/site-packages/sklearn/metrics/_classification.py:1318: UndefinedMetricWarning: Precision is ill-defined and being set to 0.0 in labels with no predicted samples. Use `zero_division` parameter to control this behavior.\n",
      "  _warn_prf(average, modifier, msg_start, len(result))\n"
     ]
    },
    {
     "name": "stdout",
     "output_type": "stream",
     "text": [
      "            pt file:  0.9088_fold_2/model.pkl\n",
      "    FOLD: 2    -   \n",
      "            accuracy =   0.500000       |  0.500000\n",
      "            precision =  0.250000  |   recall =    0.500000   |  f1 =    0.333333\n"
     ]
    },
    {
     "name": "stderr",
     "output_type": "stream",
     "text": [
      "/mnt/disk1/anaconda3/envs/phucnp/lib/python3.8/site-packages/sklearn/metrics/_classification.py:1318: UndefinedMetricWarning: Precision is ill-defined and being set to 0.0 in labels with no predicted samples. Use `zero_division` parameter to control this behavior.\n",
      "  _warn_prf(average, modifier, msg_start, len(result))\n"
     ]
    },
    {
     "name": "stdout",
     "output_type": "stream",
     "text": [
      "            pt file:  0.9118_fold_3/model.pkl\n",
      "    FOLD: 3    -   \n",
      "            accuracy =   0.500000       |  0.500000\n",
      "            precision =  0.250000  |   recall =    0.500000   |  f1 =    0.333333\n"
     ]
    },
    {
     "name": "stderr",
     "output_type": "stream",
     "text": [
      "/mnt/disk1/anaconda3/envs/phucnp/lib/python3.8/site-packages/sklearn/metrics/_classification.py:1318: UndefinedMetricWarning: Precision is ill-defined and being set to 0.0 in labels with no predicted samples. Use `zero_division` parameter to control this behavior.\n",
      "  _warn_prf(average, modifier, msg_start, len(result))\n"
     ]
    },
    {
     "name": "stdout",
     "output_type": "stream",
     "text": [
      "            pt file:  0.9097_fold_4/model.pkl\n",
      "    FOLD: 4    -   \n",
      "            accuracy =   0.500000       |  0.500000\n",
      "            precision =  0.250000  |   recall =    0.500000   |  f1 =    0.333333\n",
      "\n",
      "\n",
      " ==================================== x2face CHECKPOINT =========================\n"
     ]
    },
    {
     "name": "stderr",
     "output_type": "stream",
     "text": [
      "100%|██████████| 5000/5000 [00:33<00:00, 151.37it/s]\n",
      "100%|██████████| 5000/5000 [00:32<00:00, 153.95it/s]\n",
      "/mnt/disk1/anaconda3/envs/phucnp/lib/python3.8/site-packages/sklearn/metrics/_classification.py:1318: UndefinedMetricWarning: Precision is ill-defined and being set to 0.0 in labels with no predicted samples. Use `zero_division` parameter to control this behavior.\n",
      "  _warn_prf(average, modifier, msg_start, len(result))\n"
     ]
    },
    {
     "name": "stdout",
     "output_type": "stream",
     "text": [
      "            pt file:  0.923_fold_0/model.pkl\n",
      "    FOLD: 0    -   \n",
      "            accuracy =   0.500000       |  0.500000\n",
      "            precision =  0.250000  |   recall =    0.500000   |  f1 =    0.333333\n"
     ]
    },
    {
     "name": "stderr",
     "output_type": "stream",
     "text": [
      "/mnt/disk1/anaconda3/envs/phucnp/lib/python3.8/site-packages/sklearn/metrics/_classification.py:1318: UndefinedMetricWarning: Precision is ill-defined and being set to 0.0 in labels with no predicted samples. Use `zero_division` parameter to control this behavior.\n",
      "  _warn_prf(average, modifier, msg_start, len(result))\n"
     ]
    },
    {
     "name": "stdout",
     "output_type": "stream",
     "text": [
      "            pt file:  0.9229_fold_1/model.pkl\n",
      "    FOLD: 1    -   \n",
      "            accuracy =   0.500000       |  0.500000\n",
      "            precision =  0.250000  |   recall =    0.500000   |  f1 =    0.333333\n"
     ]
    },
    {
     "name": "stderr",
     "output_type": "stream",
     "text": [
      "/mnt/disk1/anaconda3/envs/phucnp/lib/python3.8/site-packages/sklearn/metrics/_classification.py:1318: UndefinedMetricWarning: Precision is ill-defined and being set to 0.0 in labels with no predicted samples. Use `zero_division` parameter to control this behavior.\n",
      "  _warn_prf(average, modifier, msg_start, len(result))\n"
     ]
    },
    {
     "name": "stdout",
     "output_type": "stream",
     "text": [
      "            pt file:  0.9232_fold_2/model.pkl\n",
      "    FOLD: 2    -   \n",
      "            accuracy =   0.500000       |  0.500000\n",
      "            precision =  0.250000  |   recall =    0.500000   |  f1 =    0.333333\n"
     ]
    },
    {
     "name": "stderr",
     "output_type": "stream",
     "text": [
      "/mnt/disk1/anaconda3/envs/phucnp/lib/python3.8/site-packages/sklearn/metrics/_classification.py:1318: UndefinedMetricWarning: Precision is ill-defined and being set to 0.0 in labels with no predicted samples. Use `zero_division` parameter to control this behavior.\n",
      "  _warn_prf(average, modifier, msg_start, len(result))\n"
     ]
    },
    {
     "name": "stdout",
     "output_type": "stream",
     "text": [
      "            pt file:  0.9231_fold_3/model.pkl\n",
      "    FOLD: 3    -   \n",
      "            accuracy =   0.500000       |  0.500000\n",
      "            precision =  0.250000  |   recall =    0.500000   |  f1 =    0.333333\n"
     ]
    },
    {
     "name": "stderr",
     "output_type": "stream",
     "text": [
      "/mnt/disk1/anaconda3/envs/phucnp/lib/python3.8/site-packages/sklearn/metrics/_classification.py:1318: UndefinedMetricWarning: Precision is ill-defined and being set to 0.0 in labels with no predicted samples. Use `zero_division` parameter to control this behavior.\n",
      "  _warn_prf(average, modifier, msg_start, len(result))\n"
     ]
    },
    {
     "name": "stdout",
     "output_type": "stream",
     "text": [
      "            pt file:  0.9226_fold_4/model.pkl\n",
      "    FOLD: 4    -   \n",
      "            accuracy =   0.500000       |  0.500000\n",
      "            precision =  0.250000  |   recall =    0.500000   |  f1 =    0.333333\n",
      "\n",
      "*********************************************************\n",
      "             std:  0.25\n",
      "\n",
      "\n",
      " ==================================== deepfake CHECKPOINT =========================\n"
     ]
    },
    {
     "name": "stderr",
     "output_type": "stream",
     "text": [
      "100%|██████████| 5000/5000 [03:50<00:00, 21.68it/s] \n",
      "100%|██████████| 5000/5000 [01:13<00:00, 68.12it/s] \n",
      "/mnt/disk1/anaconda3/envs/phucnp/lib/python3.8/site-packages/sklearn/metrics/_classification.py:1318: UndefinedMetricWarning: Precision is ill-defined and being set to 0.0 in labels with no predicted samples. Use `zero_division` parameter to control this behavior.\n",
      "  _warn_prf(average, modifier, msg_start, len(result))\n"
     ]
    },
    {
     "name": "stdout",
     "output_type": "stream",
     "text": [
      "            pt file:  0.9876_fold_0/model.pkl\n",
      "    FOLD: 0    -   \n",
      "            accuracy =   0.499300       |  0.499300\n",
      "            precision =  0.249650  |   recall =    0.500000   |  f1 =    0.333022\n"
     ]
    },
    {
     "name": "stderr",
     "output_type": "stream",
     "text": [
      "/mnt/disk1/anaconda3/envs/phucnp/lib/python3.8/site-packages/sklearn/metrics/_classification.py:1318: UndefinedMetricWarning: Precision is ill-defined and being set to 0.0 in labels with no predicted samples. Use `zero_division` parameter to control this behavior.\n",
      "  _warn_prf(average, modifier, msg_start, len(result))\n"
     ]
    },
    {
     "name": "stdout",
     "output_type": "stream",
     "text": [
      "            pt file:  0.9854_fold_1/model.pkl\n",
      "    FOLD: 1    -   \n",
      "            accuracy =   0.499300       |  0.499300\n",
      "            precision =  0.249650  |   recall =    0.500000   |  f1 =    0.333022\n"
     ]
    },
    {
     "name": "stderr",
     "output_type": "stream",
     "text": [
      "/mnt/disk1/anaconda3/envs/phucnp/lib/python3.8/site-packages/sklearn/metrics/_classification.py:1318: UndefinedMetricWarning: Precision is ill-defined and being set to 0.0 in labels with no predicted samples. Use `zero_division` parameter to control this behavior.\n",
      "  _warn_prf(average, modifier, msg_start, len(result))\n"
     ]
    },
    {
     "name": "stdout",
     "output_type": "stream",
     "text": [
      "            pt file:  0.9858_fold_2/model.pkl\n",
      "    FOLD: 2    -   \n",
      "            accuracy =   0.499300       |  0.499300\n",
      "            precision =  0.249650  |   recall =    0.500000   |  f1 =    0.333022\n"
     ]
    },
    {
     "name": "stderr",
     "output_type": "stream",
     "text": [
      "/mnt/disk1/anaconda3/envs/phucnp/lib/python3.8/site-packages/sklearn/metrics/_classification.py:1318: UndefinedMetricWarning: Precision is ill-defined and being set to 0.0 in labels with no predicted samples. Use `zero_division` parameter to control this behavior.\n",
      "  _warn_prf(average, modifier, msg_start, len(result))\n"
     ]
    },
    {
     "name": "stdout",
     "output_type": "stream",
     "text": [
      "            pt file:  0.988_fold_3/model.pkl\n",
      "    FOLD: 3    -   \n",
      "            accuracy =   0.499300       |  0.499300\n",
      "            precision =  0.249650  |   recall =    0.500000   |  f1 =    0.333022\n"
     ]
    },
    {
     "name": "stderr",
     "output_type": "stream",
     "text": [
      "/mnt/disk1/anaconda3/envs/phucnp/lib/python3.8/site-packages/sklearn/metrics/_classification.py:1318: UndefinedMetricWarning: Precision is ill-defined and being set to 0.0 in labels with no predicted samples. Use `zero_division` parameter to control this behavior.\n",
      "  _warn_prf(average, modifier, msg_start, len(result))\n"
     ]
    },
    {
     "name": "stdout",
     "output_type": "stream",
     "text": [
      "            pt file:  0.987_fold_4/model.pkl\n",
      "    FOLD: 4    -   \n",
      "            accuracy =   0.499300       |  0.499300\n",
      "            precision =  0.249650  |   recall =    0.500000   |  f1 =    0.333022\n",
      "\n",
      "\n",
      " ==================================== 3dmm CHECKPOINT =========================\n"
     ]
    },
    {
     "name": "stderr",
     "output_type": "stream",
     "text": [
      "100%|██████████| 5000/5000 [00:30<00:00, 165.97it/s]\n",
      "100%|██████████| 5000/5000 [00:23<00:00, 211.96it/s]\n",
      "/mnt/disk1/anaconda3/envs/phucnp/lib/python3.8/site-packages/sklearn/metrics/_classification.py:1318: UndefinedMetricWarning: Precision is ill-defined and being set to 0.0 in labels with no predicted samples. Use `zero_division` parameter to control this behavior.\n",
      "  _warn_prf(average, modifier, msg_start, len(result))\n"
     ]
    },
    {
     "name": "stdout",
     "output_type": "stream",
     "text": [
      "            pt file:  0.8929_fold_0/model.pkl\n",
      "    FOLD: 0    -   \n",
      "            accuracy =   0.500000       |  0.500000\n",
      "            precision =  0.250000  |   recall =    0.500000   |  f1 =    0.333333\n"
     ]
    },
    {
     "name": "stderr",
     "output_type": "stream",
     "text": [
      "/mnt/disk1/anaconda3/envs/phucnp/lib/python3.8/site-packages/sklearn/metrics/_classification.py:1318: UndefinedMetricWarning: Precision is ill-defined and being set to 0.0 in labels with no predicted samples. Use `zero_division` parameter to control this behavior.\n",
      "  _warn_prf(average, modifier, msg_start, len(result))\n"
     ]
    },
    {
     "name": "stdout",
     "output_type": "stream",
     "text": [
      "            pt file:  0.8934_fold_1/model.pkl\n",
      "    FOLD: 1    -   \n",
      "            accuracy =   0.500000       |  0.500000\n",
      "            precision =  0.250000  |   recall =    0.500000   |  f1 =    0.333333\n"
     ]
    },
    {
     "name": "stderr",
     "output_type": "stream",
     "text": [
      "/mnt/disk1/anaconda3/envs/phucnp/lib/python3.8/site-packages/sklearn/metrics/_classification.py:1318: UndefinedMetricWarning: Precision is ill-defined and being set to 0.0 in labels with no predicted samples. Use `zero_division` parameter to control this behavior.\n",
      "  _warn_prf(average, modifier, msg_start, len(result))\n"
     ]
    },
    {
     "name": "stdout",
     "output_type": "stream",
     "text": [
      "            pt file:  0.892_fold_2/model.pkl\n",
      "    FOLD: 2    -   \n",
      "            accuracy =   0.500000       |  0.500000\n",
      "            precision =  0.250000  |   recall =    0.500000   |  f1 =    0.333333\n"
     ]
    },
    {
     "name": "stderr",
     "output_type": "stream",
     "text": [
      "/mnt/disk1/anaconda3/envs/phucnp/lib/python3.8/site-packages/sklearn/metrics/_classification.py:1318: UndefinedMetricWarning: Precision is ill-defined and being set to 0.0 in labels with no predicted samples. Use `zero_division` parameter to control this behavior.\n",
      "  _warn_prf(average, modifier, msg_start, len(result))\n"
     ]
    },
    {
     "name": "stdout",
     "output_type": "stream",
     "text": [
      "            pt file:  0.8928_fold_3/model.pkl\n",
      "    FOLD: 3    -   \n",
      "            accuracy =   0.500000       |  0.500000\n",
      "            precision =  0.250000  |   recall =    0.500000   |  f1 =    0.333333\n"
     ]
    },
    {
     "name": "stderr",
     "output_type": "stream",
     "text": [
      "/mnt/disk1/anaconda3/envs/phucnp/lib/python3.8/site-packages/sklearn/metrics/_classification.py:1318: UndefinedMetricWarning: Precision is ill-defined and being set to 0.0 in labels with no predicted samples. Use `zero_division` parameter to control this behavior.\n",
      "  _warn_prf(average, modifier, msg_start, len(result))\n"
     ]
    },
    {
     "name": "stdout",
     "output_type": "stream",
     "text": [
      "            pt file:  0.8935_fold_4/model.pkl\n",
      "    FOLD: 4    -   \n",
      "            accuracy =   0.500000       |  0.500000\n",
      "            precision =  0.250000  |   recall =    0.500000   |  f1 =    0.333333\n",
      "\n",
      "\n",
      " ==================================== faceswap_2d CHECKPOINT =========================\n"
     ]
    },
    {
     "name": "stderr",
     "output_type": "stream",
     "text": [
      "100%|██████████| 5000/5000 [00:34<00:00, 145.49it/s]\n",
      "100%|██████████| 5000/5000 [04:52<00:00, 17.10it/s]\n",
      "/mnt/disk1/anaconda3/envs/phucnp/lib/python3.8/site-packages/sklearn/metrics/_classification.py:1318: UndefinedMetricWarning: Precision is ill-defined and being set to 0.0 in labels with no predicted samples. Use `zero_division` parameter to control this behavior.\n",
      "  _warn_prf(average, modifier, msg_start, len(result))\n"
     ]
    },
    {
     "name": "stdout",
     "output_type": "stream",
     "text": [
      "            pt file:  0.9949_fold_0/model.pkl\n",
      "    FOLD: 0    -   \n",
      "            accuracy =   0.500000       |  0.500000\n",
      "            precision =  0.250000  |   recall =    0.500000   |  f1 =    0.333333\n"
     ]
    },
    {
     "name": "stderr",
     "output_type": "stream",
     "text": [
      "/mnt/disk1/anaconda3/envs/phucnp/lib/python3.8/site-packages/sklearn/metrics/_classification.py:1318: UndefinedMetricWarning: Precision is ill-defined and being set to 0.0 in labels with no predicted samples. Use `zero_division` parameter to control this behavior.\n",
      "  _warn_prf(average, modifier, msg_start, len(result))\n"
     ]
    },
    {
     "name": "stdout",
     "output_type": "stream",
     "text": [
      "            pt file:  0.9947_fold_1/model.pkl\n",
      "    FOLD: 1    -   \n",
      "            accuracy =   0.500000       |  0.500000\n",
      "            precision =  0.250000  |   recall =    0.500000   |  f1 =    0.333333\n"
     ]
    },
    {
     "name": "stderr",
     "output_type": "stream",
     "text": [
      "/mnt/disk1/anaconda3/envs/phucnp/lib/python3.8/site-packages/sklearn/metrics/_classification.py:1318: UndefinedMetricWarning: Precision is ill-defined and being set to 0.0 in labels with no predicted samples. Use `zero_division` parameter to control this behavior.\n",
      "  _warn_prf(average, modifier, msg_start, len(result))\n"
     ]
    },
    {
     "name": "stdout",
     "output_type": "stream",
     "text": [
      "            pt file:  0.9949_fold_2/model.pkl\n",
      "    FOLD: 2    -   \n",
      "            accuracy =   0.500000       |  0.500000\n",
      "            precision =  0.250000  |   recall =    0.500000   |  f1 =    0.333333\n"
     ]
    },
    {
     "name": "stderr",
     "output_type": "stream",
     "text": [
      "/mnt/disk1/anaconda3/envs/phucnp/lib/python3.8/site-packages/sklearn/metrics/_classification.py:1318: UndefinedMetricWarning: Precision is ill-defined and being set to 0.0 in labels with no predicted samples. Use `zero_division` parameter to control this behavior.\n",
      "  _warn_prf(average, modifier, msg_start, len(result))\n"
     ]
    },
    {
     "name": "stdout",
     "output_type": "stream",
     "text": [
      "            pt file:  0.995_fold_3/model.pkl\n",
      "    FOLD: 3    -   \n",
      "            accuracy =   0.500000       |  0.500000\n",
      "            precision =  0.250000  |   recall =    0.500000   |  f1 =    0.333333\n"
     ]
    },
    {
     "name": "stderr",
     "output_type": "stream",
     "text": [
      "/mnt/disk1/anaconda3/envs/phucnp/lib/python3.8/site-packages/sklearn/metrics/_classification.py:1318: UndefinedMetricWarning: Precision is ill-defined and being set to 0.0 in labels with no predicted samples. Use `zero_division` parameter to control this behavior.\n",
      "  _warn_prf(average, modifier, msg_start, len(result))\n"
     ]
    },
    {
     "name": "stdout",
     "output_type": "stream",
     "text": [
      "            pt file:  0.9947_fold_4/model.pkl\n",
      "    FOLD: 4    -   \n",
      "            accuracy =   0.500000       |  0.500000\n",
      "            precision =  0.250000  |   recall =    0.500000   |  f1 =    0.333333\n",
      "\n",
      "\n",
      " ==================================== faceswap_3d CHECKPOINT =========================\n"
     ]
    },
    {
     "name": "stderr",
     "output_type": "stream",
     "text": [
      "100%|██████████| 5000/5000 [00:27<00:00, 181.63it/s]\n",
      "100%|██████████| 5000/5000 [04:27<00:00, 18.71it/s]\n",
      "/mnt/disk1/anaconda3/envs/phucnp/lib/python3.8/site-packages/sklearn/metrics/_classification.py:1318: UndefinedMetricWarning: Precision is ill-defined and being set to 0.0 in labels with no predicted samples. Use `zero_division` parameter to control this behavior.\n",
      "  _warn_prf(average, modifier, msg_start, len(result))\n"
     ]
    },
    {
     "name": "stdout",
     "output_type": "stream",
     "text": [
      "            pt file:  0.9988_fold_0/model.pkl\n",
      "    FOLD: 0    -   \n",
      "            accuracy =   0.500000       |  0.500000\n",
      "            precision =  0.250000  |   recall =    0.500000   |  f1 =    0.333333\n"
     ]
    },
    {
     "name": "stderr",
     "output_type": "stream",
     "text": [
      "/mnt/disk1/anaconda3/envs/phucnp/lib/python3.8/site-packages/sklearn/metrics/_classification.py:1318: UndefinedMetricWarning: Precision is ill-defined and being set to 0.0 in labels with no predicted samples. Use `zero_division` parameter to control this behavior.\n",
      "  _warn_prf(average, modifier, msg_start, len(result))\n"
     ]
    },
    {
     "name": "stdout",
     "output_type": "stream",
     "text": [
      "            pt file:  0.9988_fold_1/model.pkl\n",
      "    FOLD: 1    -   \n",
      "            accuracy =   0.500000       |  0.500000\n",
      "            precision =  0.250000  |   recall =    0.500000   |  f1 =    0.333333\n"
     ]
    },
    {
     "name": "stderr",
     "output_type": "stream",
     "text": [
      "/mnt/disk1/anaconda3/envs/phucnp/lib/python3.8/site-packages/sklearn/metrics/_classification.py:1318: UndefinedMetricWarning: Precision is ill-defined and being set to 0.0 in labels with no predicted samples. Use `zero_division` parameter to control this behavior.\n",
      "  _warn_prf(average, modifier, msg_start, len(result))\n"
     ]
    },
    {
     "name": "stdout",
     "output_type": "stream",
     "text": [
      "            pt file:  0.9987_fold_2/model.pkl\n",
      "    FOLD: 2    -   \n",
      "            accuracy =   0.500000       |  0.500000\n",
      "            precision =  0.250000  |   recall =    0.500000   |  f1 =    0.333333\n"
     ]
    },
    {
     "name": "stderr",
     "output_type": "stream",
     "text": [
      "/mnt/disk1/anaconda3/envs/phucnp/lib/python3.8/site-packages/sklearn/metrics/_classification.py:1318: UndefinedMetricWarning: Precision is ill-defined and being set to 0.0 in labels with no predicted samples. Use `zero_division` parameter to control this behavior.\n",
      "  _warn_prf(average, modifier, msg_start, len(result))\n"
     ]
    },
    {
     "name": "stdout",
     "output_type": "stream",
     "text": [
      "            pt file:  0.9986_fold_3/model.pkl\n",
      "    FOLD: 3    -   \n",
      "            accuracy =   0.500000       |  0.500000\n",
      "            precision =  0.250000  |   recall =    0.500000   |  f1 =    0.333333\n"
     ]
    },
    {
     "name": "stderr",
     "output_type": "stream",
     "text": [
      "/mnt/disk1/anaconda3/envs/phucnp/lib/python3.8/site-packages/sklearn/metrics/_classification.py:1318: UndefinedMetricWarning: Precision is ill-defined and being set to 0.0 in labels with no predicted samples. Use `zero_division` parameter to control this behavior.\n",
      "  _warn_prf(average, modifier, msg_start, len(result))\n"
     ]
    },
    {
     "name": "stdout",
     "output_type": "stream",
     "text": [
      "            pt file:  0.9987_fold_4/model.pkl\n",
      "    FOLD: 4    -   \n",
      "            accuracy =   0.500000       |  0.500000\n",
      "            precision =  0.250000  |   recall =    0.500000   |  f1 =    0.333333\n",
      "\n",
      "\n",
      " ==================================== monkey CHECKPOINT =========================\n"
     ]
    },
    {
     "name": "stderr",
     "output_type": "stream",
     "text": [
      "100%|██████████| 5000/5000 [00:31<00:00, 160.02it/s]\n",
      "100%|██████████| 5000/5000 [00:32<00:00, 155.93it/s]\n",
      "/mnt/disk1/anaconda3/envs/phucnp/lib/python3.8/site-packages/sklearn/metrics/_classification.py:1318: UndefinedMetricWarning: Precision is ill-defined and being set to 0.0 in labels with no predicted samples. Use `zero_division` parameter to control this behavior.\n",
      "  _warn_prf(average, modifier, msg_start, len(result))\n"
     ]
    },
    {
     "name": "stdout",
     "output_type": "stream",
     "text": [
      "            pt file:  0.9714_fold_0/model.pkl\n",
      "    FOLD: 0    -   \n",
      "            accuracy =   0.500000       |  0.500000\n",
      "            precision =  0.250000  |   recall =    0.500000   |  f1 =    0.333333\n"
     ]
    },
    {
     "name": "stderr",
     "output_type": "stream",
     "text": [
      "/mnt/disk1/anaconda3/envs/phucnp/lib/python3.8/site-packages/sklearn/metrics/_classification.py:1318: UndefinedMetricWarning: Precision is ill-defined and being set to 0.0 in labels with no predicted samples. Use `zero_division` parameter to control this behavior.\n",
      "  _warn_prf(average, modifier, msg_start, len(result))\n"
     ]
    },
    {
     "name": "stdout",
     "output_type": "stream",
     "text": [
      "            pt file:  0.9717_fold_1/model.pkl\n",
      "    FOLD: 1    -   \n",
      "            accuracy =   0.500000       |  0.500000\n",
      "            precision =  0.250000  |   recall =    0.500000   |  f1 =    0.333333\n"
     ]
    },
    {
     "name": "stderr",
     "output_type": "stream",
     "text": [
      "/mnt/disk1/anaconda3/envs/phucnp/lib/python3.8/site-packages/sklearn/metrics/_classification.py:1318: UndefinedMetricWarning: Precision is ill-defined and being set to 0.0 in labels with no predicted samples. Use `zero_division` parameter to control this behavior.\n",
      "  _warn_prf(average, modifier, msg_start, len(result))\n"
     ]
    },
    {
     "name": "stdout",
     "output_type": "stream",
     "text": [
      "            pt file:  0.9716_fold_2/model.pkl\n",
      "    FOLD: 2    -   \n",
      "            accuracy =   0.500000       |  0.500000\n",
      "            precision =  0.250000  |   recall =    0.500000   |  f1 =    0.333333\n"
     ]
    },
    {
     "name": "stderr",
     "output_type": "stream",
     "text": [
      "/mnt/disk1/anaconda3/envs/phucnp/lib/python3.8/site-packages/sklearn/metrics/_classification.py:1318: UndefinedMetricWarning: Precision is ill-defined and being set to 0.0 in labels with no predicted samples. Use `zero_division` parameter to control this behavior.\n",
      "  _warn_prf(average, modifier, msg_start, len(result))\n"
     ]
    },
    {
     "name": "stdout",
     "output_type": "stream",
     "text": [
      "            pt file:  0.972_fold_3/model.pkl\n",
      "    FOLD: 3    -   \n",
      "            accuracy =   0.500000       |  0.500000\n",
      "            precision =  0.250000  |   recall =    0.500000   |  f1 =    0.333333\n"
     ]
    },
    {
     "name": "stderr",
     "output_type": "stream",
     "text": [
      "/mnt/disk1/anaconda3/envs/phucnp/lib/python3.8/site-packages/sklearn/metrics/_classification.py:1318: UndefinedMetricWarning: Precision is ill-defined and being set to 0.0 in labels with no predicted samples. Use `zero_division` parameter to control this behavior.\n",
      "  _warn_prf(average, modifier, msg_start, len(result))\n"
     ]
    },
    {
     "name": "stdout",
     "output_type": "stream",
     "text": [
      "            pt file:  0.9723_fold_4/model.pkl\n",
      "    FOLD: 4    -   \n",
      "            accuracy =   0.500000       |  0.500000\n",
      "            precision =  0.250000  |   recall =    0.500000   |  f1 =    0.333333\n",
      "\n",
      "\n",
      " ==================================== reenact CHECKPOINT =========================\n"
     ]
    },
    {
     "name": "stderr",
     "output_type": "stream",
     "text": [
      "100%|██████████| 5000/5000 [00:27<00:00, 179.72it/s]\n",
      "100%|██████████| 4566/4566 [00:21<00:00, 209.21it/s]\n",
      "/mnt/disk1/anaconda3/envs/phucnp/lib/python3.8/site-packages/sklearn/metrics/_classification.py:1318: UndefinedMetricWarning: Precision is ill-defined and being set to 0.0 in labels with no predicted samples. Use `zero_division` parameter to control this behavior.\n",
      "  _warn_prf(average, modifier, msg_start, len(result))\n"
     ]
    },
    {
     "name": "stdout",
     "output_type": "stream",
     "text": [
      "            pt file:  0.9513_fold_0/model.pkl\n",
      "    FOLD: 0    -   \n",
      "            accuracy =   0.543400       |  0.543400\n",
      "            precision =  0.271700  |   recall =    0.500000   |  f1 =    0.352080\n"
     ]
    },
    {
     "name": "stderr",
     "output_type": "stream",
     "text": [
      "/mnt/disk1/anaconda3/envs/phucnp/lib/python3.8/site-packages/sklearn/metrics/_classification.py:1318: UndefinedMetricWarning: Precision is ill-defined and being set to 0.0 in labels with no predicted samples. Use `zero_division` parameter to control this behavior.\n",
      "  _warn_prf(average, modifier, msg_start, len(result))\n"
     ]
    },
    {
     "name": "stdout",
     "output_type": "stream",
     "text": [
      "            pt file:  0.9511_fold_1/model.pkl\n",
      "    FOLD: 1    -   \n",
      "            accuracy =   0.543400       |  0.543400\n",
      "            precision =  0.271700  |   recall =    0.500000   |  f1 =    0.352080\n"
     ]
    },
    {
     "name": "stderr",
     "output_type": "stream",
     "text": [
      "/mnt/disk1/anaconda3/envs/phucnp/lib/python3.8/site-packages/sklearn/metrics/_classification.py:1318: UndefinedMetricWarning: Precision is ill-defined and being set to 0.0 in labels with no predicted samples. Use `zero_division` parameter to control this behavior.\n",
      "  _warn_prf(average, modifier, msg_start, len(result))\n"
     ]
    },
    {
     "name": "stdout",
     "output_type": "stream",
     "text": [
      "            pt file:  0.9504_fold_2/model.pkl\n",
      "    FOLD: 2    -   \n",
      "            accuracy =   0.543400       |  0.543400\n",
      "            precision =  0.271700  |   recall =    0.500000   |  f1 =    0.352080\n"
     ]
    },
    {
     "name": "stderr",
     "output_type": "stream",
     "text": [
      "/mnt/disk1/anaconda3/envs/phucnp/lib/python3.8/site-packages/sklearn/metrics/_classification.py:1318: UndefinedMetricWarning: Precision is ill-defined and being set to 0.0 in labels with no predicted samples. Use `zero_division` parameter to control this behavior.\n",
      "  _warn_prf(average, modifier, msg_start, len(result))\n"
     ]
    },
    {
     "name": "stdout",
     "output_type": "stream",
     "text": [
      "            pt file:  0.9516_fold_3/model.pkl\n",
      "    FOLD: 3    -   \n",
      "            accuracy =   0.543400       |  0.543400\n",
      "            precision =  0.271700  |   recall =    0.500000   |  f1 =    0.352080\n"
     ]
    },
    {
     "name": "stderr",
     "output_type": "stream",
     "text": [
      "/mnt/disk1/anaconda3/envs/phucnp/lib/python3.8/site-packages/sklearn/metrics/_classification.py:1318: UndefinedMetricWarning: Precision is ill-defined and being set to 0.0 in labels with no predicted samples. Use `zero_division` parameter to control this behavior.\n",
      "  _warn_prf(average, modifier, msg_start, len(result))\n"
     ]
    },
    {
     "name": "stdout",
     "output_type": "stream",
     "text": [
      "            pt file:  0.9517_fold_4/model.pkl\n",
      "    FOLD: 4    -   \n",
      "            accuracy =   0.543400       |  0.543400\n",
      "            precision =  0.271700  |   recall =    0.500000   |  f1 =    0.352080\n",
      "\n",
      "\n",
      " ==================================== stargan CHECKPOINT =========================\n"
     ]
    },
    {
     "name": "stderr",
     "output_type": "stream",
     "text": [
      "100%|██████████| 5000/5000 [00:27<00:00, 181.67it/s]\n",
      "100%|██████████| 5000/5000 [00:42<00:00, 116.75it/s]\n",
      "/mnt/disk1/anaconda3/envs/phucnp/lib/python3.8/site-packages/sklearn/metrics/_classification.py:1318: UndefinedMetricWarning: Precision is ill-defined and being set to 0.0 in labels with no predicted samples. Use `zero_division` parameter to control this behavior.\n",
      "  _warn_prf(average, modifier, msg_start, len(result))\n"
     ]
    },
    {
     "name": "stdout",
     "output_type": "stream",
     "text": [
      "            pt file:  0.9092_fold_0/model.pkl\n",
      "    FOLD: 0    -   \n",
      "            accuracy =   0.500000       |  0.500000\n",
      "            precision =  0.250000  |   recall =    0.500000   |  f1 =    0.333333\n"
     ]
    },
    {
     "name": "stderr",
     "output_type": "stream",
     "text": [
      "/mnt/disk1/anaconda3/envs/phucnp/lib/python3.8/site-packages/sklearn/metrics/_classification.py:1318: UndefinedMetricWarning: Precision is ill-defined and being set to 0.0 in labels with no predicted samples. Use `zero_division` parameter to control this behavior.\n",
      "  _warn_prf(average, modifier, msg_start, len(result))\n"
     ]
    },
    {
     "name": "stdout",
     "output_type": "stream",
     "text": [
      "            pt file:  0.9106_fold_1/model.pkl\n",
      "    FOLD: 1    -   \n",
      "            accuracy =   0.500000       |  0.500000\n",
      "            precision =  0.250000  |   recall =    0.500000   |  f1 =    0.333333\n"
     ]
    },
    {
     "name": "stderr",
     "output_type": "stream",
     "text": [
      "/mnt/disk1/anaconda3/envs/phucnp/lib/python3.8/site-packages/sklearn/metrics/_classification.py:1318: UndefinedMetricWarning: Precision is ill-defined and being set to 0.0 in labels with no predicted samples. Use `zero_division` parameter to control this behavior.\n",
      "  _warn_prf(average, modifier, msg_start, len(result))\n"
     ]
    },
    {
     "name": "stdout",
     "output_type": "stream",
     "text": [
      "            pt file:  0.9088_fold_2/model.pkl\n",
      "    FOLD: 2    -   \n",
      "            accuracy =   0.500000       |  0.500000\n",
      "            precision =  0.250000  |   recall =    0.500000   |  f1 =    0.333333\n"
     ]
    },
    {
     "name": "stderr",
     "output_type": "stream",
     "text": [
      "/mnt/disk1/anaconda3/envs/phucnp/lib/python3.8/site-packages/sklearn/metrics/_classification.py:1318: UndefinedMetricWarning: Precision is ill-defined and being set to 0.0 in labels with no predicted samples. Use `zero_division` parameter to control this behavior.\n",
      "  _warn_prf(average, modifier, msg_start, len(result))\n"
     ]
    },
    {
     "name": "stdout",
     "output_type": "stream",
     "text": [
      "            pt file:  0.9118_fold_3/model.pkl\n",
      "    FOLD: 3    -   \n",
      "            accuracy =   0.500000       |  0.500000\n",
      "            precision =  0.250000  |   recall =    0.500000   |  f1 =    0.333333\n"
     ]
    },
    {
     "name": "stderr",
     "output_type": "stream",
     "text": [
      "/mnt/disk1/anaconda3/envs/phucnp/lib/python3.8/site-packages/sklearn/metrics/_classification.py:1318: UndefinedMetricWarning: Precision is ill-defined and being set to 0.0 in labels with no predicted samples. Use `zero_division` parameter to control this behavior.\n",
      "  _warn_prf(average, modifier, msg_start, len(result))\n"
     ]
    },
    {
     "name": "stdout",
     "output_type": "stream",
     "text": [
      "            pt file:  0.9097_fold_4/model.pkl\n",
      "    FOLD: 4    -   \n",
      "            accuracy =   0.500000       |  0.500000\n",
      "            precision =  0.250000  |   recall =    0.500000   |  f1 =    0.333333\n",
      "\n",
      "\n",
      " ==================================== x2face CHECKPOINT =========================\n"
     ]
    },
    {
     "name": "stderr",
     "output_type": "stream",
     "text": [
      "100%|██████████| 5000/5000 [00:28<00:00, 175.34it/s]\n",
      "100%|██████████| 5000/5000 [00:25<00:00, 192.71it/s]\n",
      "/mnt/disk1/anaconda3/envs/phucnp/lib/python3.8/site-packages/sklearn/metrics/_classification.py:1318: UndefinedMetricWarning: Precision is ill-defined and being set to 0.0 in labels with no predicted samples. Use `zero_division` parameter to control this behavior.\n",
      "  _warn_prf(average, modifier, msg_start, len(result))\n"
     ]
    },
    {
     "name": "stdout",
     "output_type": "stream",
     "text": [
      "            pt file:  0.923_fold_0/model.pkl\n",
      "    FOLD: 0    -   \n",
      "            accuracy =   0.500000       |  0.500000\n",
      "            precision =  0.250000  |   recall =    0.500000   |  f1 =    0.333333\n"
     ]
    },
    {
     "name": "stderr",
     "output_type": "stream",
     "text": [
      "/mnt/disk1/anaconda3/envs/phucnp/lib/python3.8/site-packages/sklearn/metrics/_classification.py:1318: UndefinedMetricWarning: Precision is ill-defined and being set to 0.0 in labels with no predicted samples. Use `zero_division` parameter to control this behavior.\n",
      "  _warn_prf(average, modifier, msg_start, len(result))\n"
     ]
    },
    {
     "name": "stdout",
     "output_type": "stream",
     "text": [
      "            pt file:  0.9229_fold_1/model.pkl\n",
      "    FOLD: 1    -   \n",
      "            accuracy =   0.500000       |  0.500000\n",
      "            precision =  0.250000  |   recall =    0.500000   |  f1 =    0.333333\n"
     ]
    },
    {
     "name": "stderr",
     "output_type": "stream",
     "text": [
      "/mnt/disk1/anaconda3/envs/phucnp/lib/python3.8/site-packages/sklearn/metrics/_classification.py:1318: UndefinedMetricWarning: Precision is ill-defined and being set to 0.0 in labels with no predicted samples. Use `zero_division` parameter to control this behavior.\n",
      "  _warn_prf(average, modifier, msg_start, len(result))\n"
     ]
    },
    {
     "name": "stdout",
     "output_type": "stream",
     "text": [
      "            pt file:  0.9232_fold_2/model.pkl\n",
      "    FOLD: 2    -   \n",
      "            accuracy =   0.500000       |  0.500000\n",
      "            precision =  0.250000  |   recall =    0.500000   |  f1 =    0.333333\n"
     ]
    },
    {
     "name": "stderr",
     "output_type": "stream",
     "text": [
      "/mnt/disk1/anaconda3/envs/phucnp/lib/python3.8/site-packages/sklearn/metrics/_classification.py:1318: UndefinedMetricWarning: Precision is ill-defined and being set to 0.0 in labels with no predicted samples. Use `zero_division` parameter to control this behavior.\n",
      "  _warn_prf(average, modifier, msg_start, len(result))\n"
     ]
    },
    {
     "name": "stdout",
     "output_type": "stream",
     "text": [
      "            pt file:  0.9231_fold_3/model.pkl\n",
      "    FOLD: 3    -   \n",
      "            accuracy =   0.500000       |  0.500000\n",
      "            precision =  0.250000  |   recall =    0.500000   |  f1 =    0.333333\n",
      "            pt file:  0.9226_fold_4/model.pkl\n",
      "    FOLD: 4    -   \n",
      "            accuracy =   0.500000       |  0.500000\n",
      "            precision =  0.250000  |   recall =    0.500000   |  f1 =    0.333333\n"
     ]
    },
    {
     "name": "stderr",
     "output_type": "stream",
     "text": [
      "/mnt/disk1/anaconda3/envs/phucnp/lib/python3.8/site-packages/sklearn/metrics/_classification.py:1318: UndefinedMetricWarning: Precision is ill-defined and being set to 0.0 in labels with no predicted samples. Use `zero_division` parameter to control this behavior.\n",
      "  _warn_prf(average, modifier, msg_start, len(result))\n"
     ]
    }
   ],
   "source": [
    "import torch\n",
    "import random\n",
    "import numpy as np\n",
    "import os\n",
    "import torch.nn as nn\n",
    "from glob import glob\n",
    "from tqdm import tqdm\n",
    "from os.path import join\n",
    "import os.path as osp\n",
    "import pickle\n",
    "from sklearn.metrics import accuracy_score, precision_score, recall_score, f1_score\n",
    "from util import *\n",
    "\n",
    "def calculate_metric(y_label, y_pred_label):\n",
    "    mic_accuracy = accuracy_score(y_label, y_pred_label)\n",
    "    macro_precision = precision_score(y_label, y_pred_label, average='macro')\n",
    "    macro_recall = recall_score(y_label, y_pred_label, average='macro')\n",
    "    macro_f1 = f1_score(y_label, y_pred_label, average='macro')\n",
    "    return mic_accuracy, macro_precision, macro_recall, macro_f1\n",
    "\n",
    "def eval_spectrum(data, model_file):\n",
    "    pkl_file = open(data, 'rb')\n",
    "    data = pickle.load(pkl_file)\n",
    "    pkl_file.close()\n",
    "    X = data[\"data\"]\n",
    "    y = data[\"label\"]\n",
    "    with open(model_file, 'rb') as f:\n",
    "        svclassifier_r = pickle.load(f)\n",
    "    # print(\"Loaded.\")\n",
    "    SVM_score = svclassifier_r.score(X, y)\n",
    "    # print(\"accuracy by score function: \" + str(SVM_score))\n",
    "    ##### CALCULATE METRIC:\n",
    "    y_pred = svclassifier_r.predict(X)\n",
    "    acc, pre, rec, f1 = calculate_metric(y, y_pred)\n",
    "    # print(\"accuracy: \" + str(acc))\n",
    "    # print(\"precision: \" + str(pre))\n",
    "    # print(\"recall: \" + str(rec))\n",
    "    # print(\"f1 score: \" + str(f1))\n",
    "    return SVM_score, acc, pre, rec, f1\n",
    "\n",
    "def extract_test_features(test_dir: str, output_test: str, brightness: float, contrast: float, std=0, missing_value=0, quality=100, type_transform='noise'):\n",
    "    testset = get_test_path(test_dir=test_dir)\n",
    "    real_path, fake_path = split_real_fake(train_paths=testset)\n",
    "    extract_spectrum_features(real_path, fake_path, -1, output_test, brightness=brightness, contrast=contrast, std=std, miss_size=missing_value, quality=quality, type_transform=type_transform)\n",
    "    return output_test\n",
    "\n",
    "\n",
    "test_dir_template = \"/mnt/disk1/doan/phucnp/Dataset/my_extend_data/extend_data_train/{}/test\"\n",
    "\n",
    "checkpoints = {\n",
    "    \"deepfake\": \"/mnt/disk1/doan/phucnp/Graduation_Thesis/my_thesis/forensics/ml_technique/checkpoint/deepfake/spectrum/c_2.000000\",\n",
    "    \"faceswap_2d\": \"/mnt/disk1/doan/phucnp/Graduation_Thesis/my_thesis/forensics/ml_technique/checkpoint/faceswap_2d/spectrum/c_2.000000\",\n",
    "    \"3dmm\": \"/mnt/disk1/doan/phucnp/Graduation_Thesis/my_thesis/forensics/ml_technique/checkpoint/3dmm/spectrum/c_2.000000\",\n",
    "    \"faceswap_3d\": \"/mnt/disk1/doan/phucnp/Graduation_Thesis/my_thesis/forensics/ml_technique/checkpoint/faceswap_3d/spectrum/c_2.000000\",\n",
    "    \"monkey\": \"/mnt/disk1/doan/phucnp/Graduation_Thesis/my_thesis/forensics/ml_technique/checkpoint/monkey/spectrum/c_2.000000\",\n",
    "    \"reenact\": \"/mnt/disk1/doan/phucnp/Graduation_Thesis/my_thesis/forensics/ml_technique/checkpoint/reenact/spectrum/c_2.000000\",\n",
    "    \"stargan\": \"/mnt/disk1/doan/phucnp/Graduation_Thesis/my_thesis/forensics/ml_technique/checkpoint/stargan/spectrum/c_2.000000\",\n",
    "    \"x2face\": \"/mnt/disk1/doan/phucnp/Graduation_Thesis/my_thesis/forensics/ml_technique/checkpoint/x2face/spectrum/c_2.000000\"\n",
    "}\n",
    "\n",
    "brightness = 1.0\n",
    "contrast = 1.0\n",
    "stds= [0.0, 0.05, 0.1, 0.15, 0.2, 0.25]\n",
    "missing_value = 0.0\n",
    "quality=100\n",
    "type_transform = 'noise'\n",
    "\n",
    "for std in stds:\n",
    "    print(\"\\n*********************************************************\")\n",
    "    print(\"             std: \", std)\n",
    "    for technique in ['deepfake', '3dmm', 'faceswap_2d', 'faceswap_3d', 'monkey', 'reenact', 'stargan', 'x2face']:\n",
    "        checkpoint = checkpoints[technique]\n",
    "        print(\"\\n\\n ==================================== {} CHECKPOINT =========================\".format(technique))\n",
    "\n",
    "        my_break = False\n",
    "        # filename = '/contrast{}.pkl'.format(contrast)\n",
    "        filename = '/noise{}.pkl'.format(std)\n",
    "        # filename = '/missing{}.pkl'.format(missing_value)\n",
    "        # filename = '/compression{}.pkl'.format(quality)\n",
    "        output_test = '/mnt/disk1/doan/phucnp/Graduation_Thesis/my_thesis/forensics/ml_technique/spectrum/output_features/' + get_datasetname(test_dir_template.format(technique)) + filename\n",
    "        test_features = extract_test_features(test_dir=test_dir_template.format(technique), output_test=output_test, brightness = brightness, contrast=contrast, std=std, missing_value=missing_value, quality=quality, type_transform=type_transform)        \n",
    "        \n",
    "        for pkl_file in sorted(glob(join(checkpoint, '*/*.pkl')), key=lambda pkl: int(pkl.split('/')[-2][-1])):\n",
    "            if 'model' not in pkl_file:\n",
    "                continue\n",
    "                \n",
    "            fold_id = pkl_file.split('/')[-2][-1]\n",
    "            ####\n",
    "            SVM_score, acc, pre, rec, f1 = eval_spectrum(test_features, pkl_file)\n",
    "            print(\"            pt file: \", '/'.join(pkl_file.split('/')[-2:]))\n",
    "            print(\"    FOLD: {}    -   \".format(fold_id))\n",
    "            print(\"            accuracy =   {:.6f}       |  {:6f}\".format(SVM_score, acc))\n",
    "            print(\"            precision =  {:.6f}  |   recall =    {:.6f}   |  f1 =    {:.6f}\".format(pre, rec, f1))\n",
    "\n",
    "            # if brightness == 1.0:\n",
    "            #     from_acc = float(pkl_file.split('/')[-2].split('_')[0])\n",
    "            #     # if abs(round(loss, 4) - round(bestloss, 4)) > 0.001:\n",
    "            #     #     print(\"         Error in loss: {}, {}\".format(loss, bestloss))\n",
    "            #     #     my_break = True\n",
    "            #     if abs(round(from_acc, 4) - round(acc, 4)) > 0.001:\n",
    "            #         print(\"         Error in acc: {}, {}\".format(from_acc, acc))\n",
    "            #         my_break = True\n",
    "\n",
    "            #     if my_break:\n",
    "            #         break\n",
    "\n",
    "\n",
    "\n",
    "        if my_break:\n",
    "            break"
   ]
  }
 ],
 "metadata": {
  "kernelspec": {
   "display_name": "Python 3.8.13 ('phucnp')",
   "language": "python",
   "name": "python3"
  },
  "language_info": {
   "codemirror_mode": {
    "name": "ipython",
    "version": 3
   },
   "file_extension": ".py",
   "mimetype": "text/x-python",
   "name": "python",
   "nbconvert_exporter": "python",
   "pygments_lexer": "ipython3",
   "version": "3.8.13"
  },
  "orig_nbformat": 4,
  "vscode": {
   "interpreter": {
    "hash": "73e4523d5c5fcabc881bfbabdc03d28b885253c65d62f8f3eb31939c7679911f"
   }
  }
 },
 "nbformat": 4,
 "nbformat_minor": 2
}
